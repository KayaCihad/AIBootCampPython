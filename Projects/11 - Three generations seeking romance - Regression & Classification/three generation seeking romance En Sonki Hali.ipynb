{
 "cells": [
  {
   "cell_type": "code",
   "execution_count": 1,
   "id": "0074ecb2",
   "metadata": {},
   "outputs": [],
   "source": [
    "import pandas as pd\n",
    "import matplotlib.pyplot as plt\n",
    "import seaborn as sns\n",
    "import warnings\n",
    "from datetime import datetime\n",
    "warnings.filterwarnings(\"ignore\")\n",
    "pd.set_option(\"display.max_columns\",200)"
   ]
  },
  {
   "cell_type": "code",
   "execution_count": 2,
   "id": "c52a3776",
   "metadata": {},
   "outputs": [],
   "source": [
    "df=pd.read_csv(\"profiles.csv\")"
   ]
  },
  {
   "cell_type": "code",
   "execution_count": 3,
   "id": "97cf44a7",
   "metadata": {},
   "outputs": [
    {
     "data": {
      "text/html": [
       "<div>\n",
       "<style scoped>\n",
       "    .dataframe tbody tr th:only-of-type {\n",
       "        vertical-align: middle;\n",
       "    }\n",
       "\n",
       "    .dataframe tbody tr th {\n",
       "        vertical-align: top;\n",
       "    }\n",
       "\n",
       "    .dataframe thead th {\n",
       "        text-align: right;\n",
       "    }\n",
       "</style>\n",
       "<table border=\"1\" class=\"dataframe\">\n",
       "  <thead>\n",
       "    <tr style=\"text-align: right;\">\n",
       "      <th></th>\n",
       "      <th>age</th>\n",
       "      <th>body_type</th>\n",
       "      <th>diet</th>\n",
       "      <th>drinks</th>\n",
       "      <th>drugs</th>\n",
       "      <th>education</th>\n",
       "      <th>essay0</th>\n",
       "      <th>essay1</th>\n",
       "      <th>essay2</th>\n",
       "      <th>essay3</th>\n",
       "      <th>essay4</th>\n",
       "      <th>essay5</th>\n",
       "      <th>essay6</th>\n",
       "      <th>essay7</th>\n",
       "      <th>essay8</th>\n",
       "      <th>essay9</th>\n",
       "      <th>ethnicity</th>\n",
       "      <th>height</th>\n",
       "      <th>income</th>\n",
       "      <th>job</th>\n",
       "      <th>last_online</th>\n",
       "      <th>location</th>\n",
       "      <th>offspring</th>\n",
       "      <th>orientation</th>\n",
       "      <th>pets</th>\n",
       "      <th>religion</th>\n",
       "      <th>sex</th>\n",
       "      <th>sign</th>\n",
       "      <th>smokes</th>\n",
       "      <th>speaks</th>\n",
       "      <th>status</th>\n",
       "    </tr>\n",
       "  </thead>\n",
       "  <tbody>\n",
       "    <tr>\n",
       "      <th>0</th>\n",
       "      <td>22.0</td>\n",
       "      <td>a little extra</td>\n",
       "      <td>strictly anything</td>\n",
       "      <td>socially</td>\n",
       "      <td>never</td>\n",
       "      <td>working on college/university</td>\n",
       "      <td>about me:&lt;br /&gt;\\n&lt;br /&gt;\\ni would love to think...</td>\n",
       "      <td>currently working as an international agent fo...</td>\n",
       "      <td>making people laugh.&lt;br /&gt;\\nranting about a go...</td>\n",
       "      <td>the way i look. i am a six foot half asian, ha...</td>\n",
       "      <td>books:&lt;br /&gt;\\nabsurdistan, the republic, of mi...</td>\n",
       "      <td>food.&lt;br /&gt;\\nwater.&lt;br /&gt;\\ncell phone.&lt;br /&gt;\\n...</td>\n",
       "      <td>duality and humorous things</td>\n",
       "      <td>trying to find someone to hang out with. i am ...</td>\n",
       "      <td>i am new to california and looking for someone...</td>\n",
       "      <td>you want to be swept off your feet!&lt;br /&gt;\\nyou...</td>\n",
       "      <td>asian, white</td>\n",
       "      <td>75.0</td>\n",
       "      <td>-1.0</td>\n",
       "      <td>transportation</td>\n",
       "      <td>2012-06-28-20-30</td>\n",
       "      <td>south san francisco, california</td>\n",
       "      <td>doesn&amp;rsquo;t have kids, but might want them</td>\n",
       "      <td>straight</td>\n",
       "      <td>likes dogs and likes cats</td>\n",
       "      <td>agnosticism and very serious about it</td>\n",
       "      <td>m</td>\n",
       "      <td>gemini</td>\n",
       "      <td>sometimes</td>\n",
       "      <td>english</td>\n",
       "      <td>single</td>\n",
       "    </tr>\n",
       "    <tr>\n",
       "      <th>1</th>\n",
       "      <td>35.0</td>\n",
       "      <td>average</td>\n",
       "      <td>mostly other</td>\n",
       "      <td>often</td>\n",
       "      <td>sometimes</td>\n",
       "      <td>working on space camp</td>\n",
       "      <td>i am a chef: this is what that means.&lt;br /&gt;\\n1...</td>\n",
       "      <td>dedicating everyday to being an unbelievable b...</td>\n",
       "      <td>being silly. having ridiculous amonts of fun w...</td>\n",
       "      <td>NaN</td>\n",
       "      <td>i am die hard christopher moore fan. i don't r...</td>\n",
       "      <td>delicious porkness in all of its glories.&lt;br /...</td>\n",
       "      <td>NaN</td>\n",
       "      <td>NaN</td>\n",
       "      <td>i am very open and will share just about anyth...</td>\n",
       "      <td>NaN</td>\n",
       "      <td>white</td>\n",
       "      <td>70.0</td>\n",
       "      <td>80000.0</td>\n",
       "      <td>hospitality / travel</td>\n",
       "      <td>2012-06-29-21-41</td>\n",
       "      <td>oakland, california</td>\n",
       "      <td>doesn&amp;rsquo;t have kids, but might want them</td>\n",
       "      <td>straight</td>\n",
       "      <td>likes dogs and likes cats</td>\n",
       "      <td>agnosticism but not too serious about it</td>\n",
       "      <td>m</td>\n",
       "      <td>cancer</td>\n",
       "      <td>no</td>\n",
       "      <td>english (fluently), spanish (poorly), french (...</td>\n",
       "      <td>single</td>\n",
       "    </tr>\n",
       "    <tr>\n",
       "      <th>2</th>\n",
       "      <td>38.0</td>\n",
       "      <td>thin</td>\n",
       "      <td>anything</td>\n",
       "      <td>socially</td>\n",
       "      <td>NaN</td>\n",
       "      <td>graduated from masters program</td>\n",
       "      <td>i'm not ashamed of much, but writing public te...</td>\n",
       "      <td>i make nerdy software for musicians, artists, ...</td>\n",
       "      <td>improvising in different contexts. alternating...</td>\n",
       "      <td>my large jaw and large glasses are the physica...</td>\n",
       "      <td>okay this is where the cultural matrix gets so...</td>\n",
       "      <td>movement&lt;br /&gt;\\nconversation&lt;br /&gt;\\ncreation&lt;b...</td>\n",
       "      <td>NaN</td>\n",
       "      <td>viewing. listening. dancing. talking. drinking...</td>\n",
       "      <td>when i was five years old, i was known as \"the...</td>\n",
       "      <td>you are bright, open, intense, silly, ironic, ...</td>\n",
       "      <td>NaN</td>\n",
       "      <td>68.0</td>\n",
       "      <td>-1.0</td>\n",
       "      <td>NaN</td>\n",
       "      <td>2012-06-27-09-10</td>\n",
       "      <td>san francisco, california</td>\n",
       "      <td>NaN</td>\n",
       "      <td>straight</td>\n",
       "      <td>has cats</td>\n",
       "      <td>NaN</td>\n",
       "      <td>m</td>\n",
       "      <td>pisces but it doesn&amp;rsquo;t matter</td>\n",
       "      <td>no</td>\n",
       "      <td>english, french, c++</td>\n",
       "      <td>available</td>\n",
       "    </tr>\n",
       "    <tr>\n",
       "      <th>3</th>\n",
       "      <td>23.0</td>\n",
       "      <td>thin</td>\n",
       "      <td>vegetarian</td>\n",
       "      <td>socially</td>\n",
       "      <td>NaN</td>\n",
       "      <td>working on college/university</td>\n",
       "      <td>i work in a library and go to school. . .</td>\n",
       "      <td>reading things written by old dead people</td>\n",
       "      <td>playing synthesizers and organizing books acco...</td>\n",
       "      <td>socially awkward but i do my best</td>\n",
       "      <td>bataille, celine, beckett. . .&lt;br /&gt;\\nlynch, j...</td>\n",
       "      <td>NaN</td>\n",
       "      <td>cats and german philosophy</td>\n",
       "      <td>NaN</td>\n",
       "      <td>NaN</td>\n",
       "      <td>you feel so inclined.</td>\n",
       "      <td>white</td>\n",
       "      <td>71.0</td>\n",
       "      <td>20000.0</td>\n",
       "      <td>student</td>\n",
       "      <td>2012-06-28-14-22</td>\n",
       "      <td>berkeley, california</td>\n",
       "      <td>doesn&amp;rsquo;t want kids</td>\n",
       "      <td>straight</td>\n",
       "      <td>likes cats</td>\n",
       "      <td>NaN</td>\n",
       "      <td>m</td>\n",
       "      <td>pisces</td>\n",
       "      <td>no</td>\n",
       "      <td>english, german (poorly)</td>\n",
       "      <td>single</td>\n",
       "    </tr>\n",
       "    <tr>\n",
       "      <th>4</th>\n",
       "      <td>29.0</td>\n",
       "      <td>athletic</td>\n",
       "      <td>NaN</td>\n",
       "      <td>socially</td>\n",
       "      <td>never</td>\n",
       "      <td>graduated from college/university</td>\n",
       "      <td>hey how's it going? currently vague on the pro...</td>\n",
       "      <td>work work work work + play</td>\n",
       "      <td>creating imagery to look at:&lt;br /&gt;\\nhttp://bag...</td>\n",
       "      <td>i smile a lot and my inquisitive nature</td>\n",
       "      <td>music: bands, rappers, musicians&lt;br /&gt;\\nat the...</td>\n",
       "      <td>NaN</td>\n",
       "      <td>NaN</td>\n",
       "      <td>NaN</td>\n",
       "      <td>NaN</td>\n",
       "      <td>NaN</td>\n",
       "      <td>asian, black, other</td>\n",
       "      <td>66.0</td>\n",
       "      <td>-1.0</td>\n",
       "      <td>artistic / musical / writer</td>\n",
       "      <td>2012-06-27-21-26</td>\n",
       "      <td>san francisco, california</td>\n",
       "      <td>NaN</td>\n",
       "      <td>straight</td>\n",
       "      <td>likes dogs and likes cats</td>\n",
       "      <td>NaN</td>\n",
       "      <td>m</td>\n",
       "      <td>aquarius</td>\n",
       "      <td>no</td>\n",
       "      <td>english</td>\n",
       "      <td>single</td>\n",
       "    </tr>\n",
       "  </tbody>\n",
       "</table>\n",
       "</div>"
      ],
      "text/plain": [
       "    age       body_type               diet    drinks      drugs  \\\n",
       "0  22.0  a little extra  strictly anything  socially      never   \n",
       "1  35.0         average       mostly other     often  sometimes   \n",
       "2  38.0            thin           anything  socially        NaN   \n",
       "3  23.0            thin         vegetarian  socially        NaN   \n",
       "4  29.0        athletic                NaN  socially      never   \n",
       "\n",
       "                           education  \\\n",
       "0      working on college/university   \n",
       "1              working on space camp   \n",
       "2     graduated from masters program   \n",
       "3      working on college/university   \n",
       "4  graduated from college/university   \n",
       "\n",
       "                                              essay0  \\\n",
       "0  about me:<br />\\n<br />\\ni would love to think...   \n",
       "1  i am a chef: this is what that means.<br />\\n1...   \n",
       "2  i'm not ashamed of much, but writing public te...   \n",
       "3          i work in a library and go to school. . .   \n",
       "4  hey how's it going? currently vague on the pro...   \n",
       "\n",
       "                                              essay1  \\\n",
       "0  currently working as an international agent fo...   \n",
       "1  dedicating everyday to being an unbelievable b...   \n",
       "2  i make nerdy software for musicians, artists, ...   \n",
       "3          reading things written by old dead people   \n",
       "4                         work work work work + play   \n",
       "\n",
       "                                              essay2  \\\n",
       "0  making people laugh.<br />\\nranting about a go...   \n",
       "1  being silly. having ridiculous amonts of fun w...   \n",
       "2  improvising in different contexts. alternating...   \n",
       "3  playing synthesizers and organizing books acco...   \n",
       "4  creating imagery to look at:<br />\\nhttp://bag...   \n",
       "\n",
       "                                              essay3  \\\n",
       "0  the way i look. i am a six foot half asian, ha...   \n",
       "1                                                NaN   \n",
       "2  my large jaw and large glasses are the physica...   \n",
       "3                  socially awkward but i do my best   \n",
       "4            i smile a lot and my inquisitive nature   \n",
       "\n",
       "                                              essay4  \\\n",
       "0  books:<br />\\nabsurdistan, the republic, of mi...   \n",
       "1  i am die hard christopher moore fan. i don't r...   \n",
       "2  okay this is where the cultural matrix gets so...   \n",
       "3  bataille, celine, beckett. . .<br />\\nlynch, j...   \n",
       "4  music: bands, rappers, musicians<br />\\nat the...   \n",
       "\n",
       "                                              essay5  \\\n",
       "0  food.<br />\\nwater.<br />\\ncell phone.<br />\\n...   \n",
       "1  delicious porkness in all of its glories.<br /...   \n",
       "2  movement<br />\\nconversation<br />\\ncreation<b...   \n",
       "3                                                NaN   \n",
       "4                                                NaN   \n",
       "\n",
       "                        essay6  \\\n",
       "0  duality and humorous things   \n",
       "1                          NaN   \n",
       "2                          NaN   \n",
       "3   cats and german philosophy   \n",
       "4                          NaN   \n",
       "\n",
       "                                              essay7  \\\n",
       "0  trying to find someone to hang out with. i am ...   \n",
       "1                                                NaN   \n",
       "2  viewing. listening. dancing. talking. drinking...   \n",
       "3                                                NaN   \n",
       "4                                                NaN   \n",
       "\n",
       "                                              essay8  \\\n",
       "0  i am new to california and looking for someone...   \n",
       "1  i am very open and will share just about anyth...   \n",
       "2  when i was five years old, i was known as \"the...   \n",
       "3                                                NaN   \n",
       "4                                                NaN   \n",
       "\n",
       "                                              essay9            ethnicity  \\\n",
       "0  you want to be swept off your feet!<br />\\nyou...         asian, white   \n",
       "1                                                NaN                white   \n",
       "2  you are bright, open, intense, silly, ironic, ...                  NaN   \n",
       "3                              you feel so inclined.                white   \n",
       "4                                                NaN  asian, black, other   \n",
       "\n",
       "   height   income                          job       last_online  \\\n",
       "0    75.0     -1.0               transportation  2012-06-28-20-30   \n",
       "1    70.0  80000.0         hospitality / travel  2012-06-29-21-41   \n",
       "2    68.0     -1.0                          NaN  2012-06-27-09-10   \n",
       "3    71.0  20000.0                      student  2012-06-28-14-22   \n",
       "4    66.0     -1.0  artistic / musical / writer  2012-06-27-21-26   \n",
       "\n",
       "                          location  \\\n",
       "0  south san francisco, california   \n",
       "1              oakland, california   \n",
       "2        san francisco, california   \n",
       "3             berkeley, california   \n",
       "4        san francisco, california   \n",
       "\n",
       "                                      offspring orientation  \\\n",
       "0  doesn&rsquo;t have kids, but might want them    straight   \n",
       "1  doesn&rsquo;t have kids, but might want them    straight   \n",
       "2                                           NaN    straight   \n",
       "3                       doesn&rsquo;t want kids    straight   \n",
       "4                                           NaN    straight   \n",
       "\n",
       "                        pets                                  religion sex  \\\n",
       "0  likes dogs and likes cats     agnosticism and very serious about it   m   \n",
       "1  likes dogs and likes cats  agnosticism but not too serious about it   m   \n",
       "2                   has cats                                       NaN   m   \n",
       "3                 likes cats                                       NaN   m   \n",
       "4  likes dogs and likes cats                                       NaN   m   \n",
       "\n",
       "                                 sign     smokes  \\\n",
       "0                              gemini  sometimes   \n",
       "1                              cancer         no   \n",
       "2  pisces but it doesn&rsquo;t matter         no   \n",
       "3                              pisces         no   \n",
       "4                            aquarius         no   \n",
       "\n",
       "                                              speaks     status  \n",
       "0                                            english     single  \n",
       "1  english (fluently), spanish (poorly), french (...     single  \n",
       "2                               english, french, c++  available  \n",
       "3                           english, german (poorly)     single  \n",
       "4                                            english     single  "
      ]
     },
     "execution_count": 3,
     "metadata": {},
     "output_type": "execute_result"
    }
   ],
   "source": [
    "df.head()"
   ]
  },
  {
   "cell_type": "code",
   "execution_count": 4,
   "id": "a0574994",
   "metadata": {},
   "outputs": [
    {
     "data": {
      "text/plain": [
       "Index(['age', 'body_type', 'diet', 'drinks', 'drugs', 'education', 'essay0',\n",
       "       'essay1', 'essay2', 'essay3', 'essay4', 'essay5', 'essay6', 'essay7',\n",
       "       'essay8', 'essay9', 'ethnicity', 'height', 'income', 'job',\n",
       "       'last_online', 'location', 'offspring', 'orientation', 'pets',\n",
       "       'religion', 'sex', 'sign', 'smokes', 'speaks', 'status'],\n",
       "      dtype='object')"
      ]
     },
     "execution_count": 4,
     "metadata": {},
     "output_type": "execute_result"
    }
   ],
   "source": [
    "df.columns"
   ]
  },
  {
   "cell_type": "code",
   "execution_count": 5,
   "id": "27fb419c",
   "metadata": {},
   "outputs": [
    {
     "data": {
      "text/html": [
       "<div>\n",
       "<style scoped>\n",
       "    .dataframe tbody tr th:only-of-type {\n",
       "        vertical-align: middle;\n",
       "    }\n",
       "\n",
       "    .dataframe tbody tr th {\n",
       "        vertical-align: top;\n",
       "    }\n",
       "\n",
       "    .dataframe thead th {\n",
       "        text-align: right;\n",
       "    }\n",
       "</style>\n",
       "<table border=\"1\" class=\"dataframe\">\n",
       "  <thead>\n",
       "    <tr style=\"text-align: right;\">\n",
       "      <th></th>\n",
       "      <th>age</th>\n",
       "      <th>height</th>\n",
       "      <th>income</th>\n",
       "    </tr>\n",
       "  </thead>\n",
       "  <tbody>\n",
       "    <tr>\n",
       "      <th>age</th>\n",
       "      <td>1.000000</td>\n",
       "      <td>-0.022078</td>\n",
       "      <td>0.011424</td>\n",
       "    </tr>\n",
       "    <tr>\n",
       "      <th>height</th>\n",
       "      <td>-0.022078</td>\n",
       "      <td>1.000000</td>\n",
       "      <td>0.073105</td>\n",
       "    </tr>\n",
       "    <tr>\n",
       "      <th>income</th>\n",
       "      <td>0.011424</td>\n",
       "      <td>0.073105</td>\n",
       "      <td>1.000000</td>\n",
       "    </tr>\n",
       "  </tbody>\n",
       "</table>\n",
       "</div>"
      ],
      "text/plain": [
       "             age    height    income\n",
       "age     1.000000 -0.022078  0.011424\n",
       "height -0.022078  1.000000  0.073105\n",
       "income  0.011424  0.073105  1.000000"
      ]
     },
     "execution_count": 5,
     "metadata": {},
     "output_type": "execute_result"
    }
   ],
   "source": [
    "df.corr()"
   ]
  },
  {
   "cell_type": "code",
   "execution_count": 6,
   "id": "72a39c4e",
   "metadata": {},
   "outputs": [
    {
     "data": {
      "text/plain": [
       "(60552, 31)"
      ]
     },
     "execution_count": 6,
     "metadata": {},
     "output_type": "execute_result"
    }
   ],
   "source": [
    "df.shape"
   ]
  },
  {
   "cell_type": "code",
   "execution_count": 7,
   "id": "cbeb43aa",
   "metadata": {},
   "outputs": [
    {
     "data": {
      "text/plain": [
       "age            51038\n",
       "body_type      51886\n",
       "diet           54791\n",
       "drinks         51540\n",
       "drugs          53337\n",
       "education      52093\n",
       "essay0         51885\n",
       "essay1         52205\n",
       "essay2         52503\n",
       "essay3         52862\n",
       "essay4         52673\n",
       "essay5         52738\n",
       "essay6         53200\n",
       "essay7         52999\n",
       "essay8         54191\n",
       "essay9         52998\n",
       "ethnicity      51987\n",
       "height         51038\n",
       "income         51038\n",
       "job            52369\n",
       "last_online    51038\n",
       "location       51038\n",
       "offspring      56666\n",
       "orientation    51038\n",
       "pets           54200\n",
       "religion       54291\n",
       "sex            51038\n",
       "sign           52776\n",
       "smokes         51956\n",
       "speaks         51044\n",
       "status         51038\n",
       "dtype: int64"
      ]
     },
     "execution_count": 7,
     "metadata": {},
     "output_type": "execute_result"
    }
   ],
   "source": [
    "df.isnull().sum()"
   ]
  },
  {
   "cell_type": "code",
   "execution_count": 8,
   "id": "c5f361ac",
   "metadata": {},
   "outputs": [
    {
     "data": {
      "text/plain": [
       "26.0     601\n",
       "27.0     593\n",
       "25.0     591\n",
       "28.0     557\n",
       "24.0     539\n",
       "29.0     536\n",
       "30.0     476\n",
       "31.0     459\n",
       "23.0     429\n",
       "32.0     412\n",
       "33.0     323\n",
       "22.0     320\n",
       "34.0     295\n",
       "35.0     262\n",
       "37.0     237\n",
       "36.0     226\n",
       "21.0     207\n",
       "38.0     204\n",
       "39.0     178\n",
       "40.0     176\n",
       "42.0     161\n",
       "20.0     156\n",
       "41.0     153\n",
       "43.0     136\n",
       "19.0     113\n",
       "44.0     104\n",
       "45.0      99\n",
       "46.0      86\n",
       "47.0      81\n",
       "49.0      71\n",
       "48.0      68\n",
       "18.0      58\n",
       "50.0      58\n",
       "52.0      55\n",
       "51.0      51\n",
       "57.0      43\n",
       "56.0      39\n",
       "59.0      39\n",
       "53.0      38\n",
       "55.0      36\n",
       "54.0      34\n",
       "58.0      31\n",
       "60.0      29\n",
       "63.0      26\n",
       "61.0      25\n",
       "66.0      21\n",
       "62.0      20\n",
       "65.0      20\n",
       "64.0      16\n",
       "68.0      12\n",
       "67.0       8\n",
       "69.0       5\n",
       "110.0      1\n",
       "Name: age, dtype: int64"
      ]
     },
     "execution_count": 8,
     "metadata": {},
     "output_type": "execute_result"
    }
   ],
   "source": [
    "df[\"age\"].value_counts()"
   ]
  },
  {
   "cell_type": "code",
   "execution_count": 9,
   "id": "0942792f",
   "metadata": {},
   "outputs": [
    {
     "data": {
      "image/png": "[encoded data removed]",
      "text/plain": [
       "<Figure size 1200x800 with 1 Axes>"
      ]
     },
     "metadata": {},
     "output_type": "display_data"
    }
   ],
   "source": [
    "plt.figure(figsize=(12,8))\n",
    "sns.countplot(x=df[\"age\"])\n",
    "plt.xticks(rotation=90);"
   ]
  },
  {
   "cell_type": "code",
   "execution_count": 10,
   "id": "40a75dda",
   "metadata": {},
   "outputs": [
    {
     "data": {
      "text/plain": [
       "<Axes: >"
      ]
     },
     "execution_count": 10,
     "metadata": {},
     "output_type": "execute_result"
    },
    {
     "data": {
      "image/png": "[encoded data removed]",
      "text/plain": [
       "<Figure size 640x480 with 1 Axes>"
      ]
     },
     "metadata": {},
     "output_type": "display_data"
    }
   ],
   "source": [
    "sns.boxplot(df[\"age\"])"
   ]
  },
  {
   "cell_type": "code",
   "execution_count": 11,
   "id": "0ddf5f65",
   "metadata": {},
   "outputs": [
    {
     "data": {
      "text/plain": [
       "count    9514.000000\n",
       "mean       32.084192\n",
       "std         9.445488\n",
       "min        18.000000\n",
       "25%        25.000000\n",
       "50%        30.000000\n",
       "75%        36.000000\n",
       "max       110.000000\n",
       "Name: age, dtype: float64"
      ]
     },
     "execution_count": 11,
     "metadata": {},
     "output_type": "execute_result"
    }
   ],
   "source": [
    "df[\"age\"].describe()"
   ]
  },
  {
   "cell_type": "code",
   "execution_count": 12,
   "id": "afb8ea27",
   "metadata": {},
   "outputs": [],
   "source": [
    "df=df[df[\"age\"]<55]"
   ]
  },
  {
   "cell_type": "code",
   "execution_count": 13,
   "id": "e10f1539",
   "metadata": {},
   "outputs": [],
   "source": [
    "df[\"age\"]=df[\"age\"].fillna(df[\"age\"].mean)"
   ]
  },
  {
   "cell_type": "code",
   "execution_count": 14,
   "id": "b2b3c29b",
   "metadata": {},
   "outputs": [
    {
     "data": {
      "text/plain": [
       "0"
      ]
     },
     "execution_count": 14,
     "metadata": {},
     "output_type": "execute_result"
    }
   ],
   "source": [
    "df[\"age\"].isnull().sum()"
   ]
  },
  {
   "cell_type": "code",
   "execution_count": 15,
   "id": "a6c79a49",
   "metadata": {},
   "outputs": [
    {
     "data": {
      "text/plain": [
       "average           2152\n",
       "fit               1962\n",
       "athletic          1841\n",
       "thin               709\n",
       "curvy              604\n",
       "a little extra     399\n",
       "skinny             267\n",
       "full figured       168\n",
       "overweight          67\n",
       "jacked              64\n",
       "used up             47\n",
       "rather not say      36\n",
       "Name: body_type, dtype: int64"
      ]
     },
     "execution_count": 15,
     "metadata": {},
     "output_type": "execute_result"
    }
   ],
   "source": [
    "df[\"body_type\"].value_counts()"
   ]
  },
  {
   "cell_type": "code",
   "execution_count": 16,
   "id": "7af24955",
   "metadata": {},
   "outputs": [
    {
     "data": {
      "text/plain": [
       "827"
      ]
     },
     "execution_count": 16,
     "metadata": {},
     "output_type": "execute_result"
    }
   ],
   "source": [
    "df[\"body_type\"].isnull().sum()"
   ]
  },
  {
   "cell_type": "code",
   "execution_count": 17,
   "id": "ba5eb1fd",
   "metadata": {},
   "outputs": [],
   "source": [
    "df['body_type'].replace({'average':'average',\n",
    "                         'fit':'fit',\n",
    "                         'athletic':'fit',\n",
    "                         'thin':'average',\n",
    "                         'curvy':'curvy',\n",
    "                         'a little extra':'curvy',\n",
    "                         'skinny':'fit',\n",
    "                         'full figured':'curvy',\n",
    "                         'overweight':'bad',\n",
    "                         'jacked':'fit',\n",
    "                         'used up':'bad',\n",
    "                         'rather not say':'bad'},regex=True,inplace=True)"
   ]
  },
  {
   "cell_type": "code",
   "execution_count": 18,
   "id": "da9f207c",
   "metadata": {},
   "outputs": [
    {
     "data": {
      "image/png": "[encoded data removed]",
      "text/plain": [
       "<Figure size 800x800 with 1 Axes>"
      ]
     },
     "metadata": {},
     "output_type": "display_data"
    }
   ],
   "source": [
    "plt.figure(figsize=(8,8))\n",
    "sns.countplot(x=df[\"body_type\"])\n",
    "plt.xticks(rotation=90);"
   ]
  },
  {
   "cell_type": "code",
   "execution_count": 19,
   "id": "2cc1326a",
   "metadata": {},
   "outputs": [],
   "source": [
    "df[\"body_type\"]=df[\"body_type\"].fillna(\"average\")"
   ]
  },
  {
   "cell_type": "code",
   "execution_count": 20,
   "id": "d9d49996",
   "metadata": {},
   "outputs": [
    {
     "data": {
      "text/plain": [
       "mostly anything        2513\n",
       "anything               1019\n",
       "strictly anything       830\n",
       "mostly vegetarian       531\n",
       "mostly other            145\n",
       "strictly vegetarian     133\n",
       "vegetarian              104\n",
       "strictly other           63\n",
       "mostly vegan             51\n",
       "other                    48\n",
       "strictly vegan           38\n",
       "vegan                    28\n",
       "mostly halal             13\n",
       "mostly kosher            12\n",
       "strictly halal            4\n",
       "strictly kosher           2\n",
       "kosher                    2\n",
       "halal                     1\n",
       "Name: diet, dtype: int64"
      ]
     },
     "execution_count": 20,
     "metadata": {},
     "output_type": "execute_result"
    }
   ],
   "source": [
    "df[\"diet\"].value_counts()"
   ]
  },
  {
   "cell_type": "code",
   "execution_count": 21,
   "id": "581e396d",
   "metadata": {},
   "outputs": [],
   "source": [
    "df[\"diet\"].replace({'strictly ':'','mostly ':''},regex=True,inplace=True)"
   ]
  },
  {
   "cell_type": "code",
   "execution_count": 22,
   "id": "08024185",
   "metadata": {},
   "outputs": [
    {
     "data": {
      "image/png": "[encoded data removed]",
      "text/plain": [
       "<Figure size 800x800 with 1 Axes>"
      ]
     },
     "metadata": {},
     "output_type": "display_data"
    }
   ],
   "source": [
    "plt.figure(figsize=(8,8))\n",
    "sns.countplot(x=df[\"diet\"])\n",
    "plt.xticks(rotation=90);"
   ]
  },
  {
   "cell_type": "code",
   "execution_count": 23,
   "id": "80895953",
   "metadata": {},
   "outputs": [
    {
     "data": {
      "text/plain": [
       "3606"
      ]
     },
     "execution_count": 23,
     "metadata": {},
     "output_type": "execute_result"
    }
   ],
   "source": [
    "df[\"diet\"].isnull().sum()"
   ]
  },
  {
   "cell_type": "code",
   "execution_count": 24,
   "id": "1898a63d",
   "metadata": {},
   "outputs": [],
   "source": [
    "df[\"diet\"]=df[\"diet\"].fillna(\"anything\")"
   ]
  },
  {
   "cell_type": "code",
   "execution_count": 25,
   "id": "e4d11966",
   "metadata": {},
   "outputs": [
    {
     "data": {
      "text/plain": [
       "0"
      ]
     },
     "execution_count": 25,
     "metadata": {},
     "output_type": "execute_result"
    }
   ],
   "source": [
    "df[\"diet\"].isnull().sum()"
   ]
  },
  {
   "cell_type": "code",
   "execution_count": 26,
   "id": "f4c4d38e",
   "metadata": {},
   "outputs": [
    {
     "data": {
      "text/plain": [
       "socially       6435\n",
       "rarely          851\n",
       "often           794\n",
       "not at all      467\n",
       "very often       54\n",
       "desperately      49\n",
       "Name: drinks, dtype: int64"
      ]
     },
     "execution_count": 26,
     "metadata": {},
     "output_type": "execute_result"
    }
   ],
   "source": [
    "df[\"drinks\"].value_counts()"
   ]
  },
  {
   "cell_type": "code",
   "execution_count": 27,
   "id": "c263b119",
   "metadata": {},
   "outputs": [
    {
     "data": {
      "text/plain": [
       "493"
      ]
     },
     "execution_count": 27,
     "metadata": {},
     "output_type": "execute_result"
    }
   ],
   "source": [
    "df[\"drinks\"].isnull().sum()"
   ]
  },
  {
   "cell_type": "code",
   "execution_count": 28,
   "id": "3524ac6f",
   "metadata": {},
   "outputs": [],
   "source": [
    "df[\"drinks\"]=df[\"drinks\"].fillna(df[\"drinks\"].median)"
   ]
  },
  {
   "cell_type": "code",
   "execution_count": 29,
   "id": "11ef2d83",
   "metadata": {},
   "outputs": [
    {
     "data": {
      "image/png": "[encoded data removed]",
      "text/plain": [
       "<Figure size 800x800 with 1 Axes>"
      ]
     },
     "metadata": {},
     "output_type": "display_data"
    }
   ],
   "source": [
    "plt.figure(figsize=(8,8))\n",
    "sns.countplot(x=df[\"drinks\"])\n",
    "plt.xticks(rotation=90);"
   ]
  },
  {
   "cell_type": "code",
   "execution_count": 30,
   "id": "c18f2a54",
   "metadata": {},
   "outputs": [
    {
     "data": {
      "text/plain": [
       "0"
      ]
     },
     "execution_count": 30,
     "metadata": {},
     "output_type": "execute_result"
    }
   ],
   "source": [
    "df[\"drinks\"].isnull().sum()"
   ]
  },
  {
   "cell_type": "code",
   "execution_count": 31,
   "id": "e203a1cb",
   "metadata": {},
   "outputs": [
    {
     "data": {
      "text/plain": [
       "never        5663\n",
       "sometimes    1158\n",
       "often          61\n",
       "Name: drugs, dtype: int64"
      ]
     },
     "execution_count": 31,
     "metadata": {},
     "output_type": "execute_result"
    }
   ],
   "source": [
    "df[\"drugs\"].value_counts()"
   ]
  },
  {
   "cell_type": "code",
   "execution_count": 32,
   "id": "faf7eea1",
   "metadata": {},
   "outputs": [
    {
     "data": {
      "image/png": "[encoded data removed]",
      "text/plain": [
       "<Figure size 800x800 with 1 Axes>"
      ]
     },
     "metadata": {},
     "output_type": "display_data"
    }
   ],
   "source": [
    "plt.figure(figsize=(8,8))\n",
    "sns.countplot(x=df[\"drugs\"])\n",
    "plt.xticks(rotation=90);"
   ]
  },
  {
   "cell_type": "code",
   "execution_count": 33,
   "id": "e0ee6be2",
   "metadata": {},
   "outputs": [
    {
     "data": {
      "text/plain": [
       "2261"
      ]
     },
     "execution_count": 33,
     "metadata": {},
     "output_type": "execute_result"
    }
   ],
   "source": [
    "df[\"drugs\"].isnull().sum()"
   ]
  },
  {
   "cell_type": "code",
   "execution_count": 34,
   "id": "17d2ed64",
   "metadata": {},
   "outputs": [],
   "source": [
    "df[\"drugs\"]=df[\"drugs\"].fillna(df[\"drugs\"].median)"
   ]
  },
  {
   "cell_type": "code",
   "execution_count": 35,
   "id": "d93cd9fe",
   "metadata": {},
   "outputs": [
    {
     "data": {
      "text/plain": [
       "graduated from college/university    3640\n",
       "graduated from masters program       1296\n",
       "working on college/university         968\n",
       "working on masters program            250\n",
       "graduated from two-year college       230\n",
       "graduated from high school            193\n",
       "graduated from ph.d program           185\n",
       "graduated from law school             168\n",
       "working on two-year college           157\n",
       "working on ph.d program               157\n",
       "dropped out of college/university     136\n",
       "college/university                    131\n",
       "graduated from space camp              97\n",
       "dropped out of space camp              84\n",
       "graduated from med school              71\n",
       "working on space camp                  70\n",
       "working on law school                  55\n",
       "working on med school                  41\n",
       "two-year college                       38\n",
       "dropped out of two-year college        32\n",
       "working on high school                 20\n",
       "masters program                        19\n",
       "dropped out of ph.d program            17\n",
       "dropped out of masters program         14\n",
       "high school                            13\n",
       "dropped out of high school             12\n",
       "space camp                             10\n",
       "law school                              4\n",
       "ph.d program                            4\n",
       "dropped out of law school               3\n",
       "dropped out of med school               2\n",
       "Name: education, dtype: int64"
      ]
     },
     "execution_count": 35,
     "metadata": {},
     "output_type": "execute_result"
    }
   ],
   "source": [
    "df[\"education\"].value_counts()"
   ]
  },
  {
   "cell_type": "code",
   "execution_count": 36,
   "id": "c0d1150f",
   "metadata": {},
   "outputs": [
    {
     "data": {
      "image/png": "[encoded data removed]",
      "text/plain": [
       "<Figure size 800x800 with 1 Axes>"
      ]
     },
     "metadata": {},
     "output_type": "display_data"
    }
   ],
   "source": [
    "plt.figure(figsize=(8,8))\n",
    "sns.countplot(x=df[\"education\"])\n",
    "plt.xticks(rotation=90);"
   ]
  },
  {
   "cell_type": "code",
   "execution_count": 37,
   "id": "60b14df3",
   "metadata": {},
   "outputs": [],
   "source": [
    "df[\"education\"].replace({\"graduated from college/university\":\"uni\",\n",
    "                                 \"graduated from masters program\":\"masters\",\n",
    "                                 \"working on college/university\":\"uni\",\n",
    "                                 \"working on masters program\":\"masters\",\n",
    "                                 \"graduated from two-year college\":\"2-year\",\n",
    "                                 \"graduated from high school\":\"high school\",\n",
    "                                 \"graduated from ph.d program\":\"Ph.D\",\n",
    "                                 \"graduated from law school\":\"law\",\n",
    "                                 \"working on two-year college\":\"2-year\",\n",
    "                                 \"working on ph.d program\":\"Ph.D\",\n",
    "                                 \"dropped out of college/university\":\"high school\",\n",
    "                                 \"college/university\":\"uni\",\n",
    "                                 \"graduated from space camp\":\"space\",\n",
    "                                 \"dropped out of space camp\":\"space\",\n",
    "                                 \"working on space camp\":\"space\",\n",
    "                                 \"graduated from med school\":\"med\",\n",
    "                                 \"working on law school\":\"law\",\n",
    "                                 \"two-year college\":\"2-year\",\n",
    "                                 \"working on med school\":\"med\",\n",
    "                                 \"dropped out of two-year college\":\"high school\",\n",
    "                                 \"masters program\":\"masters\",\n",
    "                                 \"working on high school\":\"high school\",\n",
    "                                 \"dropped out of ph.d program\":\"masters\",\n",
    "                                 \"dropped out of masters program\":\"uni\",\n",
    "                                 \"dropped out of high school\":\"med\",\n",
    "                                 \"high school\":\"high school\",\n",
    "                                 \"space camp\":\"space\",\n",
    "                                 \"ph.d program\":\"Ph.D\",\n",
    "                                 \"law school\":\"law\",\n",
    "                                 \"dropped out of law school\":\"high school\",\n",
    "                                 \"dropped out of med school\":\"med\"\n",
    "                                },regex=True,inplace=True)"
   ]
  },
  {
   "cell_type": "code",
   "execution_count": 38,
   "id": "48057628",
   "metadata": {},
   "outputs": [
    {
     "data": {
      "text/plain": [
       "1026"
      ]
     },
     "execution_count": 38,
     "metadata": {},
     "output_type": "execute_result"
    }
   ],
   "source": [
    "df[\"education\"].isnull().sum()"
   ]
  },
  {
   "cell_type": "code",
   "execution_count": 39,
   "id": "29caf5bc",
   "metadata": {},
   "outputs": [],
   "source": [
    "df[\"education\"]=df[\"education\"].fillna(\"med\")"
   ]
  },
  {
   "cell_type": "code",
   "execution_count": 40,
   "id": "531b013a",
   "metadata": {},
   "outputs": [],
   "source": [
    "df[\"education\"]=df[\"education\"].str.split().str[0]"
   ]
  },
  {
   "cell_type": "code",
   "execution_count": 41,
   "id": "e6c54e6d",
   "metadata": {},
   "outputs": [
    {
     "data": {
      "image/png": "[encoded data removed]",
      "text/plain": [
       "<Figure size 800x800 with 1 Axes>"
      ]
     },
     "metadata": {},
     "output_type": "display_data"
    }
   ],
   "source": [
    "plt.figure(figsize=(8,8))\n",
    "sns.countplot(x=df[\"education\"])\n",
    "plt.xticks(rotation=90);"
   ]
  },
  {
   "cell_type": "code",
   "execution_count": 42,
   "id": "c683fae9",
   "metadata": {},
   "outputs": [],
   "source": [
    "df.drop([\"ethnicity\",\"job\"],axis=1,inplace=True)"
   ]
  },
  {
   "cell_type": "code",
   "execution_count": 43,
   "id": "576922ab",
   "metadata": {},
   "outputs": [
    {
     "data": {
      "text/plain": [
       "70.0    949\n",
       "68.0    838\n",
       "72.0    836\n",
       "69.0    824\n",
       "67.0    819\n",
       "71.0    726\n",
       "66.0    690\n",
       "65.0    577\n",
       "64.0    556\n",
       "73.0    446\n",
       "63.0    406\n",
       "74.0    385\n",
       "62.0    322\n",
       "75.0    209\n",
       "61.0    180\n",
       "76.0    129\n",
       "60.0    118\n",
       "77.0     42\n",
       "59.0     31\n",
       "78.0     14\n",
       "79.0     13\n",
       "58.0      9\n",
       "80.0      8\n",
       "83.0      2\n",
       "56.0      2\n",
       "95.0      2\n",
       "57.0      2\n",
       "81.0      2\n",
       "91.0      1\n",
       "87.0      1\n",
       "36.0      1\n",
       "43.0      1\n",
       "52.0      1\n",
       "55.0      1\n",
       "Name: height, dtype: int64"
      ]
     },
     "execution_count": 43,
     "metadata": {},
     "output_type": "execute_result"
    }
   ],
   "source": [
    "df[\"height\"].value_counts()"
   ]
  },
  {
   "cell_type": "code",
   "execution_count": 44,
   "id": "cb9b5a00",
   "metadata": {},
   "outputs": [
    {
     "data": {
      "text/plain": [
       "<Axes: >"
      ]
     },
     "execution_count": 44,
     "metadata": {},
     "output_type": "execute_result"
    },
    {
     "data": {
      "image/png": "[encoded data removed]",
      "text/plain": [
       "<Figure size 640x480 with 1 Axes>"
      ]
     },
     "metadata": {},
     "output_type": "display_data"
    }
   ],
   "source": [
    "sns.boxplot(df[\"height\"])"
   ]
  },
  {
   "cell_type": "code",
   "execution_count": 45,
   "id": "a93b5282",
   "metadata": {},
   "outputs": [],
   "source": [
    "df=df[df[\"height\"]<85]\n",
    "df=df[df[\"height\"]>50]"
   ]
  },
  {
   "cell_type": "code",
   "execution_count": 46,
   "id": "727cc5f7",
   "metadata": {},
   "outputs": [
    {
     "data": {
      "text/plain": [
       "0"
      ]
     },
     "execution_count": 46,
     "metadata": {},
     "output_type": "execute_result"
    }
   ],
   "source": [
    "df[\"height\"].isnull().sum()"
   ]
  },
  {
   "cell_type": "code",
   "execution_count": 47,
   "id": "95753d0d",
   "metadata": {},
   "outputs": [
    {
     "data": {
      "text/plain": [
       "-1.0          7408\n",
       " 20000.0       455\n",
       " 100000.0      227\n",
       " 50000.0       163\n",
       " 80000.0       161\n",
       " 30000.0       155\n",
       " 40000.0       151\n",
       " 60000.0       114\n",
       " 150000.0      106\n",
       " 70000.0        95\n",
       " 1000000.0      71\n",
       " 250000.0       26\n",
       " 500000.0        5\n",
       "Name: income, dtype: int64"
      ]
     },
     "execution_count": 47,
     "metadata": {},
     "output_type": "execute_result"
    }
   ],
   "source": [
    "df[\"income\"].value_counts()"
   ]
  },
  {
   "cell_type": "code",
   "execution_count": 48,
   "id": "5aa41bef",
   "metadata": {},
   "outputs": [
    {
     "data": {
      "text/plain": [
       "count       9137.000000\n",
       "mean       18923.343767\n",
       "std        92479.351615\n",
       "min           -1.000000\n",
       "25%           -1.000000\n",
       "50%           -1.000000\n",
       "75%           -1.000000\n",
       "max      1000000.000000\n",
       "Name: income, dtype: float64"
      ]
     },
     "execution_count": 48,
     "metadata": {},
     "output_type": "execute_result"
    }
   ],
   "source": [
    "df[\"income\"].describe()"
   ]
  },
  {
   "cell_type": "code",
   "execution_count": 49,
   "id": "fc12bde0",
   "metadata": {},
   "outputs": [
    {
     "data": {
      "text/plain": [
       "0"
      ]
     },
     "execution_count": 49,
     "metadata": {},
     "output_type": "execute_result"
    }
   ],
   "source": [
    "df[\"income\"].isnull().sum()"
   ]
  },
  {
   "cell_type": "code",
   "execution_count": 50,
   "id": "851cb7f6",
   "metadata": {},
   "outputs": [
    {
     "data": {
      "text/plain": [
       "<Axes: xlabel='income'>"
      ]
     },
     "execution_count": 50,
     "metadata": {},
     "output_type": "execute_result"
    },
    {
     "data": {
      "image/png": "[encoded data removed]",
      "text/plain": [
       "<Figure size 640x480 with 1 Axes>"
      ]
     },
     "metadata": {},
     "output_type": "display_data"
    }
   ],
   "source": [
    "sns.boxplot(x=df[\"income\"])"
   ]
  },
  {
   "cell_type": "code",
   "execution_count": 51,
   "id": "8b8750bb",
   "metadata": {},
   "outputs": [
    {
     "data": {
      "text/plain": [
       "2012-06-29-22-56    15\n",
       "2012-06-29-22-33    11\n",
       "2012-06-29-22-35    11\n",
       "2012-06-29-22-58    11\n",
       "2012-06-30-00-07    10\n",
       "                    ..\n",
       "2012-06-29-19-27     1\n",
       "2012-06-22-22-30     1\n",
       "2012-06-08-23-01     1\n",
       "2012-06-28-11-18     1\n",
       "2012-06-14-15-14     1\n",
       "Name: last_online, Length: 6533, dtype: int64"
      ]
     },
     "execution_count": 51,
     "metadata": {},
     "output_type": "execute_result"
    }
   ],
   "source": [
    "df[\"last_online\"].value_counts()"
   ]
  },
  {
   "cell_type": "code",
   "execution_count": 52,
   "id": "ce33089f",
   "metadata": {},
   "outputs": [
    {
     "data": {
      "text/plain": [
       "0"
      ]
     },
     "execution_count": 52,
     "metadata": {},
     "output_type": "execute_result"
    }
   ],
   "source": [
    "df[\"last_online\"].isnull().sum()"
   ]
  },
  {
   "cell_type": "code",
   "execution_count": 53,
   "id": "0eb128f7",
   "metadata": {},
   "outputs": [],
   "source": [
    "list=list(df[\"last_online\"])"
   ]
  },
  {
   "cell_type": "code",
   "execution_count": 54,
   "id": "394e96aa",
   "metadata": {},
   "outputs": [
    {
     "data": {
      "text/plain": [
       "['2012-06-28-20-30',\n",
       " '2012-06-29-21-41',\n",
       " '2012-06-27-09-10',\n",
       " '2012-06-28-14-22',\n",
       " '2012-06-27-21-26',\n",
       " '2012-06-29-19-18',\n",
       " '2012-06-25-20-45',\n",
       " '2012-06-29-12-30',\n",
       " '2012-06-29-23-39',\n",
       " '2012-06-28-21-08',\n",
       " '2012-06-04-14-59',\n",
       " '2012-05-22-17-05',\n",
       " '2012-05-28-21-28',\n",
       " '2012-06-13-16-06',\n",
       " '2012-06-29-08-55',\n",
       " '2012-06-29-22-09',\n",
       " '2012-06-29-16-08',\n",
       " '2012-06-29-21-17',\n",
       " '2012-06-29-04-04',\n",
       " '2012-06-27-21-41',\n",
       " '2012-06-26-20-40',\n",
       " '2012-06-15-22-56',\n",
       " '2012-06-28-15-22',\n",
       " '2012-05-17-20-23',\n",
       " '2012-06-29-21-32',\n",
       " '2012-06-26-01-27',\n",
       " '2012-06-10-01-37',\n",
       " '2012-06-25-23-06',\n",
       " '2012-06-19-01-22',\n",
       " '2012-06-29-07-01',\n",
       " '2011-11-10-13-15',\n",
       " '2012-06-27-23-16',\n",
       " '2012-05-25-00-04',\n",
       " '2012-06-30-00-00',\n",
       " '2012-06-24-22-10',\n",
       " '2012-06-27-00-32',\n",
       " '2012-06-28-09-28',\n",
       " '2012-06-28-12-57',\n",
       " '2012-06-29-17-20',\n",
       " '2012-06-30-00-01',\n",
       " '2012-06-29-22-56',\n",
       " '2012-06-30-00-01',\n",
       " '2012-03-19-17-41',\n",
       " '2012-06-30-00-01',\n",
       " '2012-06-10-13-28',\n",
       " '2012-06-28-18-09',\n",
       " '2012-06-29-07-09',\n",
       " '2012-06-25-15-06',\n",
       " '2012-06-30-00-01',\n",
       " '2012-06-28-07-59',\n",
       " '2012-06-27-08-41',\n",
       " '2012-03-23-22-05',\n",
       " '2012-06-23-11-09',\n",
       " '2012-06-20-14-54',\n",
       " '2012-06-25-04-53',\n",
       " '2012-06-29-16-04',\n",
       " '2012-06-29-17-24',\n",
       " '2012-06-29-22-10',\n",
       " '2011-10-13-03-10',\n",
       " '2012-06-05-13-04',\n",
       " '2012-05-07-02-46',\n",
       " '2012-06-29-20-45',\n",
       " '2012-06-29-20-38',\n",
       " '2012-06-28-21-28',\n",
       " '2012-06-27-09-14',\n",
       " '2012-06-29-09-47',\n",
       " '2012-06-30-00-02',\n",
       " '2012-05-28-14-45',\n",
       " '2012-05-09-16-41',\n",
       " '2012-04-26-07-55',\n",
       " '2012-06-28-17-28',\n",
       " '2012-02-15-06-10',\n",
       " '2012-06-29-00-25',\n",
       " '2012-06-29-08-00',\n",
       " '2012-06-28-20-44',\n",
       " '2012-06-28-22-21',\n",
       " '2012-06-28-22-08',\n",
       " '2011-10-20-19-56',\n",
       " '2012-06-26-20-31',\n",
       " '2011-12-20-12-29',\n",
       " '2012-06-24-00-39',\n",
       " '2012-06-29-14-02',\n",
       " '2012-06-28-22-24',\n",
       " '2012-02-25-22-53',\n",
       " '2011-12-25-22-08',\n",
       " '2012-04-21-22-07',\n",
       " '2012-06-06-21-05',\n",
       " '2012-06-26-22-44',\n",
       " '2012-06-29-09-18',\n",
       " '2012-03-30-08-10',\n",
       " '2012-01-27-18-35',\n",
       " '2011-10-27-01-12',\n",
       " '2011-07-27-20-01',\n",
       " '2012-06-29-22-43',\n",
       " '2012-05-28-15-18',\n",
       " '2012-06-26-22-52',\n",
       " '2012-06-29-20-28',\n",
       " '2012-05-16-22-46',\n",
       " '2012-06-29-06-59',\n",
       " '2012-06-24-21-23',\n",
       " '2012-06-29-08-52',\n",
       " '2012-06-18-22-02',\n",
       " '2012-06-28-09-53',\n",
       " '2012-05-19-18-19',\n",
       " '2012-06-25-19-41',\n",
       " '2012-06-29-22-35',\n",
       " '2012-06-24-20-20',\n",
       " '2012-03-17-21-19',\n",
       " '2012-06-30-00-04',\n",
       " '2012-06-29-19-06',\n",
       " '2012-06-24-23-44',\n",
       " '2012-06-29-22-07',\n",
       " '2012-06-29-11-16',\n",
       " '2012-06-28-18-40',\n",
       " '2012-03-22-16-56',\n",
       " '2012-06-24-18-46',\n",
       " '2012-05-24-23-07',\n",
       " '2012-06-29-13-31',\n",
       " '2012-06-22-02-01',\n",
       " '2012-06-28-11-06',\n",
       " '2012-06-09-23-55',\n",
       " '2012-06-15-23-59',\n",
       " '2012-06-29-17-01',\n",
       " '2012-06-12-23-51',\n",
       " '2012-02-29-12-08',\n",
       " '2012-06-28-00-22',\n",
       " '2012-06-27-00-15',\n",
       " '2012-06-30-00-05',\n",
       " '2012-01-29-01-04',\n",
       " '2012-06-29-22-14',\n",
       " '2012-05-15-17-48',\n",
       " '2012-06-29-10-30',\n",
       " '2012-06-12-21-54',\n",
       " '2012-06-30-00-05',\n",
       " '2012-06-29-20-35',\n",
       " '2012-06-24-22-19',\n",
       " '2012-06-29-21-54',\n",
       " '2012-05-19-09-49',\n",
       " '2012-06-15-22-10',\n",
       " '2012-06-28-21-09',\n",
       " '2012-06-29-20-05',\n",
       " '2012-06-29-22-32',\n",
       " '2012-06-25-12-28',\n",
       " '2012-06-14-21-30',\n",
       " '2012-06-07-11-34',\n",
       " '2011-12-06-13-38',\n",
       " '2011-07-19-12-23',\n",
       " '2012-05-19-10-47',\n",
       " '2012-06-29-22-51',\n",
       " '2012-06-29-22-55',\n",
       " '2012-06-29-19-07',\n",
       " '2012-02-08-23-21',\n",
       " '2012-06-27-08-19',\n",
       " '2012-06-26-19-45',\n",
       " '2012-05-07-17-47',\n",
       " '2012-05-30-22-59',\n",
       " '2012-06-20-20-55',\n",
       " '2012-06-26-02-13',\n",
       " '2012-06-29-22-17',\n",
       " '2012-06-29-16-53',\n",
       " '2012-06-27-21-41',\n",
       " '2012-06-22-23-43',\n",
       " '2012-06-30-00-07',\n",
       " '2012-06-28-23-11',\n",
       " '2012-06-29-18-34',\n",
       " '2012-06-23-23-10',\n",
       " '2012-06-18-21-51',\n",
       " '2012-06-27-20-52',\n",
       " '2012-03-20-20-06',\n",
       " '2012-06-30-00-07',\n",
       " '2012-06-28-14-06',\n",
       " '2011-10-14-04-03',\n",
       " '2011-09-24-00-59',\n",
       " '2012-05-27-14-46',\n",
       " '2011-08-23-23-38',\n",
       " '2012-04-30-19-47',\n",
       " '2012-06-16-03-17',\n",
       " '2012-06-28-20-41',\n",
       " '2012-06-26-22-47',\n",
       " '2012-06-29-21-59',\n",
       " '2012-01-23-10-43',\n",
       " '2012-06-30-00-08',\n",
       " '2012-06-28-22-31',\n",
       " '2012-06-29-12-43',\n",
       " '2012-04-22-20-20',\n",
       " '2012-06-14-22-56',\n",
       " '2012-06-29-21-31',\n",
       " '2012-02-24-23-54',\n",
       " '2012-06-24-16-32',\n",
       " '2012-06-29-15-00',\n",
       " '2012-06-29-22-09',\n",
       " '2012-06-29-20-59',\n",
       " '2012-06-25-22-50',\n",
       " '2012-06-25-22-11',\n",
       " '2011-08-01-20-34',\n",
       " '2011-12-05-01-55',\n",
       " '2012-06-30-00-08',\n",
       " '2012-06-29-12-49',\n",
       " '2012-06-29-11-09',\n",
       " '2012-06-17-02-04',\n",
       " '2012-06-29-13-11',\n",
       " '2012-06-29-22-08',\n",
       " '2012-06-29-17-46',\n",
       " '2012-06-16-20-49',\n",
       " '2012-06-27-22-04',\n",
       " '2012-06-21-23-37',\n",
       " '2012-06-27-18-22',\n",
       " '2012-06-29-16-23',\n",
       " '2012-06-27-22-09',\n",
       " '2012-04-25-22-07',\n",
       " '2012-06-28-14-35',\n",
       " '2012-06-15-19-55',\n",
       " '2012-06-29-20-02',\n",
       " '2012-06-29-06-14',\n",
       " '2012-06-29-15-08',\n",
       " '2011-11-03-22-11',\n",
       " '2012-05-16-09-05',\n",
       " '2012-06-29-10-25',\n",
       " '2012-06-29-17-04',\n",
       " '2012-06-27-19-42',\n",
       " '2012-06-28-13-52',\n",
       " '2012-01-26-16-11',\n",
       " '2012-06-27-02-27',\n",
       " '2012-06-29-21-58',\n",
       " '2012-06-29-20-39',\n",
       " '2012-06-29-20-35',\n",
       " '2012-06-27-04-27',\n",
       " '2012-04-02-09-56',\n",
       " '2012-06-29-12-07',\n",
       " '2012-06-29-14-45',\n",
       " '2011-07-05-08-39',\n",
       " '2012-06-30-00-11',\n",
       " '2011-12-20-14-20',\n",
       " '2012-06-28-17-17',\n",
       " '2012-06-27-22-52',\n",
       " '2012-06-29-22-49',\n",
       " '2012-06-29-12-42',\n",
       " '2011-10-17-01-08',\n",
       " '2012-05-04-08-41',\n",
       " '2012-06-28-06-55',\n",
       " '2012-03-31-23-29',\n",
       " '2012-06-29-15-35',\n",
       " '2012-06-29-18-22',\n",
       " '2012-06-23-12-21',\n",
       " '2012-01-30-22-18',\n",
       " '2012-04-06-00-29',\n",
       " '2012-06-29-20-12',\n",
       " '2011-10-10-17-15',\n",
       " '2012-06-30-00-11',\n",
       " '2011-10-08-09-24',\n",
       " '2011-08-09-15-15',\n",
       " '2012-06-26-19-05',\n",
       " '2012-06-28-21-37',\n",
       " '2012-06-29-12-59',\n",
       " '2012-06-29-21-37',\n",
       " '2012-06-30-00-12',\n",
       " '2012-04-08-15-39',\n",
       " '2012-06-15-11-37',\n",
       " '2012-06-29-20-20',\n",
       " '2012-06-29-08-54',\n",
       " '2012-06-29-18-55',\n",
       " '2012-06-27-21-56',\n",
       " '2012-06-28-18-29',\n",
       " '2012-06-29-15-18',\n",
       " '2012-01-22-17-43',\n",
       " '2011-07-18-20-00',\n",
       " '2012-06-28-22-32',\n",
       " '2012-05-29-23-55',\n",
       " '2012-06-29-18-04',\n",
       " '2012-06-28-22-03',\n",
       " '2012-05-19-13-32',\n",
       " '2012-03-23-00-07',\n",
       " '2012-06-27-21-28',\n",
       " '2012-06-30-00-13',\n",
       " '2012-06-28-16-38',\n",
       " '2012-05-18-14-52',\n",
       " '2012-06-29-14-36',\n",
       " '2012-05-09-01-01',\n",
       " '2012-06-13-22-27',\n",
       " '2012-04-24-23-50',\n",
       " '2011-12-27-00-03',\n",
       " '2012-06-23-12-38',\n",
       " '2012-06-11-21-20',\n",
       " '2012-06-29-17-19',\n",
       " '2012-06-29-00-07',\n",
       " '2012-06-28-13-09',\n",
       " '2012-06-29-10-14',\n",
       " '2012-06-26-16-21',\n",
       " '2012-06-29-21-12',\n",
       " '2012-06-29-16-49',\n",
       " '2012-06-29-22-35',\n",
       " '2012-06-29-15-41',\n",
       " '2012-04-30-19-50',\n",
       " '2011-09-12-06-21',\n",
       " '2012-06-30-00-14',\n",
       " '2012-03-25-00-09',\n",
       " '2012-06-28-21-37',\n",
       " '2011-11-04-16-57',\n",
       " '2012-06-29-18-27',\n",
       " '2012-06-28-09-12',\n",
       " '2012-01-08-23-15',\n",
       " '2012-03-30-13-36',\n",
       " '2011-08-08-14-31',\n",
       " '2012-06-29-17-51',\n",
       " '2012-05-22-11-38',\n",
       " '2012-06-29-21-01',\n",
       " '2012-06-30-00-14',\n",
       " '2012-06-29-20-43',\n",
       " '2012-06-29-22-12',\n",
       " '2012-06-29-11-40',\n",
       " '2012-06-28-15-01',\n",
       " '2012-05-27-11-37',\n",
       " '2012-06-29-22-50',\n",
       " '2012-06-08-09-40',\n",
       " '2012-06-29-19-32',\n",
       " '2012-06-29-10-56',\n",
       " '2012-06-29-21-41',\n",
       " '2012-06-30-00-15',\n",
       " '2011-09-30-09-23',\n",
       " '2012-06-26-06-14',\n",
       " '2012-05-09-21-40',\n",
       " '2012-06-28-22-34',\n",
       " '2012-06-29-22-01',\n",
       " '2012-06-28-19-14',\n",
       " '2012-06-28-07-19',\n",
       " '2012-06-27-20-46',\n",
       " '2012-03-12-00-22',\n",
       " '2012-06-29-14-03',\n",
       " '2012-06-29-00-45',\n",
       " '2012-06-29-23-13',\n",
       " '2012-06-25-01-10',\n",
       " '2012-06-29-14-57',\n",
       " '2012-06-29-22-46',\n",
       " '2011-08-27-20-02',\n",
       " '2012-06-19-20-32',\n",
       " '2011-09-02-16-25',\n",
       " '2012-06-27-22-12',\n",
       " '2012-06-28-11-58',\n",
       " '2012-06-28-21-42',\n",
       " '2012-06-01-08-08',\n",
       " '2012-06-30-00-16',\n",
       " '2012-03-12-19-38',\n",
       " '2011-08-07-21-53',\n",
       " '2012-06-29-15-47',\n",
       " '2012-06-29-21-55',\n",
       " '2012-06-30-00-17',\n",
       " '2012-06-29-22-21',\n",
       " '2012-06-30-00-17',\n",
       " '2012-06-28-20-02',\n",
       " '2012-06-30-00-17',\n",
       " '2012-06-21-00-45',\n",
       " '2012-06-29-21-36',\n",
       " '2011-08-29-19-37',\n",
       " '2012-06-17-10-35',\n",
       " '2012-06-29-22-47',\n",
       " '2011-07-27-10-40',\n",
       " '2012-06-29-14-17',\n",
       " '2012-06-30-00-17',\n",
       " '2012-06-26-22-39',\n",
       " '2012-06-28-21-06',\n",
       " '2012-06-27-23-21',\n",
       " '2012-06-06-19-32',\n",
       " '2012-05-10-21-31',\n",
       " '2011-09-25-23-31',\n",
       " '2012-06-29-19-17',\n",
       " '2012-06-29-13-05',\n",
       " '2012-06-28-22-11',\n",
       " '2012-06-27-20-41',\n",
       " '2012-06-29-14-31',\n",
       " '2012-06-29-22-49',\n",
       " '2012-06-29-08-04',\n",
       " '2012-03-29-09-55',\n",
       " '2012-02-10-16-30',\n",
       " '2012-06-29-12-14',\n",
       " '2012-06-28-18-19',\n",
       " '2011-07-09-02-18',\n",
       " '2012-06-30-00-18',\n",
       " '2012-06-21-23-29',\n",
       " '2012-06-29-19-44',\n",
       " '2012-06-29-17-04',\n",
       " '2012-05-07-18-37',\n",
       " '2012-06-18-06-41',\n",
       " '2012-01-06-20-35',\n",
       " '2012-06-27-20-16',\n",
       " '2011-09-22-03-54',\n",
       " '2012-06-29-22-26',\n",
       " '2012-06-26-23-25',\n",
       " '2012-06-26-15-18',\n",
       " '2012-02-24-14-09',\n",
       " '2012-06-29-23-01',\n",
       " '2011-09-28-23-36',\n",
       " '2012-04-04-15-13',\n",
       " '2012-06-29-14-02',\n",
       " '2012-06-30-00-19',\n",
       " '2012-06-28-14-39',\n",
       " '2012-06-27-12-44',\n",
       " '2012-02-11-01-45',\n",
       " '2012-06-27-23-05',\n",
       " '2012-06-28-06-26',\n",
       " '2012-06-26-05-46',\n",
       " '2012-03-01-06-32',\n",
       " '2012-05-19-13-21',\n",
       " '2012-06-28-21-41',\n",
       " '2012-06-26-13-33',\n",
       " '2012-06-29-15-31',\n",
       " '2011-12-17-21-07',\n",
       " '2012-06-25-12-26',\n",
       " '2012-06-27-01-41',\n",
       " '2012-06-09-09-59',\n",
       " '2012-05-28-16-04',\n",
       " '2011-10-16-22-51',\n",
       " '2012-06-28-23-17',\n",
       " '2012-06-29-18-15',\n",
       " '2011-09-16-13-55',\n",
       " '2012-06-20-10-14',\n",
       " '2011-12-04-22-30',\n",
       " '2012-06-27-15-11',\n",
       " '2012-06-28-20-43',\n",
       " '2012-06-29-23-11',\n",
       " '2011-12-04-10-47',\n",
       " '2012-01-16-13-43',\n",
       " '2011-10-31-12-02',\n",
       " '2012-06-29-12-00',\n",
       " '2012-06-29-20-11',\n",
       " '2012-06-29-22-25',\n",
       " '2012-06-24-10-01',\n",
       " '2012-06-29-16-16',\n",
       " '2012-06-30-00-22',\n",
       " '2011-06-28-14-10',\n",
       " '2012-05-28-10-48',\n",
       " '2012-06-29-10-57',\n",
       " '2012-06-25-01-03',\n",
       " '2012-06-29-22-48',\n",
       " '2012-04-24-18-17',\n",
       " '2012-06-28-23-20',\n",
       " '2012-02-10-08-35',\n",
       " '2012-06-30-00-22',\n",
       " '2012-06-29-17-41',\n",
       " '2012-06-30-00-22',\n",
       " '2012-06-27-23-39',\n",
       " '2012-06-28-19-21',\n",
       " '2012-03-25-23-44',\n",
       " '2012-06-29-10-22',\n",
       " '2012-06-30-00-22',\n",
       " '2012-06-27-21-32',\n",
       " '2012-04-03-18-48',\n",
       " '2012-06-29-20-21',\n",
       " '2011-12-15-23-29',\n",
       " '2012-06-24-18-31',\n",
       " '2012-06-29-10-12',\n",
       " '2012-03-20-09-46',\n",
       " '2012-04-22-01-52',\n",
       " '2012-05-04-14-28',\n",
       " '2012-06-29-22-33',\n",
       " '2012-06-29-10-23',\n",
       " '2012-06-03-18-47',\n",
       " '2012-04-21-16-27',\n",
       " '2012-06-11-03-34',\n",
       " '2012-06-27-23-52',\n",
       " '2012-06-29-08-35',\n",
       " '2012-05-28-11-20',\n",
       " '2012-06-27-03-49',\n",
       " '2012-06-19-12-42',\n",
       " '2012-06-28-08-08',\n",
       " '2012-05-30-17-24',\n",
       " '2012-02-20-20-10',\n",
       " '2012-06-22-22-29',\n",
       " '2012-06-24-23-08',\n",
       " '2012-05-06-19-55',\n",
       " '2012-06-17-17-07',\n",
       " '2012-06-25-09-56',\n",
       " '2012-06-20-19-14',\n",
       " '2012-06-29-17-36',\n",
       " '2012-06-29-12-44',\n",
       " '2012-06-29-08-43',\n",
       " '2012-06-30-00-24',\n",
       " '2012-06-06-15-37',\n",
       " '2012-06-03-13-37',\n",
       " '2012-06-29-22-22',\n",
       " '2012-06-29-20-31',\n",
       " '2012-06-30-00-24',\n",
       " '2012-06-29-14-46',\n",
       " '2012-06-24-09-55',\n",
       " '2012-02-05-08-51',\n",
       " '2012-04-11-08-42',\n",
       " '2012-06-26-10-50',\n",
       " '2012-06-27-22-36',\n",
       " '2012-06-30-00-25',\n",
       " '2012-06-30-00-25',\n",
       " '2012-06-26-23-30',\n",
       " '2011-08-31-21-02',\n",
       " '2012-06-28-00-58',\n",
       " '2012-03-05-00-09',\n",
       " '2012-06-27-19-09',\n",
       " '2012-06-03-21-11',\n",
       " '2012-06-27-23-35',\n",
       " '2012-04-15-02-01',\n",
       " '2012-06-28-16-31',\n",
       " '2012-06-12-13-20',\n",
       " '2012-06-29-22-31',\n",
       " '2012-06-25-19-26',\n",
       " '2012-06-04-18-09',\n",
       " '2012-03-19-15-51',\n",
       " '2012-06-28-08-28',\n",
       " '2012-06-22-07-44',\n",
       " '2012-06-27-00-06',\n",
       " '2012-06-15-17-07',\n",
       " '2012-06-29-03-55',\n",
       " '2012-06-28-15-27',\n",
       " '2012-06-29-20-31',\n",
       " '2012-01-25-18-46',\n",
       " '2012-06-22-09-36',\n",
       " '2012-06-29-19-42',\n",
       " '2012-05-26-02-19',\n",
       " '2012-06-29-22-38',\n",
       " '2012-06-29-08-41',\n",
       " '2012-06-29-10-16',\n",
       " '2012-06-13-22-47',\n",
       " '2012-06-11-08-54',\n",
       " '2012-06-29-11-46',\n",
       " '2012-01-08-10-49',\n",
       " '2012-06-29-11-03',\n",
       " '2011-08-09-19-04',\n",
       " '2012-06-15-22-44',\n",
       " '2012-06-29-18-40',\n",
       " '2012-06-23-20-53',\n",
       " '2012-06-29-09-25',\n",
       " '2012-06-22-11-11',\n",
       " '2012-06-28-22-17',\n",
       " '2012-06-27-01-38',\n",
       " '2012-06-18-14-51',\n",
       " '2012-06-29-19-59',\n",
       " '2012-06-29-19-47',\n",
       " '2012-06-29-00-31',\n",
       " '2012-06-27-14-58',\n",
       " '2012-06-29-22-03',\n",
       " '2012-06-30-00-28',\n",
       " '2012-06-23-21-19',\n",
       " '2012-04-09-08-03',\n",
       " '2012-06-25-21-11',\n",
       " '2012-06-30-00-28',\n",
       " '2012-06-28-08-08',\n",
       " '2012-05-05-11-09',\n",
       " '2012-06-30-00-28',\n",
       " '2012-06-17-02-52',\n",
       " '2012-06-26-09-06',\n",
       " '2012-05-03-01-52',\n",
       " '2012-04-24-23-08',\n",
       " '2012-06-25-23-54',\n",
       " '2012-06-28-13-25',\n",
       " '2012-06-28-15-21',\n",
       " '2012-06-04-07-57',\n",
       " '2012-06-29-09-30',\n",
       " '2011-11-12-09-56',\n",
       " '2012-06-29-20-39',\n",
       " '2012-06-24-20-45',\n",
       " '2012-03-28-00-53',\n",
       " '2012-02-07-21-00',\n",
       " '2012-06-29-22-41',\n",
       " '2012-06-29-13-03',\n",
       " '2012-02-25-12-06',\n",
       " '2012-06-29-13-34',\n",
       " '2012-06-29-16-37',\n",
       " '2012-06-29-19-35',\n",
       " '2012-06-25-21-15',\n",
       " '2011-08-09-14-37',\n",
       " '2012-06-28-10-32',\n",
       " '2012-06-27-22-35',\n",
       " '2011-09-08-20-44',\n",
       " '2011-12-02-10-02',\n",
       " '2012-06-11-06-54',\n",
       " '2012-06-24-12-51',\n",
       " '2012-06-25-23-50',\n",
       " '2012-06-29-21-45',\n",
       " '2012-06-20-06-03',\n",
       " '2012-05-30-09-49',\n",
       " '2012-03-01-08-58',\n",
       " '2012-06-29-07-51',\n",
       " '2012-06-29-17-46',\n",
       " '2012-06-29-11-36',\n",
       " '2011-10-11-13-56',\n",
       " '2012-06-30-00-31',\n",
       " '2011-10-16-21-48',\n",
       " '2012-06-11-22-32',\n",
       " '2012-04-06-12-25',\n",
       " '2012-05-21-00-37',\n",
       " '2012-06-18-23-33',\n",
       " '2012-06-12-03-01',\n",
       " '2012-06-28-21-07',\n",
       " '2011-11-26-14-14',\n",
       " '2012-06-28-12-08',\n",
       " '2012-04-22-09-20',\n",
       " '2012-06-30-00-32',\n",
       " '2011-07-29-20-34',\n",
       " '2011-09-01-09-01',\n",
       " '2012-06-20-10-27',\n",
       " '2012-05-28-00-48',\n",
       " '2012-04-22-08-31',\n",
       " '2012-06-28-00-30',\n",
       " '2012-01-18-12-26',\n",
       " '2012-06-24-20-50',\n",
       " '2012-06-29-18-49',\n",
       " '2012-06-29-07-28',\n",
       " '2012-06-28-20-48',\n",
       " '2012-06-29-12-20',\n",
       " '2012-05-27-02-44',\n",
       " '2012-05-25-21-32',\n",
       " '2011-10-03-14-02',\n",
       " '2012-06-29-15-58',\n",
       " '2012-06-29-13-34',\n",
       " '2011-08-25-11-52',\n",
       " '2012-06-25-11-42',\n",
       " '2012-01-07-16-17',\n",
       " '2012-06-29-04-21',\n",
       " '2012-06-29-11-35',\n",
       " '2012-06-29-18-45',\n",
       " '2012-06-29-08-13',\n",
       " '2012-06-29-19-13',\n",
       " '2012-06-26-15-55',\n",
       " '2012-06-17-14-43',\n",
       " '2012-06-30-00-33',\n",
       " '2012-01-28-19-35',\n",
       " '2011-07-11-15-59',\n",
       " '2012-06-30-00-33',\n",
       " '2012-06-29-09-42',\n",
       " '2012-06-27-19-10',\n",
       " '2012-05-24-10-40',\n",
       " '2012-04-15-22-18',\n",
       " '2012-04-14-17-56',\n",
       " '2012-06-29-01-58',\n",
       " '2012-06-25-03-03',\n",
       " '2012-06-29-22-20',\n",
       " '2012-06-30-00-34',\n",
       " '2012-06-23-12-38',\n",
       " '2012-06-28-13-41',\n",
       " '2012-01-22-23-20',\n",
       " '2012-06-29-15-41',\n",
       " '2012-03-16-10-43',\n",
       " '2012-06-29-13-16',\n",
       " '2012-06-29-21-08',\n",
       " '2012-06-21-20-21',\n",
       " '2012-06-29-02-43',\n",
       " '2012-05-29-13-07',\n",
       " '2012-06-22-15-06',\n",
       " '2012-06-22-22-43',\n",
       " '2012-06-26-06-21',\n",
       " '2012-06-30-00-35',\n",
       " '2012-01-16-20-40',\n",
       " '2012-05-19-03-15',\n",
       " '2012-06-29-01-47',\n",
       " '2012-03-27-23-01',\n",
       " '2012-06-26-20-01',\n",
       " '2012-06-29-16-02',\n",
       " '2011-08-04-17-01',\n",
       " '2012-06-28-12-28',\n",
       " '2012-06-24-17-55',\n",
       " '2012-06-29-22-59',\n",
       " '2012-06-27-15-42',\n",
       " '2012-06-27-19-05',\n",
       " '2012-06-13-06-50',\n",
       " '2012-03-09-23-41',\n",
       " '2012-06-29-19-44',\n",
       " '2012-06-28-19-31',\n",
       " '2012-06-26-01-49',\n",
       " '2011-10-16-09-42',\n",
       " '2012-06-29-11-03',\n",
       " '2012-06-29-22-56',\n",
       " '2012-06-15-19-51',\n",
       " '2011-10-10-00-57',\n",
       " '2012-06-18-16-19',\n",
       " '2012-06-27-11-28',\n",
       " '2012-06-26-18-29',\n",
       " '2011-11-02-09-09',\n",
       " '2012-06-29-10-02',\n",
       " '2012-06-28-21-02',\n",
       " '2012-06-14-10-36',\n",
       " '2012-06-28-10-21',\n",
       " '2012-05-14-09-37',\n",
       " '2012-06-23-13-44',\n",
       " '2012-06-28-08-43',\n",
       " '2012-06-29-15-13',\n",
       " '2012-06-28-20-45',\n",
       " '2012-06-09-19-46',\n",
       " '2012-06-29-14-02',\n",
       " '2011-09-10-10-06',\n",
       " '2012-06-29-19-48',\n",
       " '2012-06-29-01-01',\n",
       " '2012-06-29-11-39',\n",
       " '2011-12-14-22-27',\n",
       " '2012-06-29-20-58',\n",
       " '2012-06-14-17-14',\n",
       " '2011-10-28-16-56',\n",
       " '2011-09-26-14-04',\n",
       " '2012-06-29-13-12',\n",
       " '2011-08-05-13-30',\n",
       " '2012-06-29-22-48',\n",
       " '2011-11-18-09-33',\n",
       " '2012-06-27-20-31',\n",
       " '2012-04-07-12-29',\n",
       " '2012-06-29-19-32',\n",
       " '2012-06-26-09-44',\n",
       " '2012-06-29-20-06',\n",
       " '2012-06-29-21-37',\n",
       " '2012-06-05-16-40',\n",
       " '2012-06-29-19-47',\n",
       " '2012-06-29-19-01',\n",
       " '2012-06-28-13-21',\n",
       " '2012-06-29-20-45',\n",
       " '2012-06-28-13-00',\n",
       " '2012-06-30-00-38',\n",
       " '2012-06-29-21-13',\n",
       " '2012-06-10-20-25',\n",
       " '2012-06-28-17-27',\n",
       " '2012-06-15-00-44',\n",
       " '2011-08-04-19-46',\n",
       " '2012-06-08-01-21',\n",
       " '2012-06-20-08-23',\n",
       " '2012-06-29-22-33',\n",
       " '2012-06-04-23-57',\n",
       " '2012-06-29-22-18',\n",
       " '2012-06-29-20-14',\n",
       " '2012-06-29-21-33',\n",
       " '2012-06-29-15-00',\n",
       " '2012-06-27-16-30',\n",
       " '2011-07-13-14-54',\n",
       " '2012-06-02-19-12',\n",
       " '2012-06-28-08-11',\n",
       " '2012-03-01-12-08',\n",
       " '2012-06-14-19-30',\n",
       " '2012-06-29-19-08',\n",
       " '2012-06-29-07-45',\n",
       " '2012-06-29-08-11',\n",
       " '2012-05-22-23-05',\n",
       " '2012-06-27-16-22',\n",
       " '2012-06-17-21-28',\n",
       " '2012-06-29-23-32',\n",
       " '2012-06-29-22-21',\n",
       " '2012-06-30-00-40',\n",
       " '2012-06-29-13-37',\n",
       " '2012-05-14-17-59',\n",
       " '2012-06-29-23-17',\n",
       " '2012-06-26-18-57',\n",
       " '2012-06-29-20-25',\n",
       " '2011-10-25-10-24',\n",
       " '2012-06-29-20-19',\n",
       " '2012-06-25-11-33',\n",
       " '2012-06-29-15-30',\n",
       " '2012-06-29-21-59',\n",
       " '2012-06-29-23-11',\n",
       " '2012-06-27-17-04',\n",
       " '2012-06-30-00-40',\n",
       " '2012-06-29-05-54',\n",
       " '2012-05-29-16-28',\n",
       " '2012-06-28-14-25',\n",
       " '2012-06-25-22-31',\n",
       " '2012-06-29-21-58',\n",
       " '2012-06-30-00-41',\n",
       " '2012-06-29-22-31',\n",
       " '2012-06-27-21-04',\n",
       " '2012-06-29-20-16',\n",
       " '2012-06-21-11-24',\n",
       " '2012-06-29-08-07',\n",
       " '2012-06-01-21-02',\n",
       " '2012-06-29-14-36',\n",
       " '2012-06-08-20-46',\n",
       " '2012-02-21-11-10',\n",
       " '2012-06-26-10-12',\n",
       " '2012-06-28-21-53',\n",
       " '2012-06-30-00-41',\n",
       " '2012-06-29-21-37',\n",
       " '2012-06-29-15-38',\n",
       " '2012-06-26-16-36',\n",
       " '2012-06-29-18-00',\n",
       " '2012-06-29-00-52',\n",
       " '2012-04-23-09-25',\n",
       " '2012-06-27-21-56',\n",
       " '2012-06-29-20-32',\n",
       " '2012-02-21-13-05',\n",
       " '2012-06-29-00-45',\n",
       " '2012-06-29-17-02',\n",
       " '2012-06-28-19-51',\n",
       " '2012-04-09-21-40',\n",
       " '2012-04-25-19-45',\n",
       " '2012-05-29-15-58',\n",
       " '2012-06-29-22-17',\n",
       " '2012-06-29-10-32',\n",
       " '2012-06-28-02-54',\n",
       " '2012-04-19-22-16',\n",
       " '2012-06-23-16-27',\n",
       " '2012-06-25-18-18',\n",
       " '2012-06-29-18-23',\n",
       " '2012-06-24-07-02',\n",
       " '2012-06-29-22-48',\n",
       " '2012-06-19-23-08',\n",
       " '2011-12-14-01-47',\n",
       " '2012-05-31-15-17',\n",
       " '2012-06-26-23-43',\n",
       " '2012-06-29-08-06',\n",
       " '2012-06-29-12-33',\n",
       " '2012-06-29-21-47',\n",
       " '2012-06-29-15-37',\n",
       " '2012-06-29-17-40',\n",
       " '2012-06-29-10-47',\n",
       " '2012-06-27-23-53',\n",
       " '2011-09-04-23-16',\n",
       " '2012-06-27-09-25',\n",
       " '2011-10-15-17-43',\n",
       " '2012-06-29-00-16',\n",
       " '2012-06-29-23-19',\n",
       " '2012-06-30-00-43',\n",
       " '2012-06-29-19-46',\n",
       " '2012-06-29-09-16',\n",
       " '2012-06-25-11-02',\n",
       " '2012-01-27-22-56',\n",
       " '2012-04-26-18-20',\n",
       " '2012-06-25-16-38',\n",
       " '2012-06-23-11-13',\n",
       " '2012-06-15-22-51',\n",
       " '2012-06-25-20-34',\n",
       " '2012-06-05-17-43',\n",
       " '2012-06-23-18-03',\n",
       " '2011-12-05-22-49',\n",
       " '2012-06-29-19-38',\n",
       " '2012-06-29-08-46',\n",
       " '2012-06-25-23-06',\n",
       " '2012-06-28-13-32',\n",
       " '2012-06-29-17-09',\n",
       " '2012-06-29-17-31',\n",
       " '2012-05-31-23-25',\n",
       " '2012-06-30-00-44',\n",
       " '2012-06-19-09-15',\n",
       " '2012-06-28-21-45',\n",
       " '2012-06-18-01-22',\n",
       " '2012-06-26-22-38',\n",
       " '2012-06-28-23-15',\n",
       " '2012-06-29-19-20',\n",
       " '2012-06-30-00-45',\n",
       " '2012-06-29-22-51',\n",
       " '2012-06-27-22-16',\n",
       " '2012-06-20-13-38',\n",
       " '2012-06-20-07-54',\n",
       " '2012-06-28-15-45',\n",
       " '2012-06-21-19-23',\n",
       " '2012-04-13-13-49',\n",
       " '2012-02-22-21-55',\n",
       " '2012-06-30-00-45',\n",
       " '2012-06-20-23-35',\n",
       " '2012-06-21-19-29',\n",
       " '2012-06-02-10-55',\n",
       " '2011-12-20-20-19',\n",
       " '2012-06-23-10-14',\n",
       " '2012-06-27-19-07',\n",
       " '2012-06-25-08-02',\n",
       " '2012-06-29-23-22',\n",
       " '2012-06-19-22-38',\n",
       " '2011-10-17-12-42',\n",
       " '2011-08-15-09-48',\n",
       " '2012-04-16-22-50',\n",
       " '2012-06-29-11-49',\n",
       " '2012-06-28-17-54',\n",
       " '2012-06-30-00-46',\n",
       " '2012-05-13-08-54',\n",
       " '2012-04-07-16-10',\n",
       " '2012-06-29-19-46',\n",
       " '2012-06-28-16-07',\n",
       " '2012-06-28-13-31',\n",
       " '2012-06-29-18-35',\n",
       " '2012-06-29-21-58',\n",
       " '2012-06-28-21-45',\n",
       " '2012-06-29-22-28',\n",
       " '2012-06-29-16-14',\n",
       " '2012-06-28-18-45',\n",
       " '2012-06-29-16-52',\n",
       " '2012-06-06-20-08',\n",
       " '2012-04-17-22-46',\n",
       " '2012-06-29-17-51',\n",
       " '2012-06-29-19-52',\n",
       " '2012-06-28-21-28',\n",
       " '2012-06-29-20-53',\n",
       " '2012-06-28-03-21',\n",
       " '2012-06-18-21-02',\n",
       " '2012-06-21-13-44',\n",
       " '2012-06-18-14-00',\n",
       " '2012-06-29-08-41',\n",
       " '2012-06-24-18-00',\n",
       " '2012-06-28-22-12',\n",
       " '2012-06-13-18-06',\n",
       " '2012-03-26-21-36',\n",
       " '2012-05-20-09-45',\n",
       " '2012-06-23-22-44',\n",
       " '2012-06-27-00-30',\n",
       " '2012-06-29-14-38',\n",
       " '2012-05-31-22-16',\n",
       " '2012-06-29-19-56',\n",
       " '2012-06-28-17-46',\n",
       " '2012-06-17-19-06',\n",
       " '2012-06-29-22-01',\n",
       " '2012-06-27-21-14',\n",
       " '2012-02-25-08-57',\n",
       " '2012-06-29-22-20',\n",
       " '2012-06-28-09-33',\n",
       " '2012-06-30-00-48',\n",
       " '2012-06-29-22-56',\n",
       " '2012-01-18-14-05',\n",
       " '2012-03-04-20-42',\n",
       " '2012-06-29-00-02',\n",
       " '2012-06-27-14-25',\n",
       " '2012-06-28-18-19',\n",
       " '2012-06-20-01-23',\n",
       " '2012-04-26-17-05',\n",
       " '2012-06-27-14-37',\n",
       " '2012-06-29-22-51',\n",
       " '2012-06-26-18-11',\n",
       " '2012-06-30-00-49',\n",
       " '2012-06-29-19-20',\n",
       " '2012-06-29-00-18',\n",
       " '2012-06-30-00-49',\n",
       " '2012-04-29-07-23',\n",
       " '2012-06-19-09-44',\n",
       " '2012-03-17-08-53',\n",
       " '2012-02-26-22-51',\n",
       " '2012-06-27-23-06',\n",
       " '2012-06-26-01-24',\n",
       " '2012-06-29-09-05',\n",
       " '2012-06-29-08-49',\n",
       " '2012-06-28-00-27',\n",
       " '2012-06-20-00-19',\n",
       " '2012-05-16-00-04',\n",
       " '2012-06-28-15-27',\n",
       " '2012-06-28-12-57',\n",
       " '2012-06-29-22-32',\n",
       " '2012-06-29-14-24',\n",
       " '2012-06-27-09-40',\n",
       " '2012-06-29-17-25',\n",
       " '2012-06-03-20-58',\n",
       " '2012-06-11-10-42',\n",
       " '2012-06-29-18-51',\n",
       " '2012-05-16-23-26',\n",
       " '2012-06-26-13-20',\n",
       " '2012-03-13-22-16',\n",
       " '2012-06-29-19-59',\n",
       " '2012-06-29-08-19',\n",
       " '2012-06-29-22-12',\n",
       " '2012-06-07-21-14',\n",
       " '2012-06-29-17-29',\n",
       " '2012-06-29-10-43',\n",
       " '2012-06-29-13-06',\n",
       " '2012-06-29-18-00',\n",
       " '2012-06-26-10-53',\n",
       " '2012-06-26-18-58',\n",
       " '2012-06-29-20-48',\n",
       " '2012-06-21-17-56',\n",
       " '2012-06-29-07-59',\n",
       " '2012-02-19-00-13',\n",
       " '2012-06-29-23-30',\n",
       " '2012-06-29-01-02',\n",
       " '2012-06-29-03-12',\n",
       " '2012-06-27-08-25',\n",
       " '2012-06-29-14-30',\n",
       " '2012-01-15-10-48',\n",
       " '2012-06-25-22-12',\n",
       " '2012-06-27-22-11',\n",
       " '2012-06-26-13-39',\n",
       " '2012-06-29-00-49',\n",
       " '2012-06-29-22-45',\n",
       " '2012-06-29-23-28',\n",
       " '2011-10-17-23-35',\n",
       " '2012-04-10-00-37',\n",
       " '2012-06-29-18-38',\n",
       " '2012-06-29-21-42',\n",
       " '2012-06-26-17-08',\n",
       " '2012-05-01-10-55',\n",
       " '2012-06-26-10-09',\n",
       " '2012-06-30-00-52',\n",
       " '2012-05-30-12-32',\n",
       " '2012-06-29-14-41',\n",
       " '2012-06-17-23-27',\n",
       " '2012-06-27-00-07',\n",
       " '2012-06-26-00-28',\n",
       " '2012-06-29-01-04',\n",
       " '2012-06-29-15-34',\n",
       " '2012-06-29-16-28',\n",
       " '2012-06-26-10-44',\n",
       " '2012-06-29-20-57',\n",
       " '2012-06-25-11-26',\n",
       " '2012-06-28-22-49',\n",
       " '2012-06-29-22-19',\n",
       " '2012-06-19-22-49',\n",
       " '2012-06-28-21-54',\n",
       " '2012-06-28-09-25',\n",
       " '2012-06-24-23-19',\n",
       " '2012-06-26-00-19',\n",
       " '2012-05-20-23-40',\n",
       " '2012-06-05-22-33',\n",
       " '2012-06-29-23-13',\n",
       " '2012-06-29-21-35',\n",
       " '2012-06-20-21-19',\n",
       " '2012-06-29-17-09',\n",
       " '2012-06-29-22-09',\n",
       " '2012-06-30-00-54',\n",
       " ...]"
      ]
     },
     "execution_count": 54,
     "metadata": {},
     "output_type": "execute_result"
    }
   ],
   "source": [
    "list"
   ]
  },
  {
   "cell_type": "code",
   "execution_count": 55,
   "id": "350f61b8",
   "metadata": {},
   "outputs": [
    {
     "data": {
      "text/html": [
       "<div>\n",
       "<style scoped>\n",
       "    .dataframe tbody tr th:only-of-type {\n",
       "        vertical-align: middle;\n",
       "    }\n",
       "\n",
       "    .dataframe tbody tr th {\n",
       "        vertical-align: top;\n",
       "    }\n",
       "\n",
       "    .dataframe thead th {\n",
       "        text-align: right;\n",
       "    }\n",
       "</style>\n",
       "<table border=\"1\" class=\"dataframe\">\n",
       "  <thead>\n",
       "    <tr style=\"text-align: right;\">\n",
       "      <th></th>\n",
       "      <th>age</th>\n",
       "      <th>body_type</th>\n",
       "      <th>diet</th>\n",
       "      <th>drinks</th>\n",
       "      <th>drugs</th>\n",
       "      <th>education</th>\n",
       "      <th>essay0</th>\n",
       "      <th>essay1</th>\n",
       "      <th>essay2</th>\n",
       "      <th>essay3</th>\n",
       "      <th>essay4</th>\n",
       "      <th>essay5</th>\n",
       "      <th>essay6</th>\n",
       "      <th>essay7</th>\n",
       "      <th>essay8</th>\n",
       "      <th>essay9</th>\n",
       "      <th>height</th>\n",
       "      <th>income</th>\n",
       "      <th>location</th>\n",
       "      <th>offspring</th>\n",
       "      <th>orientation</th>\n",
       "      <th>pets</th>\n",
       "      <th>religion</th>\n",
       "      <th>sex</th>\n",
       "      <th>sign</th>\n",
       "      <th>smokes</th>\n",
       "      <th>speaks</th>\n",
       "      <th>status</th>\n",
       "      <th>last_online_year</th>\n",
       "      <th>last_online_month</th>\n",
       "    </tr>\n",
       "  </thead>\n",
       "  <tbody>\n",
       "    <tr>\n",
       "      <th>0</th>\n",
       "      <td>22.0</td>\n",
       "      <td>curvy</td>\n",
       "      <td>anything</td>\n",
       "      <td>socially</td>\n",
       "      <td>never</td>\n",
       "      <td>uni</td>\n",
       "      <td>about me:&lt;br /&gt;\\n&lt;br /&gt;\\ni would love to think...</td>\n",
       "      <td>currently working as an international agent fo...</td>\n",
       "      <td>making people laugh.&lt;br /&gt;\\nranting about a go...</td>\n",
       "      <td>the way i look. i am a six foot half asian, ha...</td>\n",
       "      <td>books:&lt;br /&gt;\\nabsurdistan, the republic, of mi...</td>\n",
       "      <td>food.&lt;br /&gt;\\nwater.&lt;br /&gt;\\ncell phone.&lt;br /&gt;\\n...</td>\n",
       "      <td>duality and humorous things</td>\n",
       "      <td>trying to find someone to hang out with. i am ...</td>\n",
       "      <td>i am new to california and looking for someone...</td>\n",
       "      <td>you want to be swept off your feet!&lt;br /&gt;\\nyou...</td>\n",
       "      <td>75.0</td>\n",
       "      <td>-1.0</td>\n",
       "      <td>south san francisco, california</td>\n",
       "      <td>doesn&amp;rsquo;t have kids, but might want them</td>\n",
       "      <td>straight</td>\n",
       "      <td>likes dogs and likes cats</td>\n",
       "      <td>agnosticism and very serious about it</td>\n",
       "      <td>m</td>\n",
       "      <td>gemini</td>\n",
       "      <td>sometimes</td>\n",
       "      <td>english</td>\n",
       "      <td>single</td>\n",
       "      <td>9</td>\n",
       "      <td>6</td>\n",
       "    </tr>\n",
       "    <tr>\n",
       "      <th>1</th>\n",
       "      <td>35.0</td>\n",
       "      <td>average</td>\n",
       "      <td>other</td>\n",
       "      <td>often</td>\n",
       "      <td>sometimes</td>\n",
       "      <td>space</td>\n",
       "      <td>i am a chef: this is what that means.&lt;br /&gt;\\n1...</td>\n",
       "      <td>dedicating everyday to being an unbelievable b...</td>\n",
       "      <td>being silly. having ridiculous amonts of fun w...</td>\n",
       "      <td>NaN</td>\n",
       "      <td>i am die hard christopher moore fan. i don't r...</td>\n",
       "      <td>delicious porkness in all of its glories.&lt;br /...</td>\n",
       "      <td>NaN</td>\n",
       "      <td>NaN</td>\n",
       "      <td>i am very open and will share just about anyth...</td>\n",
       "      <td>NaN</td>\n",
       "      <td>70.0</td>\n",
       "      <td>80000.0</td>\n",
       "      <td>oakland, california</td>\n",
       "      <td>doesn&amp;rsquo;t have kids, but might want them</td>\n",
       "      <td>straight</td>\n",
       "      <td>likes dogs and likes cats</td>\n",
       "      <td>agnosticism but not too serious about it</td>\n",
       "      <td>m</td>\n",
       "      <td>cancer</td>\n",
       "      <td>no</td>\n",
       "      <td>english (fluently), spanish (poorly), french (...</td>\n",
       "      <td>single</td>\n",
       "      <td>9</td>\n",
       "      <td>6</td>\n",
       "    </tr>\n",
       "    <tr>\n",
       "      <th>2</th>\n",
       "      <td>38.0</td>\n",
       "      <td>average</td>\n",
       "      <td>anything</td>\n",
       "      <td>socially</td>\n",
       "      <td>&lt;bound method NDFrame._add_numeric_operations....</td>\n",
       "      <td>masters</td>\n",
       "      <td>i'm not ashamed of much, but writing public te...</td>\n",
       "      <td>i make nerdy software for musicians, artists, ...</td>\n",
       "      <td>improvising in different contexts. alternating...</td>\n",
       "      <td>my large jaw and large glasses are the physica...</td>\n",
       "      <td>okay this is where the cultural matrix gets so...</td>\n",
       "      <td>movement&lt;br /&gt;\\nconversation&lt;br /&gt;\\ncreation&lt;b...</td>\n",
       "      <td>NaN</td>\n",
       "      <td>viewing. listening. dancing. talking. drinking...</td>\n",
       "      <td>when i was five years old, i was known as \"the...</td>\n",
       "      <td>you are bright, open, intense, silly, ironic, ...</td>\n",
       "      <td>68.0</td>\n",
       "      <td>-1.0</td>\n",
       "      <td>san francisco, california</td>\n",
       "      <td>NaN</td>\n",
       "      <td>straight</td>\n",
       "      <td>has cats</td>\n",
       "      <td>NaN</td>\n",
       "      <td>m</td>\n",
       "      <td>pisces but it doesn&amp;rsquo;t matter</td>\n",
       "      <td>no</td>\n",
       "      <td>english, french, c++</td>\n",
       "      <td>available</td>\n",
       "      <td>9</td>\n",
       "      <td>6</td>\n",
       "    </tr>\n",
       "    <tr>\n",
       "      <th>3</th>\n",
       "      <td>23.0</td>\n",
       "      <td>average</td>\n",
       "      <td>vegetarian</td>\n",
       "      <td>socially</td>\n",
       "      <td>&lt;bound method NDFrame._add_numeric_operations....</td>\n",
       "      <td>uni</td>\n",
       "      <td>i work in a library and go to school. . .</td>\n",
       "      <td>reading things written by old dead people</td>\n",
       "      <td>playing synthesizers and organizing books acco...</td>\n",
       "      <td>socially awkward but i do my best</td>\n",
       "      <td>bataille, celine, beckett. . .&lt;br /&gt;\\nlynch, j...</td>\n",
       "      <td>NaN</td>\n",
       "      <td>cats and german philosophy</td>\n",
       "      <td>NaN</td>\n",
       "      <td>NaN</td>\n",
       "      <td>you feel so inclined.</td>\n",
       "      <td>71.0</td>\n",
       "      <td>20000.0</td>\n",
       "      <td>berkeley, california</td>\n",
       "      <td>doesn&amp;rsquo;t want kids</td>\n",
       "      <td>straight</td>\n",
       "      <td>likes cats</td>\n",
       "      <td>NaN</td>\n",
       "      <td>m</td>\n",
       "      <td>pisces</td>\n",
       "      <td>no</td>\n",
       "      <td>english, german (poorly)</td>\n",
       "      <td>single</td>\n",
       "      <td>9</td>\n",
       "      <td>6</td>\n",
       "    </tr>\n",
       "    <tr>\n",
       "      <th>4</th>\n",
       "      <td>29.0</td>\n",
       "      <td>fit</td>\n",
       "      <td>anything</td>\n",
       "      <td>socially</td>\n",
       "      <td>never</td>\n",
       "      <td>uni</td>\n",
       "      <td>hey how's it going? currently vague on the pro...</td>\n",
       "      <td>work work work work + play</td>\n",
       "      <td>creating imagery to look at:&lt;br /&gt;\\nhttp://bag...</td>\n",
       "      <td>i smile a lot and my inquisitive nature</td>\n",
       "      <td>music: bands, rappers, musicians&lt;br /&gt;\\nat the...</td>\n",
       "      <td>NaN</td>\n",
       "      <td>NaN</td>\n",
       "      <td>NaN</td>\n",
       "      <td>NaN</td>\n",
       "      <td>NaN</td>\n",
       "      <td>66.0</td>\n",
       "      <td>-1.0</td>\n",
       "      <td>san francisco, california</td>\n",
       "      <td>NaN</td>\n",
       "      <td>straight</td>\n",
       "      <td>likes dogs and likes cats</td>\n",
       "      <td>NaN</td>\n",
       "      <td>m</td>\n",
       "      <td>aquarius</td>\n",
       "      <td>no</td>\n",
       "      <td>english</td>\n",
       "      <td>single</td>\n",
       "      <td>9</td>\n",
       "      <td>6</td>\n",
       "    </tr>\n",
       "    <tr>\n",
       "      <th>...</th>\n",
       "      <td>...</td>\n",
       "      <td>...</td>\n",
       "      <td>...</td>\n",
       "      <td>...</td>\n",
       "      <td>...</td>\n",
       "      <td>...</td>\n",
       "      <td>...</td>\n",
       "      <td>...</td>\n",
       "      <td>...</td>\n",
       "      <td>...</td>\n",
       "      <td>...</td>\n",
       "      <td>...</td>\n",
       "      <td>...</td>\n",
       "      <td>...</td>\n",
       "      <td>...</td>\n",
       "      <td>...</td>\n",
       "      <td>...</td>\n",
       "      <td>...</td>\n",
       "      <td>...</td>\n",
       "      <td>...</td>\n",
       "      <td>...</td>\n",
       "      <td>...</td>\n",
       "      <td>...</td>\n",
       "      <td>...</td>\n",
       "      <td>...</td>\n",
       "      <td>...</td>\n",
       "      <td>...</td>\n",
       "      <td>...</td>\n",
       "      <td>...</td>\n",
       "      <td>...</td>\n",
       "    </tr>\n",
       "    <tr>\n",
       "      <th>9509</th>\n",
       "      <td>28.0</td>\n",
       "      <td>fit</td>\n",
       "      <td>anything</td>\n",
       "      <td>socially</td>\n",
       "      <td>never</td>\n",
       "      <td>med</td>\n",
       "      <td>just a normal guy looking for someone around m...</td>\n",
       "      <td>working hard and studying. things are always f...</td>\n",
       "      <td>i'm excellent with oncology, numbers and algor...</td>\n",
       "      <td>my eyes change color.&lt;br /&gt;\\n&lt;br /&gt;\\ni smirk a...</td>\n",
       "      <td>foo fighters, oasis, bloc party, doves, incubu...</td>\n",
       "      <td>my family and i all live here and i can't thin...</td>\n",
       "      <td>somewhere fun to go or something good to eat.</td>\n",
       "      <td>studying, followed by shenanigans.</td>\n",
       "      <td>i've actually had some success on here, met so...</td>\n",
       "      <td>you've got something to say. or if there's som...</td>\n",
       "      <td>73.0</td>\n",
       "      <td>60000.0</td>\n",
       "      <td>san francisco, california</td>\n",
       "      <td>doesn&amp;rsquo;t have kids, but wants them</td>\n",
       "      <td>straight</td>\n",
       "      <td>likes dogs and likes cats</td>\n",
       "      <td>christianity</td>\n",
       "      <td>m</td>\n",
       "      <td>aries and it&amp;rsquo;s fun to think about</td>\n",
       "      <td>no</td>\n",
       "      <td>english, spanish (okay)</td>\n",
       "      <td>single</td>\n",
       "      <td>9</td>\n",
       "      <td>6</td>\n",
       "    </tr>\n",
       "    <tr>\n",
       "      <th>9510</th>\n",
       "      <td>31.0</td>\n",
       "      <td>fit</td>\n",
       "      <td>anything</td>\n",
       "      <td>socially</td>\n",
       "      <td>sometimes</td>\n",
       "      <td>med</td>\n",
       "      <td>i work in the beauty salon as a hairstylist fo...</td>\n",
       "      <td>making your hair look beautiful.</td>\n",
       "      <td>i'm a hairstylist and love making hair look be...</td>\n",
       "      <td>i am different.</td>\n",
       "      <td>NaN</td>\n",
       "      <td>money&lt;br /&gt;\\ncell phone&lt;br /&gt;\\ncomputer&lt;br /&gt;\\...</td>\n",
       "      <td>how to be rich.</td>\n",
       "      <td>working and making your hair look beautiful an...</td>\n",
       "      <td>NaN</td>\n",
       "      <td>you like my profile and hair.</td>\n",
       "      <td>72.0</td>\n",
       "      <td>-1.0</td>\n",
       "      <td>san francisco, california</td>\n",
       "      <td>NaN</td>\n",
       "      <td>gay</td>\n",
       "      <td>NaN</td>\n",
       "      <td>atheism</td>\n",
       "      <td>m</td>\n",
       "      <td>scorpio but it doesn&amp;rsquo;t matter</td>\n",
       "      <td>sometimes</td>\n",
       "      <td>english</td>\n",
       "      <td>single</td>\n",
       "      <td>9</td>\n",
       "      <td>4</td>\n",
       "    </tr>\n",
       "    <tr>\n",
       "      <th>9511</th>\n",
       "      <td>34.0</td>\n",
       "      <td>average</td>\n",
       "      <td>anything</td>\n",
       "      <td>socially</td>\n",
       "      <td>&lt;bound method NDFrame._add_numeric_operations....</td>\n",
       "      <td>high</td>\n",
       "      <td>33 year old, hiv +,versatile gwm, bearish type...</td>\n",
       "      <td>i've just recently moved to beautiful san fran...</td>\n",
       "      <td>buying \"crap\" at random places and then sellin...</td>\n",
       "      <td>i usually go unnoticed.......</td>\n",
       "      <td>my favorite books - i don't read as much as i ...</td>\n",
       "      <td>-my record player&lt;br /&gt;\\n-my internet connecti...</td>\n",
       "      <td>nothing and everything all at once</td>\n",
       "      <td>probably working. then having drinks in the ca...</td>\n",
       "      <td>i smoke marijuana, but nothing harder.</td>\n",
       "      <td>you're interested, duh!?!?</td>\n",
       "      <td>71.0</td>\n",
       "      <td>-1.0</td>\n",
       "      <td>san francisco, california</td>\n",
       "      <td>doesn&amp;rsquo;t want kids</td>\n",
       "      <td>gay</td>\n",
       "      <td>likes dogs and has cats</td>\n",
       "      <td>atheism and laughing about it</td>\n",
       "      <td>m</td>\n",
       "      <td>leo and it&amp;rsquo;s fun to think about</td>\n",
       "      <td>when drinking</td>\n",
       "      <td>english (fluently)</td>\n",
       "      <td>single</td>\n",
       "      <td>9</td>\n",
       "      <td>4</td>\n",
       "    </tr>\n",
       "    <tr>\n",
       "      <th>9512</th>\n",
       "      <td>29.0</td>\n",
       "      <td>fit</td>\n",
       "      <td>anything</td>\n",
       "      <td>rarely</td>\n",
       "      <td>never</td>\n",
       "      <td>2-year</td>\n",
       "      <td>NaN</td>\n",
       "      <td>NaN</td>\n",
       "      <td>NaN</td>\n",
       "      <td>NaN</td>\n",
       "      <td>NaN</td>\n",
       "      <td>NaN</td>\n",
       "      <td>NaN</td>\n",
       "      <td>NaN</td>\n",
       "      <td>NaN</td>\n",
       "      <td>NaN</td>\n",
       "      <td>70.0</td>\n",
       "      <td>-1.0</td>\n",
       "      <td>san francisco, california</td>\n",
       "      <td>doesn&amp;rsquo;t have kids, and doesn&amp;rsquo;t wan...</td>\n",
       "      <td>gay</td>\n",
       "      <td>likes dogs and has cats</td>\n",
       "      <td>NaN</td>\n",
       "      <td>m</td>\n",
       "      <td>aries</td>\n",
       "      <td>no</td>\n",
       "      <td>english (fluently), french (okay), swedish (po...</td>\n",
       "      <td>single</td>\n",
       "      <td>9</td>\n",
       "      <td>3</td>\n",
       "    </tr>\n",
       "    <tr>\n",
       "      <th>9513</th>\n",
       "      <td>49.0</td>\n",
       "      <td>bad</td>\n",
       "      <td>anything</td>\n",
       "      <td>rarely</td>\n",
       "      <td>never</td>\n",
       "      <td>uni</td>\n",
       "      <td>NaN</td>\n",
       "      <td>NaN</td>\n",
       "      <td>NaN</td>\n",
       "      <td>NaN</td>\n",
       "      <td>books: biographies, history, harry potter, mys...</td>\n",
       "      <td>the internet, art supplies, family, garden, my...</td>\n",
       "      <td>NaN</td>\n",
       "      <td>NaN</td>\n",
       "      <td>NaN</td>\n",
       "      <td>NaN</td>\n",
       "      <td>64.0</td>\n",
       "      <td>-1.0</td>\n",
       "      <td>castro valley, california</td>\n",
       "      <td>NaN</td>\n",
       "      <td>straight</td>\n",
       "      <td>likes dogs and likes cats</td>\n",
       "      <td>NaN</td>\n",
       "      <td>f</td>\n",
       "      <td>pisces and it&amp;rsquo;s fun to think about</td>\n",
       "      <td>no</td>\n",
       "      <td>english</td>\n",
       "      <td>single</td>\n",
       "      <td>9</td>\n",
       "      <td>6</td>\n",
       "    </tr>\n",
       "  </tbody>\n",
       "</table>\n",
       "<p>9137 rows × 30 columns</p>\n",
       "</div>"
      ],
      "text/plain": [
       "       age body_type        diet    drinks  \\\n",
       "0     22.0     curvy    anything  socially   \n",
       "1     35.0   average       other     often   \n",
       "2     38.0   average    anything  socially   \n",
       "3     23.0   average  vegetarian  socially   \n",
       "4     29.0       fit    anything  socially   \n",
       "...    ...       ...         ...       ...   \n",
       "9509  28.0       fit    anything  socially   \n",
       "9510  31.0       fit    anything  socially   \n",
       "9511  34.0   average    anything  socially   \n",
       "9512  29.0       fit    anything    rarely   \n",
       "9513  49.0       bad    anything    rarely   \n",
       "\n",
       "                                                  drugs education  \\\n",
       "0                                                 never       uni   \n",
       "1                                             sometimes     space   \n",
       "2     <bound method NDFrame._add_numeric_operations....   masters   \n",
       "3     <bound method NDFrame._add_numeric_operations....       uni   \n",
       "4                                                 never       uni   \n",
       "...                                                 ...       ...   \n",
       "9509                                              never       med   \n",
       "9510                                          sometimes       med   \n",
       "9511  <bound method NDFrame._add_numeric_operations....      high   \n",
       "9512                                              never    2-year   \n",
       "9513                                              never       uni   \n",
       "\n",
       "                                                 essay0  \\\n",
       "0     about me:<br />\\n<br />\\ni would love to think...   \n",
       "1     i am a chef: this is what that means.<br />\\n1...   \n",
       "2     i'm not ashamed of much, but writing public te...   \n",
       "3             i work in a library and go to school. . .   \n",
       "4     hey how's it going? currently vague on the pro...   \n",
       "...                                                 ...   \n",
       "9509  just a normal guy looking for someone around m...   \n",
       "9510  i work in the beauty salon as a hairstylist fo...   \n",
       "9511  33 year old, hiv +,versatile gwm, bearish type...   \n",
       "9512                                                NaN   \n",
       "9513                                                NaN   \n",
       "\n",
       "                                                 essay1  \\\n",
       "0     currently working as an international agent fo...   \n",
       "1     dedicating everyday to being an unbelievable b...   \n",
       "2     i make nerdy software for musicians, artists, ...   \n",
       "3             reading things written by old dead people   \n",
       "4                            work work work work + play   \n",
       "...                                                 ...   \n",
       "9509  working hard and studying. things are always f...   \n",
       "9510                   making your hair look beautiful.   \n",
       "9511  i've just recently moved to beautiful san fran...   \n",
       "9512                                                NaN   \n",
       "9513                                                NaN   \n",
       "\n",
       "                                                 essay2  \\\n",
       "0     making people laugh.<br />\\nranting about a go...   \n",
       "1     being silly. having ridiculous amonts of fun w...   \n",
       "2     improvising in different contexts. alternating...   \n",
       "3     playing synthesizers and organizing books acco...   \n",
       "4     creating imagery to look at:<br />\\nhttp://bag...   \n",
       "...                                                 ...   \n",
       "9509  i'm excellent with oncology, numbers and algor...   \n",
       "9510  i'm a hairstylist and love making hair look be...   \n",
       "9511  buying \"crap\" at random places and then sellin...   \n",
       "9512                                                NaN   \n",
       "9513                                                NaN   \n",
       "\n",
       "                                                 essay3  \\\n",
       "0     the way i look. i am a six foot half asian, ha...   \n",
       "1                                                   NaN   \n",
       "2     my large jaw and large glasses are the physica...   \n",
       "3                     socially awkward but i do my best   \n",
       "4               i smile a lot and my inquisitive nature   \n",
       "...                                                 ...   \n",
       "9509  my eyes change color.<br />\\n<br />\\ni smirk a...   \n",
       "9510                                    i am different.   \n",
       "9511                      i usually go unnoticed.......   \n",
       "9512                                                NaN   \n",
       "9513                                                NaN   \n",
       "\n",
       "                                                 essay4  \\\n",
       "0     books:<br />\\nabsurdistan, the republic, of mi...   \n",
       "1     i am die hard christopher moore fan. i don't r...   \n",
       "2     okay this is where the cultural matrix gets so...   \n",
       "3     bataille, celine, beckett. . .<br />\\nlynch, j...   \n",
       "4     music: bands, rappers, musicians<br />\\nat the...   \n",
       "...                                                 ...   \n",
       "9509  foo fighters, oasis, bloc party, doves, incubu...   \n",
       "9510                                                NaN   \n",
       "9511  my favorite books - i don't read as much as i ...   \n",
       "9512                                                NaN   \n",
       "9513  books: biographies, history, harry potter, mys...   \n",
       "\n",
       "                                                 essay5  \\\n",
       "0     food.<br />\\nwater.<br />\\ncell phone.<br />\\n...   \n",
       "1     delicious porkness in all of its glories.<br /...   \n",
       "2     movement<br />\\nconversation<br />\\ncreation<b...   \n",
       "3                                                   NaN   \n",
       "4                                                   NaN   \n",
       "...                                                 ...   \n",
       "9509  my family and i all live here and i can't thin...   \n",
       "9510  money<br />\\ncell phone<br />\\ncomputer<br />\\...   \n",
       "9511  -my record player<br />\\n-my internet connecti...   \n",
       "9512                                                NaN   \n",
       "9513  the internet, art supplies, family, garden, my...   \n",
       "\n",
       "                                             essay6  \\\n",
       "0                       duality and humorous things   \n",
       "1                                               NaN   \n",
       "2                                               NaN   \n",
       "3                        cats and german philosophy   \n",
       "4                                               NaN   \n",
       "...                                             ...   \n",
       "9509  somewhere fun to go or something good to eat.   \n",
       "9510                                how to be rich.   \n",
       "9511             nothing and everything all at once   \n",
       "9512                                            NaN   \n",
       "9513                                            NaN   \n",
       "\n",
       "                                                 essay7  \\\n",
       "0     trying to find someone to hang out with. i am ...   \n",
       "1                                                   NaN   \n",
       "2     viewing. listening. dancing. talking. drinking...   \n",
       "3                                                   NaN   \n",
       "4                                                   NaN   \n",
       "...                                                 ...   \n",
       "9509                 studying, followed by shenanigans.   \n",
       "9510  working and making your hair look beautiful an...   \n",
       "9511  probably working. then having drinks in the ca...   \n",
       "9512                                                NaN   \n",
       "9513                                                NaN   \n",
       "\n",
       "                                                 essay8  \\\n",
       "0     i am new to california and looking for someone...   \n",
       "1     i am very open and will share just about anyth...   \n",
       "2     when i was five years old, i was known as \"the...   \n",
       "3                                                   NaN   \n",
       "4                                                   NaN   \n",
       "...                                                 ...   \n",
       "9509  i've actually had some success on here, met so...   \n",
       "9510                                                NaN   \n",
       "9511             i smoke marijuana, but nothing harder.   \n",
       "9512                                                NaN   \n",
       "9513                                                NaN   \n",
       "\n",
       "                                                 essay9  height   income  \\\n",
       "0     you want to be swept off your feet!<br />\\nyou...    75.0     -1.0   \n",
       "1                                                   NaN    70.0  80000.0   \n",
       "2     you are bright, open, intense, silly, ironic, ...    68.0     -1.0   \n",
       "3                                 you feel so inclined.    71.0  20000.0   \n",
       "4                                                   NaN    66.0     -1.0   \n",
       "...                                                 ...     ...      ...   \n",
       "9509  you've got something to say. or if there's som...    73.0  60000.0   \n",
       "9510                      you like my profile and hair.    72.0     -1.0   \n",
       "9511                         you're interested, duh!?!?    71.0     -1.0   \n",
       "9512                                                NaN    70.0     -1.0   \n",
       "9513                                                NaN    64.0     -1.0   \n",
       "\n",
       "                             location  \\\n",
       "0     south san francisco, california   \n",
       "1                 oakland, california   \n",
       "2           san francisco, california   \n",
       "3                berkeley, california   \n",
       "4           san francisco, california   \n",
       "...                               ...   \n",
       "9509        san francisco, california   \n",
       "9510        san francisco, california   \n",
       "9511        san francisco, california   \n",
       "9512        san francisco, california   \n",
       "9513        castro valley, california   \n",
       "\n",
       "                                              offspring orientation  \\\n",
       "0          doesn&rsquo;t have kids, but might want them    straight   \n",
       "1          doesn&rsquo;t have kids, but might want them    straight   \n",
       "2                                                   NaN    straight   \n",
       "3                               doesn&rsquo;t want kids    straight   \n",
       "4                                                   NaN    straight   \n",
       "...                                                 ...         ...   \n",
       "9509            doesn&rsquo;t have kids, but wants them    straight   \n",
       "9510                                                NaN         gay   \n",
       "9511                            doesn&rsquo;t want kids         gay   \n",
       "9512  doesn&rsquo;t have kids, and doesn&rsquo;t wan...         gay   \n",
       "9513                                                NaN    straight   \n",
       "\n",
       "                           pets                                  religion sex  \\\n",
       "0     likes dogs and likes cats     agnosticism and very serious about it   m   \n",
       "1     likes dogs and likes cats  agnosticism but not too serious about it   m   \n",
       "2                      has cats                                       NaN   m   \n",
       "3                    likes cats                                       NaN   m   \n",
       "4     likes dogs and likes cats                                       NaN   m   \n",
       "...                         ...                                       ...  ..   \n",
       "9509  likes dogs and likes cats                              christianity   m   \n",
       "9510                        NaN                                   atheism   m   \n",
       "9511    likes dogs and has cats             atheism and laughing about it   m   \n",
       "9512    likes dogs and has cats                                       NaN   m   \n",
       "9513  likes dogs and likes cats                                       NaN   f   \n",
       "\n",
       "                                          sign         smokes  \\\n",
       "0                                       gemini      sometimes   \n",
       "1                                       cancer             no   \n",
       "2           pisces but it doesn&rsquo;t matter             no   \n",
       "3                                       pisces             no   \n",
       "4                                     aquarius             no   \n",
       "...                                        ...            ...   \n",
       "9509   aries and it&rsquo;s fun to think about             no   \n",
       "9510       scorpio but it doesn&rsquo;t matter      sometimes   \n",
       "9511     leo and it&rsquo;s fun to think about  when drinking   \n",
       "9512                                     aries             no   \n",
       "9513  pisces and it&rsquo;s fun to think about             no   \n",
       "\n",
       "                                                 speaks     status  \\\n",
       "0                                               english     single   \n",
       "1     english (fluently), spanish (poorly), french (...     single   \n",
       "2                                  english, french, c++  available   \n",
       "3                              english, german (poorly)     single   \n",
       "4                                               english     single   \n",
       "...                                                 ...        ...   \n",
       "9509                            english, spanish (okay)     single   \n",
       "9510                                            english     single   \n",
       "9511                                 english (fluently)     single   \n",
       "9512  english (fluently), french (okay), swedish (po...     single   \n",
       "9513                                            english     single   \n",
       "\n",
       "      last_online_year  last_online_month  \n",
       "0                    9                  6  \n",
       "1                    9                  6  \n",
       "2                    9                  6  \n",
       "3                    9                  6  \n",
       "4                    9                  6  \n",
       "...                ...                ...  \n",
       "9509                 9                  6  \n",
       "9510                 9                  4  \n",
       "9511                 9                  4  \n",
       "9512                 9                  3  \n",
       "9513                 9                  6  \n",
       "\n",
       "[9137 rows x 30 columns]"
      ]
     },
     "execution_count": 55,
     "metadata": {},
     "output_type": "execute_result"
    }
   ],
   "source": [
    "df[\"last_online_year\"]=2021-(df['last_online'].str[:4]).astype(int)\n",
    "df[\"last_online_month\"]=(df['last_online'].str[5:7]).astype(int)\n",
    "df.drop('last_online',axis=1)"
   ]
  },
  {
   "cell_type": "code",
   "execution_count": 56,
   "id": "d436064c",
   "metadata": {},
   "outputs": [
    {
     "data": {
      "text/plain": [
       "0"
      ]
     },
     "execution_count": 56,
     "metadata": {},
     "output_type": "execute_result"
    }
   ],
   "source": [
    "df[\"last_online\"].isnull().sum()"
   ]
  },
  {
   "cell_type": "code",
   "execution_count": 57,
   "id": "1689f4cc",
   "metadata": {},
   "outputs": [
    {
     "data": {
      "image/png": "[encoded data removed]",
      "text/plain": [
       "<Figure size 640x480 with 1 Axes>"
      ]
     },
     "metadata": {},
     "output_type": "display_data"
    }
   ],
   "source": [
    "sns.countplot(x=df[\"last_online_year\"],hue=df[\"last_online_month\"]);"
   ]
  },
  {
   "cell_type": "code",
   "execution_count": 58,
   "id": "86a17259",
   "metadata": {},
   "outputs": [
    {
     "data": {
      "text/plain": [
       "san francisco, california    4753\n",
       "oakland, california          1137\n",
       "berkeley, california          734\n",
       "san mateo, california         195\n",
       "palo alto, california         161\n",
       "                             ... \n",
       "woodside, california            1\n",
       "santa cruz, california          1\n",
       "freedom, california             1\n",
       "boulder, colorado               1\n",
       "madrid, spain                   1\n",
       "Name: location, Length: 88, dtype: int64"
      ]
     },
     "execution_count": 58,
     "metadata": {},
     "output_type": "execute_result"
    }
   ],
   "source": [
    "df[\"location\"].value_counts()"
   ]
  },
  {
   "cell_type": "code",
   "execution_count": 59,
   "id": "6f26d5ea",
   "metadata": {},
   "outputs": [
    {
     "data": {
      "text/plain": [
       "0"
      ]
     },
     "execution_count": 59,
     "metadata": {},
     "output_type": "execute_result"
    }
   ],
   "source": [
    "df[\"location\"].isnull().sum()"
   ]
  },
  {
   "cell_type": "code",
   "execution_count": 60,
   "id": "42986b1b",
   "metadata": {},
   "outputs": [],
   "source": [
    "df['location']=df['location'].str.lower()\n",
    "df['location']=df['location'].str.replace('[^\\w\\s]','')\n",
    "df['location']=df['location'].str.replace('\\d+','')\n",
    "df['location']=df['location'].str.replace('\\n','').replace('\\r',\"\")"
   ]
  },
  {
   "cell_type": "code",
   "execution_count": 61,
   "id": "0b347c38",
   "metadata": {},
   "outputs": [
    {
     "data": {
      "image/png": "[encoded data removed]",
      "text/plain": [
       "<Figure size 2000x800 with 1 Axes>"
      ]
     },
     "metadata": {},
     "output_type": "display_data"
    }
   ],
   "source": [
    "plt.figure(figsize=(20,8))\n",
    "sns.countplot(x=df[\"location\"])\n",
    "plt.xticks(rotation=90);"
   ]
  },
  {
   "cell_type": "code",
   "execution_count": 62,
   "id": "78d3e34c",
   "metadata": {},
   "outputs": [
    {
     "data": {
      "text/plain": [
       "doesn&rsquo;t have kids                                1198\n",
       "doesn&rsquo;t have kids, but might want them            616\n",
       "doesn&rsquo;t have kids, but wants them                 578\n",
       "doesn&rsquo;t want kids                                 421\n",
       "has a kid                                               252\n",
       "has kids                                                202\n",
       "doesn&rsquo;t have kids, and doesn&rsquo;t want any     164\n",
       "has kids, but doesn&rsquo;t want more                    48\n",
       "has a kid, and might want more                           34\n",
       "has a kid, but doesn&rsquo;t want more                   31\n",
       "wants kids                                               29\n",
       "might want kids                                          27\n",
       "has kids, and might want more                            23\n",
       "has a kid, and wants more                                12\n",
       "has kids, and wants more                                  5\n",
       "Name: offspring, dtype: int64"
      ]
     },
     "execution_count": 62,
     "metadata": {},
     "output_type": "execute_result"
    }
   ],
   "source": [
    "df[\"offspring\"].value_counts()"
   ]
  },
  {
   "cell_type": "code",
   "execution_count": 63,
   "id": "7ade6109",
   "metadata": {},
   "outputs": [
    {
     "data": {
      "text/plain": [
       "5497"
      ]
     },
     "execution_count": 63,
     "metadata": {},
     "output_type": "execute_result"
    }
   ],
   "source": [
    "df[\"offspring\"].isnull().sum()"
   ]
  },
  {
   "cell_type": "code",
   "execution_count": 64,
   "id": "39c3e6eb",
   "metadata": {},
   "outputs": [
    {
     "data": {
      "text/plain": [
       "<Axes: >"
      ]
     },
     "execution_count": 64,
     "metadata": {},
     "output_type": "execute_result"
    },
    {
     "data": {
      "image/png": "[encoded data removed]",
      "text/plain": [
       "<Figure size 640x480 with 1 Axes>"
      ]
     },
     "metadata": {},
     "output_type": "display_data"
    }
   ],
   "source": [
    "offsprings=[]\n",
    "for i in df.offspring.fillna(\"bilinmiyor\").str.replace(\"[^\\w\\s]\",\"\"):\n",
    "    if \"doesnrsquot\" in i:\n",
    "        offsprings.append(\"0\")\n",
    "    elif \"bilinmiyor\" in i:\n",
    "        offsprings.append(\"0\")\n",
    "    else:\n",
    "        offsprings.append(\"1\")\n",
    "        \n",
    "df[\"offspring\"]=offsprings\n",
    "df[\"offspring\"]=df[\"offspring\"].astype(int)\n",
    "df[\"offspring\"].value_counts().plot.bar()"
   ]
  },
  {
   "cell_type": "code",
   "execution_count": 65,
   "id": "3339d508",
   "metadata": {},
   "outputs": [
    {
     "data": {
      "text/plain": [
       "straight    7851\n",
       "gay          864\n",
       "bisexual     422\n",
       "Name: orientation, dtype: int64"
      ]
     },
     "execution_count": 65,
     "metadata": {},
     "output_type": "execute_result"
    }
   ],
   "source": [
    "df[\"orientation\"].value_counts()"
   ]
  },
  {
   "cell_type": "code",
   "execution_count": 66,
   "id": "a53e5097",
   "metadata": {},
   "outputs": [
    {
     "data": {
      "text/plain": [
       "0"
      ]
     },
     "execution_count": 66,
     "metadata": {},
     "output_type": "execute_result"
    }
   ],
   "source": [
    "df[\"orientation\"].isnull().sum()"
   ]
  },
  {
   "cell_type": "code",
   "execution_count": 68,
   "id": "6187bf39",
   "metadata": {},
   "outputs": [
    {
     "data": {
      "image/png": "[encoded data removed]",
      "text/plain": [
       "<Figure size 1000x800 with 1 Axes>"
      ]
     },
     "metadata": {},
     "output_type": "display_data"
    }
   ],
   "source": [
    "plt.figure(figsize=(10,8))\n",
    "sns.countplot(x=df[\"orientation\"])\n",
    "plt.xticks(rotation=90);"
   ]
  },
  {
   "cell_type": "code",
   "execution_count": 69,
   "id": "f2852831",
   "metadata": {},
   "outputs": [
    {
     "data": {
      "text/plain": [
       "likes dogs and likes cats          2231\n",
       "likes dogs                         1124\n",
       "has dogs                            642\n",
       "likes dogs and has cats             637\n",
       "has dogs and likes cats             363\n",
       "likes dogs and dislikes cats        290\n",
       "has dogs and has cats               212\n",
       "has cats                            202\n",
       "likes cats                          193\n",
       "has dogs and dislikes cats           80\n",
       "dislikes dogs and dislikes cats      40\n",
       "dislikes dogs and likes cats         33\n",
       "dislikes cats                        17\n",
       "dislikes dogs and has cats           11\n",
       "dislikes dogs                         4\n",
       "Name: pets, dtype: int64"
      ]
     },
     "execution_count": 69,
     "metadata": {},
     "output_type": "execute_result"
    }
   ],
   "source": [
    "df[\"pets\"].value_counts()"
   ]
  },
  {
   "cell_type": "code",
   "execution_count": 70,
   "id": "02995d42",
   "metadata": {},
   "outputs": [
    {
     "data": {
      "text/plain": [
       "3058"
      ]
     },
     "execution_count": 70,
     "metadata": {},
     "output_type": "execute_result"
    }
   ],
   "source": [
    "df[\"pets\"].isnull().sum()"
   ]
  },
  {
   "cell_type": "code",
   "execution_count": 71,
   "id": "d8edb007",
   "metadata": {},
   "outputs": [],
   "source": [
    "df[\"pets\"]=df[\"pets\"].fillna(\"dislikes\")"
   ]
  },
  {
   "cell_type": "code",
   "execution_count": 72,
   "id": "13c51f7a",
   "metadata": {},
   "outputs": [
    {
     "data": {
      "text/plain": [
       "0"
      ]
     },
     "execution_count": 72,
     "metadata": {},
     "output_type": "execute_result"
    }
   ],
   "source": [
    "df[\"pets\"].isnull().sum()"
   ]
  },
  {
   "cell_type": "code",
   "execution_count": 73,
   "id": "a36862bb",
   "metadata": {},
   "outputs": [
    {
     "data": {
      "text/plain": [
       "agnosticism                                   431\n",
       "agnosticism but not too serious about it      391\n",
       "other                                         390\n",
       "agnosticism and laughing about it             379\n",
       "atheism                                       357\n",
       "catholicism but not too serious about it      349\n",
       "atheism and laughing about it                 322\n",
       "other and laughing about it                   310\n",
       "christianity but not too serious about it     300\n",
       "christianity                                  287\n",
       "other but not too serious about it            221\n",
       "judaism but not too serious about it          197\n",
       "atheism but not too serious about it          197\n",
       "catholicism                                   163\n",
       "atheism and somewhat serious about it         135\n",
       "christianity and somewhat serious about it    122\n",
       "catholicism and laughing about it             114\n",
       "other and somewhat serious about it           110\n",
       "judaism and laughing about it                 110\n",
       "agnosticism and somewhat serious about it     101\n",
       "atheism and very serious about it              99\n",
       "buddhism but not too serious about it          93\n",
       "judaism                                        90\n",
       "catholicism and somewhat serious about it      89\n",
       "christianity and very serious about it         89\n",
       "other and very serious about it                73\n",
       "buddhism                                       67\n",
       "christianity and laughing about it             55\n",
       "buddhism and laughing about it                 52\n",
       "buddhism and somewhat serious about it         47\n",
       "judaism and somewhat serious about it          43\n",
       "agnosticism and very serious about it          42\n",
       "hinduism but not too serious about it          40\n",
       "catholicism and very serious about it          19\n",
       "hinduism                                       17\n",
       "islam                                          12\n",
       "islam but not too serious about it             12\n",
       "hinduism and somewhat serious about it         11\n",
       "buddhism and very serious about it             10\n",
       "hinduism and laughing about it                  9\n",
       "hinduism and very serious about it              5\n",
       "islam and very serious about it                 3\n",
       "judaism and very serious about it               2\n",
       "islam and laughing about it                     1\n",
       "islam and somewhat serious about it             1\n",
       "Name: religion, dtype: int64"
      ]
     },
     "execution_count": 73,
     "metadata": {},
     "output_type": "execute_result"
    }
   ],
   "source": [
    "df[\"religion\"].value_counts()"
   ]
  },
  {
   "cell_type": "code",
   "execution_count": 74,
   "id": "fa7af85b",
   "metadata": {},
   "outputs": [
    {
     "data": {
      "text/plain": [
       "3170"
      ]
     },
     "execution_count": 74,
     "metadata": {},
     "output_type": "execute_result"
    }
   ],
   "source": [
    "df[\"religion\"].isnull().sum()"
   ]
  },
  {
   "cell_type": "code",
   "execution_count": 75,
   "id": "d4e58761",
   "metadata": {},
   "outputs": [],
   "source": [
    "df[\"religion\"]=df[\"religion\"].fillna(\"other\")"
   ]
  },
  {
   "cell_type": "code",
   "execution_count": 76,
   "id": "8d03ae66",
   "metadata": {},
   "outputs": [
    {
     "data": {
      "text/plain": [
       "0"
      ]
     },
     "execution_count": 76,
     "metadata": {},
     "output_type": "execute_result"
    }
   ],
   "source": [
    "df[\"religion\"].isnull().sum()"
   ]
  },
  {
   "cell_type": "code",
   "execution_count": 77,
   "id": "4155b919",
   "metadata": {},
   "outputs": [
    {
     "data": {
      "text/plain": [
       "m    5497\n",
       "f    3640\n",
       "Name: sex, dtype: int64"
      ]
     },
     "execution_count": 77,
     "metadata": {},
     "output_type": "execute_result"
    }
   ],
   "source": [
    "df[\"sex\"].value_counts()"
   ]
  },
  {
   "cell_type": "code",
   "execution_count": 78,
   "id": "3c9c6833",
   "metadata": {},
   "outputs": [
    {
     "data": {
      "text/plain": [
       "0"
      ]
     },
     "execution_count": 78,
     "metadata": {},
     "output_type": "execute_result"
    }
   ],
   "source": [
    "df[\"sex\"].isnull().sum()"
   ]
  },
  {
   "cell_type": "code",
   "execution_count": 80,
   "id": "ce0816e7",
   "metadata": {},
   "outputs": [
    {
     "data": {
      "image/png": "[encoded data removed]",
      "text/plain": [
       "<Figure size 800x800 with 1 Axes>"
      ]
     },
     "metadata": {},
     "output_type": "display_data"
    }
   ],
   "source": [
    "plt.figure(figsize=(8,8))\n",
    "sns.countplot(x=df[\"sex\"])\n",
    "plt.xticks(rotation=90);"
   ]
  },
  {
   "cell_type": "code",
   "execution_count": 81,
   "id": "3b79f15a",
   "metadata": {},
   "outputs": [
    {
     "data": {
      "text/plain": [
       "leo and it&rsquo;s fun to think about            267\n",
       "taurus and it&rsquo;s fun to think about         264\n",
       "gemini and it&rsquo;s fun to think about         260\n",
       "scorpio and it&rsquo;s fun to think about        251\n",
       "cancer and it&rsquo;s fun to think about         251\n",
       "libra and it&rsquo;s fun to think about          247\n",
       "virgo and it&rsquo;s fun to think about          246\n",
       "aries and it&rsquo;s fun to think about          241\n",
       "pisces and it&rsquo;s fun to think about         237\n",
       "aries but it doesn&rsquo;t matter                236\n",
       "sagittarius and it&rsquo;s fun to think about    234\n",
       "virgo but it doesn&rsquo;t matter                231\n",
       "aquarius but it doesn&rsquo;t matter             231\n",
       "leo but it doesn&rsquo;t matter                  230\n",
       "gemini but it doesn&rsquo;t matter               227\n",
       "aquarius and it&rsquo;s fun to think about       224\n",
       "cancer but it doesn&rsquo;t matter               221\n",
       "libra but it doesn&rsquo;t matter                209\n",
       "sagittarius but it doesn&rsquo;t matter          209\n",
       "taurus but it doesn&rsquo;t matter               208\n",
       "capricorn and it&rsquo;s fun to think about      203\n",
       "scorpio but it doesn&rsquo;t matter              193\n",
       "pisces but it doesn&rsquo;t matter               190\n",
       "capricorn but it doesn&rsquo;t matter            178\n",
       "leo                                              175\n",
       "aries                                            171\n",
       "cancer                                           169\n",
       "aquarius                                         168\n",
       "pisces                                           165\n",
       "libra                                            164\n",
       "virgo                                            164\n",
       "taurus                                           158\n",
       "gemini                                           157\n",
       "scorpio                                          154\n",
       "sagittarius                                      130\n",
       "capricorn                                        120\n",
       "scorpio and it matters a lot                      15\n",
       "pisces and it matters a lot                       13\n",
       "aquarius and it matters a lot                     13\n",
       "leo and it matters a lot                          10\n",
       "capricorn and it matters a lot                    10\n",
       "cancer and it matters a lot                        9\n",
       "sagittarius and it matters a lot                   8\n",
       "gemini and it matters a lot                        8\n",
       "libra and it matters a lot                         7\n",
       "aries and it matters a lot                         6\n",
       "taurus and it matters a lot                        3\n",
       "virgo and it matters a lot                         1\n",
       "Name: sign, dtype: int64"
      ]
     },
     "execution_count": 81,
     "metadata": {},
     "output_type": "execute_result"
    }
   ],
   "source": [
    "df[\"sign\"].value_counts()"
   ]
  },
  {
   "cell_type": "code",
   "execution_count": 82,
   "id": "67091838",
   "metadata": {},
   "outputs": [
    {
     "data": {
      "text/plain": [
       "1651"
      ]
     },
     "execution_count": 82,
     "metadata": {},
     "output_type": "execute_result"
    }
   ],
   "source": [
    "df[\"sign\"].isnull().sum()"
   ]
  },
  {
   "cell_type": "code",
   "execution_count": 83,
   "id": "afdec2df",
   "metadata": {},
   "outputs": [],
   "source": [
    "del df[\"sign\"]"
   ]
  },
  {
   "cell_type": "code",
   "execution_count": 84,
   "id": "34d9ea1b",
   "metadata": {},
   "outputs": [
    {
     "data": {
      "text/plain": [
       "no                6672\n",
       "sometimes          551\n",
       "when drinking      479\n",
       "yes                305\n",
       "trying to quit     229\n",
       "Name: smokes, dtype: int64"
      ]
     },
     "execution_count": 84,
     "metadata": {},
     "output_type": "execute_result"
    }
   ],
   "source": [
    "df[\"smokes\"].value_counts()"
   ]
  },
  {
   "cell_type": "code",
   "execution_count": 85,
   "id": "c588eb66",
   "metadata": {},
   "outputs": [
    {
     "data": {
      "text/plain": [
       "901"
      ]
     },
     "execution_count": 85,
     "metadata": {},
     "output_type": "execute_result"
    }
   ],
   "source": [
    "df[\"smokes\"].isnull().sum()"
   ]
  },
  {
   "cell_type": "code",
   "execution_count": 86,
   "id": "d772e13a",
   "metadata": {},
   "outputs": [],
   "source": [
    "df[\"smokes\"]=df[\"smokes\"].fillna(\"sometimes\")"
   ]
  },
  {
   "cell_type": "code",
   "execution_count": 87,
   "id": "438a0cb7",
   "metadata": {},
   "outputs": [
    {
     "data": {
      "text/plain": [
       "0"
      ]
     },
     "execution_count": 87,
     "metadata": {},
     "output_type": "execute_result"
    }
   ],
   "source": [
    "df[\"smokes\"].isnull().sum()"
   ]
  },
  {
   "cell_type": "code",
   "execution_count": 88,
   "id": "379d1270",
   "metadata": {},
   "outputs": [
    {
     "data": {
      "text/plain": [
       "english                                                                                3262\n",
       "english (fluently)                                                                     1042\n",
       "english (fluently), spanish (okay)                                                      316\n",
       "english (fluently), spanish (poorly)                                                    313\n",
       "english (fluently), spanish (fluently)                                                  192\n",
       "                                                                                       ... \n",
       "english (fluently), spanish (fluently), portuguese                                        1\n",
       "english (fluently), arabic (fluently), spanish (okay), urdu (okay), gujarati (okay)       1\n",
       "english (fluently), spanish (fluently), other (poorly)                                    1\n",
       "english (fluently), hindi (fluently), german (poorly)                                     1\n",
       "english (fluently), french (okay), swedish (poorly)                                       1\n",
       "Name: speaks, Length: 1751, dtype: int64"
      ]
     },
     "execution_count": 88,
     "metadata": {},
     "output_type": "execute_result"
    }
   ],
   "source": [
    "df[\"speaks\"].value_counts()"
   ]
  },
  {
   "cell_type": "code",
   "execution_count": 89,
   "id": "b9d035bc",
   "metadata": {},
   "outputs": [
    {
     "data": {
      "text/plain": [
       "6"
      ]
     },
     "execution_count": 89,
     "metadata": {},
     "output_type": "execute_result"
    }
   ],
   "source": [
    "df[\"speaks\"].isnull().sum()"
   ]
  },
  {
   "cell_type": "code",
   "execution_count": 90,
   "id": "2b1a4314",
   "metadata": {},
   "outputs": [],
   "source": [
    "df['speaks']=df['speaks'].str.split(' ').str[0]\n",
    "df['speaks']=df['speaks'].str.split(',').str[0]"
   ]
  },
  {
   "cell_type": "code",
   "execution_count": 91,
   "id": "66276d0e",
   "metadata": {},
   "outputs": [],
   "source": [
    "df[\"speaks\"]=df[\"speaks\"].fillna(\"english\")"
   ]
  },
  {
   "cell_type": "code",
   "execution_count": 92,
   "id": "4feb241b",
   "metadata": {},
   "outputs": [
    {
     "data": {
      "text/plain": [
       "0"
      ]
     },
     "execution_count": 92,
     "metadata": {},
     "output_type": "execute_result"
    }
   ],
   "source": [
    "df[\"speaks\"].isnull().sum()"
   ]
  },
  {
   "cell_type": "code",
   "execution_count": 93,
   "id": "6a979301",
   "metadata": {},
   "outputs": [
    {
     "data": {
      "text/plain": [
       "single            8544\n",
       "seeing someone     288\n",
       "available          263\n",
       "married             42\n",
       "Name: status, dtype: int64"
      ]
     },
     "execution_count": 93,
     "metadata": {},
     "output_type": "execute_result"
    }
   ],
   "source": [
    "df[\"status\"].value_counts()"
   ]
  },
  {
   "cell_type": "code",
   "execution_count": 94,
   "id": "85d09c56",
   "metadata": {},
   "outputs": [
    {
     "data": {
      "text/plain": [
       "0"
      ]
     },
     "execution_count": 94,
     "metadata": {},
     "output_type": "execute_result"
    }
   ],
   "source": [
    "df[\"status\"].isnull().sum()"
   ]
  },
  {
   "cell_type": "code",
   "execution_count": 95,
   "id": "89b0ddb8",
   "metadata": {},
   "outputs": [],
   "source": [
    "df=df.drop(columns=['essay0','essay1','essay2','essay3','essay4','essay5',\n",
    "                    'essay6','essay7','essay8','essay9'],axis=1)"
   ]
  },
  {
   "cell_type": "code",
   "execution_count": 96,
   "id": "a3e6b18b",
   "metadata": {},
   "outputs": [
    {
     "data": {
      "text/html": [
       "<div>\n",
       "<style scoped>\n",
       "    .dataframe tbody tr th:only-of-type {\n",
       "        vertical-align: middle;\n",
       "    }\n",
       "\n",
       "    .dataframe tbody tr th {\n",
       "        vertical-align: top;\n",
       "    }\n",
       "\n",
       "    .dataframe thead th {\n",
       "        text-align: right;\n",
       "    }\n",
       "</style>\n",
       "<table border=\"1\" class=\"dataframe\">\n",
       "  <thead>\n",
       "    <tr style=\"text-align: right;\">\n",
       "      <th></th>\n",
       "      <th>age</th>\n",
       "      <th>body_type</th>\n",
       "      <th>diet</th>\n",
       "      <th>drinks</th>\n",
       "      <th>drugs</th>\n",
       "      <th>education</th>\n",
       "      <th>height</th>\n",
       "      <th>income</th>\n",
       "      <th>last_online</th>\n",
       "      <th>location</th>\n",
       "      <th>offspring</th>\n",
       "      <th>orientation</th>\n",
       "      <th>pets</th>\n",
       "      <th>religion</th>\n",
       "      <th>sex</th>\n",
       "      <th>smokes</th>\n",
       "      <th>speaks</th>\n",
       "      <th>status</th>\n",
       "      <th>last_online_year</th>\n",
       "      <th>last_online_month</th>\n",
       "    </tr>\n",
       "  </thead>\n",
       "  <tbody>\n",
       "    <tr>\n",
       "      <th>0</th>\n",
       "      <td>22.0</td>\n",
       "      <td>curvy</td>\n",
       "      <td>anything</td>\n",
       "      <td>socially</td>\n",
       "      <td>never</td>\n",
       "      <td>uni</td>\n",
       "      <td>75.0</td>\n",
       "      <td>-1.0</td>\n",
       "      <td>2012-06-28-20-30</td>\n",
       "      <td>south san francisco california</td>\n",
       "      <td>0</td>\n",
       "      <td>straight</td>\n",
       "      <td>likes dogs and likes cats</td>\n",
       "      <td>agnosticism and very serious about it</td>\n",
       "      <td>m</td>\n",
       "      <td>sometimes</td>\n",
       "      <td>english</td>\n",
       "      <td>single</td>\n",
       "      <td>9</td>\n",
       "      <td>6</td>\n",
       "    </tr>\n",
       "    <tr>\n",
       "      <th>1</th>\n",
       "      <td>35.0</td>\n",
       "      <td>average</td>\n",
       "      <td>other</td>\n",
       "      <td>often</td>\n",
       "      <td>sometimes</td>\n",
       "      <td>space</td>\n",
       "      <td>70.0</td>\n",
       "      <td>80000.0</td>\n",
       "      <td>2012-06-29-21-41</td>\n",
       "      <td>oakland california</td>\n",
       "      <td>0</td>\n",
       "      <td>straight</td>\n",
       "      <td>likes dogs and likes cats</td>\n",
       "      <td>agnosticism but not too serious about it</td>\n",
       "      <td>m</td>\n",
       "      <td>no</td>\n",
       "      <td>english</td>\n",
       "      <td>single</td>\n",
       "      <td>9</td>\n",
       "      <td>6</td>\n",
       "    </tr>\n",
       "    <tr>\n",
       "      <th>2</th>\n",
       "      <td>38.0</td>\n",
       "      <td>average</td>\n",
       "      <td>anything</td>\n",
       "      <td>socially</td>\n",
       "      <td>&lt;bound method NDFrame._add_numeric_operations....</td>\n",
       "      <td>masters</td>\n",
       "      <td>68.0</td>\n",
       "      <td>-1.0</td>\n",
       "      <td>2012-06-27-09-10</td>\n",
       "      <td>san francisco california</td>\n",
       "      <td>0</td>\n",
       "      <td>straight</td>\n",
       "      <td>has cats</td>\n",
       "      <td>other</td>\n",
       "      <td>m</td>\n",
       "      <td>no</td>\n",
       "      <td>english</td>\n",
       "      <td>available</td>\n",
       "      <td>9</td>\n",
       "      <td>6</td>\n",
       "    </tr>\n",
       "    <tr>\n",
       "      <th>3</th>\n",
       "      <td>23.0</td>\n",
       "      <td>average</td>\n",
       "      <td>vegetarian</td>\n",
       "      <td>socially</td>\n",
       "      <td>&lt;bound method NDFrame._add_numeric_operations....</td>\n",
       "      <td>uni</td>\n",
       "      <td>71.0</td>\n",
       "      <td>20000.0</td>\n",
       "      <td>2012-06-28-14-22</td>\n",
       "      <td>berkeley california</td>\n",
       "      <td>0</td>\n",
       "      <td>straight</td>\n",
       "      <td>likes cats</td>\n",
       "      <td>other</td>\n",
       "      <td>m</td>\n",
       "      <td>no</td>\n",
       "      <td>english</td>\n",
       "      <td>single</td>\n",
       "      <td>9</td>\n",
       "      <td>6</td>\n",
       "    </tr>\n",
       "    <tr>\n",
       "      <th>4</th>\n",
       "      <td>29.0</td>\n",
       "      <td>fit</td>\n",
       "      <td>anything</td>\n",
       "      <td>socially</td>\n",
       "      <td>never</td>\n",
       "      <td>uni</td>\n",
       "      <td>66.0</td>\n",
       "      <td>-1.0</td>\n",
       "      <td>2012-06-27-21-26</td>\n",
       "      <td>san francisco california</td>\n",
       "      <td>0</td>\n",
       "      <td>straight</td>\n",
       "      <td>likes dogs and likes cats</td>\n",
       "      <td>other</td>\n",
       "      <td>m</td>\n",
       "      <td>no</td>\n",
       "      <td>english</td>\n",
       "      <td>single</td>\n",
       "      <td>9</td>\n",
       "      <td>6</td>\n",
       "    </tr>\n",
       "  </tbody>\n",
       "</table>\n",
       "</div>"
      ],
      "text/plain": [
       "    age body_type        diet    drinks  \\\n",
       "0  22.0     curvy    anything  socially   \n",
       "1  35.0   average       other     often   \n",
       "2  38.0   average    anything  socially   \n",
       "3  23.0   average  vegetarian  socially   \n",
       "4  29.0       fit    anything  socially   \n",
       "\n",
       "                                               drugs education  height  \\\n",
       "0                                              never       uni    75.0   \n",
       "1                                          sometimes     space    70.0   \n",
       "2  <bound method NDFrame._add_numeric_operations....   masters    68.0   \n",
       "3  <bound method NDFrame._add_numeric_operations....       uni    71.0   \n",
       "4                                              never       uni    66.0   \n",
       "\n",
       "    income       last_online                        location  offspring  \\\n",
       "0     -1.0  2012-06-28-20-30  south san francisco california          0   \n",
       "1  80000.0  2012-06-29-21-41              oakland california          0   \n",
       "2     -1.0  2012-06-27-09-10        san francisco california          0   \n",
       "3  20000.0  2012-06-28-14-22             berkeley california          0   \n",
       "4     -1.0  2012-06-27-21-26        san francisco california          0   \n",
       "\n",
       "  orientation                       pets  \\\n",
       "0    straight  likes dogs and likes cats   \n",
       "1    straight  likes dogs and likes cats   \n",
       "2    straight                   has cats   \n",
       "3    straight                 likes cats   \n",
       "4    straight  likes dogs and likes cats   \n",
       "\n",
       "                                   religion sex     smokes   speaks  \\\n",
       "0     agnosticism and very serious about it   m  sometimes  english   \n",
       "1  agnosticism but not too serious about it   m         no  english   \n",
       "2                                     other   m         no  english   \n",
       "3                                     other   m         no  english   \n",
       "4                                     other   m         no  english   \n",
       "\n",
       "      status  last_online_year  last_online_month  \n",
       "0     single                 9                  6  \n",
       "1     single                 9                  6  \n",
       "2  available                 9                  6  \n",
       "3     single                 9                  6  \n",
       "4     single                 9                  6  "
      ]
     },
     "execution_count": 96,
     "metadata": {},
     "output_type": "execute_result"
    }
   ],
   "source": [
    "df.head()"
   ]
  },
  {
   "cell_type": "code",
   "execution_count": 97,
   "id": "88b7d4b9",
   "metadata": {},
   "outputs": [
    {
     "data": {
      "text/plain": [
       "age                  0\n",
       "body_type            0\n",
       "diet                 0\n",
       "drinks               0\n",
       "drugs                0\n",
       "education            0\n",
       "height               0\n",
       "income               0\n",
       "last_online          0\n",
       "location             0\n",
       "offspring            0\n",
       "orientation          0\n",
       "pets                 0\n",
       "religion             0\n",
       "sex                  0\n",
       "smokes               0\n",
       "speaks               0\n",
       "status               0\n",
       "last_online_year     0\n",
       "last_online_month    0\n",
       "dtype: int64"
      ]
     },
     "execution_count": 97,
     "metadata": {},
     "output_type": "execute_result"
    }
   ],
   "source": [
    "df.isnull().sum()"
   ]
  },
  {
   "cell_type": "code",
   "execution_count": 98,
   "id": "a3c23579",
   "metadata": {},
   "outputs": [],
   "source": [
    "gen=[]\n",
    "for i in df[\"age\"].values:\n",
    "    if (i>=18) and (i<=32):\n",
    "        gen.append(\"Millennial\")\n",
    "    elif (i>=33) and (i<=47):\n",
    "        gen.append(\"Gen X-er\")\n",
    "    elif (48>=33) and (i<=70):\n",
    "        gen.append(\"Boomers\")\n",
    "    else:\n",
    "        gen.append(\"Unkown\")\n",
    "\n",
    "df[\"gen\"]=gen"
   ]
  },
  {
   "cell_type": "markdown",
   "id": "f5349449",
   "metadata": {},
   "source": [
    "# Regression"
   ]
  },
  {
   "cell_type": "code",
   "execution_count": 99,
   "id": "bbacd583",
   "metadata": {},
   "outputs": [
    {
     "data": {
      "text/plain": [
       "(9137, 6721)"
      ]
     },
     "execution_count": 99,
     "metadata": {},
     "output_type": "execute_result"
    }
   ],
   "source": [
    "df_dummies = pd.get_dummies(df, drop_first=True)\n",
    "df_dummies.shape"
   ]
  },
  {
   "cell_type": "code",
   "execution_count": 100,
   "id": "5720cbc8",
   "metadata": {},
   "outputs": [],
   "source": [
    "x = df_dummies.drop(\"age\",axis=1)\n",
    "y = df[\"age\"]"
   ]
  },
  {
   "cell_type": "code",
   "execution_count": 101,
   "id": "a6d0c9ce",
   "metadata": {},
   "outputs": [],
   "source": [
    "def regression(x,y):\n",
    "    from sklearn.linear_model import LinearRegression\n",
    "    from sklearn.linear_model import Ridge,Lasso\n",
    "    from sklearn.linear_model import ElasticNet\n",
    "    from sklearn.tree import ExtraTreeRegressor\n",
    "    from sklearn.ensemble import GradientBoostingRegressor\n",
    "    from sklearn.neighbors import KNeighborsRegressor\n",
    "    \n",
    "    from sklearn.model_selection import train_test_split\n",
    "\n",
    "    from sklearn.metrics import mean_squared_error,r2_score,mean_absolute_error\n",
    "    \n",
    "    \n",
    "    x_train,x_test,y_train,y_test=train_test_split(x,y,test_size=0.2,random_state=42)\n",
    "\n",
    "    L=LinearRegression()\n",
    "    R=Ridge()\n",
    "    Lass=Lasso()\n",
    "    E=ElasticNet()\n",
    "    ExTree=ExtraTreeRegressor()\n",
    "    GBR=GradientBoostingRegressor()\n",
    "    KN=KNeighborsRegressor()\n",
    "    \n",
    "    algos=[L,R,Lass,E,ExTree,GBR,KN]\n",
    "    algo_names=['LinearRegression','Ridge','Lasso','ElasticNet','ExtraTreeRegressor','GradientBoostingRegressor','KNeighborsRegressor']\n",
    "    r_squared=[]\n",
    "    rmse=[]\n",
    "    mae=[]\n",
    "    \n",
    "    result=pd.DataFrame(columns=['R_Squared','RMSE','MAE'],index=algo_names)\n",
    "    \n",
    "    for item in algos:\n",
    "        item.fit(x_train,y_train)\n",
    "        item.predict(x_test)\n",
    "        r_squared.append(r2_score(y_test,item.predict(x_test)))\n",
    "        rmse.append((mean_squared_error(y_test,item.predict(x_test)))**.5)\n",
    "        mae.append(mean_absolute_error(y_test,item.predict(x_test)))\n",
    "        \n",
    "    result.R_Squared=r_squared\n",
    "    result.RMSE=rmse\n",
    "    result.MAE=mae\n",
    "        \n",
    "    return result.sort_values('R_Squared',ascending=False)"
   ]
  },
  {
   "cell_type": "code",
   "execution_count": 102,
   "id": "a6df6306",
   "metadata": {},
   "outputs": [
    {
     "data": {
      "text/html": [
       "<div>\n",
       "<style scoped>\n",
       "    .dataframe tbody tr th:only-of-type {\n",
       "        vertical-align: middle;\n",
       "    }\n",
       "\n",
       "    .dataframe tbody tr th {\n",
       "        vertical-align: top;\n",
       "    }\n",
       "\n",
       "    .dataframe thead th {\n",
       "        text-align: right;\n",
       "    }\n",
       "</style>\n",
       "<table border=\"1\" class=\"dataframe\">\n",
       "  <thead>\n",
       "    <tr style=\"text-align: right;\">\n",
       "      <th></th>\n",
       "      <th>R_Squared</th>\n",
       "      <th>RMSE</th>\n",
       "      <th>MAE</th>\n",
       "    </tr>\n",
       "  </thead>\n",
       "  <tbody>\n",
       "    <tr>\n",
       "      <th>GradientBoostingRegressor</th>\n",
       "      <td>7.910210e-01</td>\n",
       "      <td>3.503285e+00</td>\n",
       "      <td>2.886662</td>\n",
       "    </tr>\n",
       "    <tr>\n",
       "      <th>Ridge</th>\n",
       "      <td>7.676198e-01</td>\n",
       "      <td>3.694228e+00</td>\n",
       "      <td>3.033056</td>\n",
       "    </tr>\n",
       "    <tr>\n",
       "      <th>ExtraTreeRegressor</th>\n",
       "      <td>6.316910e-01</td>\n",
       "      <td>4.650828e+00</td>\n",
       "      <td>3.669584</td>\n",
       "    </tr>\n",
       "    <tr>\n",
       "      <th>Lasso</th>\n",
       "      <td>6.075786e-01</td>\n",
       "      <td>4.800654e+00</td>\n",
       "      <td>3.658499</td>\n",
       "    </tr>\n",
       "    <tr>\n",
       "      <th>KNeighborsRegressor</th>\n",
       "      <td>4.665060e-01</td>\n",
       "      <td>5.597432e+00</td>\n",
       "      <td>4.063020</td>\n",
       "    </tr>\n",
       "    <tr>\n",
       "      <th>ElasticNet</th>\n",
       "      <td>3.523597e-01</td>\n",
       "      <td>6.167242e+00</td>\n",
       "      <td>4.562257</td>\n",
       "    </tr>\n",
       "    <tr>\n",
       "      <th>LinearRegression</th>\n",
       "      <td>-4.080949e+10</td>\n",
       "      <td>1.548120e+06</td>\n",
       "      <td>171204.783195</td>\n",
       "    </tr>\n",
       "  </tbody>\n",
       "</table>\n",
       "</div>"
      ],
      "text/plain": [
       "                              R_Squared          RMSE            MAE\n",
       "GradientBoostingRegressor  7.910210e-01  3.503285e+00       2.886662\n",
       "Ridge                      7.676198e-01  3.694228e+00       3.033056\n",
       "ExtraTreeRegressor         6.316910e-01  4.650828e+00       3.669584\n",
       "Lasso                      6.075786e-01  4.800654e+00       3.658499\n",
       "KNeighborsRegressor        4.665060e-01  5.597432e+00       4.063020\n",
       "ElasticNet                 3.523597e-01  6.167242e+00       4.562257\n",
       "LinearRegression          -4.080949e+10  1.548120e+06  171204.783195"
      ]
     },
     "execution_count": 102,
     "metadata": {},
     "output_type": "execute_result"
    }
   ],
   "source": [
    "regression(x,y)"
   ]
  },
  {
   "cell_type": "markdown",
   "id": "77315885",
   "metadata": {},
   "source": [
    "# classification"
   ]
  },
  {
   "cell_type": "code",
   "execution_count": 103,
   "id": "3235b4c1",
   "metadata": {},
   "outputs": [],
   "source": [
    "df_gen=df.drop([\"gen\",\"age\"],axis=1)\n",
    "x = pd.get_dummies(df_gen,drop_first=True)\n",
    "y = df[[\"gen\"]]"
   ]
  },
  {
   "cell_type": "code",
   "execution_count": 104,
   "id": "46c8dd71",
   "metadata": {},
   "outputs": [],
   "source": [
    "def classification(x,y):\n",
    "    from sklearn.naive_bayes import GaussianNB\n",
    "    from sklearn.naive_bayes import BernoulliNB\n",
    "    from sklearn.svm import SVC\n",
    "    from sklearn.neighbors import KNeighborsClassifier\n",
    "    from sklearn.tree import DecisionTreeClassifier\n",
    "    from sklearn.ensemble import RandomForestClassifier\n",
    "    from sklearn.linear_model import LogisticRegression\n",
    "    \n",
    "    from sklearn.metrics import accuracy_score,precision_score,recall_score,f1_score\n",
    "    from sklearn.metrics import confusion_matrix,classification_report\n",
    "    from sklearn.model_selection import train_test_split\n",
    "       \n",
    "    x_train,x_test,y_train,y_test=train_test_split(x,y,test_size=0.2,random_state=42)\n",
    "\n",
    "    g=GaussianNB()\n",
    "    b=BernoulliNB()\n",
    "    KN=KNeighborsClassifier()\n",
    "    SVC=SVC() \n",
    "    D=DecisionTreeClassifier()\n",
    "    R=RandomForestClassifier()\n",
    "    Log=LogisticRegression()\n",
    "    \n",
    "    algos=[g,b,KN,SVC,D,R,Log]\n",
    "    algo_names=['GaussianNB','BernoulliNB','KNeighborsClassifier','SVC','DecisionTreeClassifier','RandomForestClassifier','LogisticRegression']\n",
    "   \n",
    "    accuracy_scored=[]\n",
    "\n",
    "    \n",
    "    for item in algos:\n",
    "        item.fit(x_train,y_train)\n",
    "        item.predict(x_test)\n",
    "        \n",
    "        accuracy_scored.append(accuracy_score(y_test,item.predict(x_test)))\n",
    "       \n",
    "    result=pd.DataFrame(columns=['accuracy_score'],index=algo_names)\n",
    "    result['accuracy_score']=accuracy_scored\n",
    "    return result.sort_values('accuracy_score',ascending=False)"
   ]
  },
  {
   "cell_type": "code",
   "execution_count": 105,
   "id": "f0a36c21",
   "metadata": {},
   "outputs": [
    {
     "data": {
      "text/html": [
       "<div>\n",
       "<style scoped>\n",
       "    .dataframe tbody tr th:only-of-type {\n",
       "        vertical-align: middle;\n",
       "    }\n",
       "\n",
       "    .dataframe tbody tr th {\n",
       "        vertical-align: top;\n",
       "    }\n",
       "\n",
       "    .dataframe thead th {\n",
       "        text-align: right;\n",
       "    }\n",
       "</style>\n",
       "<table border=\"1\" class=\"dataframe\">\n",
       "  <thead>\n",
       "    <tr style=\"text-align: right;\">\n",
       "      <th></th>\n",
       "      <th>accuracy_score</th>\n",
       "    </tr>\n",
       "  </thead>\n",
       "  <tbody>\n",
       "    <tr>\n",
       "      <th>RandomForestClassifier</th>\n",
       "      <td>0.677243</td>\n",
       "    </tr>\n",
       "    <tr>\n",
       "      <th>BernoulliNB</th>\n",
       "      <td>0.666849</td>\n",
       "    </tr>\n",
       "    <tr>\n",
       "      <th>SVC</th>\n",
       "      <td>0.657549</td>\n",
       "    </tr>\n",
       "    <tr>\n",
       "      <th>GaussianNB</th>\n",
       "      <td>0.655361</td>\n",
       "    </tr>\n",
       "    <tr>\n",
       "      <th>LogisticRegression</th>\n",
       "      <td>0.655361</td>\n",
       "    </tr>\n",
       "    <tr>\n",
       "      <th>DecisionTreeClassifier</th>\n",
       "      <td>0.644420</td>\n",
       "    </tr>\n",
       "    <tr>\n",
       "      <th>KNeighborsClassifier</th>\n",
       "      <td>0.628009</td>\n",
       "    </tr>\n",
       "  </tbody>\n",
       "</table>\n",
       "</div>"
      ],
      "text/plain": [
       "                        accuracy_score\n",
       "RandomForestClassifier        0.677243\n",
       "BernoulliNB                   0.666849\n",
       "SVC                           0.657549\n",
       "GaussianNB                    0.655361\n",
       "LogisticRegression            0.655361\n",
       "DecisionTreeClassifier        0.644420\n",
       "KNeighborsClassifier          0.628009"
      ]
     },
     "execution_count": 105,
     "metadata": {},
     "output_type": "execute_result"
    }
   ],
   "source": [
    "classification(x,y)"
   ]
  },
  {
   "cell_type": "code",
   "execution_count": null,
   "id": "5aa9bf3d",
   "metadata": {},
   "outputs": [],
   "source": []
  }
 ],
 "metadata": {
  "kernelspec": {
   "display_name": "Python 3 (ipykernel)",
   "language": "python",
   "name": "python3"
  },
  "language_info": {
   "codemirror_mode": {
    "name": "ipython",
    "version": 3
   },
   "file_extension": ".py",
   "mimetype": "text/x-python",
   "name": "python",
   "nbconvert_exporter": "python",
   "pygments_lexer": "ipython3",
   "version": "3.10.9"
  }
 },
 "nbformat": 4,
 "nbformat_minor": 5
}
