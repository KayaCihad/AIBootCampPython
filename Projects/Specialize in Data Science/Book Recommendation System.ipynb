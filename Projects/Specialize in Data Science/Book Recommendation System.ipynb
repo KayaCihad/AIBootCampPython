{
 "cells": [
  {
   "cell_type": "code",
   "execution_count": 5,
   "id": "591bf8fd",
   "metadata": {},
   "outputs": [],
   "source": [
    "import numpy as np\n",
    "import pandas as pd\n",
    "from sklearn.feature_extraction import text\n",
    "from sklearn.metrics.pairwise import linear_kernel,sigmoid_kernel\n",
    "import plotly.express as px\n",
    "import plotly.graph_objects as go\n",
    "from sklearn.feature_extraction.text import TfidfVectorizer"
   ]
  },
  {
   "cell_type": "code",
   "execution_count": 3,
   "id": "78b4ed05",
   "metadata": {},
   "outputs": [],
   "source": [
    "df=pd.read_csv(\"book_data.csv\")"
   ]
  },
  {
   "cell_type": "code",
   "execution_count": 4,
   "id": "a851b9d5",
   "metadata": {},
   "outputs": [
    {
     "data": {
      "text/html": [
       "<div>\n",
       "<style scoped>\n",
       "    .dataframe tbody tr th:only-of-type {\n",
       "        vertical-align: middle;\n",
       "    }\n",
       "\n",
       "    .dataframe tbody tr th {\n",
       "        vertical-align: top;\n",
       "    }\n",
       "\n",
       "    .dataframe thead th {\n",
       "        text-align: right;\n",
       "    }\n",
       "</style>\n",
       "<table border=\"1\" class=\"dataframe\">\n",
       "  <thead>\n",
       "    <tr style=\"text-align: right;\">\n",
       "      <th></th>\n",
       "      <th>book_authors</th>\n",
       "      <th>book_desc</th>\n",
       "      <th>book_edition</th>\n",
       "      <th>book_format</th>\n",
       "      <th>book_isbn</th>\n",
       "      <th>book_pages</th>\n",
       "      <th>book_rating</th>\n",
       "      <th>book_rating_count</th>\n",
       "      <th>book_review_count</th>\n",
       "      <th>book_title</th>\n",
       "      <th>genres</th>\n",
       "      <th>image_url</th>\n",
       "    </tr>\n",
       "  </thead>\n",
       "  <tbody>\n",
       "    <tr>\n",
       "      <th>0</th>\n",
       "      <td>Suzanne Collins</td>\n",
       "      <td>Winning will make you famous. Losing means cer...</td>\n",
       "      <td>NaN</td>\n",
       "      <td>Hardcover</td>\n",
       "      <td>9.78044E+12</td>\n",
       "      <td>374 pages</td>\n",
       "      <td>4.33</td>\n",
       "      <td>5519135</td>\n",
       "      <td>160706</td>\n",
       "      <td>The Hunger Games</td>\n",
       "      <td>Young Adult|Fiction|Science Fiction|Dystopia|F...</td>\n",
       "      <td>https://images.gr-assets.com/books/1447303603l...</td>\n",
       "    </tr>\n",
       "    <tr>\n",
       "      <th>1</th>\n",
       "      <td>J.K. Rowling|Mary GrandPré</td>\n",
       "      <td>There is a door at the end of a silent corrido...</td>\n",
       "      <td>US Edition</td>\n",
       "      <td>Paperback</td>\n",
       "      <td>9.78044E+12</td>\n",
       "      <td>870 pages</td>\n",
       "      <td>4.48</td>\n",
       "      <td>2041594</td>\n",
       "      <td>33264</td>\n",
       "      <td>Harry Potter and the Order of the Phoenix</td>\n",
       "      <td>Fantasy|Young Adult|Fiction</td>\n",
       "      <td>https://images.gr-assets.com/books/1255614970l...</td>\n",
       "    </tr>\n",
       "    <tr>\n",
       "      <th>2</th>\n",
       "      <td>Harper Lee</td>\n",
       "      <td>The unforgettable novel of a childhood in a sl...</td>\n",
       "      <td>50th Anniversary</td>\n",
       "      <td>Paperback</td>\n",
       "      <td>9.78006E+12</td>\n",
       "      <td>324 pages</td>\n",
       "      <td>4.27</td>\n",
       "      <td>3745197</td>\n",
       "      <td>79450</td>\n",
       "      <td>To Kill a Mockingbird</td>\n",
       "      <td>Classics|Fiction|Historical|Historical Fiction...</td>\n",
       "      <td>https://images.gr-assets.com/books/1361975680l...</td>\n",
       "    </tr>\n",
       "  </tbody>\n",
       "</table>\n",
       "</div>"
      ],
      "text/plain": [
       "                 book_authors  \\\n",
       "0             Suzanne Collins   \n",
       "1  J.K. Rowling|Mary GrandPré   \n",
       "2                  Harper Lee   \n",
       "\n",
       "                                           book_desc      book_edition  \\\n",
       "0  Winning will make you famous. Losing means cer...               NaN   \n",
       "1  There is a door at the end of a silent corrido...        US Edition   \n",
       "2  The unforgettable novel of a childhood in a sl...  50th Anniversary   \n",
       "\n",
       "  book_format    book_isbn book_pages  book_rating  book_rating_count  \\\n",
       "0   Hardcover  9.78044E+12  374 pages         4.33            5519135   \n",
       "1   Paperback  9.78044E+12  870 pages         4.48            2041594   \n",
       "2   Paperback  9.78006E+12  324 pages         4.27            3745197   \n",
       "\n",
       "   book_review_count                                 book_title  \\\n",
       "0             160706                           The Hunger Games   \n",
       "1              33264  Harry Potter and the Order of the Phoenix   \n",
       "2              79450                      To Kill a Mockingbird   \n",
       "\n",
       "                                              genres  \\\n",
       "0  Young Adult|Fiction|Science Fiction|Dystopia|F...   \n",
       "1                        Fantasy|Young Adult|Fiction   \n",
       "2  Classics|Fiction|Historical|Historical Fiction...   \n",
       "\n",
       "                                           image_url  \n",
       "0  https://images.gr-assets.com/books/1447303603l...  \n",
       "1  https://images.gr-assets.com/books/1255614970l...  \n",
       "2  https://images.gr-assets.com/books/1361975680l...  "
      ]
     },
     "execution_count": 4,
     "metadata": {},
     "output_type": "execute_result"
    }
   ],
   "source": [
    "df.head(3)"
   ]
  },
  {
   "cell_type": "code",
   "execution_count": 6,
   "id": "81deea6d",
   "metadata": {},
   "outputs": [
    {
     "data": {
      "text/html": [
       "<div>\n",
       "<style scoped>\n",
       "    .dataframe tbody tr th:only-of-type {\n",
       "        vertical-align: middle;\n",
       "    }\n",
       "\n",
       "    .dataframe tbody tr th {\n",
       "        vertical-align: top;\n",
       "    }\n",
       "\n",
       "    .dataframe thead th {\n",
       "        text-align: right;\n",
       "    }\n",
       "</style>\n",
       "<table border=\"1\" class=\"dataframe\">\n",
       "  <thead>\n",
       "    <tr style=\"text-align: right;\">\n",
       "      <th></th>\n",
       "      <th>book_rating</th>\n",
       "      <th>book_rating_count</th>\n",
       "      <th>book_review_count</th>\n",
       "    </tr>\n",
       "  </thead>\n",
       "  <tbody>\n",
       "    <tr>\n",
       "      <th>count</th>\n",
       "      <td>54301.000000</td>\n",
       "      <td>5.430100e+04</td>\n",
       "      <td>54301.00000</td>\n",
       "    </tr>\n",
       "    <tr>\n",
       "      <th>mean</th>\n",
       "      <td>4.020027</td>\n",
       "      <td>4.350449e+04</td>\n",
       "      <td>2011.60218</td>\n",
       "    </tr>\n",
       "    <tr>\n",
       "      <th>std</th>\n",
       "      <td>0.362100</td>\n",
       "      <td>2.126572e+05</td>\n",
       "      <td>7627.07287</td>\n",
       "    </tr>\n",
       "    <tr>\n",
       "      <th>min</th>\n",
       "      <td>0.000000</td>\n",
       "      <td>0.000000e+00</td>\n",
       "      <td>0.00000</td>\n",
       "    </tr>\n",
       "    <tr>\n",
       "      <th>25%</th>\n",
       "      <td>3.830000</td>\n",
       "      <td>4.070000e+02</td>\n",
       "      <td>35.00000</td>\n",
       "    </tr>\n",
       "    <tr>\n",
       "      <th>50%</th>\n",
       "      <td>4.030000</td>\n",
       "      <td>2.811000e+03</td>\n",
       "      <td>188.00000</td>\n",
       "    </tr>\n",
       "    <tr>\n",
       "      <th>75%</th>\n",
       "      <td>4.220000</td>\n",
       "      <td>1.274500e+04</td>\n",
       "      <td>822.00000</td>\n",
       "    </tr>\n",
       "    <tr>\n",
       "      <th>max</th>\n",
       "      <td>5.000000</td>\n",
       "      <td>5.588580e+06</td>\n",
       "      <td>160776.00000</td>\n",
       "    </tr>\n",
       "  </tbody>\n",
       "</table>\n",
       "</div>"
      ],
      "text/plain": [
       "        book_rating  book_rating_count  book_review_count\n",
       "count  54301.000000       5.430100e+04        54301.00000\n",
       "mean       4.020027       4.350449e+04         2011.60218\n",
       "std        0.362100       2.126572e+05         7627.07287\n",
       "min        0.000000       0.000000e+00            0.00000\n",
       "25%        3.830000       4.070000e+02           35.00000\n",
       "50%        4.030000       2.811000e+03          188.00000\n",
       "75%        4.220000       1.274500e+04          822.00000\n",
       "max        5.000000       5.588580e+06       160776.00000"
      ]
     },
     "execution_count": 6,
     "metadata": {},
     "output_type": "execute_result"
    }
   ],
   "source": [
    "df.describe()"
   ]
  },
  {
   "cell_type": "code",
   "execution_count": 11,
   "id": "f703cb85",
   "metadata": {},
   "outputs": [
    {
     "data": {
      "text/plain": [
       "book_authors         0.000000\n",
       "book_desc            0.024512\n",
       "book_edition         0.899578\n",
       "book_format          0.030497\n",
       "book_isbn            0.236939\n",
       "book_pages           0.046445\n",
       "book_rating          0.000000\n",
       "book_rating_count    0.000000\n",
       "book_review_count    0.000000\n",
       "book_title           0.000000\n",
       "genres               0.059704\n",
       "image_url            0.012578\n",
       "dtype: float64"
      ]
     },
     "execution_count": 11,
     "metadata": {},
     "output_type": "execute_result"
    }
   ],
   "source": [
    "df.isnull().mean()"
   ]
  },
  {
   "cell_type": "code",
   "execution_count": 12,
   "id": "2d88859b",
   "metadata": {},
   "outputs": [
    {
     "data": {
      "text/plain": [
       "book_authors             0\n",
       "book_desc             1331\n",
       "book_edition         48848\n",
       "book_format           1656\n",
       "book_isbn            12866\n",
       "book_pages            2522\n",
       "book_rating              0\n",
       "book_rating_count        0\n",
       "book_review_count        0\n",
       "book_title               0\n",
       "genres                3242\n",
       "image_url              683\n",
       "dtype: int64"
      ]
     },
     "execution_count": 12,
     "metadata": {},
     "output_type": "execute_result"
    }
   ],
   "source": [
    "df.isnull().sum()"
   ]
  },
  {
   "cell_type": "code",
   "execution_count": 13,
   "id": "94b47395",
   "metadata": {},
   "outputs": [],
   "source": [
    "df.drop(df[df['book_desc'].isna()].index,inplace=True)"
   ]
  },
  {
   "cell_type": "code",
   "execution_count": 14,
   "id": "b7c7deee",
   "metadata": {},
   "outputs": [
    {
     "name": "stderr",
     "output_type": "stream",
     "text": [
      "C:\\Users\\Fatma\\AppData\\Local\\Temp\\ipykernel_2132\\3447778493.py:1: FutureWarning: In a future version of pandas all arguments of DataFrame.drop except for the argument 'labels' will be keyword-only.\n",
      "  df=df.drop(['book_edition','book_isbn','image_url','book_pages'],1)\n"
     ]
    }
   ],
   "source": [
    "df=df.drop(['book_edition','book_isbn','image_url','book_pages'],1)"
   ]
  },
  {
   "cell_type": "code",
   "execution_count": 16,
   "id": "c1d559b4",
   "metadata": {},
   "outputs": [
    {
     "data": {
      "text/plain": [
       "book_authors            0\n",
       "book_desc               0\n",
       "book_format          1352\n",
       "book_rating             0\n",
       "book_rating_count       0\n",
       "book_review_count       0\n",
       "book_title              0\n",
       "genres               2793\n",
       "dtype: int64"
      ]
     },
     "execution_count": 16,
     "metadata": {},
     "output_type": "execute_result"
    }
   ],
   "source": [
    "df.isna().sum()"
   ]
  },
  {
   "cell_type": "code",
   "execution_count": 18,
   "id": "54e7b35b",
   "metadata": {},
   "outputs": [],
   "source": [
    "df=df.dropna()"
   ]
  },
  {
   "cell_type": "code",
   "execution_count": 19,
   "id": "fac2ba36",
   "metadata": {},
   "outputs": [
    {
     "data": {
      "text/plain": [
       "array(['Hardcover', 'Paperback', 'Mass Market Paperback', 'ebook',\n",
       "       'Board book', 'Boxed Set', 'Audio CD', 'Capa comum',\n",
       "       'Kindle Edition', 'Audio Cassette', 'Capa dura', 'Box Set', 'Nook',\n",
       "       'Library Binding', 'Pasta blanda', 'Slipcased Hardcover',\n",
       "       'Broschiert', 'Unknown Binding', 'Trade Paperback', 'Board Book',\n",
       "       'Paperback ', 'MP3 CD', 'Audiobook', 'cloth', 'Brochura',\n",
       "       'Leather Bound', 'pocket', 'Audio', 'Textbook Binding',\n",
       "       'Paperback/Kindle', 'paper', 'Perfect Paperback',\n",
       "       'Digital virtual book', 'Hardcover Slipcased ', 'unknown',\n",
       "       'Paper back', 'Paperback, Kindle, Ebook, Audio',\n",
       "       'Paperback and Kindle', 'online serial', 'Klappenbroschur',\n",
       "       'Audible Audio', 'Hardcover im Schuber', 'Poche', 'paperback',\n",
       "       'Graphic Novels', 'broché', 'Science Fiction Book Club Omnibus',\n",
       "       'Newsprint', 'Spiral-bound', 'Mass Market', 'Comic',\n",
       "       'Hardcover Boxed Set', 'Taschenbuch', 'Mass Market Paperback ',\n",
       "       'Hardback', 'Gebundene Ausgabe', 'CD-ROM', 'hardbound',\n",
       "       'paperback, Kindle eBook', 'Kindle', 'Softcover', 'hardcover',\n",
       "       'Broché', 'Online Fiction', 'Hardbound', 'eBook Kindle',\n",
       "       'online fiction', 'Bonded Leather', 'paper book', 'Bolsillo',\n",
       "       'Capa mole', 'Paperback, eBook', 'Box-Set', 'capa mole',\n",
       "       'Tapa dura con sobrecubierta', 'Hard Cover', 'Bìa mềm', 'Gebunden',\n",
       "       'Flexibound', 'Trade Paper', 'Capa mole - 15,5 x 23 x 2cm',\n",
       "       'Trade paperback', 'Cofanetto', 'コミック', 'Capa Mole', 'Vinyl Cover',\n",
       "       'Digital Comic', 'Large Paperback',\n",
       "       'Interactive Fiction, Gamebook', 'revised edition',\n",
       "       'School & Library Binding', 'Hardcover Chapbook', 'Wattpad',\n",
       "       'Board', 'Hardcover, Case bound', 'Audio CD ', 'text', 'hardback',\n",
       "       'Capa Dura', 'PDF', 'Innbundet', 'Newsletter Serial', 'web', '文庫',\n",
       "       'Diary', 'Kovakantinen', 'Online', 'Digital', 'Imitation Leather',\n",
       "       'Мягкая обложка (Paperback)', 'Hardcover-spiral', 'Tapa blanda',\n",
       "       'Online Fiction - Complete', '単行本', 'Unbound', 'Edición Kindle',\n",
       "       ' Trade Paperback', 'Pamphlet', 'Big Book', 'Brossura', 'Podcast',\n",
       "       'Audio Book', 'Paperback (عربي-English)', 'PDF ', 'audio cassette',\n",
       "       'free online', 'Other Format', 'Novelty Book', 'Podiobook',\n",
       "       'Tankobon Hardcover', 'Turtleback', 'Audio Cd', 'Casebound',\n",
       "       'audiobook', 'Bantam New Fiction'], dtype=object)"
      ]
     },
     "execution_count": 19,
     "metadata": {},
     "output_type": "execute_result"
    }
   ],
   "source": [
    "pd.unique(df['book_format'])"
   ]
  },
  {
   "cell_type": "code",
   "execution_count": 20,
   "id": "97fb3456",
   "metadata": {},
   "outputs": [
    {
     "data": {
      "text/plain": [
       "\"A funny, often poignant tale of boy meets girl with a twist: what if one of them couldn't stop slipping in and out of time? Highly original and imaginative, this debut novel raises questions about life, love, and the effects of time on relationships.Audrey Niffenegger’s innovative debut, The Time Traveler’s Wife, is the story of Clare, a beautiful art student, and Henry, an adventuresome librarian, who have known each other since Clare was six and Henry was thirty-six, and were married when Clare was twenty-three and Henry thirty-one. Impossible but true, because Henry is one of the first people diagnosed with Chrono-Displacement Disorder: periodically his genetic clock resets and he finds himself misplaced in time, pulled to moments of emotional gravity in his life, past and future. His disappearances are spontaneous, his experiences unpredictable, alternately harrowing and amusing. The Time Traveler’s Wife depicts the effects of time travel on Henry and Clare’s marriage and their passionate love for each other as the story unfolds from both points of view. Clare and Henry attempt to live normal lives, pursuing familiar goals—steady jobs, good friends, children of their own. All of this is threatened by something they can neither prevent nor control, making their story intensely moving and entirely unforgettable.\""
      ]
     },
     "execution_count": 20,
     "metadata": {},
     "output_type": "execute_result"
    }
   ],
   "source": [
    "df.book_desc[30]"
   ]
  },
  {
   "cell_type": "code",
   "execution_count": 21,
   "id": "8d1ca333",
   "metadata": {},
   "outputs": [
    {
     "data": {
      "text/html": [
       "<div>\n",
       "<style scoped>\n",
       "    .dataframe tbody tr th:only-of-type {\n",
       "        vertical-align: middle;\n",
       "    }\n",
       "\n",
       "    .dataframe tbody tr th {\n",
       "        vertical-align: top;\n",
       "    }\n",
       "\n",
       "    .dataframe thead th {\n",
       "        text-align: right;\n",
       "    }\n",
       "</style>\n",
       "<table border=\"1\" class=\"dataframe\">\n",
       "  <thead>\n",
       "    <tr style=\"text-align: right;\">\n",
       "      <th></th>\n",
       "      <th>book_authors</th>\n",
       "      <th>book_desc</th>\n",
       "      <th>book_format</th>\n",
       "      <th>book_rating</th>\n",
       "      <th>book_rating_count</th>\n",
       "      <th>book_review_count</th>\n",
       "      <th>book_title</th>\n",
       "      <th>genres</th>\n",
       "    </tr>\n",
       "  </thead>\n",
       "  <tbody>\n",
       "    <tr>\n",
       "      <th>0</th>\n",
       "      <td>Suzanne Collins</td>\n",
       "      <td>Winning will make you famous. Losing means cer...</td>\n",
       "      <td>Hardcover</td>\n",
       "      <td>4.33</td>\n",
       "      <td>5519135</td>\n",
       "      <td>160706</td>\n",
       "      <td>The Hunger Games</td>\n",
       "      <td>Young Adult|Fiction|Science Fiction|Dystopia|F...</td>\n",
       "    </tr>\n",
       "    <tr>\n",
       "      <th>1</th>\n",
       "      <td>J.K. Rowling|Mary GrandPré</td>\n",
       "      <td>There is a door at the end of a silent corrido...</td>\n",
       "      <td>Paperback</td>\n",
       "      <td>4.48</td>\n",
       "      <td>2041594</td>\n",
       "      <td>33264</td>\n",
       "      <td>Harry Potter and the Order of the Phoenix</td>\n",
       "      <td>Fantasy|Young Adult|Fiction</td>\n",
       "    </tr>\n",
       "    <tr>\n",
       "      <th>2</th>\n",
       "      <td>Harper Lee</td>\n",
       "      <td>The unforgettable novel of a childhood in a sl...</td>\n",
       "      <td>Paperback</td>\n",
       "      <td>4.27</td>\n",
       "      <td>3745197</td>\n",
       "      <td>79450</td>\n",
       "      <td>To Kill a Mockingbird</td>\n",
       "      <td>Classics|Fiction|Historical|Historical Fiction...</td>\n",
       "    </tr>\n",
       "  </tbody>\n",
       "</table>\n",
       "</div>"
      ],
      "text/plain": [
       "                 book_authors  \\\n",
       "0             Suzanne Collins   \n",
       "1  J.K. Rowling|Mary GrandPré   \n",
       "2                  Harper Lee   \n",
       "\n",
       "                                           book_desc book_format  book_rating  \\\n",
       "0  Winning will make you famous. Losing means cer...   Hardcover         4.33   \n",
       "1  There is a door at the end of a silent corrido...   Paperback         4.48   \n",
       "2  The unforgettable novel of a childhood in a sl...   Paperback         4.27   \n",
       "\n",
       "   book_rating_count  book_review_count  \\\n",
       "0            5519135             160706   \n",
       "1            2041594              33264   \n",
       "2            3745197              79450   \n",
       "\n",
       "                                  book_title  \\\n",
       "0                           The Hunger Games   \n",
       "1  Harry Potter and the Order of the Phoenix   \n",
       "2                      To Kill a Mockingbird   \n",
       "\n",
       "                                              genres  \n",
       "0  Young Adult|Fiction|Science Fiction|Dystopia|F...  \n",
       "1                        Fantasy|Young Adult|Fiction  \n",
       "2  Classics|Fiction|Historical|Historical Fiction...  "
      ]
     },
     "execution_count": 21,
     "metadata": {},
     "output_type": "execute_result"
    }
   ],
   "source": [
    "df.head(3)"
   ]
  },
  {
   "cell_type": "code",
   "execution_count": 22,
   "id": "68e08408",
   "metadata": {},
   "outputs": [],
   "source": [
    "def to_string(x):\n",
    "    if x:\n",
    "        return x.replace('|',' ')\n",
    "    else:\n",
    "        return ''\n",
    "    \n",
    "df['book_authors']=df['book_authors'].apply(lambda x: to_string(x))\n",
    "df['genres']=df['genres'].apply(lambda x: to_string(x))"
   ]
  },
  {
   "cell_type": "code",
   "execution_count": 24,
   "id": "09261fbb",
   "metadata": {},
   "outputs": [
    {
     "data": {
      "text/plain": [
       "Index(['book_authors', 'book_desc', 'book_format', 'book_rating',\n",
       "       'book_rating_count', 'book_review_count', 'book_title', 'genres'],\n",
       "      dtype='object')"
      ]
     },
     "execution_count": 24,
     "metadata": {},
     "output_type": "execute_result"
    }
   ],
   "source": [
    "df.columns"
   ]
  },
  {
   "cell_type": "code",
   "execution_count": 25,
   "id": "ee4b2b1e",
   "metadata": {},
   "outputs": [],
   "source": [
    "def soup(x):\n",
    "    return x.book_authors+' '+x.genres"
   ]
  },
  {
   "cell_type": "code",
   "execution_count": 27,
   "id": "b03ef9ea",
   "metadata": {},
   "outputs": [],
   "source": [
    "df['soup']=df.apply(soup, 1)"
   ]
  },
  {
   "cell_type": "code",
   "execution_count": 29,
   "id": "d629cbd4",
   "metadata": {},
   "outputs": [],
   "source": [
    "df2=(df.sample(replace = False, \n",
    "                         frac = 0.3) \n",
    "            .sort_index()\n",
    "           .reset_index())"
   ]
  },
  {
   "cell_type": "code",
   "execution_count": 30,
   "id": "2b0a0074",
   "metadata": {},
   "outputs": [],
   "source": [
    "df2.drop_duplicates(subset =\"book_title\", \n",
    "                     keep = False, inplace = True)"
   ]
  },
  {
   "cell_type": "code",
   "execution_count": 31,
   "id": "f0a678aa",
   "metadata": {},
   "outputs": [
    {
     "data": {
      "text/html": [
       "<div>\n",
       "<style scoped>\n",
       "    .dataframe tbody tr th:only-of-type {\n",
       "        vertical-align: middle;\n",
       "    }\n",
       "\n",
       "    .dataframe tbody tr th {\n",
       "        vertical-align: top;\n",
       "    }\n",
       "\n",
       "    .dataframe thead th {\n",
       "        text-align: right;\n",
       "    }\n",
       "</style>\n",
       "<table border=\"1\" class=\"dataframe\">\n",
       "  <thead>\n",
       "    <tr style=\"text-align: right;\">\n",
       "      <th></th>\n",
       "      <th>index</th>\n",
       "      <th>book_authors</th>\n",
       "      <th>book_desc</th>\n",
       "      <th>book_format</th>\n",
       "      <th>book_rating</th>\n",
       "      <th>book_rating_count</th>\n",
       "      <th>book_review_count</th>\n",
       "      <th>book_title</th>\n",
       "      <th>genres</th>\n",
       "      <th>soup</th>\n",
       "    </tr>\n",
       "  </thead>\n",
       "  <tbody>\n",
       "    <tr>\n",
       "      <th>0</th>\n",
       "      <td>3</td>\n",
       "      <td>Jane Austen Anna Quindlen Mrs. Oliphant George...</td>\n",
       "      <td>«È cosa ormai risaputa che a uno scapolo in po...</td>\n",
       "      <td>Paperback</td>\n",
       "      <td>4.25</td>\n",
       "      <td>2453620</td>\n",
       "      <td>54322</td>\n",
       "      <td>Pride and Prejudice</td>\n",
       "      <td>Classics Fiction Romance</td>\n",
       "      <td>Jane Austen Anna Quindlen Mrs. Oliphant George...</td>\n",
       "    </tr>\n",
       "    <tr>\n",
       "      <th>5</th>\n",
       "      <td>9</td>\n",
       "      <td>J.R.R. Tolkien</td>\n",
       "      <td>لجزء الثالث من ملحمة جيه أر أر تولكين الرائعة ...</td>\n",
       "      <td>Mass Market Paperback</td>\n",
       "      <td>4.59</td>\n",
       "      <td>99793</td>\n",
       "      <td>1652</td>\n",
       "      <td>J.R.R. Tolkien 4-Book Boxed Set: The Hobbit an...</td>\n",
       "      <td>Fantasy Fiction Classics</td>\n",
       "      <td>J.R.R. Tolkien Fantasy Fiction Classics</td>\n",
       "    </tr>\n",
       "    <tr>\n",
       "      <th>6</th>\n",
       "      <td>11</td>\n",
       "      <td>Douglas Adams</td>\n",
       "      <td>Seconds before the Earth is demolished to make...</td>\n",
       "      <td>Paperback</td>\n",
       "      <td>4.21</td>\n",
       "      <td>1155911</td>\n",
       "      <td>23919</td>\n",
       "      <td>The Hitchhiker's Guide to the Galaxy</td>\n",
       "      <td>Science Fiction Fiction Humor Fantasy Classics</td>\n",
       "      <td>Douglas Adams Science Fiction Fiction Humor Fa...</td>\n",
       "    </tr>\n",
       "  </tbody>\n",
       "</table>\n",
       "</div>"
      ],
      "text/plain": [
       "   index                                       book_authors  \\\n",
       "0      3  Jane Austen Anna Quindlen Mrs. Oliphant George...   \n",
       "5      9                                     J.R.R. Tolkien   \n",
       "6     11                                      Douglas Adams   \n",
       "\n",
       "                                           book_desc            book_format  \\\n",
       "0  «È cosa ormai risaputa che a uno scapolo in po...              Paperback   \n",
       "5  لجزء الثالث من ملحمة جيه أر أر تولكين الرائعة ...  Mass Market Paperback   \n",
       "6  Seconds before the Earth is demolished to make...              Paperback   \n",
       "\n",
       "   book_rating  book_rating_count  book_review_count  \\\n",
       "0         4.25            2453620              54322   \n",
       "5         4.59              99793               1652   \n",
       "6         4.21            1155911              23919   \n",
       "\n",
       "                                          book_title  \\\n",
       "0                                Pride and Prejudice   \n",
       "5  J.R.R. Tolkien 4-Book Boxed Set: The Hobbit an...   \n",
       "6               The Hitchhiker's Guide to the Galaxy   \n",
       "\n",
       "                                           genres  \\\n",
       "0                        Classics Fiction Romance   \n",
       "5                        Fantasy Fiction Classics   \n",
       "6  Science Fiction Fiction Humor Fantasy Classics   \n",
       "\n",
       "                                                soup  \n",
       "0  Jane Austen Anna Quindlen Mrs. Oliphant George...  \n",
       "5            J.R.R. Tolkien Fantasy Fiction Classics  \n",
       "6  Douglas Adams Science Fiction Fiction Humor Fa...  "
      ]
     },
     "execution_count": 31,
     "metadata": {},
     "output_type": "execute_result"
    }
   ],
   "source": [
    "df2.head(3)"
   ]
  },
  {
   "cell_type": "code",
   "execution_count": 32,
   "id": "d9d1ec5c",
   "metadata": {},
   "outputs": [],
   "source": [
    "df3=df2.sort_values(by='genres',ascending=True)"
   ]
  },
  {
   "cell_type": "code",
   "execution_count": 33,
   "id": "bca8bc4c",
   "metadata": {},
   "outputs": [],
   "source": [
    "tf=TfidfVectorizer()\n",
    "tf_mat=tf.fit_transform(df2.soup)"
   ]
  },
  {
   "cell_type": "code",
   "execution_count": 34,
   "id": "063b49b1",
   "metadata": {},
   "outputs": [
    {
     "data": {
      "text/plain": [
       "(13380, 12240)"
      ]
     },
     "execution_count": 34,
     "metadata": {},
     "output_type": "execute_result"
    }
   ],
   "source": [
    "tf_mat.shape"
   ]
  },
  {
   "cell_type": "code",
   "execution_count": 35,
   "id": "db854eb5",
   "metadata": {},
   "outputs": [],
   "source": [
    "sig=sigmoid_kernel(tf_mat,tf_mat)"
   ]
  },
  {
   "cell_type": "code",
   "execution_count": 36,
   "id": "d2436685",
   "metadata": {},
   "outputs": [
    {
     "data": {
      "text/plain": [
       "book_title\n",
       "Pride and Prejudice                                                          0\n",
       "J.R.R. Tolkien 4-Book Boxed Set: The Hobbit and The Lord of the Rings        5\n",
       "The Hitchhiker's Guide to the Galaxy                                         6\n",
       "Ender's Game                                                                10\n",
       "The Help                                                                    12\n",
       "                                                                         ...  \n",
       "やはり俺の青春ラブコメはまちがっている 1                                                    14693\n",
       "とある魔術の禁書目録 3                                                             14694\n",
       "Pym                                                                      14695\n",
       "The Blazing World                                                        14696\n",
       "Taking the Field: A Fan's Quest to Run the Team He Loves                 14697\n",
       "Length: 13380, dtype: int64"
      ]
     },
     "execution_count": 36,
     "metadata": {},
     "output_type": "execute_result"
    }
   ],
   "source": [
    "ind=df2.index\n",
    "titles=df2['book_title']\n",
    "idx=pd.Series(ind,index=titles).drop_duplicates()\n",
    "idx"
   ]
  },
  {
   "cell_type": "code",
   "execution_count": 38,
   "id": "463d131d",
   "metadata": {},
   "outputs": [],
   "source": [
    "def get_recom(title,sig=sig):\n",
    "    idcs=idx[title]\n",
    "    sim_sc=list(enumerate(sig[idcs]))\n",
    "    sim_sc=sorted(sim_sc,key=lambda x: x[1],reverse=True)\n",
    "    sim_sc=sim_sc[1:21]\n",
    "    book_indices=[i[0] for i in sim_sc]\n",
    "    wss=[]\n",
    "    for i in book_indices:\n",
    "        wss.append(df2['book_title'].iloc[i])\n",
    "        \n",
    "    return wss"
   ]
  },
  {
   "cell_type": "code",
   "execution_count": 40,
   "id": "46001ce8",
   "metadata": {},
   "outputs": [
    {
     "data": {
      "text/plain": [
       "['The Time Keeper',\n",
       " 'For One More Day',\n",
       " 'The First Phone Call from Heaven',\n",
       " \"Still Lolo: A Spinning Propeller, a Horrific Accident, and a Family's Journey of Hope\",\n",
       " 'Through The Storm: A Real Story of Fame and Family in a Tabloid World',\n",
       " 'Coreyography',\n",
       " 'A Mighty Heart: The Brave Life and Death of My Husband, Danny Pearl',\n",
       " 'Losing It: And Gaining My Life Back One Pound at a Time',\n",
       " 'The Kid : A True Story',\n",
       " 'Prime Green: Remembering the Sixties',\n",
       " 'Hand to Mouth: A Chronicle of Early Failure',\n",
       " 'Stop-Time',\n",
       " 'Life Without Limits',\n",
       " \"The Storyteller's Daughter: One Woman's Return to Her Lost Homeland\",\n",
       " 'Moab Is My Washpot',\n",
       " 'The Lives and Loves of Daisy and Violet Hilton: A True Story of Conjoined Twins',\n",
       " 'M Train',\n",
       " 'Henry and June: From the Unexpurgated Diary of Anaïs Nin',\n",
       " 'Autobiography',\n",
       " 'Taken on Trust']"
      ]
     },
     "execution_count": 40,
     "metadata": {},
     "output_type": "execute_result"
    }
   ],
   "source": [
    "get_recom(df2['book_title'].iloc[8])"
   ]
  },
  {
   "cell_type": "code",
   "execution_count": 41,
   "id": "19077dd0",
   "metadata": {},
   "outputs": [
    {
     "data": {
      "text/plain": [
       "\"The Hitchhiker's Guide to the Galaxy\""
      ]
     },
     "execution_count": 41,
     "metadata": {},
     "output_type": "execute_result"
    }
   ],
   "source": [
    "df2['book_title'].iloc[2]"
   ]
  },
  {
   "cell_type": "code",
   "execution_count": 42,
   "id": "505c8704",
   "metadata": {},
   "outputs": [
    {
     "data": {
      "text/plain": [
       "'A Season on the Brink: A Year with Bob Knight and the Indiana Hoosiers'"
      ]
     },
     "execution_count": 42,
     "metadata": {},
     "output_type": "execute_result"
    }
   ],
   "source": [
    "df2['book_title'][6948]"
   ]
  },
  {
   "cell_type": "code",
   "execution_count": null,
   "id": "96e82efe",
   "metadata": {},
   "outputs": [],
   "source": []
  }
 ],
 "metadata": {
  "kernelspec": {
   "display_name": "Python 3 (ipykernel)",
   "language": "python",
   "name": "python3"
  },
  "language_info": {
   "codemirror_mode": {
    "name": "ipython",
    "version": 3
   },
   "file_extension": ".py",
   "mimetype": "text/x-python",
   "name": "python",
   "nbconvert_exporter": "python",
   "pygments_lexer": "ipython3",
   "version": "3.9.12"
  }
 },
 "nbformat": 4,
 "nbformat_minor": 5
}
