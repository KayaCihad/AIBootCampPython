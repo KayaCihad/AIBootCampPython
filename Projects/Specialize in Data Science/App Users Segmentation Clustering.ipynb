{
 "cells": [
  {
   "cell_type": "code",
   "execution_count": 1,
   "id": "b1cb5d1c",
   "metadata": {},
   "outputs": [],
   "source": [
    "import pandas as pd\n",
    "from sklearn.cluster import KMeans\n",
    "from sklearn.metrics import silhouette_score\n",
    "import matplotlib.pyplot as plt"
   ]
  },
  {
   "cell_type": "code",
   "execution_count": 2,
   "id": "54c87315",
   "metadata": {},
   "outputs": [],
   "source": [
    "df=pd.read_csv(\"userbehaviour.csv\")"
   ]
  },
  {
   "cell_type": "code",
   "execution_count": 3,
   "id": "808f52ea",
   "metadata": {},
   "outputs": [
    {
     "data": {
      "text/html": [
       "<div>\n",
       "<style scoped>\n",
       "    .dataframe tbody tr th:only-of-type {\n",
       "        vertical-align: middle;\n",
       "    }\n",
       "\n",
       "    .dataframe tbody tr th {\n",
       "        vertical-align: top;\n",
       "    }\n",
       "\n",
       "    .dataframe thead th {\n",
       "        text-align: right;\n",
       "    }\n",
       "</style>\n",
       "<table border=\"1\" class=\"dataframe\">\n",
       "  <thead>\n",
       "    <tr style=\"text-align: right;\">\n",
       "      <th></th>\n",
       "      <th>userid</th>\n",
       "      <th>Average Screen Time</th>\n",
       "      <th>Average Spent on App (INR)</th>\n",
       "      <th>Left Review</th>\n",
       "      <th>Ratings</th>\n",
       "      <th>New Password Request</th>\n",
       "      <th>Last Visited Minutes</th>\n",
       "      <th>Status</th>\n",
       "    </tr>\n",
       "  </thead>\n",
       "  <tbody>\n",
       "    <tr>\n",
       "      <th>0</th>\n",
       "      <td>1001</td>\n",
       "      <td>17.0</td>\n",
       "      <td>634.0</td>\n",
       "      <td>1</td>\n",
       "      <td>9</td>\n",
       "      <td>7</td>\n",
       "      <td>2990</td>\n",
       "      <td>Installed</td>\n",
       "    </tr>\n",
       "    <tr>\n",
       "      <th>1</th>\n",
       "      <td>1002</td>\n",
       "      <td>0.0</td>\n",
       "      <td>54.0</td>\n",
       "      <td>0</td>\n",
       "      <td>4</td>\n",
       "      <td>8</td>\n",
       "      <td>24008</td>\n",
       "      <td>Uninstalled</td>\n",
       "    </tr>\n",
       "    <tr>\n",
       "      <th>2</th>\n",
       "      <td>1003</td>\n",
       "      <td>37.0</td>\n",
       "      <td>207.0</td>\n",
       "      <td>0</td>\n",
       "      <td>8</td>\n",
       "      <td>5</td>\n",
       "      <td>971</td>\n",
       "      <td>Installed</td>\n",
       "    </tr>\n",
       "  </tbody>\n",
       "</table>\n",
       "</div>"
      ],
      "text/plain": [
       "   userid  Average Screen Time  Average Spent on App (INR)  Left Review  \\\n",
       "0    1001                 17.0                       634.0            1   \n",
       "1    1002                  0.0                        54.0            0   \n",
       "2    1003                 37.0                       207.0            0   \n",
       "\n",
       "   Ratings  New Password Request  Last Visited Minutes       Status  \n",
       "0        9                     7                  2990    Installed  \n",
       "1        4                     8                 24008  Uninstalled  \n",
       "2        8                     5                   971    Installed  "
      ]
     },
     "execution_count": 3,
     "metadata": {},
     "output_type": "execute_result"
    }
   ],
   "source": [
    "df.head(3)"
   ]
  },
  {
   "cell_type": "code",
   "execution_count": 4,
   "id": "6d081d36",
   "metadata": {},
   "outputs": [
    {
     "data": {
      "text/plain": [
       "userid                        0\n",
       "Average Screen Time           0\n",
       "Average Spent on App (INR)    0\n",
       "Left Review                   0\n",
       "Ratings                       0\n",
       "New Password Request          0\n",
       "Last Visited Minutes          0\n",
       "Status                        0\n",
       "dtype: int64"
      ]
     },
     "execution_count": 4,
     "metadata": {},
     "output_type": "execute_result"
    }
   ],
   "source": [
    "df.isnull().sum()"
   ]
  },
  {
   "cell_type": "code",
   "execution_count": 5,
   "id": "b6e7b683",
   "metadata": {},
   "outputs": [
    {
     "name": "stdout",
     "output_type": "stream",
     "text": [
      "<class 'pandas.core.frame.DataFrame'>\n",
      "RangeIndex: 999 entries, 0 to 998\n",
      "Data columns (total 8 columns):\n",
      " #   Column                      Non-Null Count  Dtype  \n",
      "---  ------                      --------------  -----  \n",
      " 0   userid                      999 non-null    int64  \n",
      " 1   Average Screen Time         999 non-null    float64\n",
      " 2   Average Spent on App (INR)  999 non-null    float64\n",
      " 3   Left Review                 999 non-null    int64  \n",
      " 4   Ratings                     999 non-null    int64  \n",
      " 5   New Password Request        999 non-null    int64  \n",
      " 6   Last Visited Minutes        999 non-null    int64  \n",
      " 7   Status                      999 non-null    object \n",
      "dtypes: float64(2), int64(5), object(1)\n",
      "memory usage: 62.6+ KB\n"
     ]
    }
   ],
   "source": [
    "df.info()"
   ]
  },
  {
   "cell_type": "code",
   "execution_count": 7,
   "id": "60a5efc3",
   "metadata": {},
   "outputs": [],
   "source": [
    "x=df[[\"Average Screen Time\", \"Left Review\",\"Ratings\", \"Last Visited Minutes\",\"Average Spent on App (INR)\",\"New Password Request\"]]"
   ]
  },
  {
   "cell_type": "code",
   "execution_count": 8,
   "id": "493c9ca3",
   "metadata": {},
   "outputs": [],
   "source": [
    "model=KMeans(n_clusters=4)"
   ]
  },
  {
   "cell_type": "code",
   "execution_count": 9,
   "id": "707950ba",
   "metadata": {},
   "outputs": [],
   "source": [
    "model=model.fit(x)"
   ]
  },
  {
   "cell_type": "code",
   "execution_count": 10,
   "id": "bcdcd6c4",
   "metadata": {},
   "outputs": [],
   "source": [
    "tahmin=model.predict(x)"
   ]
  },
  {
   "cell_type": "code",
   "execution_count": 11,
   "id": "c7c47e91",
   "metadata": {},
   "outputs": [
    {
     "data": {
      "text/plain": [
       "array([0, 3, 2, 2, 0, 0, 0, 2, 2, 0, 2, 0, 0, 0, 2, 2, 0, 0, 0, 2, 2, 0,\n",
       "       0, 0, 0, 0, 2, 2, 0, 0, 2, 0, 0, 0, 0, 2, 0, 0, 1, 2, 0, 0, 2, 1,\n",
       "       2, 2, 1, 0, 2, 0, 2, 0, 2, 2, 0, 0, 2, 0, 0, 0, 2, 1, 0, 0, 1, 2,\n",
       "       2, 2, 3, 2, 2, 0, 0, 2, 2, 2, 0, 0, 0, 0, 0, 0, 2, 2, 2, 2, 1, 2,\n",
       "       2, 2, 0, 2, 0, 1, 0, 2, 0, 0, 0, 1, 0, 0, 0, 2, 2, 2, 0, 2, 0, 3,\n",
       "       2, 2, 0, 2, 3, 0, 0, 2, 0, 0, 0, 2, 3, 0, 2, 2, 2, 2, 0, 2, 0, 2,\n",
       "       2, 2, 2, 2, 0, 2, 3, 0, 2, 2, 2, 0, 2, 0, 1, 2, 0, 0, 1, 2, 0, 2,\n",
       "       0, 0, 2, 0, 3, 2, 2, 0, 2, 0, 2, 0, 0, 2, 0, 2, 0, 2, 0, 3, 0, 0,\n",
       "       2, 0, 2, 0, 3, 1, 0, 1, 2, 0, 2, 2, 2, 2, 2, 2, 2, 2, 2, 2, 2, 0,\n",
       "       3, 0, 2, 0, 0, 2, 2, 2, 3, 2, 2, 0, 0, 2, 1, 2, 2, 0, 2, 2, 0, 1,\n",
       "       0, 0, 2, 2, 0, 0, 0, 3, 2, 2, 0, 2, 2, 0, 2, 0, 0, 0, 2, 2, 0, 0,\n",
       "       2, 2, 2, 0, 2, 2, 0, 0, 2, 2, 0, 2, 2, 2, 3, 2, 2, 0, 2, 0, 2, 2,\n",
       "       3, 2, 0, 1, 2, 0, 2, 0, 0, 2, 2, 0, 0, 0, 2, 2, 2, 2, 2, 0, 0, 2,\n",
       "       0, 0, 2, 2, 0, 3, 2, 2, 0, 2, 0, 0, 2, 2, 2, 0, 0, 3, 2, 0, 0, 2,\n",
       "       2, 2, 0, 0, 0, 2, 0, 0, 0, 2, 0, 2, 0, 0, 0, 2, 2, 0, 2, 1, 0, 0,\n",
       "       2, 3, 0, 0, 0, 1, 2, 2, 2, 2, 0, 0, 2, 0, 0, 0, 2, 0, 0, 0, 2, 0,\n",
       "       1, 2, 3, 0, 3, 3, 2, 0, 0, 2, 2, 2, 0, 2, 2, 2, 2, 0, 0, 2, 2, 2,\n",
       "       0, 0, 2, 2, 1, 2, 2, 0, 0, 2, 0, 2, 0, 2, 2, 0, 3, 0, 0, 2, 1, 0,\n",
       "       0, 2, 0, 0, 0, 2, 0, 2, 0, 1, 2, 0, 0, 2, 2, 2, 2, 2, 0, 0, 2, 0,\n",
       "       0, 0, 2, 2, 2, 2, 0, 2, 2, 2, 0, 0, 2, 2, 2, 2, 0, 0, 0, 0, 1, 2,\n",
       "       2, 0, 2, 0, 2, 0, 0, 0, 0, 2, 2, 0, 2, 2, 2, 2, 2, 0, 2, 2, 2, 2,\n",
       "       0, 0, 2, 0, 2, 2, 1, 2, 2, 0, 0, 2, 2, 1, 1, 2, 2, 0, 2, 0, 2, 0,\n",
       "       2, 0, 2, 0, 2, 0, 2, 1, 2, 2, 2, 2, 2, 2, 0, 2, 3, 1, 2, 0, 2, 2,\n",
       "       2, 0, 0, 0, 0, 2, 0, 0, 0, 2, 0, 2, 2, 0, 2, 2, 2, 2, 2, 0, 0, 0,\n",
       "       2, 0, 0, 2, 0, 2, 0, 0, 0, 2, 3, 2, 2, 2, 0, 0, 0, 0, 2, 1, 2, 0,\n",
       "       2, 0, 2, 2, 2, 0, 2, 2, 2, 0, 1, 0, 2, 2, 3, 2, 0, 0, 2, 2, 0, 1,\n",
       "       1, 0, 2, 2, 2, 2, 0, 2, 2, 2, 2, 2, 1, 2, 0, 0, 0, 2, 0, 0, 0, 0,\n",
       "       2, 0, 0, 2, 3, 0, 0, 2, 0, 0, 0, 0, 0, 2, 0, 2, 2, 2, 0, 3, 0, 2,\n",
       "       2, 0, 0, 2, 0, 2, 0, 0, 2, 0, 2, 0, 0, 2, 2, 0, 2, 2, 2, 3, 2, 2,\n",
       "       2, 0, 2, 0, 0, 2, 2, 2, 2, 0, 0, 2, 0, 3, 0, 0, 0, 2, 2, 2, 0, 0,\n",
       "       2, 0, 3, 0, 0, 0, 0, 0, 3, 0, 0, 0, 2, 0, 0, 2, 0, 2, 0, 2, 2, 2,\n",
       "       2, 2, 0, 0, 2, 2, 2, 0, 0, 2, 2, 0, 2, 0, 0, 2, 2, 0, 2, 3, 0, 0,\n",
       "       2, 0, 2, 2, 2, 2, 0, 0, 2, 2, 3, 0, 2, 2, 2, 2, 3, 2, 0, 2, 0, 0,\n",
       "       2, 2, 2, 2, 2, 0, 2, 0, 0, 2, 2, 0, 0, 0, 1, 0, 2, 0, 2, 2, 0, 2,\n",
       "       2, 2, 3, 2, 0, 2, 2, 0, 0, 2, 1, 0, 0, 0, 2, 2, 2, 0, 2, 0, 0, 0,\n",
       "       0, 2, 2, 0, 2, 0, 0, 2, 0, 2, 0, 0, 2, 0, 2, 0, 1, 2, 2, 0, 2, 0,\n",
       "       2, 0, 0, 0, 2, 0, 2, 0, 0, 2, 0, 0, 0, 0, 1, 0, 0, 0, 0, 2, 0, 0,\n",
       "       2, 2, 0, 0, 2, 2, 0, 3, 2, 0, 2, 3, 2, 2, 0, 0, 2, 0, 2, 2, 3, 2,\n",
       "       2, 2, 0, 2, 2, 2, 2, 2, 0, 1, 0, 2, 0, 1, 0, 2, 0, 3, 2, 1, 0, 2,\n",
       "       2, 2, 0, 2, 1, 2, 2, 0, 2, 0, 3, 3, 2, 2, 2, 2, 0, 2, 0, 0, 2, 0,\n",
       "       2, 0, 0, 0, 0, 2, 2, 2, 2, 2, 0, 0, 2, 2, 0, 0, 2, 0, 2, 0, 2, 0,\n",
       "       0, 2, 2, 0, 2, 2, 2, 2, 2, 2, 0, 2, 2, 2, 1, 0, 0, 2, 0, 0, 0, 0,\n",
       "       2, 2, 1, 2, 0, 0, 2, 2, 0, 0, 0, 2, 0, 0, 2, 2, 2, 2, 0, 1, 2, 2,\n",
       "       0, 3, 2, 3, 2, 2, 2, 2, 0, 0, 3, 0, 0, 0, 0, 2, 0, 0, 0, 0, 0, 2,\n",
       "       0, 2, 2, 0, 2, 2, 2, 2, 2, 2, 1, 1, 0, 0, 2, 0, 2, 0, 2, 0, 2, 2,\n",
       "       0, 2, 0, 0, 2, 2, 2, 0, 0])"
      ]
     },
     "execution_count": 11,
     "metadata": {},
     "output_type": "execute_result"
    }
   ],
   "source": [
    "tahmin"
   ]
  },
  {
   "cell_type": "code",
   "execution_count": 12,
   "id": "da5aaafd",
   "metadata": {},
   "outputs": [
    {
     "name": "stderr",
     "output_type": "stream",
     "text": [
      "C:\\Users\\Fatma\\AppData\\Local\\Temp\\ipykernel_16092\\354242828.py:1: SettingWithCopyWarning: \n",
      "A value is trying to be set on a copy of a slice from a DataFrame.\n",
      "Try using .loc[row_indexer,col_indexer] = value instead\n",
      "\n",
      "See the caveats in the documentation: https://pandas.pydata.org/pandas-docs/stable/user_guide/indexing.html#returning-a-view-versus-a-copy\n",
      "  x[\"cluster\"]=tahmin\n"
     ]
    }
   ],
   "source": [
    "x[\"cluster\"]=tahmin"
   ]
  },
  {
   "cell_type": "code",
   "execution_count": 13,
   "id": "3396450a",
   "metadata": {},
   "outputs": [
    {
     "data": {
      "text/html": [
       "<div>\n",
       "<style scoped>\n",
       "    .dataframe tbody tr th:only-of-type {\n",
       "        vertical-align: middle;\n",
       "    }\n",
       "\n",
       "    .dataframe tbody tr th {\n",
       "        vertical-align: top;\n",
       "    }\n",
       "\n",
       "    .dataframe thead th {\n",
       "        text-align: right;\n",
       "    }\n",
       "</style>\n",
       "<table border=\"1\" class=\"dataframe\">\n",
       "  <thead>\n",
       "    <tr style=\"text-align: right;\">\n",
       "      <th></th>\n",
       "      <th>Average Screen Time</th>\n",
       "      <th>Left Review</th>\n",
       "      <th>Ratings</th>\n",
       "      <th>Last Visited Minutes</th>\n",
       "      <th>Average Spent on App (INR)</th>\n",
       "      <th>New Password Request</th>\n",
       "      <th>cluster</th>\n",
       "    </tr>\n",
       "  </thead>\n",
       "  <tbody>\n",
       "    <tr>\n",
       "      <th>0</th>\n",
       "      <td>17.0</td>\n",
       "      <td>1</td>\n",
       "      <td>9</td>\n",
       "      <td>2990</td>\n",
       "      <td>634.0</td>\n",
       "      <td>7</td>\n",
       "      <td>0</td>\n",
       "    </tr>\n",
       "    <tr>\n",
       "      <th>1</th>\n",
       "      <td>0.0</td>\n",
       "      <td>0</td>\n",
       "      <td>4</td>\n",
       "      <td>24008</td>\n",
       "      <td>54.0</td>\n",
       "      <td>8</td>\n",
       "      <td>3</td>\n",
       "    </tr>\n",
       "    <tr>\n",
       "      <th>2</th>\n",
       "      <td>37.0</td>\n",
       "      <td>0</td>\n",
       "      <td>8</td>\n",
       "      <td>971</td>\n",
       "      <td>207.0</td>\n",
       "      <td>5</td>\n",
       "      <td>2</td>\n",
       "    </tr>\n",
       "    <tr>\n",
       "      <th>3</th>\n",
       "      <td>32.0</td>\n",
       "      <td>1</td>\n",
       "      <td>6</td>\n",
       "      <td>799</td>\n",
       "      <td>445.0</td>\n",
       "      <td>2</td>\n",
       "      <td>2</td>\n",
       "    </tr>\n",
       "    <tr>\n",
       "      <th>4</th>\n",
       "      <td>45.0</td>\n",
       "      <td>1</td>\n",
       "      <td>5</td>\n",
       "      <td>3668</td>\n",
       "      <td>427.0</td>\n",
       "      <td>6</td>\n",
       "      <td>0</td>\n",
       "    </tr>\n",
       "  </tbody>\n",
       "</table>\n",
       "</div>"
      ],
      "text/plain": [
       "   Average Screen Time  Left Review  Ratings  Last Visited Minutes  \\\n",
       "0                 17.0            1        9                  2990   \n",
       "1                  0.0            0        4                 24008   \n",
       "2                 37.0            0        8                   971   \n",
       "3                 32.0            1        6                   799   \n",
       "4                 45.0            1        5                  3668   \n",
       "\n",
       "   Average Spent on App (INR)  New Password Request  cluster  \n",
       "0                       634.0                     7        0  \n",
       "1                        54.0                     8        3  \n",
       "2                       207.0                     5        2  \n",
       "3                       445.0                     2        2  \n",
       "4                       427.0                     6        0  "
      ]
     },
     "execution_count": 13,
     "metadata": {},
     "output_type": "execute_result"
    }
   ],
   "source": [
    "x.head()"
   ]
  },
  {
   "cell_type": "code",
   "execution_count": 14,
   "id": "f791008b",
   "metadata": {},
   "outputs": [
    {
     "data": {
      "text/plain": [
       "0.5802486109061301"
      ]
     },
     "execution_count": 14,
     "metadata": {},
     "output_type": "execute_result"
    }
   ],
   "source": [
    "silhouette_score(x,tahmin)"
   ]
  },
  {
   "cell_type": "code",
   "execution_count": 15,
   "id": "c8b2a1fb",
   "metadata": {},
   "outputs": [
    {
     "data": {
      "image/png": "[encoded data removed]",
      "text/plain": [
       "<Figure size 720x432 with 2 Axes>"
      ]
     },
     "metadata": {
      "needs_background": "light"
     },
     "output_type": "display_data"
    }
   ],
   "source": [
    "plt.figure(figsize=(10,6))\n",
    "plt.scatter(x[\"Average Screen Time\"],x[\"Last Visited Minutes\"],c=tahmin) # c renk için c nin farklı olması gerek\n",
    "# başlıkların için nokta boşluk olduğu için ayrı ayrı parantezle x i yazdık\n",
    "plt.xlabel(\"Average Screen Time\") # x sutununa isim verdik\n",
    "plt.ylabel(\"Last Visited Minutes\") # y sutununa isim verdik\n",
    "plt.colorbar()\n",
    "# plt.legend()\n",
    "plt.grid()"
   ]
  },
  {
   "cell_type": "code",
   "execution_count": 16,
   "id": "bb95c892",
   "metadata": {},
   "outputs": [
    {
     "name": "stdout",
     "output_type": "stream",
     "text": [
      " Cluster  2  score  0.9006579314865902\n",
      " Cluster  3  score  0.8664499519273\n",
      " Cluster  4  score  0.5802486109061301\n",
      " Cluster  5  score  0.5864849580744559\n",
      " Cluster  6  score  0.5860610701960908\n",
      " Cluster  7  score  0.5889315837457023\n",
      " Cluster  8  score  0.5053651490708727\n",
      " Cluster  9  score  0.5152780517974804\n",
      " Cluster  10  score  0.4538163757460619\n",
      " Cluster  11  score  0.46029110546346724\n"
     ]
    }
   ],
   "source": [
    "allscore=[]\n",
    "allclusters=[]\n",
    "uzaklıklar=[]\n",
    "def clust(kactane):\n",
    "    \n",
    "    for i in range(1,kactane+1):\n",
    "        i=i+1\n",
    "        model=KMeans(n_clusters=i)\n",
    "        model=model.fit(x)\n",
    "        tahmin=model.predict(x)\n",
    "        score=silhouette_score(x,tahmin)\n",
    "        uzaklık=model.inertia_\n",
    "        print(\" Cluster \",i,\" score \",score)\n",
    "        allscore.append(score)\n",
    "        allclusters.append(i)\n",
    "        uzaklıklar.append(uzaklık)\n",
    "clust(10)"
   ]
  },
  {
   "cell_type": "code",
   "execution_count": 17,
   "id": "c5027e20",
   "metadata": {},
   "outputs": [
    {
     "data": {
      "text/plain": [
       "[<matplotlib.lines.Line2D at 0x26ad3fb9100>]"
      ]
     },
     "execution_count": 17,
     "metadata": {},
     "output_type": "execute_result"
    },
    {
     "data": {
      "image/png": "[encoded data removed]",
      "text/plain": [
       "<Figure size 432x288 with 1 Axes>"
      ]
     },
     "metadata": {
      "needs_background": "light"
     },
     "output_type": "display_data"
    }
   ],
   "source": [
    "plt.xlabel(\"k\")\n",
    "plt.ylabel(\"uzaklıklar\")\n",
    "plt.plot(allclusters,uzaklıklar)"
   ]
  },
  {
   "cell_type": "code",
   "execution_count": null,
   "id": "c811c077",
   "metadata": {},
   "outputs": [],
   "source": []
  }
 ],
 "metadata": {
  "kernelspec": {
   "display_name": "Python 3 (ipykernel)",
   "language": "python",
   "name": "python3"
  },
  "language_info": {
   "codemirror_mode": {
    "name": "ipython",
    "version": 3
   },
   "file_extension": ".py",
   "mimetype": "text/x-python",
   "name": "python",
   "nbconvert_exporter": "python",
   "pygments_lexer": "ipython3",
   "version": "3.9.12"
  }
 },
 "nbformat": 4,
 "nbformat_minor": 5
}
