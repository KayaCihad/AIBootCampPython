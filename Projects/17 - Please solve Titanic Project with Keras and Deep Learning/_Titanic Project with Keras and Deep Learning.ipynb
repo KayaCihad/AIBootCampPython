{
 "cells": [
  {
   "cell_type": "code",
   "execution_count": 1,
   "id": "08264ce9",
   "metadata": {},
   "outputs": [],
   "source": [
    "import pandas as pd"
   ]
  },
  {
   "cell_type": "code",
   "execution_count": 2,
   "id": "8d93bcbc",
   "metadata": {},
   "outputs": [],
   "source": [
    "df1=pd.read_csv(\"ttrain.csv\")\n",
    "df2=pd.read_csv(\"ttest.csv\")"
   ]
  },
  {
   "cell_type": "code",
   "execution_count": 3,
   "id": "f39b6fb9",
   "metadata": {},
   "outputs": [
    {
     "data": {
      "text/plain": [
       "(891, 12)"
      ]
     },
     "execution_count": 3,
     "metadata": {},
     "output_type": "execute_result"
    }
   ],
   "source": [
    "df1.shape"
   ]
  },
  {
   "cell_type": "code",
   "execution_count": 4,
   "id": "d9d66a62",
   "metadata": {},
   "outputs": [
    {
     "data": {
      "text/plain": [
       "(418, 11)"
      ]
     },
     "execution_count": 4,
     "metadata": {},
     "output_type": "execute_result"
    }
   ],
   "source": [
    "df2.shape"
   ]
  },
  {
   "cell_type": "code",
   "execution_count": 5,
   "id": "6f16514e",
   "metadata": {},
   "outputs": [
    {
     "data": {
      "text/html": [
       "<div>\n",
       "<style scoped>\n",
       "    .dataframe tbody tr th:only-of-type {\n",
       "        vertical-align: middle;\n",
       "    }\n",
       "\n",
       "    .dataframe tbody tr th {\n",
       "        vertical-align: top;\n",
       "    }\n",
       "\n",
       "    .dataframe thead th {\n",
       "        text-align: right;\n",
       "    }\n",
       "</style>\n",
       "<table border=\"1\" class=\"dataframe\">\n",
       "  <thead>\n",
       "    <tr style=\"text-align: right;\">\n",
       "      <th></th>\n",
       "      <th>PassengerId</th>\n",
       "      <th>Survived</th>\n",
       "      <th>Pclass</th>\n",
       "      <th>Name</th>\n",
       "      <th>Sex</th>\n",
       "      <th>Age</th>\n",
       "      <th>SibSp</th>\n",
       "      <th>Parch</th>\n",
       "      <th>Ticket</th>\n",
       "      <th>Fare</th>\n",
       "      <th>Cabin</th>\n",
       "      <th>Embarked</th>\n",
       "    </tr>\n",
       "  </thead>\n",
       "  <tbody>\n",
       "    <tr>\n",
       "      <th>0</th>\n",
       "      <td>1</td>\n",
       "      <td>0</td>\n",
       "      <td>3</td>\n",
       "      <td>Braund, Mr. Owen Harris</td>\n",
       "      <td>male</td>\n",
       "      <td>22.0</td>\n",
       "      <td>1</td>\n",
       "      <td>0</td>\n",
       "      <td>A/5 21171</td>\n",
       "      <td>7.2500</td>\n",
       "      <td>NaN</td>\n",
       "      <td>S</td>\n",
       "    </tr>\n",
       "    <tr>\n",
       "      <th>1</th>\n",
       "      <td>2</td>\n",
       "      <td>1</td>\n",
       "      <td>1</td>\n",
       "      <td>Cumings, Mrs. John Bradley (Florence Briggs Th...</td>\n",
       "      <td>female</td>\n",
       "      <td>38.0</td>\n",
       "      <td>1</td>\n",
       "      <td>0</td>\n",
       "      <td>PC 17599</td>\n",
       "      <td>71.2833</td>\n",
       "      <td>C85</td>\n",
       "      <td>C</td>\n",
       "    </tr>\n",
       "    <tr>\n",
       "      <th>2</th>\n",
       "      <td>3</td>\n",
       "      <td>1</td>\n",
       "      <td>3</td>\n",
       "      <td>Heikkinen, Miss. Laina</td>\n",
       "      <td>female</td>\n",
       "      <td>26.0</td>\n",
       "      <td>0</td>\n",
       "      <td>0</td>\n",
       "      <td>STON/O2. 3101282</td>\n",
       "      <td>7.9250</td>\n",
       "      <td>NaN</td>\n",
       "      <td>S</td>\n",
       "    </tr>\n",
       "    <tr>\n",
       "      <th>3</th>\n",
       "      <td>4</td>\n",
       "      <td>1</td>\n",
       "      <td>1</td>\n",
       "      <td>Futrelle, Mrs. Jacques Heath (Lily May Peel)</td>\n",
       "      <td>female</td>\n",
       "      <td>35.0</td>\n",
       "      <td>1</td>\n",
       "      <td>0</td>\n",
       "      <td>113803</td>\n",
       "      <td>53.1000</td>\n",
       "      <td>C123</td>\n",
       "      <td>S</td>\n",
       "    </tr>\n",
       "    <tr>\n",
       "      <th>4</th>\n",
       "      <td>5</td>\n",
       "      <td>0</td>\n",
       "      <td>3</td>\n",
       "      <td>Allen, Mr. William Henry</td>\n",
       "      <td>male</td>\n",
       "      <td>35.0</td>\n",
       "      <td>0</td>\n",
       "      <td>0</td>\n",
       "      <td>373450</td>\n",
       "      <td>8.0500</td>\n",
       "      <td>NaN</td>\n",
       "      <td>S</td>\n",
       "    </tr>\n",
       "  </tbody>\n",
       "</table>\n",
       "</div>"
      ],
      "text/plain": [
       "   PassengerId  Survived  Pclass  \\\n",
       "0            1         0       3   \n",
       "1            2         1       1   \n",
       "2            3         1       3   \n",
       "3            4         1       1   \n",
       "4            5         0       3   \n",
       "\n",
       "                                                Name     Sex   Age  SibSp  \\\n",
       "0                            Braund, Mr. Owen Harris    male  22.0      1   \n",
       "1  Cumings, Mrs. John Bradley (Florence Briggs Th...  female  38.0      1   \n",
       "2                             Heikkinen, Miss. Laina  female  26.0      0   \n",
       "3       Futrelle, Mrs. Jacques Heath (Lily May Peel)  female  35.0      1   \n",
       "4                           Allen, Mr. William Henry    male  35.0      0   \n",
       "\n",
       "   Parch            Ticket     Fare Cabin Embarked  \n",
       "0      0         A/5 21171   7.2500   NaN        S  \n",
       "1      0          PC 17599  71.2833   C85        C  \n",
       "2      0  STON/O2. 3101282   7.9250   NaN        S  \n",
       "3      0            113803  53.1000  C123        S  \n",
       "4      0            373450   8.0500   NaN        S  "
      ]
     },
     "execution_count": 5,
     "metadata": {},
     "output_type": "execute_result"
    }
   ],
   "source": [
    "df1.head()"
   ]
  },
  {
   "cell_type": "code",
   "execution_count": 6,
   "id": "037834c5",
   "metadata": {},
   "outputs": [
    {
     "data": {
      "text/html": [
       "<div>\n",
       "<style scoped>\n",
       "    .dataframe tbody tr th:only-of-type {\n",
       "        vertical-align: middle;\n",
       "    }\n",
       "\n",
       "    .dataframe tbody tr th {\n",
       "        vertical-align: top;\n",
       "    }\n",
       "\n",
       "    .dataframe thead th {\n",
       "        text-align: right;\n",
       "    }\n",
       "</style>\n",
       "<table border=\"1\" class=\"dataframe\">\n",
       "  <thead>\n",
       "    <tr style=\"text-align: right;\">\n",
       "      <th></th>\n",
       "      <th>PassengerId</th>\n",
       "      <th>Pclass</th>\n",
       "      <th>Name</th>\n",
       "      <th>Sex</th>\n",
       "      <th>Age</th>\n",
       "      <th>SibSp</th>\n",
       "      <th>Parch</th>\n",
       "      <th>Ticket</th>\n",
       "      <th>Fare</th>\n",
       "      <th>Cabin</th>\n",
       "      <th>Embarked</th>\n",
       "    </tr>\n",
       "  </thead>\n",
       "  <tbody>\n",
       "    <tr>\n",
       "      <th>0</th>\n",
       "      <td>892</td>\n",
       "      <td>3</td>\n",
       "      <td>Kelly, Mr. James</td>\n",
       "      <td>male</td>\n",
       "      <td>34.5</td>\n",
       "      <td>0</td>\n",
       "      <td>0</td>\n",
       "      <td>330911</td>\n",
       "      <td>7.8292</td>\n",
       "      <td>NaN</td>\n",
       "      <td>Q</td>\n",
       "    </tr>\n",
       "    <tr>\n",
       "      <th>1</th>\n",
       "      <td>893</td>\n",
       "      <td>3</td>\n",
       "      <td>Wilkes, Mrs. James (Ellen Needs)</td>\n",
       "      <td>female</td>\n",
       "      <td>47.0</td>\n",
       "      <td>1</td>\n",
       "      <td>0</td>\n",
       "      <td>363272</td>\n",
       "      <td>7.0000</td>\n",
       "      <td>NaN</td>\n",
       "      <td>S</td>\n",
       "    </tr>\n",
       "    <tr>\n",
       "      <th>2</th>\n",
       "      <td>894</td>\n",
       "      <td>2</td>\n",
       "      <td>Myles, Mr. Thomas Francis</td>\n",
       "      <td>male</td>\n",
       "      <td>62.0</td>\n",
       "      <td>0</td>\n",
       "      <td>0</td>\n",
       "      <td>240276</td>\n",
       "      <td>9.6875</td>\n",
       "      <td>NaN</td>\n",
       "      <td>Q</td>\n",
       "    </tr>\n",
       "    <tr>\n",
       "      <th>3</th>\n",
       "      <td>895</td>\n",
       "      <td>3</td>\n",
       "      <td>Wirz, Mr. Albert</td>\n",
       "      <td>male</td>\n",
       "      <td>27.0</td>\n",
       "      <td>0</td>\n",
       "      <td>0</td>\n",
       "      <td>315154</td>\n",
       "      <td>8.6625</td>\n",
       "      <td>NaN</td>\n",
       "      <td>S</td>\n",
       "    </tr>\n",
       "    <tr>\n",
       "      <th>4</th>\n",
       "      <td>896</td>\n",
       "      <td>3</td>\n",
       "      <td>Hirvonen, Mrs. Alexander (Helga E Lindqvist)</td>\n",
       "      <td>female</td>\n",
       "      <td>22.0</td>\n",
       "      <td>1</td>\n",
       "      <td>1</td>\n",
       "      <td>3101298</td>\n",
       "      <td>12.2875</td>\n",
       "      <td>NaN</td>\n",
       "      <td>S</td>\n",
       "    </tr>\n",
       "  </tbody>\n",
       "</table>\n",
       "</div>"
      ],
      "text/plain": [
       "   PassengerId  Pclass                                          Name     Sex  \\\n",
       "0          892       3                              Kelly, Mr. James    male   \n",
       "1          893       3              Wilkes, Mrs. James (Ellen Needs)  female   \n",
       "2          894       2                     Myles, Mr. Thomas Francis    male   \n",
       "3          895       3                              Wirz, Mr. Albert    male   \n",
       "4          896       3  Hirvonen, Mrs. Alexander (Helga E Lindqvist)  female   \n",
       "\n",
       "    Age  SibSp  Parch   Ticket     Fare Cabin Embarked  \n",
       "0  34.5      0      0   330911   7.8292   NaN        Q  \n",
       "1  47.0      1      0   363272   7.0000   NaN        S  \n",
       "2  62.0      0      0   240276   9.6875   NaN        Q  \n",
       "3  27.0      0      0   315154   8.6625   NaN        S  \n",
       "4  22.0      1      1  3101298  12.2875   NaN        S  "
      ]
     },
     "execution_count": 6,
     "metadata": {},
     "output_type": "execute_result"
    }
   ],
   "source": [
    "df2.head()"
   ]
  },
  {
   "cell_type": "code",
   "execution_count": 7,
   "id": "45fd4a48",
   "metadata": {},
   "outputs": [
    {
     "name": "stderr",
     "output_type": "stream",
     "text": [
      "C:\\Users\\Fatma\\AppData\\Local\\Temp\\ipykernel_21032\\2386300892.py:1: FutureWarning: The frame.append method is deprecated and will be removed from pandas in a future version. Use pandas.concat instead.\n",
      "  df=df1.append(df2) #birleştirdim\n"
     ]
    }
   ],
   "source": [
    "df=df1.append(df2) #birleştirdim"
   ]
  },
  {
   "cell_type": "code",
   "execution_count": 8,
   "id": "aaa6fbf6",
   "metadata": {},
   "outputs": [
    {
     "data": {
      "text/plain": [
       "(1309, 12)"
      ]
     },
     "execution_count": 8,
     "metadata": {},
     "output_type": "execute_result"
    }
   ],
   "source": [
    "df.shape"
   ]
  },
  {
   "cell_type": "code",
   "execution_count": 9,
   "id": "49424ff7",
   "metadata": {},
   "outputs": [
    {
     "data": {
      "text/html": [
       "<div>\n",
       "<style scoped>\n",
       "    .dataframe tbody tr th:only-of-type {\n",
       "        vertical-align: middle;\n",
       "    }\n",
       "\n",
       "    .dataframe tbody tr th {\n",
       "        vertical-align: top;\n",
       "    }\n",
       "\n",
       "    .dataframe thead th {\n",
       "        text-align: right;\n",
       "    }\n",
       "</style>\n",
       "<table border=\"1\" class=\"dataframe\">\n",
       "  <thead>\n",
       "    <tr style=\"text-align: right;\">\n",
       "      <th></th>\n",
       "      <th>PassengerId</th>\n",
       "      <th>Survived</th>\n",
       "      <th>Pclass</th>\n",
       "      <th>Name</th>\n",
       "      <th>Sex</th>\n",
       "      <th>Age</th>\n",
       "      <th>SibSp</th>\n",
       "      <th>Parch</th>\n",
       "      <th>Ticket</th>\n",
       "      <th>Fare</th>\n",
       "      <th>Cabin</th>\n",
       "      <th>Embarked</th>\n",
       "    </tr>\n",
       "  </thead>\n",
       "  <tbody>\n",
       "    <tr>\n",
       "      <th>0</th>\n",
       "      <td>1</td>\n",
       "      <td>0.0</td>\n",
       "      <td>3</td>\n",
       "      <td>Braund, Mr. Owen Harris</td>\n",
       "      <td>male</td>\n",
       "      <td>22.0</td>\n",
       "      <td>1</td>\n",
       "      <td>0</td>\n",
       "      <td>A/5 21171</td>\n",
       "      <td>7.2500</td>\n",
       "      <td>NaN</td>\n",
       "      <td>S</td>\n",
       "    </tr>\n",
       "    <tr>\n",
       "      <th>1</th>\n",
       "      <td>2</td>\n",
       "      <td>1.0</td>\n",
       "      <td>1</td>\n",
       "      <td>Cumings, Mrs. John Bradley (Florence Briggs Th...</td>\n",
       "      <td>female</td>\n",
       "      <td>38.0</td>\n",
       "      <td>1</td>\n",
       "      <td>0</td>\n",
       "      <td>PC 17599</td>\n",
       "      <td>71.2833</td>\n",
       "      <td>C85</td>\n",
       "      <td>C</td>\n",
       "    </tr>\n",
       "    <tr>\n",
       "      <th>2</th>\n",
       "      <td>3</td>\n",
       "      <td>1.0</td>\n",
       "      <td>3</td>\n",
       "      <td>Heikkinen, Miss. Laina</td>\n",
       "      <td>female</td>\n",
       "      <td>26.0</td>\n",
       "      <td>0</td>\n",
       "      <td>0</td>\n",
       "      <td>STON/O2. 3101282</td>\n",
       "      <td>7.9250</td>\n",
       "      <td>NaN</td>\n",
       "      <td>S</td>\n",
       "    </tr>\n",
       "    <tr>\n",
       "      <th>3</th>\n",
       "      <td>4</td>\n",
       "      <td>1.0</td>\n",
       "      <td>1</td>\n",
       "      <td>Futrelle, Mrs. Jacques Heath (Lily May Peel)</td>\n",
       "      <td>female</td>\n",
       "      <td>35.0</td>\n",
       "      <td>1</td>\n",
       "      <td>0</td>\n",
       "      <td>113803</td>\n",
       "      <td>53.1000</td>\n",
       "      <td>C123</td>\n",
       "      <td>S</td>\n",
       "    </tr>\n",
       "    <tr>\n",
       "      <th>4</th>\n",
       "      <td>5</td>\n",
       "      <td>0.0</td>\n",
       "      <td>3</td>\n",
       "      <td>Allen, Mr. William Henry</td>\n",
       "      <td>male</td>\n",
       "      <td>35.0</td>\n",
       "      <td>0</td>\n",
       "      <td>0</td>\n",
       "      <td>373450</td>\n",
       "      <td>8.0500</td>\n",
       "      <td>NaN</td>\n",
       "      <td>S</td>\n",
       "    </tr>\n",
       "  </tbody>\n",
       "</table>\n",
       "</div>"
      ],
      "text/plain": [
       "   PassengerId  Survived  Pclass  \\\n",
       "0            1       0.0       3   \n",
       "1            2       1.0       1   \n",
       "2            3       1.0       3   \n",
       "3            4       1.0       1   \n",
       "4            5       0.0       3   \n",
       "\n",
       "                                                Name     Sex   Age  SibSp  \\\n",
       "0                            Braund, Mr. Owen Harris    male  22.0      1   \n",
       "1  Cumings, Mrs. John Bradley (Florence Briggs Th...  female  38.0      1   \n",
       "2                             Heikkinen, Miss. Laina  female  26.0      0   \n",
       "3       Futrelle, Mrs. Jacques Heath (Lily May Peel)  female  35.0      1   \n",
       "4                           Allen, Mr. William Henry    male  35.0      0   \n",
       "\n",
       "   Parch            Ticket     Fare Cabin Embarked  \n",
       "0      0         A/5 21171   7.2500   NaN        S  \n",
       "1      0          PC 17599  71.2833   C85        C  \n",
       "2      0  STON/O2. 3101282   7.9250   NaN        S  \n",
       "3      0            113803  53.1000  C123        S  \n",
       "4      0            373450   8.0500   NaN        S  "
      ]
     },
     "execution_count": 9,
     "metadata": {},
     "output_type": "execute_result"
    }
   ],
   "source": [
    "df.head()"
   ]
  },
  {
   "cell_type": "code",
   "execution_count": 10,
   "id": "b62fe0ee",
   "metadata": {},
   "outputs": [
    {
     "name": "stdout",
     "output_type": "stream",
     "text": [
      "<class 'pandas.core.frame.DataFrame'>\n",
      "Int64Index: 1309 entries, 0 to 417\n",
      "Data columns (total 12 columns):\n",
      " #   Column       Non-Null Count  Dtype  \n",
      "---  ------       --------------  -----  \n",
      " 0   PassengerId  1309 non-null   int64  \n",
      " 1   Survived     891 non-null    float64\n",
      " 2   Pclass       1309 non-null   int64  \n",
      " 3   Name         1309 non-null   object \n",
      " 4   Sex          1309 non-null   object \n",
      " 5   Age          1046 non-null   float64\n",
      " 6   SibSp        1309 non-null   int64  \n",
      " 7   Parch        1309 non-null   int64  \n",
      " 8   Ticket       1309 non-null   object \n",
      " 9   Fare         1308 non-null   float64\n",
      " 10  Cabin        295 non-null    object \n",
      " 11  Embarked     1307 non-null   object \n",
      "dtypes: float64(3), int64(4), object(5)\n",
      "memory usage: 132.9+ KB\n"
     ]
    }
   ],
   "source": [
    "df.info()"
   ]
  },
  {
   "cell_type": "code",
   "execution_count": 11,
   "id": "414031f4",
   "metadata": {},
   "outputs": [
    {
     "data": {
      "text/plain": [
       "PassengerId       0\n",
       "Survived        418\n",
       "Pclass            0\n",
       "Name              0\n",
       "Sex               0\n",
       "Age             263\n",
       "SibSp             0\n",
       "Parch             0\n",
       "Ticket            0\n",
       "Fare              1\n",
       "Cabin          1014\n",
       "Embarked          2\n",
       "dtype: int64"
      ]
     },
     "execution_count": 11,
     "metadata": {},
     "output_type": "execute_result"
    }
   ],
   "source": [
    "df.isnull().sum()"
   ]
  },
  {
   "cell_type": "code",
   "execution_count": 12,
   "id": "1802d0fc",
   "metadata": {},
   "outputs": [
    {
     "data": {
      "text/plain": [
       "0.774637127578304"
      ]
     },
     "execution_count": 12,
     "metadata": {},
     "output_type": "execute_result"
    }
   ],
   "source": [
    "1014/1309 # cabin yüzde 80 e yakın olduğu için sildik"
   ]
  },
  {
   "cell_type": "code",
   "execution_count": 13,
   "id": "688c7bdb",
   "metadata": {},
   "outputs": [],
   "source": [
    "del df[\"Cabin\"]"
   ]
  },
  {
   "cell_type": "code",
   "execution_count": 14,
   "id": "70f6ab4a",
   "metadata": {},
   "outputs": [
    {
     "data": {
      "text/plain": [
       "(33.2954792813456, 512.3292, 0.0, 51.75866823917414, 14.4542)"
      ]
     },
     "execution_count": 14,
     "metadata": {},
     "output_type": "execute_result"
    }
   ],
   "source": [
    "df[\"Fare\"].mean(),df[\"Fare\"].max(),df[\"Fare\"].min(),df[\"Fare\"].std(),df[\"Fare\"].median()"
   ]
  },
  {
   "cell_type": "code",
   "execution_count": 15,
   "id": "bf571277",
   "metadata": {},
   "outputs": [],
   "source": [
    "df[\"Fare\"]=df[\"Fare\"].fillna(df[\"Fare\"].mean())"
   ]
  },
  {
   "cell_type": "code",
   "execution_count": 16,
   "id": "8b03661d",
   "metadata": {},
   "outputs": [],
   "source": [
    "import seaborn as sns"
   ]
  },
  {
   "cell_type": "code",
   "execution_count": 17,
   "id": "8e54a889",
   "metadata": {},
   "outputs": [
    {
     "data": {
      "image/png": "[encoded data removed]",
      "text/plain": [
       "<Figure size 432x288 with 1 Axes>"
      ]
     },
     "metadata": {
      "needs_background": "light"
     },
     "output_type": "display_data"
    }
   ],
   "source": [
    "sns.countplot(x=df[\"Embarked\"]);"
   ]
  },
  {
   "cell_type": "code",
   "execution_count": 18,
   "id": "fc2fb22b",
   "metadata": {},
   "outputs": [
    {
     "data": {
      "text/plain": [
       "0    S\n",
       "Name: Embarked, dtype: object"
      ]
     },
     "execution_count": 18,
     "metadata": {},
     "output_type": "execute_result"
    }
   ],
   "source": [
    "df[\"Embarked\"].mode()"
   ]
  },
  {
   "cell_type": "code",
   "execution_count": 19,
   "id": "26547d5c",
   "metadata": {},
   "outputs": [
    {
     "data": {
      "text/plain": [
       "S    0.699311\n",
       "C    0.206580\n",
       "Q    0.094109\n",
       "Name: Embarked, dtype: float64"
      ]
     },
     "execution_count": 19,
     "metadata": {},
     "output_type": "execute_result"
    }
   ],
   "source": [
    "df[\"Embarked\"].value_counts(normalize=True)"
   ]
  },
  {
   "cell_type": "code",
   "execution_count": 20,
   "id": "c58cd8c3",
   "metadata": {},
   "outputs": [],
   "source": [
    "df[\"Embarked\"]=df[\"Embarked\"].fillna(\"S\") # s en çok tekrar ettiği için s ile doldurduk"
   ]
  },
  {
   "cell_type": "code",
   "execution_count": 21,
   "id": "863adf8a",
   "metadata": {},
   "outputs": [
    {
     "data": {
      "image/png": "[encoded data removed]",
      "text/plain": [
       "<Figure size 432x288 with 1 Axes>"
      ]
     },
     "metadata": {
      "needs_background": "light"
     },
     "output_type": "display_data"
    }
   ],
   "source": [
    "sns.countplot(x=\"Embarked\",hue=\"Survived\",data=df);"
   ]
  },
  {
   "cell_type": "code",
   "execution_count": 22,
   "id": "9a65fb6a",
   "metadata": {},
   "outputs": [
    {
     "data": {
      "text/plain": [
       "PassengerId      0\n",
       "Survived       418\n",
       "Pclass           0\n",
       "Name             0\n",
       "Sex              0\n",
       "Age            263\n",
       "SibSp            0\n",
       "Parch            0\n",
       "Ticket           0\n",
       "Fare             0\n",
       "Embarked         0\n",
       "dtype: int64"
      ]
     },
     "execution_count": 22,
     "metadata": {},
     "output_type": "execute_result"
    }
   ],
   "source": [
    "df.isnull().sum()"
   ]
  },
  {
   "cell_type": "code",
   "execution_count": 23,
   "id": "31c6ece6",
   "metadata": {},
   "outputs": [
    {
     "data": {
      "text/html": [
       "<div>\n",
       "<style scoped>\n",
       "    .dataframe tbody tr th:only-of-type {\n",
       "        vertical-align: middle;\n",
       "    }\n",
       "\n",
       "    .dataframe tbody tr th {\n",
       "        vertical-align: top;\n",
       "    }\n",
       "\n",
       "    .dataframe thead th {\n",
       "        text-align: right;\n",
       "    }\n",
       "</style>\n",
       "<table border=\"1\" class=\"dataframe\">\n",
       "  <thead>\n",
       "    <tr style=\"text-align: right;\">\n",
       "      <th></th>\n",
       "      <th>PassengerId</th>\n",
       "      <th>Survived</th>\n",
       "      <th>Pclass</th>\n",
       "      <th>Name</th>\n",
       "      <th>Sex</th>\n",
       "      <th>Age</th>\n",
       "      <th>SibSp</th>\n",
       "      <th>Parch</th>\n",
       "      <th>Ticket</th>\n",
       "      <th>Fare</th>\n",
       "      <th>Embarked</th>\n",
       "    </tr>\n",
       "  </thead>\n",
       "  <tbody>\n",
       "    <tr>\n",
       "      <th>0</th>\n",
       "      <td>1</td>\n",
       "      <td>0.0</td>\n",
       "      <td>3</td>\n",
       "      <td>Braund, Mr. Owen Harris</td>\n",
       "      <td>male</td>\n",
       "      <td>22.0</td>\n",
       "      <td>1</td>\n",
       "      <td>0</td>\n",
       "      <td>A/5 21171</td>\n",
       "      <td>7.2500</td>\n",
       "      <td>S</td>\n",
       "    </tr>\n",
       "    <tr>\n",
       "      <th>1</th>\n",
       "      <td>2</td>\n",
       "      <td>1.0</td>\n",
       "      <td>1</td>\n",
       "      <td>Cumings, Mrs. John Bradley (Florence Briggs Th...</td>\n",
       "      <td>female</td>\n",
       "      <td>38.0</td>\n",
       "      <td>1</td>\n",
       "      <td>0</td>\n",
       "      <td>PC 17599</td>\n",
       "      <td>71.2833</td>\n",
       "      <td>C</td>\n",
       "    </tr>\n",
       "    <tr>\n",
       "      <th>2</th>\n",
       "      <td>3</td>\n",
       "      <td>1.0</td>\n",
       "      <td>3</td>\n",
       "      <td>Heikkinen, Miss. Laina</td>\n",
       "      <td>female</td>\n",
       "      <td>26.0</td>\n",
       "      <td>0</td>\n",
       "      <td>0</td>\n",
       "      <td>STON/O2. 3101282</td>\n",
       "      <td>7.9250</td>\n",
       "      <td>S</td>\n",
       "    </tr>\n",
       "    <tr>\n",
       "      <th>3</th>\n",
       "      <td>4</td>\n",
       "      <td>1.0</td>\n",
       "      <td>1</td>\n",
       "      <td>Futrelle, Mrs. Jacques Heath (Lily May Peel)</td>\n",
       "      <td>female</td>\n",
       "      <td>35.0</td>\n",
       "      <td>1</td>\n",
       "      <td>0</td>\n",
       "      <td>113803</td>\n",
       "      <td>53.1000</td>\n",
       "      <td>S</td>\n",
       "    </tr>\n",
       "    <tr>\n",
       "      <th>4</th>\n",
       "      <td>5</td>\n",
       "      <td>0.0</td>\n",
       "      <td>3</td>\n",
       "      <td>Allen, Mr. William Henry</td>\n",
       "      <td>male</td>\n",
       "      <td>35.0</td>\n",
       "      <td>0</td>\n",
       "      <td>0</td>\n",
       "      <td>373450</td>\n",
       "      <td>8.0500</td>\n",
       "      <td>S</td>\n",
       "    </tr>\n",
       "  </tbody>\n",
       "</table>\n",
       "</div>"
      ],
      "text/plain": [
       "   PassengerId  Survived  Pclass  \\\n",
       "0            1       0.0       3   \n",
       "1            2       1.0       1   \n",
       "2            3       1.0       3   \n",
       "3            4       1.0       1   \n",
       "4            5       0.0       3   \n",
       "\n",
       "                                                Name     Sex   Age  SibSp  \\\n",
       "0                            Braund, Mr. Owen Harris    male  22.0      1   \n",
       "1  Cumings, Mrs. John Bradley (Florence Briggs Th...  female  38.0      1   \n",
       "2                             Heikkinen, Miss. Laina  female  26.0      0   \n",
       "3       Futrelle, Mrs. Jacques Heath (Lily May Peel)  female  35.0      1   \n",
       "4                           Allen, Mr. William Henry    male  35.0      0   \n",
       "\n",
       "   Parch            Ticket     Fare Embarked  \n",
       "0      0         A/5 21171   7.2500        S  \n",
       "1      0          PC 17599  71.2833        C  \n",
       "2      0  STON/O2. 3101282   7.9250        S  \n",
       "3      0            113803  53.1000        S  \n",
       "4      0            373450   8.0500        S  "
      ]
     },
     "execution_count": 23,
     "metadata": {},
     "output_type": "execute_result"
    }
   ],
   "source": [
    "df.head()"
   ]
  },
  {
   "cell_type": "code",
   "execution_count": 24,
   "id": "6b719b95",
   "metadata": {},
   "outputs": [],
   "source": [
    "df[\"Title\"]=df[\"Name\"].str.extract(' ([A-Za-z]+)\\.', expand=False)"
   ]
  },
  {
   "cell_type": "code",
   "execution_count": 25,
   "id": "b8f3028c",
   "metadata": {},
   "outputs": [
    {
     "data": {
      "text/html": [
       "<div>\n",
       "<style scoped>\n",
       "    .dataframe tbody tr th:only-of-type {\n",
       "        vertical-align: middle;\n",
       "    }\n",
       "\n",
       "    .dataframe tbody tr th {\n",
       "        vertical-align: top;\n",
       "    }\n",
       "\n",
       "    .dataframe thead th {\n",
       "        text-align: right;\n",
       "    }\n",
       "</style>\n",
       "<table border=\"1\" class=\"dataframe\">\n",
       "  <thead>\n",
       "    <tr style=\"text-align: right;\">\n",
       "      <th></th>\n",
       "      <th>PassengerId</th>\n",
       "      <th>Survived</th>\n",
       "      <th>Pclass</th>\n",
       "      <th>Name</th>\n",
       "      <th>Sex</th>\n",
       "      <th>Age</th>\n",
       "      <th>SibSp</th>\n",
       "      <th>Parch</th>\n",
       "      <th>Ticket</th>\n",
       "      <th>Fare</th>\n",
       "      <th>Embarked</th>\n",
       "      <th>Title</th>\n",
       "    </tr>\n",
       "  </thead>\n",
       "  <tbody>\n",
       "    <tr>\n",
       "      <th>0</th>\n",
       "      <td>1</td>\n",
       "      <td>0.0</td>\n",
       "      <td>3</td>\n",
       "      <td>Braund, Mr. Owen Harris</td>\n",
       "      <td>male</td>\n",
       "      <td>22.0</td>\n",
       "      <td>1</td>\n",
       "      <td>0</td>\n",
       "      <td>A/5 21171</td>\n",
       "      <td>7.2500</td>\n",
       "      <td>S</td>\n",
       "      <td>Mr</td>\n",
       "    </tr>\n",
       "    <tr>\n",
       "      <th>1</th>\n",
       "      <td>2</td>\n",
       "      <td>1.0</td>\n",
       "      <td>1</td>\n",
       "      <td>Cumings, Mrs. John Bradley (Florence Briggs Th...</td>\n",
       "      <td>female</td>\n",
       "      <td>38.0</td>\n",
       "      <td>1</td>\n",
       "      <td>0</td>\n",
       "      <td>PC 17599</td>\n",
       "      <td>71.2833</td>\n",
       "      <td>C</td>\n",
       "      <td>Mrs</td>\n",
       "    </tr>\n",
       "    <tr>\n",
       "      <th>2</th>\n",
       "      <td>3</td>\n",
       "      <td>1.0</td>\n",
       "      <td>3</td>\n",
       "      <td>Heikkinen, Miss. Laina</td>\n",
       "      <td>female</td>\n",
       "      <td>26.0</td>\n",
       "      <td>0</td>\n",
       "      <td>0</td>\n",
       "      <td>STON/O2. 3101282</td>\n",
       "      <td>7.9250</td>\n",
       "      <td>S</td>\n",
       "      <td>Miss</td>\n",
       "    </tr>\n",
       "    <tr>\n",
       "      <th>3</th>\n",
       "      <td>4</td>\n",
       "      <td>1.0</td>\n",
       "      <td>1</td>\n",
       "      <td>Futrelle, Mrs. Jacques Heath (Lily May Peel)</td>\n",
       "      <td>female</td>\n",
       "      <td>35.0</td>\n",
       "      <td>1</td>\n",
       "      <td>0</td>\n",
       "      <td>113803</td>\n",
       "      <td>53.1000</td>\n",
       "      <td>S</td>\n",
       "      <td>Mrs</td>\n",
       "    </tr>\n",
       "    <tr>\n",
       "      <th>4</th>\n",
       "      <td>5</td>\n",
       "      <td>0.0</td>\n",
       "      <td>3</td>\n",
       "      <td>Allen, Mr. William Henry</td>\n",
       "      <td>male</td>\n",
       "      <td>35.0</td>\n",
       "      <td>0</td>\n",
       "      <td>0</td>\n",
       "      <td>373450</td>\n",
       "      <td>8.0500</td>\n",
       "      <td>S</td>\n",
       "      <td>Mr</td>\n",
       "    </tr>\n",
       "  </tbody>\n",
       "</table>\n",
       "</div>"
      ],
      "text/plain": [
       "   PassengerId  Survived  Pclass  \\\n",
       "0            1       0.0       3   \n",
       "1            2       1.0       1   \n",
       "2            3       1.0       3   \n",
       "3            4       1.0       1   \n",
       "4            5       0.0       3   \n",
       "\n",
       "                                                Name     Sex   Age  SibSp  \\\n",
       "0                            Braund, Mr. Owen Harris    male  22.0      1   \n",
       "1  Cumings, Mrs. John Bradley (Florence Briggs Th...  female  38.0      1   \n",
       "2                             Heikkinen, Miss. Laina  female  26.0      0   \n",
       "3       Futrelle, Mrs. Jacques Heath (Lily May Peel)  female  35.0      1   \n",
       "4                           Allen, Mr. William Henry    male  35.0      0   \n",
       "\n",
       "   Parch            Ticket     Fare Embarked Title  \n",
       "0      0         A/5 21171   7.2500        S    Mr  \n",
       "1      0          PC 17599  71.2833        C   Mrs  \n",
       "2      0  STON/O2. 3101282   7.9250        S  Miss  \n",
       "3      0            113803  53.1000        S   Mrs  \n",
       "4      0            373450   8.0500        S    Mr  "
      ]
     },
     "execution_count": 25,
     "metadata": {},
     "output_type": "execute_result"
    }
   ],
   "source": [
    "df.head()"
   ]
  },
  {
   "cell_type": "code",
   "execution_count": 26,
   "id": "93455b9c",
   "metadata": {},
   "outputs": [],
   "source": [
    "df.drop(\"Name\",axis=1,inplace=True)"
   ]
  },
  {
   "cell_type": "code",
   "execution_count": 27,
   "id": "ed233419",
   "metadata": {},
   "outputs": [
    {
     "data": {
      "text/plain": [
       "array(['Mr', 'Mrs', 'Miss', 'Master', 'Don', 'Rev', 'Dr', 'Mme', 'Ms',\n",
       "       'Major', 'Lady', 'Sir', 'Mlle', 'Col', 'Capt', 'Countess',\n",
       "       'Jonkheer', 'Dona'], dtype=object)"
      ]
     },
     "execution_count": 27,
     "metadata": {},
     "output_type": "execute_result"
    }
   ],
   "source": [
    "df[\"Title\"].unique()"
   ]
  },
  {
   "cell_type": "code",
   "execution_count": 28,
   "id": "1a312513",
   "metadata": {},
   "outputs": [
    {
     "data": {
      "text/plain": [
       "Mr          757\n",
       "Miss        260\n",
       "Mrs         197\n",
       "Master       61\n",
       "Rev           8\n",
       "Dr            8\n",
       "Col           4\n",
       "Mlle          2\n",
       "Major         2\n",
       "Ms            2\n",
       "Lady          1\n",
       "Sir           1\n",
       "Mme           1\n",
       "Don           1\n",
       "Capt          1\n",
       "Countess      1\n",
       "Jonkheer      1\n",
       "Dona          1\n",
       "Name: Title, dtype: int64"
      ]
     },
     "execution_count": 28,
     "metadata": {},
     "output_type": "execute_result"
    }
   ],
   "source": [
    "df[\"Title\"].value_counts()"
   ]
  },
  {
   "cell_type": "code",
   "execution_count": 29,
   "id": "817683f5",
   "metadata": {},
   "outputs": [
    {
     "data": {
      "image/png": "[encoded data removed]",
      "text/plain": [
       "<Figure size 432x288 with 1 Axes>"
      ]
     },
     "metadata": {
      "needs_background": "light"
     },
     "output_type": "display_data"
    }
   ],
   "source": [
    "sns.countplot(x=df[\"Title\"]);"
   ]
  },
  {
   "cell_type": "code",
   "execution_count": 30,
   "id": "2cc0d849",
   "metadata": {},
   "outputs": [
    {
     "data": {
      "text/plain": [
       "male      843\n",
       "female    466\n",
       "Name: Sex, dtype: int64"
      ]
     },
     "execution_count": 30,
     "metadata": {},
     "output_type": "execute_result"
    }
   ],
   "source": [
    "df[\"Sex\"].value_counts()"
   ]
  },
  {
   "cell_type": "code",
   "execution_count": 31,
   "id": "9a62ecd4",
   "metadata": {},
   "outputs": [],
   "source": [
    "df[\"Title\"]=df[\"Title\"].replace([\"Ms\",\"Mlle\"],\"Miss\")\n",
    "df[\"Title\"]=df[\"Title\"].replace([\"Mme\",\"Countess\",\"Lady\",\"Dona\"],\"Mrs\")\n",
    "df[\"Title\"]=df[\"Title\"].replace([\"Rev\",\"Jonkheer\",\"Don\",\"Sir\",\"Major\",\"Dr\",\"Capt\",\"Col\"],\"Mr\")"
   ]
  },
  {
   "cell_type": "code",
   "execution_count": 32,
   "id": "9df7171e",
   "metadata": {},
   "outputs": [
    {
     "data": {
      "text/plain": [
       "Mr        783\n",
       "Miss      264\n",
       "Mrs       201\n",
       "Master     61\n",
       "Name: Title, dtype: int64"
      ]
     },
     "execution_count": 32,
     "metadata": {},
     "output_type": "execute_result"
    }
   ],
   "source": [
    "df[\"Title\"].value_counts()"
   ]
  },
  {
   "cell_type": "code",
   "execution_count": 33,
   "id": "e0e9a727",
   "metadata": {},
   "outputs": [
    {
     "data": {
      "text/plain": [
       "count    1046.000000\n",
       "mean       29.881138\n",
       "std        14.413493\n",
       "min         0.170000\n",
       "25%        21.000000\n",
       "50%        28.000000\n",
       "75%        39.000000\n",
       "max        80.000000\n",
       "Name: Age, dtype: float64"
      ]
     },
     "execution_count": 33,
     "metadata": {},
     "output_type": "execute_result"
    }
   ],
   "source": [
    "df.Age.describe()"
   ]
  },
  {
   "cell_type": "code",
   "execution_count": 34,
   "id": "2217292d",
   "metadata": {},
   "outputs": [
    {
     "data": {
      "text/plain": [
       "Sex\n",
       "female    28.687088\n",
       "male      30.585228\n",
       "Name: Age, dtype: float64"
      ]
     },
     "execution_count": 34,
     "metadata": {},
     "output_type": "execute_result"
    }
   ],
   "source": [
    "df.groupby('Sex')[\"Age\"].mean()"
   ]
  },
  {
   "cell_type": "code",
   "execution_count": 35,
   "id": "8c1851bd",
   "metadata": {},
   "outputs": [],
   "source": [
    "df[\"Age\"]=df[\"Age\"].fillna(df.groupby(\"Title\")[\"Age\"].transform(\"median\"))"
   ]
  },
  {
   "cell_type": "code",
   "execution_count": 36,
   "id": "e5056daa",
   "metadata": {},
   "outputs": [
    {
     "data": {
      "text/plain": [
       "PassengerId      0\n",
       "Survived       418\n",
       "Pclass           0\n",
       "Sex              0\n",
       "Age              0\n",
       "SibSp            0\n",
       "Parch            0\n",
       "Ticket           0\n",
       "Fare             0\n",
       "Embarked         0\n",
       "Title            0\n",
       "dtype: int64"
      ]
     },
     "execution_count": 36,
     "metadata": {},
     "output_type": "execute_result"
    }
   ],
   "source": [
    "df.isnull().sum()"
   ]
  },
  {
   "cell_type": "code",
   "execution_count": 37,
   "id": "5894a584",
   "metadata": {},
   "outputs": [],
   "source": [
    "df[\"Family\"]=df[\"SibSp\"]+df[\"Parch\"]+1"
   ]
  },
  {
   "cell_type": "code",
   "execution_count": 38,
   "id": "fc3e5160",
   "metadata": {},
   "outputs": [
    {
     "data": {
      "text/html": [
       "<div>\n",
       "<style scoped>\n",
       "    .dataframe tbody tr th:only-of-type {\n",
       "        vertical-align: middle;\n",
       "    }\n",
       "\n",
       "    .dataframe tbody tr th {\n",
       "        vertical-align: top;\n",
       "    }\n",
       "\n",
       "    .dataframe thead th {\n",
       "        text-align: right;\n",
       "    }\n",
       "</style>\n",
       "<table border=\"1\" class=\"dataframe\">\n",
       "  <thead>\n",
       "    <tr style=\"text-align: right;\">\n",
       "      <th></th>\n",
       "      <th>PassengerId</th>\n",
       "      <th>Survived</th>\n",
       "      <th>Pclass</th>\n",
       "      <th>Sex</th>\n",
       "      <th>Age</th>\n",
       "      <th>SibSp</th>\n",
       "      <th>Parch</th>\n",
       "      <th>Ticket</th>\n",
       "      <th>Fare</th>\n",
       "      <th>Embarked</th>\n",
       "      <th>Title</th>\n",
       "      <th>Family</th>\n",
       "    </tr>\n",
       "  </thead>\n",
       "  <tbody>\n",
       "    <tr>\n",
       "      <th>0</th>\n",
       "      <td>1</td>\n",
       "      <td>0.0</td>\n",
       "      <td>3</td>\n",
       "      <td>male</td>\n",
       "      <td>22.0</td>\n",
       "      <td>1</td>\n",
       "      <td>0</td>\n",
       "      <td>A/5 21171</td>\n",
       "      <td>7.2500</td>\n",
       "      <td>S</td>\n",
       "      <td>Mr</td>\n",
       "      <td>2</td>\n",
       "    </tr>\n",
       "    <tr>\n",
       "      <th>1</th>\n",
       "      <td>2</td>\n",
       "      <td>1.0</td>\n",
       "      <td>1</td>\n",
       "      <td>female</td>\n",
       "      <td>38.0</td>\n",
       "      <td>1</td>\n",
       "      <td>0</td>\n",
       "      <td>PC 17599</td>\n",
       "      <td>71.2833</td>\n",
       "      <td>C</td>\n",
       "      <td>Mrs</td>\n",
       "      <td>2</td>\n",
       "    </tr>\n",
       "    <tr>\n",
       "      <th>2</th>\n",
       "      <td>3</td>\n",
       "      <td>1.0</td>\n",
       "      <td>3</td>\n",
       "      <td>female</td>\n",
       "      <td>26.0</td>\n",
       "      <td>0</td>\n",
       "      <td>0</td>\n",
       "      <td>STON/O2. 3101282</td>\n",
       "      <td>7.9250</td>\n",
       "      <td>S</td>\n",
       "      <td>Miss</td>\n",
       "      <td>1</td>\n",
       "    </tr>\n",
       "    <tr>\n",
       "      <th>3</th>\n",
       "      <td>4</td>\n",
       "      <td>1.0</td>\n",
       "      <td>1</td>\n",
       "      <td>female</td>\n",
       "      <td>35.0</td>\n",
       "      <td>1</td>\n",
       "      <td>0</td>\n",
       "      <td>113803</td>\n",
       "      <td>53.1000</td>\n",
       "      <td>S</td>\n",
       "      <td>Mrs</td>\n",
       "      <td>2</td>\n",
       "    </tr>\n",
       "    <tr>\n",
       "      <th>4</th>\n",
       "      <td>5</td>\n",
       "      <td>0.0</td>\n",
       "      <td>3</td>\n",
       "      <td>male</td>\n",
       "      <td>35.0</td>\n",
       "      <td>0</td>\n",
       "      <td>0</td>\n",
       "      <td>373450</td>\n",
       "      <td>8.0500</td>\n",
       "      <td>S</td>\n",
       "      <td>Mr</td>\n",
       "      <td>1</td>\n",
       "    </tr>\n",
       "  </tbody>\n",
       "</table>\n",
       "</div>"
      ],
      "text/plain": [
       "   PassengerId  Survived  Pclass     Sex   Age  SibSp  Parch  \\\n",
       "0            1       0.0       3    male  22.0      1      0   \n",
       "1            2       1.0       1  female  38.0      1      0   \n",
       "2            3       1.0       3  female  26.0      0      0   \n",
       "3            4       1.0       1  female  35.0      1      0   \n",
       "4            5       0.0       3    male  35.0      0      0   \n",
       "\n",
       "             Ticket     Fare Embarked Title  Family  \n",
       "0         A/5 21171   7.2500        S    Mr       2  \n",
       "1          PC 17599  71.2833        C   Mrs       2  \n",
       "2  STON/O2. 3101282   7.9250        S  Miss       1  \n",
       "3            113803  53.1000        S   Mrs       2  \n",
       "4            373450   8.0500        S    Mr       1  "
      ]
     },
     "execution_count": 38,
     "metadata": {},
     "output_type": "execute_result"
    }
   ],
   "source": [
    "df.head()"
   ]
  },
  {
   "cell_type": "code",
   "execution_count": 39,
   "id": "703dad1b",
   "metadata": {},
   "outputs": [],
   "source": [
    "df.drop([\"PassengerId\",\"Ticket\"],axis=1, inplace=True)"
   ]
  },
  {
   "cell_type": "code",
   "execution_count": 40,
   "id": "e8568061",
   "metadata": {},
   "outputs": [],
   "source": [
    "data=pd.get_dummies(df,drop_first=True)"
   ]
  },
  {
   "cell_type": "code",
   "execution_count": 41,
   "id": "450be405",
   "metadata": {},
   "outputs": [],
   "source": [
    "train=data[:891]\n",
    "test=data[891:]"
   ]
  },
  {
   "cell_type": "code",
   "execution_count": 42,
   "id": "08e48b32",
   "metadata": {},
   "outputs": [],
   "source": [
    "y=train[\"Survived\"]"
   ]
  },
  {
   "cell_type": "code",
   "execution_count": 43,
   "id": "b4602011",
   "metadata": {},
   "outputs": [],
   "source": [
    "x=train.drop(\"Survived\",axis=1)"
   ]
  },
  {
   "cell_type": "code",
   "execution_count": 44,
   "id": "a307b458",
   "metadata": {},
   "outputs": [],
   "source": [
    "from keras.models import Sequential\n",
    "from keras.layers import Dense\n",
    "from tensorflow.keras.layers import BatchNormalization"
   ]
  },
  {
   "cell_type": "code",
   "execution_count": 45,
   "id": "d69dc028",
   "metadata": {},
   "outputs": [],
   "source": [
    "model=Sequential()\n",
    "model.add(Dense(12,activation='relu'))\n",
    "model.add(Dense(10,activation='relu'))\n",
    "model.add(Dense(6,activation='relu'))\n",
    "model.add(Dense(1,activation='sigmoid'))\n",
    "model.compile(loss=\"binary_crossentropy\",optimizer=\"adam\",metrics=\"accuracy\")"
   ]
  },
  {
   "cell_type": "code",
   "execution_count": 46,
   "id": "2e575f43",
   "metadata": {},
   "outputs": [
    {
     "name": "stdout",
     "output_type": "stream",
     "text": [
      "Epoch 1/150\n",
      "90/90 [==============================] - 1s 1ms/step - loss: 1.7300 - accuracy: 0.6128\n",
      "Epoch 2/150\n",
      "90/90 [==============================] - 0s 2ms/step - loss: 0.6411 - accuracy: 0.6756\n",
      "Epoch 3/150\n",
      "90/90 [==============================] - 0s 2ms/step - loss: 0.5974 - accuracy: 0.7093\n",
      "Epoch 4/150\n",
      "90/90 [==============================] - 0s 2ms/step - loss: 0.5599 - accuracy: 0.7318\n",
      "Epoch 5/150\n",
      "90/90 [==============================] - 0s 2ms/step - loss: 0.5317 - accuracy: 0.7407\n",
      "Epoch 6/150\n",
      "90/90 [==============================] - 0s 2ms/step - loss: 0.5049 - accuracy: 0.7609\n",
      "Epoch 7/150\n",
      "90/90 [==============================] - 0s 2ms/step - loss: 0.4849 - accuracy: 0.7565\n",
      "Epoch 8/150\n",
      "90/90 [==============================] - 0s 2ms/step - loss: 0.4690 - accuracy: 0.7823\n",
      "Epoch 9/150\n",
      "90/90 [==============================] - 0s 2ms/step - loss: 0.4706 - accuracy: 0.7856\n",
      "Epoch 10/150\n",
      "90/90 [==============================] - 0s 2ms/step - loss: 0.4545 - accuracy: 0.7879\n",
      "Epoch 11/150\n",
      "90/90 [==============================] - 0s 2ms/step - loss: 0.4579 - accuracy: 0.7946\n",
      "Epoch 12/150\n",
      "90/90 [==============================] - 0s 2ms/step - loss: 0.4501 - accuracy: 0.7969\n",
      "Epoch 13/150\n",
      "90/90 [==============================] - 0s 2ms/step - loss: 0.4566 - accuracy: 0.7868\n",
      "Epoch 14/150\n",
      "90/90 [==============================] - 0s 2ms/step - loss: 0.4439 - accuracy: 0.7957\n",
      "Epoch 15/150\n",
      "90/90 [==============================] - 0s 2ms/step - loss: 0.4502 - accuracy: 0.7957\n",
      "Epoch 16/150\n",
      "90/90 [==============================] - 0s 2ms/step - loss: 0.4435 - accuracy: 0.7924\n",
      "Epoch 17/150\n",
      "90/90 [==============================] - 0s 1ms/step - loss: 0.4658 - accuracy: 0.7811\n",
      "Epoch 18/150\n",
      "90/90 [==============================] - 0s 2ms/step - loss: 0.4426 - accuracy: 0.8002\n",
      "Epoch 19/150\n",
      "90/90 [==============================] - 0s 2ms/step - loss: 0.4371 - accuracy: 0.8103\n",
      "Epoch 20/150\n",
      "90/90 [==============================] - 0s 2ms/step - loss: 0.4265 - accuracy: 0.8036\n",
      "Epoch 21/150\n",
      "90/90 [==============================] - 0s 2ms/step - loss: 0.4250 - accuracy: 0.8103\n",
      "Epoch 22/150\n",
      "90/90 [==============================] - 0s 2ms/step - loss: 0.4230 - accuracy: 0.8193\n",
      "Epoch 23/150\n",
      "90/90 [==============================] - 0s 2ms/step - loss: 0.4218 - accuracy: 0.8204\n",
      "Epoch 24/150\n",
      "90/90 [==============================] - 0s 2ms/step - loss: 0.4334 - accuracy: 0.8227\n",
      "Epoch 25/150\n",
      "90/90 [==============================] - 0s 2ms/step - loss: 0.4297 - accuracy: 0.8159\n",
      "Epoch 26/150\n",
      "90/90 [==============================] - 0s 2ms/step - loss: 0.4253 - accuracy: 0.8238\n",
      "Epoch 27/150\n",
      "90/90 [==============================] - 0s 2ms/step - loss: 0.4241 - accuracy: 0.8148\n",
      "Epoch 28/150\n",
      "90/90 [==============================] - 0s 2ms/step - loss: 0.4241 - accuracy: 0.8171\n",
      "Epoch 29/150\n",
      "90/90 [==============================] - 0s 2ms/step - loss: 0.4184 - accuracy: 0.8227\n",
      "Epoch 30/150\n",
      "90/90 [==============================] - 0s 2ms/step - loss: 0.4280 - accuracy: 0.8148\n",
      "Epoch 31/150\n",
      "90/90 [==============================] - 0s 2ms/step - loss: 0.4230 - accuracy: 0.8171\n",
      "Epoch 32/150\n",
      "90/90 [==============================] - 0s 1ms/step - loss: 0.4147 - accuracy: 0.8159\n",
      "Epoch 33/150\n",
      "90/90 [==============================] - 0s 2ms/step - loss: 0.4130 - accuracy: 0.8328\n",
      "Epoch 34/150\n",
      "90/90 [==============================] - 0s 2ms/step - loss: 0.4142 - accuracy: 0.8148\n",
      "Epoch 35/150\n",
      "90/90 [==============================] - 0s 2ms/step - loss: 0.4172 - accuracy: 0.8227\n",
      "Epoch 36/150\n",
      "90/90 [==============================] - 0s 2ms/step - loss: 0.4205 - accuracy: 0.8126\n",
      "Epoch 37/150\n",
      "90/90 [==============================] - 0s 2ms/step - loss: 0.4113 - accuracy: 0.8238\n",
      "Epoch 38/150\n",
      "90/90 [==============================] - 0s 2ms/step - loss: 0.4090 - accuracy: 0.8238\n",
      "Epoch 39/150\n",
      "90/90 [==============================] - 0s 2ms/step - loss: 0.4113 - accuracy: 0.8159\n",
      "Epoch 40/150\n",
      "90/90 [==============================] - 0s 2ms/step - loss: 0.4137 - accuracy: 0.8227\n",
      "Epoch 41/150\n",
      "90/90 [==============================] - 0s 2ms/step - loss: 0.4167 - accuracy: 0.8215\n",
      "Epoch 42/150\n",
      "90/90 [==============================] - 0s 2ms/step - loss: 0.4274 - accuracy: 0.8148\n",
      "Epoch 43/150\n",
      "90/90 [==============================] - 0s 2ms/step - loss: 0.4065 - accuracy: 0.8238\n",
      "Epoch 44/150\n",
      "90/90 [==============================] - 0s 2ms/step - loss: 0.4065 - accuracy: 0.8204\n",
      "Epoch 45/150\n",
      "90/90 [==============================] - 0s 2ms/step - loss: 0.4191 - accuracy: 0.8215\n",
      "Epoch 46/150\n",
      "90/90 [==============================] - 0s 2ms/step - loss: 0.4205 - accuracy: 0.8092\n",
      "Epoch 47/150\n",
      "90/90 [==============================] - 0s 2ms/step - loss: 0.4071 - accuracy: 0.8227\n",
      "Epoch 48/150\n",
      "90/90 [==============================] - 0s 2ms/step - loss: 0.4073 - accuracy: 0.8272\n",
      "Epoch 49/150\n",
      "90/90 [==============================] - 0s 2ms/step - loss: 0.4071 - accuracy: 0.8227\n",
      "Epoch 50/150\n",
      "90/90 [==============================] - 0s 2ms/step - loss: 0.4045 - accuracy: 0.8215\n",
      "Epoch 51/150\n",
      "90/90 [==============================] - 0s 2ms/step - loss: 0.4026 - accuracy: 0.8182\n",
      "Epoch 52/150\n",
      "90/90 [==============================] - 0s 2ms/step - loss: 0.4026 - accuracy: 0.8316\n",
      "Epoch 53/150\n",
      "90/90 [==============================] - 0s 2ms/step - loss: 0.4037 - accuracy: 0.8260\n",
      "Epoch 54/150\n",
      "90/90 [==============================] - 0s 2ms/step - loss: 0.4216 - accuracy: 0.8126\n",
      "Epoch 55/150\n",
      "90/90 [==============================] - 0s 2ms/step - loss: 0.4046 - accuracy: 0.8137\n",
      "Epoch 56/150\n",
      "90/90 [==============================] - 0s 2ms/step - loss: 0.4035 - accuracy: 0.8171\n",
      "Epoch 57/150\n",
      "90/90 [==============================] - 0s 2ms/step - loss: 0.4019 - accuracy: 0.8339\n",
      "Epoch 58/150\n",
      "90/90 [==============================] - 0s 2ms/step - loss: 0.4033 - accuracy: 0.8305\n",
      "Epoch 59/150\n",
      "90/90 [==============================] - 0s 2ms/step - loss: 0.4050 - accuracy: 0.8249\n",
      "Epoch 60/150\n",
      "90/90 [==============================] - 0s 2ms/step - loss: 0.4045 - accuracy: 0.8272\n",
      "Epoch 61/150\n",
      "90/90 [==============================] - 0s 2ms/step - loss: 0.4135 - accuracy: 0.8193\n",
      "Epoch 62/150\n",
      "90/90 [==============================] - 0s 2ms/step - loss: 0.4017 - accuracy: 0.8159\n",
      "Epoch 63/150\n",
      "90/90 [==============================] - 0s 2ms/step - loss: 0.3984 - accuracy: 0.8249\n",
      "Epoch 64/150\n",
      "90/90 [==============================] - 0s 2ms/step - loss: 0.4101 - accuracy: 0.8215\n",
      "Epoch 65/150\n",
      "90/90 [==============================] - 0s 2ms/step - loss: 0.4032 - accuracy: 0.8193\n",
      "Epoch 66/150\n",
      "90/90 [==============================] - 0s 2ms/step - loss: 0.4056 - accuracy: 0.8283\n",
      "Epoch 67/150\n",
      "90/90 [==============================] - 0s 2ms/step - loss: 0.3984 - accuracy: 0.8294\n",
      "Epoch 68/150\n",
      "90/90 [==============================] - 0s 2ms/step - loss: 0.3982 - accuracy: 0.8260\n",
      "Epoch 69/150\n",
      "90/90 [==============================] - 0s 2ms/step - loss: 0.4000 - accuracy: 0.8182\n",
      "Epoch 70/150\n",
      "90/90 [==============================] - 0s 2ms/step - loss: 0.4032 - accuracy: 0.8227\n",
      "Epoch 71/150\n",
      "90/90 [==============================] - 0s 2ms/step - loss: 0.4080 - accuracy: 0.8193\n",
      "Epoch 72/150\n",
      "90/90 [==============================] - 0s 2ms/step - loss: 0.3947 - accuracy: 0.8249\n",
      "Epoch 73/150\n",
      "90/90 [==============================] - 0s 2ms/step - loss: 0.3957 - accuracy: 0.8305\n",
      "Epoch 74/150\n",
      "90/90 [==============================] - 0s 2ms/step - loss: 0.4010 - accuracy: 0.8182\n",
      "Epoch 75/150\n",
      "90/90 [==============================] - 0s 2ms/step - loss: 0.3998 - accuracy: 0.8193\n",
      "Epoch 76/150\n",
      "90/90 [==============================] - 0s 2ms/step - loss: 0.4026 - accuracy: 0.8137\n",
      "Epoch 77/150\n",
      "90/90 [==============================] - 0s 2ms/step - loss: 0.4020 - accuracy: 0.8316\n",
      "Epoch 78/150\n",
      "90/90 [==============================] - 0s 2ms/step - loss: 0.4036 - accuracy: 0.8238\n",
      "Epoch 79/150\n",
      "90/90 [==============================] - 0s 2ms/step - loss: 0.4026 - accuracy: 0.8283\n",
      "Epoch 80/150\n",
      "90/90 [==============================] - 0s 2ms/step - loss: 0.4001 - accuracy: 0.8227\n",
      "Epoch 81/150\n",
      "90/90 [==============================] - 0s 2ms/step - loss: 0.3972 - accuracy: 0.8171\n",
      "Epoch 82/150\n",
      "90/90 [==============================] - 0s 2ms/step - loss: 0.3972 - accuracy: 0.8260\n",
      "Epoch 83/150\n"
     ]
    },
    {
     "name": "stdout",
     "output_type": "stream",
     "text": [
      "90/90 [==============================] - 0s 2ms/step - loss: 0.3987 - accuracy: 0.8260\n",
      "Epoch 84/150\n",
      "90/90 [==============================] - 0s 2ms/step - loss: 0.4111 - accuracy: 0.8249\n",
      "Epoch 85/150\n",
      "90/90 [==============================] - 0s 2ms/step - loss: 0.4067 - accuracy: 0.8215\n",
      "Epoch 86/150\n",
      "90/90 [==============================] - 0s 1ms/step - loss: 0.3980 - accuracy: 0.8350\n",
      "Epoch 87/150\n",
      "90/90 [==============================] - 0s 1ms/step - loss: 0.4022 - accuracy: 0.8137\n",
      "Epoch 88/150\n",
      "90/90 [==============================] - 0s 1ms/step - loss: 0.3925 - accuracy: 0.8238\n",
      "Epoch 89/150\n",
      "90/90 [==============================] - 0s 2ms/step - loss: 0.3987 - accuracy: 0.8215\n",
      "Epoch 90/150\n",
      "90/90 [==============================] - 0s 2ms/step - loss: 0.4006 - accuracy: 0.8215\n",
      "Epoch 91/150\n",
      "90/90 [==============================] - 0s 2ms/step - loss: 0.3983 - accuracy: 0.8249\n",
      "Epoch 92/150\n",
      "90/90 [==============================] - 0s 2ms/step - loss: 0.4009 - accuracy: 0.8171\n",
      "Epoch 93/150\n",
      "90/90 [==============================] - 0s 2ms/step - loss: 0.3952 - accuracy: 0.8272\n",
      "Epoch 94/150\n",
      "90/90 [==============================] - 0s 2ms/step - loss: 0.3881 - accuracy: 0.8294\n",
      "Epoch 95/150\n",
      "90/90 [==============================] - 0s 2ms/step - loss: 0.3955 - accuracy: 0.8238\n",
      "Epoch 96/150\n",
      "90/90 [==============================] - 0s 2ms/step - loss: 0.3943 - accuracy: 0.8227\n",
      "Epoch 97/150\n",
      "90/90 [==============================] - 0s 2ms/step - loss: 0.3984 - accuracy: 0.8316\n",
      "Epoch 98/150\n",
      "90/90 [==============================] - 0s 2ms/step - loss: 0.3932 - accuracy: 0.8238\n",
      "Epoch 99/150\n",
      "90/90 [==============================] - 0s 2ms/step - loss: 0.3946 - accuracy: 0.8171\n",
      "Epoch 100/150\n",
      "90/90 [==============================] - 0s 2ms/step - loss: 0.4021 - accuracy: 0.8294\n",
      "Epoch 101/150\n",
      "90/90 [==============================] - 0s 1ms/step - loss: 0.4031 - accuracy: 0.8171\n",
      "Epoch 102/150\n",
      "90/90 [==============================] - 0s 1ms/step - loss: 0.3910 - accuracy: 0.8283\n",
      "Epoch 103/150\n",
      "90/90 [==============================] - 0s 1ms/step - loss: 0.3890 - accuracy: 0.8339\n",
      "Epoch 104/150\n",
      "90/90 [==============================] - 0s 1ms/step - loss: 0.4004 - accuracy: 0.8193\n",
      "Epoch 105/150\n",
      "90/90 [==============================] - 0s 1ms/step - loss: 0.4083 - accuracy: 0.8215\n",
      "Epoch 106/150\n",
      "90/90 [==============================] - 0s 1ms/step - loss: 0.3906 - accuracy: 0.8227\n",
      "Epoch 107/150\n",
      "90/90 [==============================] - 0s 1ms/step - loss: 0.3928 - accuracy: 0.8294\n",
      "Epoch 108/150\n",
      "90/90 [==============================] - 0s 1ms/step - loss: 0.3916 - accuracy: 0.8350\n",
      "Epoch 109/150\n",
      "90/90 [==============================] - 0s 1ms/step - loss: 0.3967 - accuracy: 0.8350\n",
      "Epoch 110/150\n",
      "90/90 [==============================] - 0s 1ms/step - loss: 0.4008 - accuracy: 0.8316\n",
      "Epoch 111/150\n",
      "90/90 [==============================] - 0s 1ms/step - loss: 0.3931 - accuracy: 0.8328\n",
      "Epoch 112/150\n",
      "90/90 [==============================] - 0s 1ms/step - loss: 0.3892 - accuracy: 0.8350\n",
      "Epoch 113/150\n",
      "90/90 [==============================] - 0s 1ms/step - loss: 0.3902 - accuracy: 0.8272\n",
      "Epoch 114/150\n",
      "90/90 [==============================] - 0s 1ms/step - loss: 0.3895 - accuracy: 0.8305\n",
      "Epoch 115/150\n",
      "90/90 [==============================] - 0s 1ms/step - loss: 0.3985 - accuracy: 0.8361\n",
      "Epoch 116/150\n",
      "90/90 [==============================] - 0s 2ms/step - loss: 0.3914 - accuracy: 0.8272\n",
      "Epoch 117/150\n",
      "90/90 [==============================] - 0s 2ms/step - loss: 0.3983 - accuracy: 0.8316\n",
      "Epoch 118/150\n",
      "90/90 [==============================] - 0s 2ms/step - loss: 0.3901 - accuracy: 0.8373\n",
      "Epoch 119/150\n",
      "90/90 [==============================] - 0s 1ms/step - loss: 0.3841 - accuracy: 0.8350\n",
      "Epoch 120/150\n",
      "90/90 [==============================] - 0s 1ms/step - loss: 0.3839 - accuracy: 0.8294\n",
      "Epoch 121/150\n",
      "90/90 [==============================] - 0s 1ms/step - loss: 0.3942 - accuracy: 0.8316\n",
      "Epoch 122/150\n",
      "90/90 [==============================] - 0s 1ms/step - loss: 0.3924 - accuracy: 0.8238\n",
      "Epoch 123/150\n",
      "90/90 [==============================] - 0s 2ms/step - loss: 0.3957 - accuracy: 0.8227\n",
      "Epoch 124/150\n",
      "90/90 [==============================] - 0s 1ms/step - loss: 0.3965 - accuracy: 0.8272\n",
      "Epoch 125/150\n",
      "90/90 [==============================] - 0s 2ms/step - loss: 0.3869 - accuracy: 0.8361\n",
      "Epoch 126/150\n",
      "90/90 [==============================] - 0s 2ms/step - loss: 0.3952 - accuracy: 0.8193\n",
      "Epoch 127/150\n",
      "90/90 [==============================] - 0s 2ms/step - loss: 0.3883 - accuracy: 0.8350\n",
      "Epoch 128/150\n",
      "90/90 [==============================] - 0s 2ms/step - loss: 0.3853 - accuracy: 0.8294\n",
      "Epoch 129/150\n",
      "90/90 [==============================] - 0s 2ms/step - loss: 0.3823 - accuracy: 0.8361\n",
      "Epoch 130/150\n",
      "90/90 [==============================] - 0s 2ms/step - loss: 0.3932 - accuracy: 0.8316\n",
      "Epoch 131/150\n",
      "90/90 [==============================] - 0s 2ms/step - loss: 0.3873 - accuracy: 0.8305\n",
      "Epoch 132/150\n",
      "90/90 [==============================] - 0s 2ms/step - loss: 0.3892 - accuracy: 0.8283\n",
      "Epoch 133/150\n",
      "90/90 [==============================] - 0s 2ms/step - loss: 0.3918 - accuracy: 0.8272\n",
      "Epoch 134/150\n",
      "90/90 [==============================] - 0s 2ms/step - loss: 0.3907 - accuracy: 0.8350\n",
      "Epoch 135/150\n",
      "90/90 [==============================] - 0s 2ms/step - loss: 0.3894 - accuracy: 0.8283\n",
      "Epoch 136/150\n",
      "90/90 [==============================] - 0s 2ms/step - loss: 0.3845 - accuracy: 0.8305\n",
      "Epoch 137/150\n",
      "90/90 [==============================] - 0s 2ms/step - loss: 0.3950 - accuracy: 0.8294\n",
      "Epoch 138/150\n",
      "90/90 [==============================] - 0s 2ms/step - loss: 0.3916 - accuracy: 0.8272\n",
      "Epoch 139/150\n",
      "90/90 [==============================] - 0s 2ms/step - loss: 0.3956 - accuracy: 0.8238\n",
      "Epoch 140/150\n",
      "90/90 [==============================] - 0s 2ms/step - loss: 0.3936 - accuracy: 0.8249\n",
      "Epoch 141/150\n",
      "90/90 [==============================] - 0s 2ms/step - loss: 0.3929 - accuracy: 0.8272\n",
      "Epoch 142/150\n",
      "90/90 [==============================] - 0s 2ms/step - loss: 0.3867 - accuracy: 0.8294\n",
      "Epoch 143/150\n",
      "90/90 [==============================] - 0s 2ms/step - loss: 0.3897 - accuracy: 0.8316\n",
      "Epoch 144/150\n",
      "90/90 [==============================] - 0s 2ms/step - loss: 0.3889 - accuracy: 0.8339\n",
      "Epoch 145/150\n",
      "90/90 [==============================] - 0s 2ms/step - loss: 0.3832 - accuracy: 0.8294\n",
      "Epoch 146/150\n",
      "90/90 [==============================] - 0s 2ms/step - loss: 0.3854 - accuracy: 0.8227\n",
      "Epoch 147/150\n",
      "90/90 [==============================] - 0s 2ms/step - loss: 0.4018 - accuracy: 0.8339\n",
      "Epoch 148/150\n",
      "90/90 [==============================] - 0s 2ms/step - loss: 0.3923 - accuracy: 0.8260\n",
      "Epoch 149/150\n",
      "90/90 [==============================] - 0s 2ms/step - loss: 0.3906 - accuracy: 0.8193\n",
      "Epoch 150/150\n",
      "90/90 [==============================] - 0s 2ms/step - loss: 0.3863 - accuracy: 0.8339\n"
     ]
    },
    {
     "data": {
      "text/plain": [
       "<keras.callbacks.History at 0x2253a6e8e80>"
      ]
     },
     "execution_count": 46,
     "metadata": {},
     "output_type": "execute_result"
    }
   ],
   "source": [
    "model.fit(x,y,epochs=150,batch_size=10,verbose=1)"
   ]
  },
  {
   "cell_type": "code",
   "execution_count": 47,
   "id": "5c65f8f6",
   "metadata": {},
   "outputs": [
    {
     "name": "stdout",
     "output_type": "stream",
     "text": [
      "Model: \"sequential\"\n",
      "_________________________________________________________________\n",
      " Layer (type)                Output Shape              Param #   \n",
      "=================================================================\n",
      " dense (Dense)               (None, 12)                156       \n",
      "                                                                 \n",
      " dense_1 (Dense)             (None, 10)                130       \n",
      "                                                                 \n",
      " dense_2 (Dense)             (None, 6)                 66        \n",
      "                                                                 \n",
      " dense_3 (Dense)             (None, 1)                 7         \n",
      "                                                                 \n",
      "=================================================================\n",
      "Total params: 359\n",
      "Trainable params: 359\n",
      "Non-trainable params: 0\n",
      "_________________________________________________________________\n"
     ]
    }
   ],
   "source": [
    "model.summary()"
   ]
  },
  {
   "cell_type": "code",
   "execution_count": 48,
   "id": "75bfba18",
   "metadata": {},
   "outputs": [
    {
     "name": "stdout",
     "output_type": "stream",
     "text": [
      "28/28 [==============================] - 0s 2ms/step - loss: 0.4036 - accuracy: 0.8316\n"
     ]
    }
   ],
   "source": [
    "scores=model.evaluate(x,y)"
   ]
  },
  {
   "cell_type": "code",
   "execution_count": 50,
   "id": "ddcecc4b",
   "metadata": {},
   "outputs": [
    {
     "name": "stdout",
     "output_type": "stream",
     "text": [
      "Epoch 1/150\n",
      "72/72 [==============================] - 0s 3ms/step - loss: 0.4156 - accuracy: 0.8258 - val_loss: 0.3018 - val_accuracy: 0.8715\n",
      "Epoch 2/150\n",
      "72/72 [==============================] - 0s 3ms/step - loss: 0.4050 - accuracy: 0.8272 - val_loss: 0.2999 - val_accuracy: 0.8715\n",
      "Epoch 3/150\n",
      "72/72 [==============================] - 0s 3ms/step - loss: 0.4029 - accuracy: 0.8272 - val_loss: 0.3152 - val_accuracy: 0.8715\n",
      "Epoch 4/150\n",
      "72/72 [==============================] - 0s 3ms/step - loss: 0.4083 - accuracy: 0.8301 - val_loss: 0.3018 - val_accuracy: 0.8659\n",
      "Epoch 5/150\n",
      "72/72 [==============================] - 0s 2ms/step - loss: 0.4017 - accuracy: 0.8272 - val_loss: 0.3139 - val_accuracy: 0.8547\n",
      "Epoch 6/150\n",
      "72/72 [==============================] - 0s 3ms/step - loss: 0.4084 - accuracy: 0.8216 - val_loss: 0.3031 - val_accuracy: 0.8715\n",
      "Epoch 7/150\n",
      "72/72 [==============================] - 0s 3ms/step - loss: 0.4030 - accuracy: 0.8287 - val_loss: 0.2991 - val_accuracy: 0.8715\n",
      "Epoch 8/150\n",
      "72/72 [==============================] - 0s 3ms/step - loss: 0.4025 - accuracy: 0.8244 - val_loss: 0.3122 - val_accuracy: 0.8603\n",
      "Epoch 9/150\n",
      "72/72 [==============================] - 0s 3ms/step - loss: 0.4113 - accuracy: 0.8062 - val_loss: 0.3083 - val_accuracy: 0.8715\n",
      "Epoch 10/150\n",
      "72/72 [==============================] - 0s 3ms/step - loss: 0.4032 - accuracy: 0.8287 - val_loss: 0.3049 - val_accuracy: 0.8715\n",
      "Epoch 11/150\n",
      "72/72 [==============================] - 0s 3ms/step - loss: 0.4129 - accuracy: 0.8230 - val_loss: 0.3056 - val_accuracy: 0.8603\n",
      "Epoch 12/150\n",
      "72/72 [==============================] - 0s 3ms/step - loss: 0.4063 - accuracy: 0.8258 - val_loss: 0.3162 - val_accuracy: 0.8603\n",
      "Epoch 13/150\n",
      "72/72 [==============================] - 0s 3ms/step - loss: 0.4197 - accuracy: 0.8244 - val_loss: 0.3091 - val_accuracy: 0.8715\n",
      "Epoch 14/150\n",
      "72/72 [==============================] - 0s 3ms/step - loss: 0.4030 - accuracy: 0.8188 - val_loss: 0.3002 - val_accuracy: 0.8659\n",
      "Epoch 15/150\n",
      "72/72 [==============================] - 0s 3ms/step - loss: 0.4056 - accuracy: 0.8301 - val_loss: 0.3272 - val_accuracy: 0.8603\n",
      "Epoch 16/150\n",
      "72/72 [==============================] - 0s 3ms/step - loss: 0.4097 - accuracy: 0.8230 - val_loss: 0.3214 - val_accuracy: 0.8715\n",
      "Epoch 17/150\n",
      "72/72 [==============================] - 0s 2ms/step - loss: 0.4022 - accuracy: 0.8244 - val_loss: 0.3368 - val_accuracy: 0.8492\n",
      "Epoch 18/150\n",
      "72/72 [==============================] - 0s 2ms/step - loss: 0.4052 - accuracy: 0.8188 - val_loss: 0.3119 - val_accuracy: 0.8492\n",
      "Epoch 19/150\n",
      "72/72 [==============================] - 0s 2ms/step - loss: 0.4075 - accuracy: 0.8188 - val_loss: 0.3089 - val_accuracy: 0.8547\n",
      "Epoch 20/150\n",
      "72/72 [==============================] - 0s 3ms/step - loss: 0.4062 - accuracy: 0.8160 - val_loss: 0.3135 - val_accuracy: 0.8547\n",
      "Epoch 21/150\n",
      "72/72 [==============================] - 0s 2ms/step - loss: 0.4037 - accuracy: 0.8258 - val_loss: 0.3169 - val_accuracy: 0.8659\n",
      "Epoch 22/150\n",
      "72/72 [==============================] - 0s 3ms/step - loss: 0.4032 - accuracy: 0.8244 - val_loss: 0.3075 - val_accuracy: 0.8715\n",
      "Epoch 23/150\n",
      "72/72 [==============================] - 0s 2ms/step - loss: 0.4063 - accuracy: 0.8202 - val_loss: 0.3039 - val_accuracy: 0.8603\n",
      "Epoch 24/150\n",
      "72/72 [==============================] - 0s 2ms/step - loss: 0.4082 - accuracy: 0.8315 - val_loss: 0.3082 - val_accuracy: 0.8603\n",
      "Epoch 25/150\n",
      "72/72 [==============================] - 0s 2ms/step - loss: 0.4025 - accuracy: 0.8272 - val_loss: 0.3172 - val_accuracy: 0.8603\n",
      "Epoch 26/150\n",
      "72/72 [==============================] - 0s 2ms/step - loss: 0.4004 - accuracy: 0.8357 - val_loss: 0.3173 - val_accuracy: 0.8492\n",
      "Epoch 27/150\n",
      "72/72 [==============================] - 0s 2ms/step - loss: 0.4029 - accuracy: 0.8146 - val_loss: 0.3070 - val_accuracy: 0.8715\n",
      "Epoch 28/150\n",
      "72/72 [==============================] - 0s 3ms/step - loss: 0.4015 - accuracy: 0.8301 - val_loss: 0.3010 - val_accuracy: 0.8659\n",
      "Epoch 29/150\n",
      "72/72 [==============================] - 0s 2ms/step - loss: 0.3999 - accuracy: 0.8272 - val_loss: 0.3072 - val_accuracy: 0.8715\n",
      "Epoch 30/150\n",
      "72/72 [==============================] - 0s 2ms/step - loss: 0.4043 - accuracy: 0.8272 - val_loss: 0.3149 - val_accuracy: 0.8547\n",
      "Epoch 31/150\n",
      "72/72 [==============================] - 0s 3ms/step - loss: 0.4050 - accuracy: 0.8202 - val_loss: 0.3162 - val_accuracy: 0.8771\n",
      "Epoch 32/150\n",
      "72/72 [==============================] - 0s 3ms/step - loss: 0.4020 - accuracy: 0.8230 - val_loss: 0.3182 - val_accuracy: 0.8492\n",
      "Epoch 33/150\n",
      "72/72 [==============================] - 0s 2ms/step - loss: 0.3986 - accuracy: 0.8188 - val_loss: 0.3358 - val_accuracy: 0.8547\n",
      "Epoch 34/150\n",
      "72/72 [==============================] - 0s 2ms/step - loss: 0.3960 - accuracy: 0.8301 - val_loss: 0.3199 - val_accuracy: 0.8436\n",
      "Epoch 35/150\n",
      "72/72 [==============================] - 0s 2ms/step - loss: 0.4052 - accuracy: 0.8216 - val_loss: 0.3052 - val_accuracy: 0.8659\n",
      "Epoch 36/150\n",
      "72/72 [==============================] - 0s 3ms/step - loss: 0.3959 - accuracy: 0.8329 - val_loss: 0.3270 - val_accuracy: 0.8436\n",
      "Epoch 37/150\n",
      "72/72 [==============================] - 0s 3ms/step - loss: 0.4069 - accuracy: 0.8230 - val_loss: 0.3034 - val_accuracy: 0.8659\n",
      "Epoch 38/150\n",
      "72/72 [==============================] - 0s 2ms/step - loss: 0.4046 - accuracy: 0.8202 - val_loss: 0.3189 - val_accuracy: 0.8603\n",
      "Epoch 39/150\n",
      "72/72 [==============================] - 0s 2ms/step - loss: 0.4067 - accuracy: 0.8188 - val_loss: 0.3061 - val_accuracy: 0.8659\n",
      "Epoch 40/150\n",
      "72/72 [==============================] - 0s 2ms/step - loss: 0.4030 - accuracy: 0.8287 - val_loss: 0.3063 - val_accuracy: 0.8603\n",
      "Epoch 41/150\n",
      "72/72 [==============================] - 0s 2ms/step - loss: 0.4010 - accuracy: 0.8301 - val_loss: 0.3073 - val_accuracy: 0.8659\n",
      "Epoch 42/150\n",
      "72/72 [==============================] - 0s 2ms/step - loss: 0.4008 - accuracy: 0.8329 - val_loss: 0.3100 - val_accuracy: 0.8603\n",
      "Epoch 43/150\n",
      "72/72 [==============================] - 0s 3ms/step - loss: 0.3971 - accuracy: 0.8272 - val_loss: 0.3218 - val_accuracy: 0.8436\n",
      "Epoch 44/150\n",
      "72/72 [==============================] - 0s 2ms/step - loss: 0.4023 - accuracy: 0.8174 - val_loss: 0.3255 - val_accuracy: 0.8380\n",
      "Epoch 45/150\n",
      "72/72 [==============================] - 0s 2ms/step - loss: 0.4031 - accuracy: 0.8244 - val_loss: 0.3089 - val_accuracy: 0.8659\n",
      "Epoch 46/150\n",
      "72/72 [==============================] - 0s 2ms/step - loss: 0.4062 - accuracy: 0.8146 - val_loss: 0.3094 - val_accuracy: 0.8715\n",
      "Epoch 47/150\n",
      "72/72 [==============================] - 0s 3ms/step - loss: 0.4013 - accuracy: 0.8174 - val_loss: 0.3126 - val_accuracy: 0.8659\n",
      "Epoch 48/150\n",
      "72/72 [==============================] - 0s 3ms/step - loss: 0.4028 - accuracy: 0.8244 - val_loss: 0.3136 - val_accuracy: 0.8715\n",
      "Epoch 49/150\n",
      "72/72 [==============================] - 0s 3ms/step - loss: 0.4002 - accuracy: 0.8216 - val_loss: 0.3090 - val_accuracy: 0.8547\n",
      "Epoch 50/150\n",
      "72/72 [==============================] - 0s 3ms/step - loss: 0.4004 - accuracy: 0.8315 - val_loss: 0.3135 - val_accuracy: 0.8659\n",
      "Epoch 51/150\n",
      "72/72 [==============================] - 0s 3ms/step - loss: 0.4096 - accuracy: 0.8258 - val_loss: 0.3154 - val_accuracy: 0.8603\n",
      "Epoch 52/150\n",
      "72/72 [==============================] - 0s 3ms/step - loss: 0.4028 - accuracy: 0.8216 - val_loss: 0.3130 - val_accuracy: 0.8715\n",
      "Epoch 53/150\n",
      "72/72 [==============================] - 0s 3ms/step - loss: 0.4006 - accuracy: 0.8301 - val_loss: 0.3058 - val_accuracy: 0.8659\n",
      "Epoch 54/150\n",
      "72/72 [==============================] - 0s 3ms/step - loss: 0.4028 - accuracy: 0.8216 - val_loss: 0.3094 - val_accuracy: 0.8659\n",
      "Epoch 55/150\n",
      "72/72 [==============================] - 0s 3ms/step - loss: 0.4055 - accuracy: 0.8202 - val_loss: 0.3179 - val_accuracy: 0.8659\n",
      "Epoch 56/150\n",
      "72/72 [==============================] - 0s 2ms/step - loss: 0.4011 - accuracy: 0.8343 - val_loss: 0.3083 - val_accuracy: 0.8715\n",
      "Epoch 57/150\n",
      "72/72 [==============================] - 0s 2ms/step - loss: 0.3971 - accuracy: 0.8315 - val_loss: 0.3144 - val_accuracy: 0.8603\n",
      "Epoch 58/150\n",
      "72/72 [==============================] - 0s 2ms/step - loss: 0.4040 - accuracy: 0.8174 - val_loss: 0.3272 - val_accuracy: 0.8659\n"
     ]
    },
    {
     "name": "stdout",
     "output_type": "stream",
     "text": [
      "Epoch 59/150\n",
      "72/72 [==============================] - 0s 3ms/step - loss: 0.4049 - accuracy: 0.8287 - val_loss: 0.3126 - val_accuracy: 0.8547\n",
      "Epoch 60/150\n",
      "72/72 [==============================] - 0s 3ms/step - loss: 0.4116 - accuracy: 0.8202 - val_loss: 0.3176 - val_accuracy: 0.8715\n",
      "Epoch 61/150\n",
      "72/72 [==============================] - 0s 2ms/step - loss: 0.4068 - accuracy: 0.8272 - val_loss: 0.3128 - val_accuracy: 0.8715\n",
      "Epoch 62/150\n",
      "72/72 [==============================] - 0s 2ms/step - loss: 0.4020 - accuracy: 0.8244 - val_loss: 0.3150 - val_accuracy: 0.8659\n",
      "Epoch 63/150\n",
      "72/72 [==============================] - 0s 2ms/step - loss: 0.4074 - accuracy: 0.8146 - val_loss: 0.3080 - val_accuracy: 0.8659\n",
      "Epoch 64/150\n",
      "72/72 [==============================] - 0s 2ms/step - loss: 0.4077 - accuracy: 0.8272 - val_loss: 0.3478 - val_accuracy: 0.8547\n",
      "Epoch 65/150\n",
      "72/72 [==============================] - 0s 2ms/step - loss: 0.4031 - accuracy: 0.8258 - val_loss: 0.3206 - val_accuracy: 0.8659\n",
      "Epoch 66/150\n",
      "72/72 [==============================] - 0s 2ms/step - loss: 0.4007 - accuracy: 0.8188 - val_loss: 0.3085 - val_accuracy: 0.8715\n",
      "Epoch 67/150\n",
      "72/72 [==============================] - 0s 2ms/step - loss: 0.4026 - accuracy: 0.8287 - val_loss: 0.3160 - val_accuracy: 0.8547\n",
      "Epoch 68/150\n",
      "72/72 [==============================] - 0s 2ms/step - loss: 0.4059 - accuracy: 0.7992 - val_loss: 0.3193 - val_accuracy: 0.8603\n",
      "Epoch 69/150\n",
      "72/72 [==============================] - 0s 2ms/step - loss: 0.3991 - accuracy: 0.8230 - val_loss: 0.3071 - val_accuracy: 0.8603\n",
      "Epoch 70/150\n",
      "72/72 [==============================] - 0s 2ms/step - loss: 0.4123 - accuracy: 0.8202 - val_loss: 0.3088 - val_accuracy: 0.8659\n",
      "Epoch 71/150\n",
      "72/72 [==============================] - 0s 2ms/step - loss: 0.3982 - accuracy: 0.8202 - val_loss: 0.3104 - val_accuracy: 0.8603\n",
      "Epoch 72/150\n",
      "72/72 [==============================] - 0s 3ms/step - loss: 0.3981 - accuracy: 0.8301 - val_loss: 0.3129 - val_accuracy: 0.8603\n",
      "Epoch 73/150\n",
      "72/72 [==============================] - 0s 3ms/step - loss: 0.3981 - accuracy: 0.8244 - val_loss: 0.3074 - val_accuracy: 0.8659\n",
      "Epoch 74/150\n",
      "72/72 [==============================] - 0s 3ms/step - loss: 0.3969 - accuracy: 0.8244 - val_loss: 0.3059 - val_accuracy: 0.8659\n",
      "Epoch 75/150\n",
      "72/72 [==============================] - 0s 3ms/step - loss: 0.3959 - accuracy: 0.8315 - val_loss: 0.3108 - val_accuracy: 0.8603\n",
      "Epoch 76/150\n",
      "72/72 [==============================] - 0s 3ms/step - loss: 0.3984 - accuracy: 0.8258 - val_loss: 0.3095 - val_accuracy: 0.8659\n",
      "Epoch 77/150\n",
      "72/72 [==============================] - 0s 2ms/step - loss: 0.4012 - accuracy: 0.8216 - val_loss: 0.3140 - val_accuracy: 0.8659\n",
      "Epoch 78/150\n",
      "72/72 [==============================] - 0s 3ms/step - loss: 0.4021 - accuracy: 0.8272 - val_loss: 0.3151 - val_accuracy: 0.8603\n",
      "Epoch 79/150\n",
      "72/72 [==============================] - 0s 3ms/step - loss: 0.3952 - accuracy: 0.8230 - val_loss: 0.3130 - val_accuracy: 0.8715\n",
      "Epoch 80/150\n",
      "72/72 [==============================] - 0s 3ms/step - loss: 0.4094 - accuracy: 0.8118 - val_loss: 0.3122 - val_accuracy: 0.8715\n",
      "Epoch 81/150\n",
      "72/72 [==============================] - 0s 3ms/step - loss: 0.3994 - accuracy: 0.8272 - val_loss: 0.3084 - val_accuracy: 0.8659\n",
      "Epoch 82/150\n",
      "72/72 [==============================] - 0s 3ms/step - loss: 0.3998 - accuracy: 0.8272 - val_loss: 0.3174 - val_accuracy: 0.8771\n",
      "Epoch 83/150\n",
      "72/72 [==============================] - 0s 2ms/step - loss: 0.4049 - accuracy: 0.8258 - val_loss: 0.3081 - val_accuracy: 0.8715\n",
      "Epoch 84/150\n",
      "72/72 [==============================] - 0s 2ms/step - loss: 0.4060 - accuracy: 0.8202 - val_loss: 0.3169 - val_accuracy: 0.8659\n",
      "Epoch 85/150\n",
      "72/72 [==============================] - 0s 2ms/step - loss: 0.3955 - accuracy: 0.8357 - val_loss: 0.3153 - val_accuracy: 0.8659\n",
      "Epoch 86/150\n",
      "72/72 [==============================] - 0s 2ms/step - loss: 0.3950 - accuracy: 0.8216 - val_loss: 0.3129 - val_accuracy: 0.8659\n",
      "Epoch 87/150\n",
      "72/72 [==============================] - 0s 2ms/step - loss: 0.3954 - accuracy: 0.8371 - val_loss: 0.3040 - val_accuracy: 0.8715\n",
      "Epoch 88/150\n",
      "72/72 [==============================] - 0s 2ms/step - loss: 0.4062 - accuracy: 0.8301 - val_loss: 0.3173 - val_accuracy: 0.8771\n",
      "Epoch 89/150\n",
      "72/72 [==============================] - 0s 3ms/step - loss: 0.4075 - accuracy: 0.8258 - val_loss: 0.3097 - val_accuracy: 0.8659\n",
      "Epoch 90/150\n",
      "72/72 [==============================] - 0s 2ms/step - loss: 0.4011 - accuracy: 0.8188 - val_loss: 0.3040 - val_accuracy: 0.8659\n",
      "Epoch 91/150\n",
      "72/72 [==============================] - 0s 2ms/step - loss: 0.3937 - accuracy: 0.8357 - val_loss: 0.3079 - val_accuracy: 0.8659\n",
      "Epoch 92/150\n",
      "72/72 [==============================] - 0s 2ms/step - loss: 0.3945 - accuracy: 0.8258 - val_loss: 0.3192 - val_accuracy: 0.8659\n",
      "Epoch 93/150\n",
      "72/72 [==============================] - 0s 3ms/step - loss: 0.4001 - accuracy: 0.8188 - val_loss: 0.3109 - val_accuracy: 0.8715\n",
      "Epoch 94/150\n",
      "72/72 [==============================] - 0s 2ms/step - loss: 0.3967 - accuracy: 0.8287 - val_loss: 0.3176 - val_accuracy: 0.8492\n",
      "Epoch 95/150\n",
      "72/72 [==============================] - 0s 2ms/step - loss: 0.3962 - accuracy: 0.8343 - val_loss: 0.3141 - val_accuracy: 0.8883\n",
      "Epoch 96/150\n",
      "72/72 [==============================] - 0s 2ms/step - loss: 0.4024 - accuracy: 0.8287 - val_loss: 0.3089 - val_accuracy: 0.8603\n",
      "Epoch 97/150\n",
      "72/72 [==============================] - 0s 2ms/step - loss: 0.3991 - accuracy: 0.8258 - val_loss: 0.3087 - val_accuracy: 0.8603\n",
      "Epoch 98/150\n",
      "72/72 [==============================] - 0s 2ms/step - loss: 0.3967 - accuracy: 0.8174 - val_loss: 0.3240 - val_accuracy: 0.8659\n",
      "Epoch 99/150\n",
      "72/72 [==============================] - 0s 2ms/step - loss: 0.3970 - accuracy: 0.8287 - val_loss: 0.3220 - val_accuracy: 0.8547\n",
      "Epoch 100/150\n",
      "72/72 [==============================] - 0s 2ms/step - loss: 0.4017 - accuracy: 0.8301 - val_loss: 0.3243 - val_accuracy: 0.8436\n",
      "Epoch 101/150\n",
      "72/72 [==============================] - 0s 2ms/step - loss: 0.3979 - accuracy: 0.8230 - val_loss: 0.3137 - val_accuracy: 0.8659\n",
      "Epoch 102/150\n",
      "72/72 [==============================] - 0s 2ms/step - loss: 0.3960 - accuracy: 0.8258 - val_loss: 0.3114 - val_accuracy: 0.8659\n",
      "Epoch 103/150\n",
      "72/72 [==============================] - 0s 2ms/step - loss: 0.4008 - accuracy: 0.8146 - val_loss: 0.3100 - val_accuracy: 0.8715\n",
      "Epoch 104/150\n",
      "72/72 [==============================] - 0s 2ms/step - loss: 0.3975 - accuracy: 0.8244 - val_loss: 0.3135 - val_accuracy: 0.8547\n",
      "Epoch 105/150\n",
      "72/72 [==============================] - 0s 2ms/step - loss: 0.3956 - accuracy: 0.8272 - val_loss: 0.3130 - val_accuracy: 0.8547\n",
      "Epoch 106/150\n",
      "72/72 [==============================] - 0s 2ms/step - loss: 0.4016 - accuracy: 0.8272 - val_loss: 0.3126 - val_accuracy: 0.8715\n",
      "Epoch 107/150\n",
      "72/72 [==============================] - 0s 3ms/step - loss: 0.3935 - accuracy: 0.8258 - val_loss: 0.3114 - val_accuracy: 0.8659\n",
      "Epoch 108/150\n",
      "72/72 [==============================] - 0s 3ms/step - loss: 0.3982 - accuracy: 0.8258 - val_loss: 0.3148 - val_accuracy: 0.8715\n",
      "Epoch 109/150\n",
      "72/72 [==============================] - 0s 3ms/step - loss: 0.3979 - accuracy: 0.8244 - val_loss: 0.3112 - val_accuracy: 0.8715\n",
      "Epoch 110/150\n",
      "72/72 [==============================] - 0s 3ms/step - loss: 0.3939 - accuracy: 0.8272 - val_loss: 0.3130 - val_accuracy: 0.8659\n",
      "Epoch 111/150\n",
      "72/72 [==============================] - 0s 3ms/step - loss: 0.4036 - accuracy: 0.8230 - val_loss: 0.3287 - val_accuracy: 0.8603\n",
      "Epoch 112/150\n",
      "72/72 [==============================] - 0s 3ms/step - loss: 0.4034 - accuracy: 0.8202 - val_loss: 0.3257 - val_accuracy: 0.8603\n",
      "Epoch 113/150\n",
      "72/72 [==============================] - 0s 3ms/step - loss: 0.4014 - accuracy: 0.8315 - val_loss: 0.3198 - val_accuracy: 0.8603\n",
      "Epoch 114/150\n",
      "72/72 [==============================] - 0s 3ms/step - loss: 0.3973 - accuracy: 0.8216 - val_loss: 0.3227 - val_accuracy: 0.8939\n",
      "Epoch 115/150\n",
      "72/72 [==============================] - 0s 3ms/step - loss: 0.4001 - accuracy: 0.8301 - val_loss: 0.3212 - val_accuracy: 0.8659\n",
      "Epoch 116/150\n"
     ]
    },
    {
     "name": "stdout",
     "output_type": "stream",
     "text": [
      "72/72 [==============================] - 0s 2ms/step - loss: 0.3939 - accuracy: 0.8272 - val_loss: 0.3154 - val_accuracy: 0.8547\n",
      "Epoch 117/150\n",
      "72/72 [==============================] - 0s 2ms/step - loss: 0.3945 - accuracy: 0.8174 - val_loss: 0.3103 - val_accuracy: 0.8659\n",
      "Epoch 118/150\n",
      "72/72 [==============================] - 0s 3ms/step - loss: 0.3970 - accuracy: 0.8244 - val_loss: 0.3135 - val_accuracy: 0.8659\n",
      "Epoch 119/150\n",
      "72/72 [==============================] - 0s 3ms/step - loss: 0.3973 - accuracy: 0.8258 - val_loss: 0.3261 - val_accuracy: 0.8547\n",
      "Epoch 120/150\n",
      "72/72 [==============================] - 0s 2ms/step - loss: 0.3972 - accuracy: 0.8301 - val_loss: 0.3134 - val_accuracy: 0.8603\n",
      "Epoch 121/150\n",
      "72/72 [==============================] - 0s 2ms/step - loss: 0.3957 - accuracy: 0.8244 - val_loss: 0.3130 - val_accuracy: 0.8603\n",
      "Epoch 122/150\n",
      "72/72 [==============================] - 0s 2ms/step - loss: 0.3955 - accuracy: 0.8272 - val_loss: 0.3125 - val_accuracy: 0.8547\n",
      "Epoch 123/150\n",
      "72/72 [==============================] - 0s 2ms/step - loss: 0.3918 - accuracy: 0.8315 - val_loss: 0.3362 - val_accuracy: 0.8492\n",
      "Epoch 124/150\n",
      "72/72 [==============================] - 0s 3ms/step - loss: 0.4019 - accuracy: 0.8244 - val_loss: 0.3140 - val_accuracy: 0.8603\n",
      "Epoch 125/150\n",
      "72/72 [==============================] - 0s 3ms/step - loss: 0.3936 - accuracy: 0.8272 - val_loss: 0.3100 - val_accuracy: 0.8659\n",
      "Epoch 126/150\n",
      "72/72 [==============================] - 0s 3ms/step - loss: 0.3947 - accuracy: 0.8216 - val_loss: 0.3165 - val_accuracy: 0.8547\n",
      "Epoch 127/150\n",
      "72/72 [==============================] - 0s 2ms/step - loss: 0.4008 - accuracy: 0.8230 - val_loss: 0.3241 - val_accuracy: 0.8659\n",
      "Epoch 128/150\n",
      "72/72 [==============================] - 0s 2ms/step - loss: 0.4060 - accuracy: 0.8258 - val_loss: 0.3189 - val_accuracy: 0.8603\n",
      "Epoch 129/150\n",
      "72/72 [==============================] - 0s 3ms/step - loss: 0.3926 - accuracy: 0.8272 - val_loss: 0.3114 - val_accuracy: 0.8715\n",
      "Epoch 130/150\n",
      "72/72 [==============================] - 0s 3ms/step - loss: 0.3946 - accuracy: 0.8258 - val_loss: 0.3080 - val_accuracy: 0.8715\n",
      "Epoch 131/150\n",
      "72/72 [==============================] - 0s 3ms/step - loss: 0.4010 - accuracy: 0.8230 - val_loss: 0.3204 - val_accuracy: 0.8603\n",
      "Epoch 132/150\n",
      "72/72 [==============================] - 0s 3ms/step - loss: 0.3968 - accuracy: 0.8272 - val_loss: 0.3081 - val_accuracy: 0.8715\n",
      "Epoch 133/150\n",
      "72/72 [==============================] - 0s 3ms/step - loss: 0.3942 - accuracy: 0.8301 - val_loss: 0.3134 - val_accuracy: 0.8715\n",
      "Epoch 134/150\n",
      "72/72 [==============================] - 0s 2ms/step - loss: 0.4602 - accuracy: 0.7781 - val_loss: 0.3486 - val_accuracy: 0.8547\n",
      "Epoch 135/150\n",
      "72/72 [==============================] - 0s 3ms/step - loss: 0.4184 - accuracy: 0.8118 - val_loss: 0.3224 - val_accuracy: 0.8715\n",
      "Epoch 136/150\n",
      "72/72 [==============================] - 0s 3ms/step - loss: 0.4026 - accuracy: 0.8258 - val_loss: 0.3162 - val_accuracy: 0.8492\n",
      "Epoch 137/150\n",
      "72/72 [==============================] - 0s 3ms/step - loss: 0.3935 - accuracy: 0.8287 - val_loss: 0.3141 - val_accuracy: 0.8715\n",
      "Epoch 138/150\n",
      "72/72 [==============================] - 0s 3ms/step - loss: 0.3939 - accuracy: 0.8343 - val_loss: 0.3117 - val_accuracy: 0.8547\n",
      "Epoch 139/150\n",
      "72/72 [==============================] - 0s 3ms/step - loss: 0.3917 - accuracy: 0.8329 - val_loss: 0.3115 - val_accuracy: 0.8659\n",
      "Epoch 140/150\n",
      "72/72 [==============================] - 0s 3ms/step - loss: 0.3926 - accuracy: 0.8272 - val_loss: 0.3085 - val_accuracy: 0.8603\n",
      "Epoch 141/150\n",
      "72/72 [==============================] - 0s 3ms/step - loss: 0.3927 - accuracy: 0.8343 - val_loss: 0.3110 - val_accuracy: 0.8659\n",
      "Epoch 142/150\n",
      "72/72 [==============================] - 0s 3ms/step - loss: 0.3988 - accuracy: 0.8258 - val_loss: 0.3259 - val_accuracy: 0.8659\n",
      "Epoch 143/150\n",
      "72/72 [==============================] - 0s 3ms/step - loss: 0.3946 - accuracy: 0.8315 - val_loss: 0.3235 - val_accuracy: 0.8715\n",
      "Epoch 144/150\n",
      "72/72 [==============================] - 0s 3ms/step - loss: 0.3980 - accuracy: 0.8244 - val_loss: 0.3125 - val_accuracy: 0.8547\n",
      "Epoch 145/150\n",
      "72/72 [==============================] - 0s 3ms/step - loss: 0.3968 - accuracy: 0.8329 - val_loss: 0.3071 - val_accuracy: 0.8659\n",
      "Epoch 146/150\n",
      "72/72 [==============================] - 0s 3ms/step - loss: 0.3915 - accuracy: 0.8287 - val_loss: 0.3239 - val_accuracy: 0.8659\n",
      "Epoch 147/150\n",
      "72/72 [==============================] - 0s 3ms/step - loss: 0.4023 - accuracy: 0.8258 - val_loss: 0.3133 - val_accuracy: 0.8715\n",
      "Epoch 148/150\n",
      "72/72 [==============================] - 0s 2ms/step - loss: 0.3933 - accuracy: 0.8301 - val_loss: 0.3152 - val_accuracy: 0.8715\n",
      "Epoch 149/150\n",
      "72/72 [==============================] - 0s 3ms/step - loss: 0.3900 - accuracy: 0.8258 - val_loss: 0.3113 - val_accuracy: 0.8715\n",
      "Epoch 150/150\n",
      "72/72 [==============================] - 0s 3ms/step - loss: 0.3975 - accuracy: 0.8230 - val_loss: 0.3113 - val_accuracy: 0.8659\n"
     ]
    }
   ],
   "source": [
    "history=model.fit(x,y,epochs=150,validation_split=0.20,batch_size=10,verbose=1)"
   ]
  },
  {
   "cell_type": "code",
   "execution_count": 51,
   "id": "2977ba52",
   "metadata": {},
   "outputs": [
    {
     "data": {
      "image/png": "[encoded data removed]",
      "text/plain": [
       "<Figure size 432x288 with 1 Axes>"
      ]
     },
     "metadata": {
      "needs_background": "light"
     },
     "output_type": "display_data"
    }
   ],
   "source": [
    "import matplotlib.pyplot as plt\n",
    "plt.plot(history.history[\"accuracy\"],label=\"Accuracy\")\n",
    "plt.plot(history.history[\"val_accuracy\"],label=\"ValAccuracy\")\n",
    "plt.legend();"
   ]
  },
  {
   "cell_type": "code",
   "execution_count": 52,
   "id": "c48cf925",
   "metadata": {},
   "outputs": [
    {
     "data": {
      "text/html": [
       "<div>\n",
       "<style scoped>\n",
       "    .dataframe tbody tr th:only-of-type {\n",
       "        vertical-align: middle;\n",
       "    }\n",
       "\n",
       "    .dataframe tbody tr th {\n",
       "        vertical-align: top;\n",
       "    }\n",
       "\n",
       "    .dataframe thead th {\n",
       "        text-align: right;\n",
       "    }\n",
       "</style>\n",
       "<table border=\"1\" class=\"dataframe\">\n",
       "  <thead>\n",
       "    <tr style=\"text-align: right;\">\n",
       "      <th></th>\n",
       "      <th>loss</th>\n",
       "      <th>accuracy</th>\n",
       "      <th>val_loss</th>\n",
       "      <th>val_accuracy</th>\n",
       "    </tr>\n",
       "  </thead>\n",
       "  <tbody>\n",
       "    <tr>\n",
       "      <th>0</th>\n",
       "      <td>0.415639</td>\n",
       "      <td>0.825843</td>\n",
       "      <td>0.301840</td>\n",
       "      <td>0.871508</td>\n",
       "    </tr>\n",
       "    <tr>\n",
       "      <th>1</th>\n",
       "      <td>0.404959</td>\n",
       "      <td>0.827247</td>\n",
       "      <td>0.299878</td>\n",
       "      <td>0.871508</td>\n",
       "    </tr>\n",
       "    <tr>\n",
       "      <th>2</th>\n",
       "      <td>0.402856</td>\n",
       "      <td>0.827247</td>\n",
       "      <td>0.315238</td>\n",
       "      <td>0.871508</td>\n",
       "    </tr>\n",
       "    <tr>\n",
       "      <th>3</th>\n",
       "      <td>0.408337</td>\n",
       "      <td>0.830056</td>\n",
       "      <td>0.301809</td>\n",
       "      <td>0.865922</td>\n",
       "    </tr>\n",
       "    <tr>\n",
       "      <th>4</th>\n",
       "      <td>0.401728</td>\n",
       "      <td>0.827247</td>\n",
       "      <td>0.313865</td>\n",
       "      <td>0.854749</td>\n",
       "    </tr>\n",
       "    <tr>\n",
       "      <th>...</th>\n",
       "      <td>...</td>\n",
       "      <td>...</td>\n",
       "      <td>...</td>\n",
       "      <td>...</td>\n",
       "    </tr>\n",
       "    <tr>\n",
       "      <th>145</th>\n",
       "      <td>0.391522</td>\n",
       "      <td>0.828652</td>\n",
       "      <td>0.323859</td>\n",
       "      <td>0.865922</td>\n",
       "    </tr>\n",
       "    <tr>\n",
       "      <th>146</th>\n",
       "      <td>0.402256</td>\n",
       "      <td>0.825843</td>\n",
       "      <td>0.313261</td>\n",
       "      <td>0.871508</td>\n",
       "    </tr>\n",
       "    <tr>\n",
       "      <th>147</th>\n",
       "      <td>0.393302</td>\n",
       "      <td>0.830056</td>\n",
       "      <td>0.315213</td>\n",
       "      <td>0.871508</td>\n",
       "    </tr>\n",
       "    <tr>\n",
       "      <th>148</th>\n",
       "      <td>0.389974</td>\n",
       "      <td>0.825843</td>\n",
       "      <td>0.311310</td>\n",
       "      <td>0.871508</td>\n",
       "    </tr>\n",
       "    <tr>\n",
       "      <th>149</th>\n",
       "      <td>0.397511</td>\n",
       "      <td>0.823034</td>\n",
       "      <td>0.311323</td>\n",
       "      <td>0.865922</td>\n",
       "    </tr>\n",
       "  </tbody>\n",
       "</table>\n",
       "<p>150 rows × 4 columns</p>\n",
       "</div>"
      ],
      "text/plain": [
       "         loss  accuracy  val_loss  val_accuracy\n",
       "0    0.415639  0.825843  0.301840      0.871508\n",
       "1    0.404959  0.827247  0.299878      0.871508\n",
       "2    0.402856  0.827247  0.315238      0.871508\n",
       "3    0.408337  0.830056  0.301809      0.865922\n",
       "4    0.401728  0.827247  0.313865      0.854749\n",
       "..        ...       ...       ...           ...\n",
       "145  0.391522  0.828652  0.323859      0.865922\n",
       "146  0.402256  0.825843  0.313261      0.871508\n",
       "147  0.393302  0.830056  0.315213      0.871508\n",
       "148  0.389974  0.825843  0.311310      0.871508\n",
       "149  0.397511  0.823034  0.311323      0.865922\n",
       "\n",
       "[150 rows x 4 columns]"
      ]
     },
     "execution_count": 52,
     "metadata": {},
     "output_type": "execute_result"
    }
   ],
   "source": [
    "metrics = pd.DataFrame(model.history.history)\n",
    "metrics"
   ]
  },
  {
   "cell_type": "code",
   "execution_count": 53,
   "id": "1279c2cf",
   "metadata": {},
   "outputs": [
    {
     "data": {
      "image/png": "[encoded data removed]",
      "text/plain": [
       "<Figure size 432x288 with 1 Axes>"
      ]
     },
     "metadata": {
      "needs_background": "light"
     },
     "output_type": "display_data"
    }
   ],
   "source": [
    "metrics[[\"accuracy\", \"val_accuracy\"]].plot();"
   ]
  },
  {
   "cell_type": "code",
   "execution_count": null,
   "id": "965290b6",
   "metadata": {},
   "outputs": [],
   "source": []
  }
 ],
 "metadata": {
  "kernelspec": {
   "display_name": "Python 3 (ipykernel)",
   "language": "python",
   "name": "python3"
  },
  "language_info": {
   "codemirror_mode": {
    "name": "ipython",
    "version": 3
   },
   "file_extension": ".py",
   "mimetype": "text/x-python",
   "name": "python",
   "nbconvert_exporter": "python",
   "pygments_lexer": "ipython3",
   "version": "3.9.12"
  }
 },
 "nbformat": 4,
 "nbformat_minor": 5
}
