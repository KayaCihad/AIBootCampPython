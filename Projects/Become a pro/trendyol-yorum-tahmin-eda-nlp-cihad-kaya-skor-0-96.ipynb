{
 "cells": [
  {
   "cell_type": "code",
   "execution_count": 1,
   "id": "d437f240",
   "metadata": {
    "execution": {
     "iopub.execute_input": "2023-08-09T16:21:59.327812Z",
     "iopub.status.busy": "2023-08-09T16:21:59.327296Z",
     "iopub.status.idle": "2023-08-09T16:22:01.128790Z",
     "shell.execute_reply": "2023-08-09T16:22:01.127521Z"
    },
    "papermill": {
     "duration": 1.822088,
     "end_time": "2023-08-09T16:22:01.131716",
     "exception": false,
     "start_time": "2023-08-09T16:21:59.309628",
     "status": "completed"
    },
    "tags": []
   },
   "outputs": [
    {
     "name": "stderr",
     "output_type": "stream",
     "text": [
      "/opt/conda/lib/python3.10/site-packages/scipy/__init__.py:146: UserWarning: A NumPy version >=1.16.5 and <1.23.0 is required for this version of SciPy (detected version 1.23.5\n",
      "  warnings.warn(f\"A NumPy version >={np_minversion} and <{np_maxversion}\"\n"
     ]
    }
   ],
   "source": [
    "import pandas as pd\n",
    "import sqlite3\n",
    "import numpy as np\n",
    "from sklearn.ensemble import RandomForestClassifier\n",
    "import matplotlib.pyplot as plt\n",
    "from sklearn.model_selection import train_test_split"
   ]
  },
  {
   "cell_type": "code",
   "execution_count": 2,
   "id": "fbf52b8f",
   "metadata": {
    "execution": {
     "iopub.execute_input": "2023-08-09T16:22:01.165776Z",
     "iopub.status.busy": "2023-08-09T16:22:01.165392Z",
     "iopub.status.idle": "2023-08-09T16:22:01.177878Z",
     "shell.execute_reply": "2023-08-09T16:22:01.176908Z"
    },
    "papermill": {
     "duration": 0.033478,
     "end_time": "2023-08-09T16:22:01.180737",
     "exception": false,
     "start_time": "2023-08-09T16:22:01.147259",
     "status": "completed"
    },
    "tags": []
   },
   "outputs": [],
   "source": [
    "conn=sqlite3.connect(\"/kaggle/input/trendyol-product-comments/TrendyolProduct.sqlite3\")\n",
    "c=conn.cursor()"
   ]
  },
  {
   "cell_type": "code",
   "execution_count": 3,
   "id": "2900ab6f",
   "metadata": {
    "execution": {
     "iopub.execute_input": "2023-08-09T16:22:01.213957Z",
     "iopub.status.busy": "2023-08-09T16:22:01.212824Z",
     "iopub.status.idle": "2023-08-09T16:22:01.535497Z",
     "shell.execute_reply": "2023-08-09T16:22:01.534675Z"
    },
    "papermill": {
     "duration": 0.341611,
     "end_time": "2023-08-09T16:22:01.537811",
     "exception": false,
     "start_time": "2023-08-09T16:22:01.196200",
     "status": "completed"
    },
    "tags": []
   },
   "outputs": [
    {
     "data": {
      "text/html": [
       "<div>\n",
       "<style scoped>\n",
       "    .dataframe tbody tr th:only-of-type {\n",
       "        vertical-align: middle;\n",
       "    }\n",
       "\n",
       "    .dataframe tbody tr th {\n",
       "        vertical-align: top;\n",
       "    }\n",
       "\n",
       "    .dataframe thead th {\n",
       "        text-align: right;\n",
       "    }\n",
       "</style>\n",
       "<table border=\"1\" class=\"dataframe\">\n",
       "  <thead>\n",
       "    <tr style=\"text-align: right;\">\n",
       "      <th></th>\n",
       "      <th>urun_id</th>\n",
       "      <th>urun</th>\n",
       "      <th>marka</th>\n",
       "      <th>url</th>\n",
       "    </tr>\n",
       "  </thead>\n",
       "  <tbody>\n",
       "    <tr>\n",
       "      <th>0</th>\n",
       "      <td>1</td>\n",
       "      <td>Erkek %100 Pamuk Koyu Vizon Polo Yaka Düz T-sh...</td>\n",
       "      <td>Avva</td>\n",
       "      <td>https://www.trendyol.com/avva/erkek-100-pamuk-...</td>\n",
       "    </tr>\n",
       "    <tr>\n",
       "      <th>1</th>\n",
       "      <td>2</td>\n",
       "      <td>Erkek %100 Pamuk Beyaz Polo Yaka Düz T-shirt E...</td>\n",
       "      <td>Avva</td>\n",
       "      <td>https://www.trendyol.com/avva/erkek-100-pamuk-...</td>\n",
       "    </tr>\n",
       "    <tr>\n",
       "      <th>2</th>\n",
       "      <td>3</td>\n",
       "      <td>Erkek %100 Pamuk Açık Turuncu Polo Yaka Düz T-...</td>\n",
       "      <td>Avva</td>\n",
       "      <td>https://www.trendyol.com/avva/erkek-100-pamuk-...</td>\n",
       "    </tr>\n",
       "  </tbody>\n",
       "</table>\n",
       "</div>"
      ],
      "text/plain": [
       "   urun_id                                               urun marka  \\\n",
       "0        1  Erkek %100 Pamuk Koyu Vizon Polo Yaka Düz T-sh...  Avva   \n",
       "1        2  Erkek %100 Pamuk Beyaz Polo Yaka Düz T-shirt E...  Avva   \n",
       "2        3  Erkek %100 Pamuk Açık Turuncu Polo Yaka Düz T-...  Avva   \n",
       "\n",
       "                                                 url  \n",
       "0  https://www.trendyol.com/avva/erkek-100-pamuk-...  \n",
       "1  https://www.trendyol.com/avva/erkek-100-pamuk-...  \n",
       "2  https://www.trendyol.com/avva/erkek-100-pamuk-...  "
      ]
     },
     "execution_count": 3,
     "metadata": {},
     "output_type": "execute_result"
    }
   ],
   "source": [
    "c.execute(\"SELECT * FROM TBL_Product\")\n",
    "urunler=c.fetchall()\n",
    "df_product=pd.DataFrame(urunler)\n",
    "df_product.columns=[\"urun_id\",\"urun\",\"marka\",\"url\"]\n",
    "df_product.head(3)"
   ]
  },
  {
   "cell_type": "code",
   "execution_count": 4,
   "id": "209afb7a",
   "metadata": {
    "execution": {
     "iopub.execute_input": "2023-08-09T16:22:01.571152Z",
     "iopub.status.busy": "2023-08-09T16:22:01.570146Z",
     "iopub.status.idle": "2023-08-09T16:22:01.857766Z",
     "shell.execute_reply": "2023-08-09T16:22:01.856455Z"
    },
    "papermill": {
     "duration": 0.307204,
     "end_time": "2023-08-09T16:22:01.860470",
     "exception": false,
     "start_time": "2023-08-09T16:22:01.553266",
     "status": "completed"
    },
    "tags": []
   },
   "outputs": [
    {
     "data": {
      "text/html": [
       "<div>\n",
       "<style scoped>\n",
       "    .dataframe tbody tr th:only-of-type {\n",
       "        vertical-align: middle;\n",
       "    }\n",
       "\n",
       "    .dataframe tbody tr th {\n",
       "        vertical-align: top;\n",
       "    }\n",
       "\n",
       "    .dataframe thead th {\n",
       "        text-align: right;\n",
       "    }\n",
       "</style>\n",
       "<table border=\"1\" class=\"dataframe\">\n",
       "  <thead>\n",
       "    <tr style=\"text-align: right;\">\n",
       "      <th></th>\n",
       "      <th>yorum_id</th>\n",
       "      <th>urun_id</th>\n",
       "      <th>yorumlar</th>\n",
       "      <th>puan</th>\n",
       "    </tr>\n",
       "  </thead>\n",
       "  <tbody>\n",
       "    <tr>\n",
       "      <th>0</th>\n",
       "      <td>1</td>\n",
       "      <td>1</td>\n",
       "      <td>Babam için almıştım aşırııı güzell</td>\n",
       "      <td>5</td>\n",
       "    </tr>\n",
       "    <tr>\n",
       "      <th>1</th>\n",
       "      <td>2</td>\n",
       "      <td>1</td>\n",
       "      <td>Dokusu çok güzel kalitesi çok iyi</td>\n",
       "      <td>5</td>\n",
       "    </tr>\n",
       "    <tr>\n",
       "      <th>2</th>\n",
       "      <td>3</td>\n",
       "      <td>1</td>\n",
       "      <td>renk ve kalite çok güzel AVVA sonuçta indirimd...</td>\n",
       "      <td>5</td>\n",
       "    </tr>\n",
       "  </tbody>\n",
       "</table>\n",
       "</div>"
      ],
      "text/plain": [
       "   yorum_id  urun_id                                           yorumlar  puan\n",
       "0         1        1                 Babam için almıştım aşırııı güzell     5\n",
       "1         2        1                  Dokusu çok güzel kalitesi çok iyi     5\n",
       "2         3        1  renk ve kalite çok güzel AVVA sonuçta indirimd...     5"
      ]
     },
     "execution_count": 4,
     "metadata": {},
     "output_type": "execute_result"
    }
   ],
   "source": [
    "c.execute(\"SELECT * FROM TBL_Comment\")\n",
    "yorumlar=c.fetchall()\n",
    "df_comment=pd.DataFrame(yorumlar)\n",
    "df_comment.columns=[\"yorum_id\",\"urun_id\",\"yorumlar\",\"puan\"]\n",
    "df_comment.head(3)"
   ]
  },
  {
   "cell_type": "code",
   "execution_count": 5,
   "id": "02fbf40b",
   "metadata": {
    "execution": {
     "iopub.execute_input": "2023-08-09T16:22:01.893642Z",
     "iopub.status.busy": "2023-08-09T16:22:01.893220Z",
     "iopub.status.idle": "2023-08-09T16:22:01.906144Z",
     "shell.execute_reply": "2023-08-09T16:22:01.905242Z"
    },
    "papermill": {
     "duration": 0.032695,
     "end_time": "2023-08-09T16:22:01.908919",
     "exception": false,
     "start_time": "2023-08-09T16:22:01.876224",
     "status": "completed"
    },
    "tags": []
   },
   "outputs": [],
   "source": [
    "markalar=df_product[\"marka\"].value_counts()"
   ]
  },
  {
   "cell_type": "code",
   "execution_count": 6,
   "id": "3faa654e",
   "metadata": {
    "execution": {
     "iopub.execute_input": "2023-08-09T16:22:01.943223Z",
     "iopub.status.busy": "2023-08-09T16:22:01.942782Z",
     "iopub.status.idle": "2023-08-09T16:22:01.951307Z",
     "shell.execute_reply": "2023-08-09T16:22:01.949986Z"
    },
    "papermill": {
     "duration": 0.028391,
     "end_time": "2023-08-09T16:22:01.953822",
     "exception": false,
     "start_time": "2023-08-09T16:22:01.925431",
     "status": "completed"
    },
    "tags": []
   },
   "outputs": [
    {
     "data": {
      "text/plain": [
       "Koton           1347\n",
       "Defacto          875\n",
       "Mavi             846\n",
       "US Polo Assn     334\n",
       "Suwen            214\n",
       "Avva             191\n",
       "HUMMEL            73\n",
       "Nike              55\n",
       "Colin’s           47\n",
       "Puma              41\n",
       "adidas            27\n",
       "Tudors            21\n",
       "LC Waikiki        11\n",
       "Loft              11\n",
       "Derimod           10\n",
       "                   6\n",
       "Name: marka, dtype: int64"
      ]
     },
     "execution_count": 6,
     "metadata": {},
     "output_type": "execute_result"
    }
   ],
   "source": [
    "markalar"
   ]
  },
  {
   "cell_type": "code",
   "execution_count": 7,
   "id": "9d922a2b",
   "metadata": {
    "execution": {
     "iopub.execute_input": "2023-08-09T16:22:01.988534Z",
     "iopub.status.busy": "2023-08-09T16:22:01.988110Z",
     "iopub.status.idle": "2023-08-09T16:22:02.418549Z",
     "shell.execute_reply": "2023-08-09T16:22:02.417350Z"
    },
    "papermill": {
     "duration": 0.450875,
     "end_time": "2023-08-09T16:22:02.421051",
     "exception": false,
     "start_time": "2023-08-09T16:22:01.970176",
     "status": "completed"
    },
    "tags": []
   },
   "outputs": [
    {
     "data": {
      "image/png": "[encoded data removed]",
      "text/plain": [
       "<Figure size 1600x600 with 1 Axes>"
      ]
     },
     "metadata": {},
     "output_type": "display_data"
    }
   ],
   "source": [
    "plt.style.use(\"ggplot\")\n",
    "plt.figure(figsize=(16,6))\n",
    "plt.bar(markalar.index,markalar.values)\n",
    "plt.xlabel(\"Markalar\")\n",
    "plt.ylabel(\"Ürün Adetleri\")\n",
    "plt.xticks(rotation=60)\n",
    "plt.show()"
   ]
  },
  {
   "cell_type": "code",
   "execution_count": 8,
   "id": "908244be",
   "metadata": {
    "execution": {
     "iopub.execute_input": "2023-08-09T16:22:02.457152Z",
     "iopub.status.busy": "2023-08-09T16:22:02.456702Z",
     "iopub.status.idle": "2023-08-09T16:22:02.825810Z",
     "shell.execute_reply": "2023-08-09T16:22:02.824639Z"
    },
    "papermill": {
     "duration": 0.390417,
     "end_time": "2023-08-09T16:22:02.828745",
     "exception": false,
     "start_time": "2023-08-09T16:22:02.438328",
     "status": "completed"
    },
    "tags": []
   },
   "outputs": [
    {
     "data": {
      "image/png": "[encoded data removed]",
      "text/plain": [
       "<Figure size 2000x1000 with 1 Axes>"
      ]
     },
     "metadata": {},
     "output_type": "display_data"
    }
   ],
   "source": [
    "puan_count=df_comment[\"puan\"].value_counts()\n",
    "\n",
    "puan_count=puan_count.sort_index()\n",
    "\n",
    "plt.style.use(\"fivethirtyeight\")\n",
    "plt.figure(figsize=(20,10))\n",
    "plt.xlabel(\"Puan\")\n",
    "plt.ylabel(\"Puan Sayıları\")\n",
    "plt.bar(puan_count.index,puan_count.values,color=[\"crimson\",\"orange\",\"gold\",\"lightgreen\",\"darkgreen\"])\n",
    "plt.show()"
   ]
  },
  {
   "cell_type": "code",
   "execution_count": 9,
   "id": "a4dab71a",
   "metadata": {
    "execution": {
     "iopub.execute_input": "2023-08-09T16:22:02.865769Z",
     "iopub.status.busy": "2023-08-09T16:22:02.865353Z",
     "iopub.status.idle": "2023-08-09T16:22:02.873698Z",
     "shell.execute_reply": "2023-08-09T16:22:02.872434Z"
    },
    "papermill": {
     "duration": 0.02974,
     "end_time": "2023-08-09T16:22:02.876222",
     "exception": false,
     "start_time": "2023-08-09T16:22:02.846482",
     "status": "completed"
    },
    "tags": []
   },
   "outputs": [
    {
     "data": {
      "text/plain": [
       "1     3175\n",
       "2     1863\n",
       "3     4231\n",
       "4     8315\n",
       "5    26339\n",
       "Name: puan, dtype: int64"
      ]
     },
     "execution_count": 9,
     "metadata": {},
     "output_type": "execute_result"
    }
   ],
   "source": [
    "puan_count"
   ]
  },
  {
   "cell_type": "code",
   "execution_count": 10,
   "id": "d217487c",
   "metadata": {
    "execution": {
     "iopub.execute_input": "2023-08-09T16:22:02.913714Z",
     "iopub.status.busy": "2023-08-09T16:22:02.913321Z",
     "iopub.status.idle": "2023-08-09T16:22:02.918483Z",
     "shell.execute_reply": "2023-08-09T16:22:02.917371Z"
    },
    "papermill": {
     "duration": 0.026858,
     "end_time": "2023-08-09T16:22:02.920881",
     "exception": false,
     "start_time": "2023-08-09T16:22:02.894023",
     "status": "completed"
    },
    "tags": []
   },
   "outputs": [],
   "source": [
    "#ürün isimlerinin markalara göre ort karakter sayısı"
   ]
  },
  {
   "cell_type": "code",
   "execution_count": 11,
   "id": "acb29fa7",
   "metadata": {
    "execution": {
     "iopub.execute_input": "2023-08-09T16:22:02.957760Z",
     "iopub.status.busy": "2023-08-09T16:22:02.957315Z",
     "iopub.status.idle": "2023-08-09T16:22:02.970018Z",
     "shell.execute_reply": "2023-08-09T16:22:02.968987Z"
    },
    "papermill": {
     "duration": 0.033786,
     "end_time": "2023-08-09T16:22:02.972585",
     "exception": false,
     "start_time": "2023-08-09T16:22:02.938799",
     "status": "completed"
    },
    "tags": []
   },
   "outputs": [
    {
     "data": {
      "text/html": [
       "<div>\n",
       "<style scoped>\n",
       "    .dataframe tbody tr th:only-of-type {\n",
       "        vertical-align: middle;\n",
       "    }\n",
       "\n",
       "    .dataframe tbody tr th {\n",
       "        vertical-align: top;\n",
       "    }\n",
       "\n",
       "    .dataframe thead th {\n",
       "        text-align: right;\n",
       "    }\n",
       "</style>\n",
       "<table border=\"1\" class=\"dataframe\">\n",
       "  <thead>\n",
       "    <tr style=\"text-align: right;\">\n",
       "      <th></th>\n",
       "      <th>urun_id</th>\n",
       "      <th>urun</th>\n",
       "      <th>marka</th>\n",
       "      <th>url</th>\n",
       "    </tr>\n",
       "  </thead>\n",
       "  <tbody>\n",
       "    <tr>\n",
       "      <th>0</th>\n",
       "      <td>1</td>\n",
       "      <td>Erkek %100 Pamuk Koyu Vizon Polo Yaka Düz T-sh...</td>\n",
       "      <td>Avva</td>\n",
       "      <td>https://www.trendyol.com/avva/erkek-100-pamuk-...</td>\n",
       "    </tr>\n",
       "    <tr>\n",
       "      <th>1</th>\n",
       "      <td>2</td>\n",
       "      <td>Erkek %100 Pamuk Beyaz Polo Yaka Düz T-shirt E...</td>\n",
       "      <td>Avva</td>\n",
       "      <td>https://www.trendyol.com/avva/erkek-100-pamuk-...</td>\n",
       "    </tr>\n",
       "    <tr>\n",
       "      <th>2</th>\n",
       "      <td>3</td>\n",
       "      <td>Erkek %100 Pamuk Açık Turuncu Polo Yaka Düz T-...</td>\n",
       "      <td>Avva</td>\n",
       "      <td>https://www.trendyol.com/avva/erkek-100-pamuk-...</td>\n",
       "    </tr>\n",
       "  </tbody>\n",
       "</table>\n",
       "</div>"
      ],
      "text/plain": [
       "   urun_id                                               urun marka  \\\n",
       "0        1  Erkek %100 Pamuk Koyu Vizon Polo Yaka Düz T-sh...  Avva   \n",
       "1        2  Erkek %100 Pamuk Beyaz Polo Yaka Düz T-shirt E...  Avva   \n",
       "2        3  Erkek %100 Pamuk Açık Turuncu Polo Yaka Düz T-...  Avva   \n",
       "\n",
       "                                                 url  \n",
       "0  https://www.trendyol.com/avva/erkek-100-pamuk-...  \n",
       "1  https://www.trendyol.com/avva/erkek-100-pamuk-...  \n",
       "2  https://www.trendyol.com/avva/erkek-100-pamuk-...  "
      ]
     },
     "execution_count": 11,
     "metadata": {},
     "output_type": "execute_result"
    }
   ],
   "source": [
    "df_product.head(3)"
   ]
  },
  {
   "cell_type": "code",
   "execution_count": 12,
   "id": "1c95d1f8",
   "metadata": {
    "execution": {
     "iopub.execute_input": "2023-08-09T16:22:03.009928Z",
     "iopub.status.busy": "2023-08-09T16:22:03.009470Z",
     "iopub.status.idle": "2023-08-09T16:22:03.022864Z",
     "shell.execute_reply": "2023-08-09T16:22:03.021566Z"
    },
    "papermill": {
     "duration": 0.034906,
     "end_time": "2023-08-09T16:22:03.025320",
     "exception": false,
     "start_time": "2023-08-09T16:22:02.990414",
     "status": "completed"
    },
    "tags": []
   },
   "outputs": [
    {
     "data": {
      "text/plain": [
       "0       57\n",
       "1       52\n",
       "2       59\n",
       "3       55\n",
       "4       56\n",
       "        ..\n",
       "4104    38\n",
       "4105    40\n",
       "4106    33\n",
       "4107    64\n",
       "4108    61\n",
       "Name: urun, Length: 4109, dtype: int64"
      ]
     },
     "execution_count": 12,
     "metadata": {},
     "output_type": "execute_result"
    }
   ],
   "source": [
    "df_product[\"urun\"].apply(len)"
   ]
  },
  {
   "cell_type": "code",
   "execution_count": 13,
   "id": "3196eb4d",
   "metadata": {
    "execution": {
     "iopub.execute_input": "2023-08-09T16:22:03.062852Z",
     "iopub.status.busy": "2023-08-09T16:22:03.062442Z",
     "iopub.status.idle": "2023-08-09T16:22:03.071422Z",
     "shell.execute_reply": "2023-08-09T16:22:03.070359Z"
    },
    "papermill": {
     "duration": 0.030257,
     "end_time": "2023-08-09T16:22:03.073519",
     "exception": false,
     "start_time": "2023-08-09T16:22:03.043262",
     "status": "completed"
    },
    "tags": []
   },
   "outputs": [],
   "source": [
    "df_product[\"len\"]=df_product[\"urun\"].apply(len)"
   ]
  },
  {
   "cell_type": "code",
   "execution_count": 14,
   "id": "cfe73647",
   "metadata": {
    "execution": {
     "iopub.execute_input": "2023-08-09T16:22:03.110810Z",
     "iopub.status.busy": "2023-08-09T16:22:03.110360Z",
     "iopub.status.idle": "2023-08-09T16:22:03.122760Z",
     "shell.execute_reply": "2023-08-09T16:22:03.121442Z"
    },
    "papermill": {
     "duration": 0.033484,
     "end_time": "2023-08-09T16:22:03.124971",
     "exception": false,
     "start_time": "2023-08-09T16:22:03.091487",
     "status": "completed"
    },
    "tags": []
   },
   "outputs": [
    {
     "data": {
      "text/html": [
       "<div>\n",
       "<style scoped>\n",
       "    .dataframe tbody tr th:only-of-type {\n",
       "        vertical-align: middle;\n",
       "    }\n",
       "\n",
       "    .dataframe tbody tr th {\n",
       "        vertical-align: top;\n",
       "    }\n",
       "\n",
       "    .dataframe thead th {\n",
       "        text-align: right;\n",
       "    }\n",
       "</style>\n",
       "<table border=\"1\" class=\"dataframe\">\n",
       "  <thead>\n",
       "    <tr style=\"text-align: right;\">\n",
       "      <th></th>\n",
       "      <th>urun_id</th>\n",
       "      <th>urun</th>\n",
       "      <th>marka</th>\n",
       "      <th>url</th>\n",
       "      <th>len</th>\n",
       "    </tr>\n",
       "  </thead>\n",
       "  <tbody>\n",
       "    <tr>\n",
       "      <th>0</th>\n",
       "      <td>1</td>\n",
       "      <td>Erkek %100 Pamuk Koyu Vizon Polo Yaka Düz T-sh...</td>\n",
       "      <td>Avva</td>\n",
       "      <td>https://www.trendyol.com/avva/erkek-100-pamuk-...</td>\n",
       "      <td>57</td>\n",
       "    </tr>\n",
       "    <tr>\n",
       "      <th>1</th>\n",
       "      <td>2</td>\n",
       "      <td>Erkek %100 Pamuk Beyaz Polo Yaka Düz T-shirt E...</td>\n",
       "      <td>Avva</td>\n",
       "      <td>https://www.trendyol.com/avva/erkek-100-pamuk-...</td>\n",
       "      <td>52</td>\n",
       "    </tr>\n",
       "    <tr>\n",
       "      <th>2</th>\n",
       "      <td>3</td>\n",
       "      <td>Erkek %100 Pamuk Açık Turuncu Polo Yaka Düz T-...</td>\n",
       "      <td>Avva</td>\n",
       "      <td>https://www.trendyol.com/avva/erkek-100-pamuk-...</td>\n",
       "      <td>59</td>\n",
       "    </tr>\n",
       "  </tbody>\n",
       "</table>\n",
       "</div>"
      ],
      "text/plain": [
       "   urun_id                                               urun marka  \\\n",
       "0        1  Erkek %100 Pamuk Koyu Vizon Polo Yaka Düz T-sh...  Avva   \n",
       "1        2  Erkek %100 Pamuk Beyaz Polo Yaka Düz T-shirt E...  Avva   \n",
       "2        3  Erkek %100 Pamuk Açık Turuncu Polo Yaka Düz T-...  Avva   \n",
       "\n",
       "                                                 url  len  \n",
       "0  https://www.trendyol.com/avva/erkek-100-pamuk-...   57  \n",
       "1  https://www.trendyol.com/avva/erkek-100-pamuk-...   52  \n",
       "2  https://www.trendyol.com/avva/erkek-100-pamuk-...   59  "
      ]
     },
     "execution_count": 14,
     "metadata": {},
     "output_type": "execute_result"
    }
   ],
   "source": [
    "df_product.head(3)"
   ]
  },
  {
   "cell_type": "code",
   "execution_count": 15,
   "id": "948bcc9b",
   "metadata": {
    "execution": {
     "iopub.execute_input": "2023-08-09T16:22:03.162963Z",
     "iopub.status.busy": "2023-08-09T16:22:03.162566Z",
     "iopub.status.idle": "2023-08-09T16:22:03.186568Z",
     "shell.execute_reply": "2023-08-09T16:22:03.185442Z"
    },
    "papermill": {
     "duration": 0.045542,
     "end_time": "2023-08-09T16:22:03.188855",
     "exception": false,
     "start_time": "2023-08-09T16:22:03.143313",
     "status": "completed"
    },
    "tags": []
   },
   "outputs": [
    {
     "name": "stderr",
     "output_type": "stream",
     "text": [
      "/tmp/ipykernel_20/4192981014.py:1: FutureWarning: The default value of numeric_only in DataFrameGroupBy.mean is deprecated. In a future version, numeric_only will default to False. Either specify numeric_only or select only columns which should be valid for the function.\n",
      "  df_product.groupby(\"marka\").mean()\n"
     ]
    },
    {
     "data": {
      "text/html": [
       "<div>\n",
       "<style scoped>\n",
       "    .dataframe tbody tr th:only-of-type {\n",
       "        vertical-align: middle;\n",
       "    }\n",
       "\n",
       "    .dataframe tbody tr th {\n",
       "        vertical-align: top;\n",
       "    }\n",
       "\n",
       "    .dataframe thead th {\n",
       "        text-align: right;\n",
       "    }\n",
       "</style>\n",
       "<table border=\"1\" class=\"dataframe\">\n",
       "  <thead>\n",
       "    <tr style=\"text-align: right;\">\n",
       "      <th></th>\n",
       "      <th>urun_id</th>\n",
       "      <th>len</th>\n",
       "    </tr>\n",
       "    <tr>\n",
       "      <th>marka</th>\n",
       "      <th></th>\n",
       "      <th></th>\n",
       "    </tr>\n",
       "  </thead>\n",
       "  <tbody>\n",
       "    <tr>\n",
       "      <th></th>\n",
       "      <td>1130.500000</td>\n",
       "      <td>0.000000</td>\n",
       "    </tr>\n",
       "    <tr>\n",
       "      <th>Avva</th>\n",
       "      <td>1180.910995</td>\n",
       "      <td>60.596859</td>\n",
       "    </tr>\n",
       "    <tr>\n",
       "      <th>Colin’s</th>\n",
       "      <td>2877.361702</td>\n",
       "      <td>70.553191</td>\n",
       "    </tr>\n",
       "    <tr>\n",
       "      <th>Defacto</th>\n",
       "      <td>1889.563429</td>\n",
       "      <td>58.074286</td>\n",
       "    </tr>\n",
       "    <tr>\n",
       "      <th>Derimod</th>\n",
       "      <td>2608.800000</td>\n",
       "      <td>40.500000</td>\n",
       "    </tr>\n",
       "    <tr>\n",
       "      <th>HUMMEL</th>\n",
       "      <td>2079.904110</td>\n",
       "      <td>40.041096</td>\n",
       "    </tr>\n",
       "    <tr>\n",
       "      <th>Koton</th>\n",
       "      <td>2613.026726</td>\n",
       "      <td>41.317743</td>\n",
       "    </tr>\n",
       "    <tr>\n",
       "      <th>LC Waikiki</th>\n",
       "      <td>1616.000000</td>\n",
       "      <td>54.818182</td>\n",
       "    </tr>\n",
       "    <tr>\n",
       "      <th>Loft</th>\n",
       "      <td>2669.727273</td>\n",
       "      <td>34.545455</td>\n",
       "    </tr>\n",
       "    <tr>\n",
       "      <th>Mavi</th>\n",
       "      <td>1787.200946</td>\n",
       "      <td>51.013002</td>\n",
       "    </tr>\n",
       "    <tr>\n",
       "      <th>Nike</th>\n",
       "      <td>1996.654545</td>\n",
       "      <td>52.254545</td>\n",
       "    </tr>\n",
       "    <tr>\n",
       "      <th>Puma</th>\n",
       "      <td>1994.512195</td>\n",
       "      <td>47.048780</td>\n",
       "    </tr>\n",
       "    <tr>\n",
       "      <th>Suwen</th>\n",
       "      <td>1816.995327</td>\n",
       "      <td>35.532710</td>\n",
       "    </tr>\n",
       "    <tr>\n",
       "      <th>Tudors</th>\n",
       "      <td>1650.904762</td>\n",
       "      <td>52.285714</td>\n",
       "    </tr>\n",
       "    <tr>\n",
       "      <th>US Polo Assn</th>\n",
       "      <td>1472.937126</td>\n",
       "      <td>42.829341</td>\n",
       "    </tr>\n",
       "    <tr>\n",
       "      <th>adidas</th>\n",
       "      <td>2193.074074</td>\n",
       "      <td>39.518519</td>\n",
       "    </tr>\n",
       "  </tbody>\n",
       "</table>\n",
       "</div>"
      ],
      "text/plain": [
       "                  urun_id        len\n",
       "marka                               \n",
       "              1130.500000   0.000000\n",
       "Avva          1180.910995  60.596859\n",
       "Colin’s       2877.361702  70.553191\n",
       "Defacto       1889.563429  58.074286\n",
       "Derimod       2608.800000  40.500000\n",
       "HUMMEL        2079.904110  40.041096\n",
       "Koton         2613.026726  41.317743\n",
       "LC Waikiki    1616.000000  54.818182\n",
       "Loft          2669.727273  34.545455\n",
       "Mavi          1787.200946  51.013002\n",
       "Nike          1996.654545  52.254545\n",
       "Puma          1994.512195  47.048780\n",
       "Suwen         1816.995327  35.532710\n",
       "Tudors        1650.904762  52.285714\n",
       "US Polo Assn  1472.937126  42.829341\n",
       "adidas        2193.074074  39.518519"
      ]
     },
     "execution_count": 15,
     "metadata": {},
     "output_type": "execute_result"
    }
   ],
   "source": [
    "df_product.groupby(\"marka\").mean()"
   ]
  },
  {
   "cell_type": "code",
   "execution_count": 16,
   "id": "a0f6f4a1",
   "metadata": {
    "execution": {
     "iopub.execute_input": "2023-08-09T16:22:03.229907Z",
     "iopub.status.busy": "2023-08-09T16:22:03.229527Z",
     "iopub.status.idle": "2023-08-09T16:22:03.237994Z",
     "shell.execute_reply": "2023-08-09T16:22:03.236902Z"
    },
    "papermill": {
     "duration": 0.031368,
     "end_time": "2023-08-09T16:22:03.240568",
     "exception": false,
     "start_time": "2023-08-09T16:22:03.209200",
     "status": "completed"
    },
    "tags": []
   },
   "outputs": [
    {
     "name": "stderr",
     "output_type": "stream",
     "text": [
      "/tmp/ipykernel_20/2323638319.py:1: FutureWarning: The default value of numeric_only in DataFrameGroupBy.mean is deprecated. In a future version, numeric_only will default to False. Either specify numeric_only or select only columns which should be valid for the function.\n",
      "  karakter=df_product.groupby(\"marka\").mean()\n"
     ]
    }
   ],
   "source": [
    "karakter=df_product.groupby(\"marka\").mean()"
   ]
  },
  {
   "cell_type": "code",
   "execution_count": 17,
   "id": "fa84a270",
   "metadata": {
    "execution": {
     "iopub.execute_input": "2023-08-09T16:22:03.279647Z",
     "iopub.status.busy": "2023-08-09T16:22:03.279235Z",
     "iopub.status.idle": "2023-08-09T16:22:03.775259Z",
     "shell.execute_reply": "2023-08-09T16:22:03.773989Z"
    },
    "papermill": {
     "duration": 0.519335,
     "end_time": "2023-08-09T16:22:03.778475",
     "exception": false,
     "start_time": "2023-08-09T16:22:03.259140",
     "status": "completed"
    },
    "tags": []
   },
   "outputs": [
    {
     "name": "stderr",
     "output_type": "stream",
     "text": [
      "/tmp/ipykernel_20/4105375212.py:2: MatplotlibDeprecationWarning: The seaborn styles shipped by Matplotlib are deprecated since 3.6, as they no longer correspond to the styles shipped by seaborn. However, they will remain available as 'seaborn-v0_8-<style>'. Alternatively, directly use the seaborn API instead.\n",
      "  plt.style.use(\"seaborn\")\n"
     ]
    },
    {
     "data": {
      "image/png": "[encoded data removed]",
      "text/plain": [
       "<Figure size 1600x600 with 1 Axes>"
      ]
     },
     "metadata": {},
     "output_type": "display_data"
    }
   ],
   "source": [
    "with plt.xkcd():\n",
    "    plt.style.use(\"seaborn\")\n",
    "    plt.figure(figsize=(16,6))\n",
    "    plt.bar(karakter.index,karakter[\"len\"])\n",
    "    plt.xticks(rotation=60)\n",
    "    plt.show()\n",
    "\n",
    "\n"
   ]
  },
  {
   "cell_type": "code",
   "execution_count": 18,
   "id": "1937ecee",
   "metadata": {
    "execution": {
     "iopub.execute_input": "2023-08-09T16:22:03.822368Z",
     "iopub.status.busy": "2023-08-09T16:22:03.821387Z",
     "iopub.status.idle": "2023-08-09T16:22:03.833741Z",
     "shell.execute_reply": "2023-08-09T16:22:03.832610Z"
    },
    "papermill": {
     "duration": 0.0367,
     "end_time": "2023-08-09T16:22:03.835961",
     "exception": false,
     "start_time": "2023-08-09T16:22:03.799261",
     "status": "completed"
    },
    "tags": []
   },
   "outputs": [
    {
     "data": {
      "text/html": [
       "<div>\n",
       "<style scoped>\n",
       "    .dataframe tbody tr th:only-of-type {\n",
       "        vertical-align: middle;\n",
       "    }\n",
       "\n",
       "    .dataframe tbody tr th {\n",
       "        vertical-align: top;\n",
       "    }\n",
       "\n",
       "    .dataframe thead th {\n",
       "        text-align: right;\n",
       "    }\n",
       "</style>\n",
       "<table border=\"1\" class=\"dataframe\">\n",
       "  <thead>\n",
       "    <tr style=\"text-align: right;\">\n",
       "      <th></th>\n",
       "      <th>urun_id</th>\n",
       "      <th>urun</th>\n",
       "      <th>marka</th>\n",
       "      <th>url</th>\n",
       "      <th>len</th>\n",
       "    </tr>\n",
       "  </thead>\n",
       "  <tbody>\n",
       "    <tr>\n",
       "      <th>0</th>\n",
       "      <td>1</td>\n",
       "      <td>Erkek %100 Pamuk Koyu Vizon Polo Yaka Düz T-sh...</td>\n",
       "      <td>Avva</td>\n",
       "      <td>https://www.trendyol.com/avva/erkek-100-pamuk-...</td>\n",
       "      <td>57</td>\n",
       "    </tr>\n",
       "    <tr>\n",
       "      <th>1</th>\n",
       "      <td>2</td>\n",
       "      <td>Erkek %100 Pamuk Beyaz Polo Yaka Düz T-shirt E...</td>\n",
       "      <td>Avva</td>\n",
       "      <td>https://www.trendyol.com/avva/erkek-100-pamuk-...</td>\n",
       "      <td>52</td>\n",
       "    </tr>\n",
       "    <tr>\n",
       "      <th>2</th>\n",
       "      <td>3</td>\n",
       "      <td>Erkek %100 Pamuk Açık Turuncu Polo Yaka Düz T-...</td>\n",
       "      <td>Avva</td>\n",
       "      <td>https://www.trendyol.com/avva/erkek-100-pamuk-...</td>\n",
       "      <td>59</td>\n",
       "    </tr>\n",
       "  </tbody>\n",
       "</table>\n",
       "</div>"
      ],
      "text/plain": [
       "   urun_id                                               urun marka  \\\n",
       "0        1  Erkek %100 Pamuk Koyu Vizon Polo Yaka Düz T-sh...  Avva   \n",
       "1        2  Erkek %100 Pamuk Beyaz Polo Yaka Düz T-shirt E...  Avva   \n",
       "2        3  Erkek %100 Pamuk Açık Turuncu Polo Yaka Düz T-...  Avva   \n",
       "\n",
       "                                                 url  len  \n",
       "0  https://www.trendyol.com/avva/erkek-100-pamuk-...   57  \n",
       "1  https://www.trendyol.com/avva/erkek-100-pamuk-...   52  \n",
       "2  https://www.trendyol.com/avva/erkek-100-pamuk-...   59  "
      ]
     },
     "execution_count": 18,
     "metadata": {},
     "output_type": "execute_result"
    }
   ],
   "source": [
    "df_product.head(3)"
   ]
  },
  {
   "cell_type": "code",
   "execution_count": 19,
   "id": "360c86ca",
   "metadata": {
    "execution": {
     "iopub.execute_input": "2023-08-09T16:22:03.879794Z",
     "iopub.status.busy": "2023-08-09T16:22:03.879137Z",
     "iopub.status.idle": "2023-08-09T16:22:03.891104Z",
     "shell.execute_reply": "2023-08-09T16:22:03.890020Z"
    },
    "papermill": {
     "duration": 0.036867,
     "end_time": "2023-08-09T16:22:03.893736",
     "exception": false,
     "start_time": "2023-08-09T16:22:03.856869",
     "status": "completed"
    },
    "tags": []
   },
   "outputs": [
    {
     "data": {
      "text/html": [
       "<div>\n",
       "<style scoped>\n",
       "    .dataframe tbody tr th:only-of-type {\n",
       "        vertical-align: middle;\n",
       "    }\n",
       "\n",
       "    .dataframe tbody tr th {\n",
       "        vertical-align: top;\n",
       "    }\n",
       "\n",
       "    .dataframe thead th {\n",
       "        text-align: right;\n",
       "    }\n",
       "</style>\n",
       "<table border=\"1\" class=\"dataframe\">\n",
       "  <thead>\n",
       "    <tr style=\"text-align: right;\">\n",
       "      <th></th>\n",
       "      <th>yorum_id</th>\n",
       "      <th>urun_id</th>\n",
       "      <th>yorumlar</th>\n",
       "      <th>puan</th>\n",
       "    </tr>\n",
       "  </thead>\n",
       "  <tbody>\n",
       "    <tr>\n",
       "      <th>0</th>\n",
       "      <td>1</td>\n",
       "      <td>1</td>\n",
       "      <td>Babam için almıştım aşırııı güzell</td>\n",
       "      <td>5</td>\n",
       "    </tr>\n",
       "    <tr>\n",
       "      <th>1</th>\n",
       "      <td>2</td>\n",
       "      <td>1</td>\n",
       "      <td>Dokusu çok güzel kalitesi çok iyi</td>\n",
       "      <td>5</td>\n",
       "    </tr>\n",
       "    <tr>\n",
       "      <th>2</th>\n",
       "      <td>3</td>\n",
       "      <td>1</td>\n",
       "      <td>renk ve kalite çok güzel AVVA sonuçta indirimd...</td>\n",
       "      <td>5</td>\n",
       "    </tr>\n",
       "  </tbody>\n",
       "</table>\n",
       "</div>"
      ],
      "text/plain": [
       "   yorum_id  urun_id                                           yorumlar  puan\n",
       "0         1        1                 Babam için almıştım aşırııı güzell     5\n",
       "1         2        1                  Dokusu çok güzel kalitesi çok iyi     5\n",
       "2         3        1  renk ve kalite çok güzel AVVA sonuçta indirimd...     5"
      ]
     },
     "execution_count": 19,
     "metadata": {},
     "output_type": "execute_result"
    }
   ],
   "source": [
    "df_comment.head(3)"
   ]
  },
  {
   "cell_type": "code",
   "execution_count": 20,
   "id": "d1d47e7e",
   "metadata": {
    "execution": {
     "iopub.execute_input": "2023-08-09T16:22:03.938769Z",
     "iopub.status.busy": "2023-08-09T16:22:03.937975Z",
     "iopub.status.idle": "2023-08-09T16:22:03.942991Z",
     "shell.execute_reply": "2023-08-09T16:22:03.941760Z"
    },
    "papermill": {
     "duration": 0.030526,
     "end_time": "2023-08-09T16:22:03.945522",
     "exception": false,
     "start_time": "2023-08-09T16:22:03.914996",
     "status": "completed"
    },
    "tags": []
   },
   "outputs": [],
   "source": [
    "#birleştirme"
   ]
  },
  {
   "cell_type": "code",
   "execution_count": 21,
   "id": "aff791d0",
   "metadata": {
    "execution": {
     "iopub.execute_input": "2023-08-09T16:22:03.989389Z",
     "iopub.status.busy": "2023-08-09T16:22:03.988926Z",
     "iopub.status.idle": "2023-08-09T16:22:04.018840Z",
     "shell.execute_reply": "2023-08-09T16:22:04.017604Z"
    },
    "papermill": {
     "duration": 0.05482,
     "end_time": "2023-08-09T16:22:04.021472",
     "exception": false,
     "start_time": "2023-08-09T16:22:03.966652",
     "status": "completed"
    },
    "tags": []
   },
   "outputs": [
    {
     "data": {
      "text/html": [
       "<div>\n",
       "<style scoped>\n",
       "    .dataframe tbody tr th:only-of-type {\n",
       "        vertical-align: middle;\n",
       "    }\n",
       "\n",
       "    .dataframe tbody tr th {\n",
       "        vertical-align: top;\n",
       "    }\n",
       "\n",
       "    .dataframe thead th {\n",
       "        text-align: right;\n",
       "    }\n",
       "</style>\n",
       "<table border=\"1\" class=\"dataframe\">\n",
       "  <thead>\n",
       "    <tr style=\"text-align: right;\">\n",
       "      <th></th>\n",
       "      <th>yorum_id</th>\n",
       "      <th>urun_id</th>\n",
       "      <th>yorumlar</th>\n",
       "      <th>puan</th>\n",
       "      <th>marka</th>\n",
       "    </tr>\n",
       "  </thead>\n",
       "  <tbody>\n",
       "    <tr>\n",
       "      <th>0</th>\n",
       "      <td>1</td>\n",
       "      <td>1</td>\n",
       "      <td>Babam için almıştım aşırııı güzell</td>\n",
       "      <td>5</td>\n",
       "      <td>Avva</td>\n",
       "    </tr>\n",
       "    <tr>\n",
       "      <th>1</th>\n",
       "      <td>2</td>\n",
       "      <td>1</td>\n",
       "      <td>Dokusu çok güzel kalitesi çok iyi</td>\n",
       "      <td>5</td>\n",
       "      <td>Avva</td>\n",
       "    </tr>\n",
       "    <tr>\n",
       "      <th>2</th>\n",
       "      <td>3</td>\n",
       "      <td>1</td>\n",
       "      <td>renk ve kalite çok güzel AVVA sonuçta indirimd...</td>\n",
       "      <td>5</td>\n",
       "      <td>Avva</td>\n",
       "    </tr>\n",
       "    <tr>\n",
       "      <th>3</th>\n",
       "      <td>4</td>\n",
       "      <td>1</td>\n",
       "      <td>Çok beğendim güzel</td>\n",
       "      <td>5</td>\n",
       "      <td>Avva</td>\n",
       "    </tr>\n",
       "    <tr>\n",
       "      <th>4</th>\n",
       "      <td>5</td>\n",
       "      <td>1</td>\n",
       "      <td>Güzel tişört</td>\n",
       "      <td>5</td>\n",
       "      <td>Avva</td>\n",
       "    </tr>\n",
       "    <tr>\n",
       "      <th>...</th>\n",
       "      <td>...</td>\n",
       "      <td>...</td>\n",
       "      <td>...</td>\n",
       "      <td>...</td>\n",
       "      <td>...</td>\n",
       "    </tr>\n",
       "    <tr>\n",
       "      <th>43918</th>\n",
       "      <td>43919</td>\n",
       "      <td>4107</td>\n",
       "      <td>Fotografa bakınca dışarda giyilecek gibi duruy...</td>\n",
       "      <td>3</td>\n",
       "      <td>Koton</td>\n",
       "    </tr>\n",
       "    <tr>\n",
       "      <th>43919</th>\n",
       "      <td>43920</td>\n",
       "      <td>4108</td>\n",
       "      <td>biraz kalın batan bir mali var 38 40 giyiyorum...</td>\n",
       "      <td>3</td>\n",
       "      <td>Defacto</td>\n",
       "    </tr>\n",
       "    <tr>\n",
       "      <th>43920</th>\n",
       "      <td>43921</td>\n",
       "      <td>4109</td>\n",
       "      <td>ürünü aldiktan 20 gün sonra fiyat yarı yarıya ...</td>\n",
       "      <td>1</td>\n",
       "      <td>Mavi</td>\n",
       "    </tr>\n",
       "    <tr>\n",
       "      <th>43921</th>\n",
       "      <td>43922</td>\n",
       "      <td>4109</td>\n",
       "      <td>Yakası çok büyük ve kumaşı maviye yakışmadı iade</td>\n",
       "      <td>1</td>\n",
       "      <td>Mavi</td>\n",
       "    </tr>\n",
       "    <tr>\n",
       "      <th>43922</th>\n",
       "      <td>43923</td>\n",
       "      <td>4109</td>\n",
       "      <td>Etiketde yazan fiyat daha uygun ?</td>\n",
       "      <td>1</td>\n",
       "      <td>Mavi</td>\n",
       "    </tr>\n",
       "  </tbody>\n",
       "</table>\n",
       "<p>43923 rows × 5 columns</p>\n",
       "</div>"
      ],
      "text/plain": [
       "       yorum_id  urun_id                                           yorumlar  \\\n",
       "0             1        1                 Babam için almıştım aşırııı güzell   \n",
       "1             2        1                  Dokusu çok güzel kalitesi çok iyi   \n",
       "2             3        1  renk ve kalite çok güzel AVVA sonuçta indirimd...   \n",
       "3             4        1                                 Çok beğendim güzel   \n",
       "4             5        1                                       Güzel tişört   \n",
       "...         ...      ...                                                ...   \n",
       "43918     43919     4107  Fotografa bakınca dışarda giyilecek gibi duruy...   \n",
       "43919     43920     4108  biraz kalın batan bir mali var 38 40 giyiyorum...   \n",
       "43920     43921     4109  ürünü aldiktan 20 gün sonra fiyat yarı yarıya ...   \n",
       "43921     43922     4109   Yakası çok büyük ve kumaşı maviye yakışmadı iade   \n",
       "43922     43923     4109                  Etiketde yazan fiyat daha uygun ?   \n",
       "\n",
       "       puan    marka  \n",
       "0         5     Avva  \n",
       "1         5     Avva  \n",
       "2         5     Avva  \n",
       "3         5     Avva  \n",
       "4         5     Avva  \n",
       "...     ...      ...  \n",
       "43918     3    Koton  \n",
       "43919     3  Defacto  \n",
       "43920     1     Mavi  \n",
       "43921     1     Mavi  \n",
       "43922     1     Mavi  \n",
       "\n",
       "[43923 rows x 5 columns]"
      ]
     },
     "execution_count": 21,
     "metadata": {},
     "output_type": "execute_result"
    }
   ],
   "source": [
    "df_comment.merge(df_product[[\"urun_id\",\"marka\"]],left_on=\"urun_id\",right_on=\"urun_id\")"
   ]
  },
  {
   "cell_type": "code",
   "execution_count": 22,
   "id": "34f1155d",
   "metadata": {
    "execution": {
     "iopub.execute_input": "2023-08-09T16:22:04.066326Z",
     "iopub.status.busy": "2023-08-09T16:22:04.065892Z",
     "iopub.status.idle": "2023-08-09T16:22:04.083412Z",
     "shell.execute_reply": "2023-08-09T16:22:04.082155Z"
    },
    "papermill": {
     "duration": 0.043073,
     "end_time": "2023-08-09T16:22:04.086209",
     "exception": false,
     "start_time": "2023-08-09T16:22:04.043136",
     "status": "completed"
    },
    "tags": []
   },
   "outputs": [],
   "source": [
    "marka_puan=df_comment.merge(df_product[[\"urun_id\",\"marka\"]],left_on=\"urun_id\",right_on=\"urun_id\")"
   ]
  },
  {
   "cell_type": "code",
   "execution_count": 23,
   "id": "683157ad",
   "metadata": {
    "execution": {
     "iopub.execute_input": "2023-08-09T16:22:04.133257Z",
     "iopub.status.busy": "2023-08-09T16:22:04.132778Z",
     "iopub.status.idle": "2023-08-09T16:22:04.149240Z",
     "shell.execute_reply": "2023-08-09T16:22:04.148109Z"
    },
    "papermill": {
     "duration": 0.043421,
     "end_time": "2023-08-09T16:22:04.151820",
     "exception": false,
     "start_time": "2023-08-09T16:22:04.108399",
     "status": "completed"
    },
    "tags": []
   },
   "outputs": [
    {
     "name": "stderr",
     "output_type": "stream",
     "text": [
      "/tmp/ipykernel_20/2221355079.py:1: FutureWarning: The default value of numeric_only in DataFrameGroupBy.mean is deprecated. In a future version, numeric_only will default to False. Either specify numeric_only or select only columns which should be valid for the function.\n",
      "  mpg=marka_puan.groupby(\"marka\").mean()\n"
     ]
    }
   ],
   "source": [
    "mpg=marka_puan.groupby(\"marka\").mean()\n",
    "mpg=mpg.sort_values(by=\"puan\")"
   ]
  },
  {
   "cell_type": "code",
   "execution_count": 24,
   "id": "05bde771",
   "metadata": {
    "execution": {
     "iopub.execute_input": "2023-08-09T16:22:04.196720Z",
     "iopub.status.busy": "2023-08-09T16:22:04.196329Z",
     "iopub.status.idle": "2023-08-09T16:22:04.538716Z",
     "shell.execute_reply": "2023-08-09T16:22:04.537489Z"
    },
    "papermill": {
     "duration": 0.368053,
     "end_time": "2023-08-09T16:22:04.541548",
     "exception": false,
     "start_time": "2023-08-09T16:22:04.173495",
     "status": "completed"
    },
    "tags": []
   },
   "outputs": [
    {
     "data": {
      "image/png": "[encoded data removed]",
      "text/plain": [
       "<Figure size 1600x600 with 1 Axes>"
      ]
     },
     "metadata": {},
     "output_type": "display_data"
    }
   ],
   "source": [
    "plt.style.use(\"ggplot\")\n",
    "plt.figure(figsize=(16,6))\n",
    "plt.bar(mpg.index,mpg[\"puan\"])\n",
    "plt.show()\n"
   ]
  },
  {
   "cell_type": "code",
   "execution_count": 25,
   "id": "2b820bc5",
   "metadata": {
    "execution": {
     "iopub.execute_input": "2023-08-09T16:22:04.588127Z",
     "iopub.status.busy": "2023-08-09T16:22:04.586732Z",
     "iopub.status.idle": "2023-08-09T16:22:04.598995Z",
     "shell.execute_reply": "2023-08-09T16:22:04.597640Z"
    },
    "papermill": {
     "duration": 0.03798,
     "end_time": "2023-08-09T16:22:04.601582",
     "exception": false,
     "start_time": "2023-08-09T16:22:04.563602",
     "status": "completed"
    },
    "tags": []
   },
   "outputs": [
    {
     "data": {
      "text/html": [
       "<div>\n",
       "<style scoped>\n",
       "    .dataframe tbody tr th:only-of-type {\n",
       "        vertical-align: middle;\n",
       "    }\n",
       "\n",
       "    .dataframe tbody tr th {\n",
       "        vertical-align: top;\n",
       "    }\n",
       "\n",
       "    .dataframe thead th {\n",
       "        text-align: right;\n",
       "    }\n",
       "</style>\n",
       "<table border=\"1\" class=\"dataframe\">\n",
       "  <thead>\n",
       "    <tr style=\"text-align: right;\">\n",
       "      <th></th>\n",
       "      <th>yorum_id</th>\n",
       "      <th>urun_id</th>\n",
       "      <th>yorumlar</th>\n",
       "      <th>puan</th>\n",
       "    </tr>\n",
       "  </thead>\n",
       "  <tbody>\n",
       "    <tr>\n",
       "      <th>0</th>\n",
       "      <td>1</td>\n",
       "      <td>1</td>\n",
       "      <td>Babam için almıştım aşırııı güzell</td>\n",
       "      <td>5</td>\n",
       "    </tr>\n",
       "    <tr>\n",
       "      <th>1</th>\n",
       "      <td>2</td>\n",
       "      <td>1</td>\n",
       "      <td>Dokusu çok güzel kalitesi çok iyi</td>\n",
       "      <td>5</td>\n",
       "    </tr>\n",
       "    <tr>\n",
       "      <th>2</th>\n",
       "      <td>3</td>\n",
       "      <td>1</td>\n",
       "      <td>renk ve kalite çok güzel AVVA sonuçta indirimd...</td>\n",
       "      <td>5</td>\n",
       "    </tr>\n",
       "  </tbody>\n",
       "</table>\n",
       "</div>"
      ],
      "text/plain": [
       "   yorum_id  urun_id                                           yorumlar  puan\n",
       "0         1        1                 Babam için almıştım aşırııı güzell     5\n",
       "1         2        1                  Dokusu çok güzel kalitesi çok iyi     5\n",
       "2         3        1  renk ve kalite çok güzel AVVA sonuçta indirimd...     5"
      ]
     },
     "execution_count": 25,
     "metadata": {},
     "output_type": "execute_result"
    }
   ],
   "source": [
    "df_comment.head(3)"
   ]
  },
  {
   "cell_type": "code",
   "execution_count": 26,
   "id": "07879aa0",
   "metadata": {
    "execution": {
     "iopub.execute_input": "2023-08-09T16:22:04.648163Z",
     "iopub.status.busy": "2023-08-09T16:22:04.647084Z",
     "iopub.status.idle": "2023-08-09T16:22:04.709644Z",
     "shell.execute_reply": "2023-08-09T16:22:04.708586Z"
    },
    "papermill": {
     "duration": 0.088353,
     "end_time": "2023-08-09T16:22:04.712207",
     "exception": false,
     "start_time": "2023-08-09T16:22:04.623854",
     "status": "completed"
    },
    "tags": []
   },
   "outputs": [],
   "source": [
    "df_comment[\"yorum\"]=df_comment[\"urun_id\"].astype(\"str\")+\" \"+df_comment[\"yorumlar\"]"
   ]
  },
  {
   "cell_type": "code",
   "execution_count": 27,
   "id": "211106d9",
   "metadata": {
    "execution": {
     "iopub.execute_input": "2023-08-09T16:22:04.758657Z",
     "iopub.status.busy": "2023-08-09T16:22:04.757803Z",
     "iopub.status.idle": "2023-08-09T16:22:04.770019Z",
     "shell.execute_reply": "2023-08-09T16:22:04.768747Z"
    },
    "papermill": {
     "duration": 0.038342,
     "end_time": "2023-08-09T16:22:04.772632",
     "exception": false,
     "start_time": "2023-08-09T16:22:04.734290",
     "status": "completed"
    },
    "tags": []
   },
   "outputs": [],
   "source": [
    "df=df_comment[[\"yorumlar\",\"puan\"]]"
   ]
  },
  {
   "cell_type": "code",
   "execution_count": 28,
   "id": "62c44ec7",
   "metadata": {
    "execution": {
     "iopub.execute_input": "2023-08-09T16:22:04.819309Z",
     "iopub.status.busy": "2023-08-09T16:22:04.818875Z",
     "iopub.status.idle": "2023-08-09T16:22:04.828992Z",
     "shell.execute_reply": "2023-08-09T16:22:04.827907Z"
    },
    "papermill": {
     "duration": 0.036932,
     "end_time": "2023-08-09T16:22:04.831800",
     "exception": false,
     "start_time": "2023-08-09T16:22:04.794868",
     "status": "completed"
    },
    "tags": []
   },
   "outputs": [
    {
     "data": {
      "text/html": [
       "<div>\n",
       "<style scoped>\n",
       "    .dataframe tbody tr th:only-of-type {\n",
       "        vertical-align: middle;\n",
       "    }\n",
       "\n",
       "    .dataframe tbody tr th {\n",
       "        vertical-align: top;\n",
       "    }\n",
       "\n",
       "    .dataframe thead th {\n",
       "        text-align: right;\n",
       "    }\n",
       "</style>\n",
       "<table border=\"1\" class=\"dataframe\">\n",
       "  <thead>\n",
       "    <tr style=\"text-align: right;\">\n",
       "      <th></th>\n",
       "      <th>yorumlar</th>\n",
       "      <th>puan</th>\n",
       "    </tr>\n",
       "  </thead>\n",
       "  <tbody>\n",
       "    <tr>\n",
       "      <th>0</th>\n",
       "      <td>Babam için almıştım aşırııı güzell</td>\n",
       "      <td>5</td>\n",
       "    </tr>\n",
       "    <tr>\n",
       "      <th>1</th>\n",
       "      <td>Dokusu çok güzel kalitesi çok iyi</td>\n",
       "      <td>5</td>\n",
       "    </tr>\n",
       "    <tr>\n",
       "      <th>2</th>\n",
       "      <td>renk ve kalite çok güzel AVVA sonuçta indirimd...</td>\n",
       "      <td>5</td>\n",
       "    </tr>\n",
       "  </tbody>\n",
       "</table>\n",
       "</div>"
      ],
      "text/plain": [
       "                                            yorumlar  puan\n",
       "0                 Babam için almıştım aşırııı güzell     5\n",
       "1                  Dokusu çok güzel kalitesi çok iyi     5\n",
       "2  renk ve kalite çok güzel AVVA sonuçta indirimd...     5"
      ]
     },
     "execution_count": 28,
     "metadata": {},
     "output_type": "execute_result"
    }
   ],
   "source": [
    "df.head(3)"
   ]
  },
  {
   "cell_type": "code",
   "execution_count": 29,
   "id": "0db458ab",
   "metadata": {
    "execution": {
     "iopub.execute_input": "2023-08-09T16:22:04.879668Z",
     "iopub.status.busy": "2023-08-09T16:22:04.879279Z",
     "iopub.status.idle": "2023-08-09T16:22:04.886719Z",
     "shell.execute_reply": "2023-08-09T16:22:04.885428Z"
    },
    "papermill": {
     "duration": 0.034154,
     "end_time": "2023-08-09T16:22:04.888978",
     "exception": false,
     "start_time": "2023-08-09T16:22:04.854824",
     "status": "completed"
    },
    "tags": []
   },
   "outputs": [],
   "source": [
    "t=pd.DataFrame()\n",
    "t[\"yorumlar\"]=[\"1 Kargo geldi çok güzeldi.Yanında kesme şeker göndermişler\"]\n",
    "t[\"puan\"]=5"
   ]
  },
  {
   "cell_type": "code",
   "execution_count": 30,
   "id": "1c547fd3",
   "metadata": {
    "execution": {
     "iopub.execute_input": "2023-08-09T16:22:04.935662Z",
     "iopub.status.busy": "2023-08-09T16:22:04.935291Z",
     "iopub.status.idle": "2023-08-09T16:22:04.941467Z",
     "shell.execute_reply": "2023-08-09T16:22:04.940535Z"
    },
    "papermill": {
     "duration": 0.032498,
     "end_time": "2023-08-09T16:22:04.943684",
     "exception": false,
     "start_time": "2023-08-09T16:22:04.911186",
     "status": "completed"
    },
    "tags": []
   },
   "outputs": [],
   "source": [
    "df=pd.concat([df,t],ignore_index=True)"
   ]
  },
  {
   "cell_type": "code",
   "execution_count": 31,
   "id": "8c8a00c3",
   "metadata": {
    "execution": {
     "iopub.execute_input": "2023-08-09T16:22:04.991383Z",
     "iopub.status.busy": "2023-08-09T16:22:04.990023Z",
     "iopub.status.idle": "2023-08-09T16:22:05.000022Z",
     "shell.execute_reply": "2023-08-09T16:22:04.999118Z"
    },
    "papermill": {
     "duration": 0.036053,
     "end_time": "2023-08-09T16:22:05.002335",
     "exception": false,
     "start_time": "2023-08-09T16:22:04.966282",
     "status": "completed"
    },
    "tags": []
   },
   "outputs": [
    {
     "data": {
      "text/html": [
       "<div>\n",
       "<style scoped>\n",
       "    .dataframe tbody tr th:only-of-type {\n",
       "        vertical-align: middle;\n",
       "    }\n",
       "\n",
       "    .dataframe tbody tr th {\n",
       "        vertical-align: top;\n",
       "    }\n",
       "\n",
       "    .dataframe thead th {\n",
       "        text-align: right;\n",
       "    }\n",
       "</style>\n",
       "<table border=\"1\" class=\"dataframe\">\n",
       "  <thead>\n",
       "    <tr style=\"text-align: right;\">\n",
       "      <th></th>\n",
       "      <th>yorumlar</th>\n",
       "      <th>puan</th>\n",
       "    </tr>\n",
       "  </thead>\n",
       "  <tbody>\n",
       "    <tr>\n",
       "      <th>43921</th>\n",
       "      <td>Yakası çok büyük ve kumaşı maviye yakışmadı iade</td>\n",
       "      <td>1</td>\n",
       "    </tr>\n",
       "    <tr>\n",
       "      <th>43922</th>\n",
       "      <td>Etiketde yazan fiyat daha uygun ?</td>\n",
       "      <td>1</td>\n",
       "    </tr>\n",
       "    <tr>\n",
       "      <th>43923</th>\n",
       "      <td>1 Kargo geldi çok güzeldi.Yanında kesme şeker ...</td>\n",
       "      <td>5</td>\n",
       "    </tr>\n",
       "  </tbody>\n",
       "</table>\n",
       "</div>"
      ],
      "text/plain": [
       "                                                yorumlar  puan\n",
       "43921   Yakası çok büyük ve kumaşı maviye yakışmadı iade     1\n",
       "43922                  Etiketde yazan fiyat daha uygun ?     1\n",
       "43923  1 Kargo geldi çok güzeldi.Yanında kesme şeker ...     5"
      ]
     },
     "execution_count": 31,
     "metadata": {},
     "output_type": "execute_result"
    }
   ],
   "source": [
    "df.tail(3)"
   ]
  },
  {
   "cell_type": "code",
   "execution_count": 32,
   "id": "74907511",
   "metadata": {
    "execution": {
     "iopub.execute_input": "2023-08-09T16:22:05.050125Z",
     "iopub.status.busy": "2023-08-09T16:22:05.049111Z",
     "iopub.status.idle": "2023-08-09T16:22:05.053964Z",
     "shell.execute_reply": "2023-08-09T16:22:05.053137Z"
    },
    "papermill": {
     "duration": 0.031368,
     "end_time": "2023-08-09T16:22:05.056356",
     "exception": false,
     "start_time": "2023-08-09T16:22:05.024988",
     "status": "completed"
    },
    "tags": []
   },
   "outputs": [],
   "source": [
    "#5-4 pozitif , 3 nötr , 1-2 negatif \n",
    "import numpy as np"
   ]
  },
  {
   "cell_type": "code",
   "execution_count": 33,
   "id": "61322aaa",
   "metadata": {
    "execution": {
     "iopub.execute_input": "2023-08-09T16:22:05.104318Z",
     "iopub.status.busy": "2023-08-09T16:22:05.102993Z",
     "iopub.status.idle": "2023-08-09T16:22:05.190459Z",
     "shell.execute_reply": "2023-08-09T16:22:05.189317Z"
    },
    "papermill": {
     "duration": 0.114371,
     "end_time": "2023-08-09T16:22:05.193282",
     "exception": false,
     "start_time": "2023-08-09T16:22:05.078911",
     "status": "completed"
    },
    "tags": []
   },
   "outputs": [],
   "source": [
    "df[\"puan\"]=df[\"puan\"].astype(\"str\")\n",
    "df[\"puan\"]=np.where(df[\"puan\"]==\"1\",\"negatif\",df[\"puan\"])\n",
    "df[\"puan\"]=np.where(df[\"puan\"]==\"2\",\"negatif\",df[\"puan\"])\n",
    "df[\"puan\"]=np.where(df[\"puan\"]==\"3\",\"notr\",df[\"puan\"])\n",
    "df[\"puan\"]=np.where(df[\"puan\"]==\"4\",\"pozitif\",df[\"puan\"])\n",
    "df[\"puan\"]=np.where(df[\"puan\"]==\"5\",\"pozitif\",df[\"puan\"])"
   ]
  },
  {
   "cell_type": "code",
   "execution_count": 34,
   "id": "69118166",
   "metadata": {
    "execution": {
     "iopub.execute_input": "2023-08-09T16:22:05.240596Z",
     "iopub.status.busy": "2023-08-09T16:22:05.240176Z",
     "iopub.status.idle": "2023-08-09T16:22:05.258102Z",
     "shell.execute_reply": "2023-08-09T16:22:05.256952Z"
    },
    "papermill": {
     "duration": 0.044811,
     "end_time": "2023-08-09T16:22:05.260744",
     "exception": false,
     "start_time": "2023-08-09T16:22:05.215933",
     "status": "completed"
    },
    "tags": []
   },
   "outputs": [
    {
     "data": {
      "text/plain": [
       "pozitif    34655\n",
       "negatif     5038\n",
       "notr        4231\n",
       "Name: puan, dtype: int64"
      ]
     },
     "execution_count": 34,
     "metadata": {},
     "output_type": "execute_result"
    }
   ],
   "source": [
    "df[\"puan\"].value_counts()"
   ]
  },
  {
   "cell_type": "code",
   "execution_count": 35,
   "id": "c2cfcda8",
   "metadata": {
    "execution": {
     "iopub.execute_input": "2023-08-09T16:22:05.308861Z",
     "iopub.status.busy": "2023-08-09T16:22:05.308431Z",
     "iopub.status.idle": "2023-08-09T16:22:05.319631Z",
     "shell.execute_reply": "2023-08-09T16:22:05.318651Z"
    },
    "papermill": {
     "duration": 0.037823,
     "end_time": "2023-08-09T16:22:05.321856",
     "exception": false,
     "start_time": "2023-08-09T16:22:05.284033",
     "status": "completed"
    },
    "tags": []
   },
   "outputs": [
    {
     "data": {
      "text/html": [
       "<div>\n",
       "<style scoped>\n",
       "    .dataframe tbody tr th:only-of-type {\n",
       "        vertical-align: middle;\n",
       "    }\n",
       "\n",
       "    .dataframe tbody tr th {\n",
       "        vertical-align: top;\n",
       "    }\n",
       "\n",
       "    .dataframe thead th {\n",
       "        text-align: right;\n",
       "    }\n",
       "</style>\n",
       "<table border=\"1\" class=\"dataframe\">\n",
       "  <thead>\n",
       "    <tr style=\"text-align: right;\">\n",
       "      <th></th>\n",
       "      <th>yorumlar</th>\n",
       "      <th>puan</th>\n",
       "    </tr>\n",
       "  </thead>\n",
       "  <tbody>\n",
       "    <tr>\n",
       "      <th>0</th>\n",
       "      <td>Babam için almıştım aşırııı güzell</td>\n",
       "      <td>pozitif</td>\n",
       "    </tr>\n",
       "    <tr>\n",
       "      <th>1</th>\n",
       "      <td>Dokusu çok güzel kalitesi çok iyi</td>\n",
       "      <td>pozitif</td>\n",
       "    </tr>\n",
       "    <tr>\n",
       "      <th>2</th>\n",
       "      <td>renk ve kalite çok güzel AVVA sonuçta indirimd...</td>\n",
       "      <td>pozitif</td>\n",
       "    </tr>\n",
       "  </tbody>\n",
       "</table>\n",
       "</div>"
      ],
      "text/plain": [
       "                                            yorumlar     puan\n",
       "0                 Babam için almıştım aşırııı güzell  pozitif\n",
       "1                  Dokusu çok güzel kalitesi çok iyi  pozitif\n",
       "2  renk ve kalite çok güzel AVVA sonuçta indirimd...  pozitif"
      ]
     },
     "execution_count": 35,
     "metadata": {},
     "output_type": "execute_result"
    }
   ],
   "source": [
    "df.head(3)"
   ]
  },
  {
   "cell_type": "code",
   "execution_count": 36,
   "id": "54072d3b",
   "metadata": {
    "execution": {
     "iopub.execute_input": "2023-08-09T16:22:05.371404Z",
     "iopub.status.busy": "2023-08-09T16:22:05.370663Z",
     "iopub.status.idle": "2023-08-09T16:22:05.436434Z",
     "shell.execute_reply": "2023-08-09T16:22:05.434923Z"
    },
    "papermill": {
     "duration": 0.092864,
     "end_time": "2023-08-09T16:22:05.439135",
     "exception": false,
     "start_time": "2023-08-09T16:22:05.346271",
     "status": "completed"
    },
    "tags": []
   },
   "outputs": [],
   "source": [
    "df[\"yorumlar\"]=df[\"yorumlar\"].str.lower()"
   ]
  },
  {
   "cell_type": "code",
   "execution_count": 37,
   "id": "88ed093a",
   "metadata": {
    "execution": {
     "iopub.execute_input": "2023-08-09T16:22:05.487893Z",
     "iopub.status.busy": "2023-08-09T16:22:05.487475Z",
     "iopub.status.idle": "2023-08-09T16:22:05.492260Z",
     "shell.execute_reply": "2023-08-09T16:22:05.491113Z"
    },
    "papermill": {
     "duration": 0.032284,
     "end_time": "2023-08-09T16:22:05.494673",
     "exception": false,
     "start_time": "2023-08-09T16:22:05.462389",
     "status": "completed"
    },
    "tags": []
   },
   "outputs": [],
   "source": [
    "import string"
   ]
  },
  {
   "cell_type": "code",
   "execution_count": 38,
   "id": "33fc31f1",
   "metadata": {
    "execution": {
     "iopub.execute_input": "2023-08-09T16:22:05.543482Z",
     "iopub.status.busy": "2023-08-09T16:22:05.543070Z",
     "iopub.status.idle": "2023-08-09T16:22:08.304589Z",
     "shell.execute_reply": "2023-08-09T16:22:08.303316Z"
    },
    "papermill": {
     "duration": 2.789465,
     "end_time": "2023-08-09T16:22:08.307302",
     "exception": false,
     "start_time": "2023-08-09T16:22:05.517837",
     "status": "completed"
    },
    "tags": []
   },
   "outputs": [
    {
     "name": "stderr",
     "output_type": "stream",
     "text": [
      "/tmp/ipykernel_20/970050429.py:2: FutureWarning: The default value of regex will change from True to False in a future version. In addition, single character regular expressions will *not* be treated as literal strings when regex=True.\n",
      "  df[\"yorumlar\"]=df[\"yorumlar\"].str.replace(i,\" \")\n"
     ]
    }
   ],
   "source": [
    "for i in string.punctuation:\n",
    "    df[\"yorumlar\"]=df[\"yorumlar\"].str.replace(i,\" \")\n",
    "    df[\"yorumlar\"]=df[\"yorumlar\"].str.replace(\"  \",\"\")"
   ]
  },
  {
   "cell_type": "code",
   "execution_count": 39,
   "id": "f609bf0c",
   "metadata": {
    "execution": {
     "iopub.execute_input": "2023-08-09T16:22:08.358540Z",
     "iopub.status.busy": "2023-08-09T16:22:08.358161Z",
     "iopub.status.idle": "2023-08-09T16:22:08.365630Z",
     "shell.execute_reply": "2023-08-09T16:22:08.364537Z"
    },
    "papermill": {
     "duration": 0.037198,
     "end_time": "2023-08-09T16:22:08.367918",
     "exception": false,
     "start_time": "2023-08-09T16:22:08.330720",
     "status": "completed"
    },
    "tags": []
   },
   "outputs": [],
   "source": [
    "stopwords=['fakat','lakin','ancak','acaba', 'ama', 'aslında', 'az', 'bazı', 'belki', 'biri', 'birkaç', 'birşey', 'biz', 'bu', 'çok', 'çünkü', 'da', 'daha', 'de', 'defa', 'diye', 'eğer', 'en', 'gibi', 'hem', 'hep', 'hepsi', 'her', 'hiç', 'için', 'ile', 'ise', 'kez', 'ki', 'kim', 'mı', 'mu', 'mü', 'nasıl', 'ne', 'neden', 'nerde', 'nerede', 'nereye', 'niçin', 'niye', 'o', 'sanki', 'şey', 'siz', 'şu', 'tüm', 've', 'veya', 'ya', 'yani']"
   ]
  },
  {
   "cell_type": "code",
   "execution_count": 40,
   "id": "db059e4c",
   "metadata": {
    "execution": {
     "iopub.execute_input": "2023-08-09T16:22:08.416418Z",
     "iopub.status.busy": "2023-08-09T16:22:08.416001Z",
     "iopub.status.idle": "2023-08-09T16:22:11.584954Z",
     "shell.execute_reply": "2023-08-09T16:22:11.583500Z"
    },
    "papermill": {
     "duration": 3.196515,
     "end_time": "2023-08-09T16:22:11.588180",
     "exception": false,
     "start_time": "2023-08-09T16:22:08.391665",
     "status": "completed"
    },
    "tags": []
   },
   "outputs": [],
   "source": [
    "for s in stopwords:\n",
    "    s=\" \"+s+\" \"\n",
    "    df[\"yorumlar\"]=df[\"yorumlar\"].str.replace(s,\" \")"
   ]
  },
  {
   "cell_type": "code",
   "execution_count": 41,
   "id": "a73a0422",
   "metadata": {
    "execution": {
     "iopub.execute_input": "2023-08-09T16:22:11.640329Z",
     "iopub.status.busy": "2023-08-09T16:22:11.638847Z",
     "iopub.status.idle": "2023-08-09T16:22:11.684619Z",
     "shell.execute_reply": "2023-08-09T16:22:11.683253Z"
    },
    "papermill": {
     "duration": 0.075182,
     "end_time": "2023-08-09T16:22:11.688095",
     "exception": false,
     "start_time": "2023-08-09T16:22:11.612913",
     "status": "completed"
    },
    "tags": []
   },
   "outputs": [],
   "source": [
    "from sklearn.feature_extraction.text import CountVectorizer"
   ]
  },
  {
   "cell_type": "code",
   "execution_count": 42,
   "id": "a44b7276",
   "metadata": {
    "execution": {
     "iopub.execute_input": "2023-08-09T16:22:11.739168Z",
     "iopub.status.busy": "2023-08-09T16:22:11.738678Z",
     "iopub.status.idle": "2023-08-09T16:22:12.688475Z",
     "shell.execute_reply": "2023-08-09T16:22:12.687305Z"
    },
    "papermill": {
     "duration": 0.978503,
     "end_time": "2023-08-09T16:22:12.691437",
     "exception": false,
     "start_time": "2023-08-09T16:22:11.712934",
     "status": "completed"
    },
    "tags": []
   },
   "outputs": [],
   "source": [
    "vec=CountVectorizer(max_features=400)\n",
    "x=vec.fit_transform(df[\"yorumlar\"]).toarray()"
   ]
  },
  {
   "cell_type": "code",
   "execution_count": 43,
   "id": "92ee0ca8",
   "metadata": {
    "execution": {
     "iopub.execute_input": "2023-08-09T16:22:12.740752Z",
     "iopub.status.busy": "2023-08-09T16:22:12.740346Z",
     "iopub.status.idle": "2023-08-09T16:22:12.747889Z",
     "shell.execute_reply": "2023-08-09T16:22:12.746662Z"
    },
    "papermill": {
     "duration": 0.034932,
     "end_time": "2023-08-09T16:22:12.750364",
     "exception": false,
     "start_time": "2023-08-09T16:22:12.715432",
     "status": "completed"
    },
    "tags": []
   },
   "outputs": [
    {
     "data": {
      "text/plain": [
       "array([[0, 0, 0, ..., 0, 0, 0],\n",
       "       [0, 0, 0, ..., 0, 0, 0],\n",
       "       [0, 0, 0, ..., 0, 0, 0],\n",
       "       ...,\n",
       "       [0, 0, 0, ..., 0, 0, 0],\n",
       "       [0, 0, 0, ..., 0, 0, 0],\n",
       "       [0, 0, 0, ..., 0, 0, 0]])"
      ]
     },
     "execution_count": 43,
     "metadata": {},
     "output_type": "execute_result"
    }
   ],
   "source": [
    "x"
   ]
  },
  {
   "cell_type": "code",
   "execution_count": 44,
   "id": "a9240c5f",
   "metadata": {
    "execution": {
     "iopub.execute_input": "2023-08-09T16:22:12.799905Z",
     "iopub.status.busy": "2023-08-09T16:22:12.799513Z",
     "iopub.status.idle": "2023-08-09T16:22:12.804562Z",
     "shell.execute_reply": "2023-08-09T16:22:12.803498Z"
    },
    "papermill": {
     "duration": 0.033129,
     "end_time": "2023-08-09T16:22:12.807107",
     "exception": false,
     "start_time": "2023-08-09T16:22:12.773978",
     "status": "completed"
    },
    "tags": []
   },
   "outputs": [],
   "source": [
    "y=df[\"puan\"]"
   ]
  },
  {
   "cell_type": "code",
   "execution_count": 45,
   "id": "b961594c",
   "metadata": {
    "execution": {
     "iopub.execute_input": "2023-08-09T16:22:12.854837Z",
     "iopub.status.busy": "2023-08-09T16:22:12.854468Z",
     "iopub.status.idle": "2023-08-09T16:22:12.859010Z",
     "shell.execute_reply": "2023-08-09T16:22:12.857890Z"
    },
    "papermill": {
     "duration": 0.031387,
     "end_time": "2023-08-09T16:22:12.861413",
     "exception": false,
     "start_time": "2023-08-09T16:22:12.830026",
     "status": "completed"
    },
    "tags": []
   },
   "outputs": [],
   "source": [
    "tahmin=x[-1]"
   ]
  },
  {
   "cell_type": "code",
   "execution_count": 46,
   "id": "0d670bcd",
   "metadata": {
    "execution": {
     "iopub.execute_input": "2023-08-09T16:22:12.909165Z",
     "iopub.status.busy": "2023-08-09T16:22:12.908765Z",
     "iopub.status.idle": "2023-08-09T16:22:12.912956Z",
     "shell.execute_reply": "2023-08-09T16:22:12.912136Z"
    },
    "papermill": {
     "duration": 0.031049,
     "end_time": "2023-08-09T16:22:12.915349",
     "exception": false,
     "start_time": "2023-08-09T16:22:12.884300",
     "status": "completed"
    },
    "tags": []
   },
   "outputs": [],
   "source": [
    "x=x[0:-1]\n",
    "y=y.iloc[0:-1]\n"
   ]
  },
  {
   "cell_type": "code",
   "execution_count": 47,
   "id": "3f5cad43",
   "metadata": {
    "execution": {
     "iopub.execute_input": "2023-08-09T16:22:12.964802Z",
     "iopub.status.busy": "2023-08-09T16:22:12.963938Z",
     "iopub.status.idle": "2023-08-09T16:22:51.222939Z",
     "shell.execute_reply": "2023-08-09T16:22:51.221325Z"
    },
    "papermill": {
     "duration": 38.309403,
     "end_time": "2023-08-09T16:22:51.248507",
     "exception": false,
     "start_time": "2023-08-09T16:22:12.939104",
     "status": "completed"
    },
    "tags": []
   },
   "outputs": [
    {
     "data": {
      "text/plain": [
       "0.9655533547344216"
      ]
     },
     "execution_count": 47,
     "metadata": {},
     "output_type": "execute_result"
    }
   ],
   "source": [
    "rf=RandomForestClassifier()\n",
    "model=rf.fit(x,y)\n",
    "model.score(x,y)"
   ]
  },
  {
   "cell_type": "code",
   "execution_count": 48,
   "id": "6c3fcb9b",
   "metadata": {
    "execution": {
     "iopub.execute_input": "2023-08-09T16:22:51.296890Z",
     "iopub.status.busy": "2023-08-09T16:22:51.296514Z",
     "iopub.status.idle": "2023-08-09T16:22:51.317264Z",
     "shell.execute_reply": "2023-08-09T16:22:51.315888Z"
    },
    "papermill": {
     "duration": 0.047992,
     "end_time": "2023-08-09T16:22:51.319706",
     "exception": false,
     "start_time": "2023-08-09T16:22:51.271714",
     "status": "completed"
    },
    "tags": []
   },
   "outputs": [
    {
     "data": {
      "text/plain": [
       "array(['pozitif'], dtype=object)"
      ]
     },
     "execution_count": 48,
     "metadata": {},
     "output_type": "execute_result"
    }
   ],
   "source": [
    "model.predict([tahmin])"
   ]
  },
  {
   "cell_type": "code",
   "execution_count": null,
   "id": "3d60d22a",
   "metadata": {
    "papermill": {
     "duration": 0.022961,
     "end_time": "2023-08-09T16:22:51.366329",
     "exception": false,
     "start_time": "2023-08-09T16:22:51.343368",
     "status": "completed"
    },
    "tags": []
   },
   "outputs": [],
   "source": []
  }
 ],
 "metadata": {
  "kernelspec": {
   "display_name": "Python 3",
   "language": "python",
   "name": "python3"
  },
  "language_info": {
   "codemirror_mode": {
    "name": "ipython",
    "version": 3
   },
   "file_extension": ".py",
   "mimetype": "text/x-python",
   "name": "python",
   "nbconvert_exporter": "python",
   "pygments_lexer": "ipython3",
   "version": "3.10.12"
  },
  "papermill": {
   "default_parameters": {},
   "duration": 64.775051,
   "end_time": "2023-08-09T16:22:52.414931",
   "environment_variables": {},
   "exception": null,
   "input_path": "__notebook__.ipynb",
   "output_path": "__notebook__.ipynb",
   "parameters": {},
   "start_time": "2023-08-09T16:21:47.639880",
   "version": "2.4.0"
  }
 },
 "nbformat": 4,
 "nbformat_minor": 5
}
