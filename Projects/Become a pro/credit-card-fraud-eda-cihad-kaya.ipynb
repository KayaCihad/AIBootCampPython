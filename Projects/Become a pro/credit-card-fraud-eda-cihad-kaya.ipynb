{
 "cells": [
  {
   "cell_type": "code",
   "execution_count": 1,
   "id": "c79285bc",
   "metadata": {
    "_cell_guid": "b1076dfc-b9ad-4769-8c92-a6c4dae69d19",
    "_uuid": "8f2839f25d086af736a60e9eeb907d3b93b6e0e5",
    "execution": {
     "iopub.execute_input": "2023-08-02T16:47:52.466146Z",
     "iopub.status.busy": "2023-08-02T16:47:52.465489Z",
     "iopub.status.idle": "2023-08-02T16:47:54.111882Z",
     "shell.execute_reply": "2023-08-02T16:47:54.110637Z"
    },
    "papermill": {
     "duration": 1.661193,
     "end_time": "2023-08-02T16:47:54.114747",
     "exception": false,
     "start_time": "2023-08-02T16:47:52.453554",
     "status": "completed"
    },
    "tags": []
   },
   "outputs": [
    {
     "name": "stderr",
     "output_type": "stream",
     "text": [
      "/opt/conda/lib/python3.10/site-packages/scipy/__init__.py:146: UserWarning: A NumPy version >=1.16.5 and <1.23.0 is required for this version of SciPy (detected version 1.23.5\n",
      "  warnings.warn(f\"A NumPy version >={np_minversion} and <{np_maxversion}\"\n"
     ]
    }
   ],
   "source": [
    "import pandas as pd\n",
    "import numpy as np\n",
    "from sklearn.linear_model import LogisticRegression\n",
    "from sklearn.model_selection import train_test_split\n",
    "from sklearn.tree import DecisionTreeClassifier\n",
    "import matplotlib.pyplot as plt\n"
   ]
  },
  {
   "cell_type": "code",
   "execution_count": 2,
   "id": "b95d587b",
   "metadata": {
    "execution": {
     "iopub.execute_input": "2023-08-02T16:47:54.136946Z",
     "iopub.status.busy": "2023-08-02T16:47:54.136513Z",
     "iopub.status.idle": "2023-08-02T16:47:56.281955Z",
     "shell.execute_reply": "2023-08-02T16:47:56.280539Z"
    },
    "papermill": {
     "duration": 2.159759,
     "end_time": "2023-08-02T16:47:56.284942",
     "exception": false,
     "start_time": "2023-08-02T16:47:54.125183",
     "status": "completed"
    },
    "tags": []
   },
   "outputs": [],
   "source": [
    "df=pd.read_csv(\"/kaggle/input/credit-card-fraud/card_transdata.csv\")"
   ]
  },
  {
   "cell_type": "code",
   "execution_count": 3,
   "id": "39cfa3b8",
   "metadata": {
    "execution": {
     "iopub.execute_input": "2023-08-02T16:47:56.306903Z",
     "iopub.status.busy": "2023-08-02T16:47:56.305972Z",
     "iopub.status.idle": "2023-08-02T16:47:56.331585Z",
     "shell.execute_reply": "2023-08-02T16:47:56.330746Z"
    },
    "papermill": {
     "duration": 0.039093,
     "end_time": "2023-08-02T16:47:56.333935",
     "exception": false,
     "start_time": "2023-08-02T16:47:56.294842",
     "status": "completed"
    },
    "tags": []
   },
   "outputs": [
    {
     "data": {
      "text/html": [
       "<div>\n",
       "<style scoped>\n",
       "    .dataframe tbody tr th:only-of-type {\n",
       "        vertical-align: middle;\n",
       "    }\n",
       "\n",
       "    .dataframe tbody tr th {\n",
       "        vertical-align: top;\n",
       "    }\n",
       "\n",
       "    .dataframe thead th {\n",
       "        text-align: right;\n",
       "    }\n",
       "</style>\n",
       "<table border=\"1\" class=\"dataframe\">\n",
       "  <thead>\n",
       "    <tr style=\"text-align: right;\">\n",
       "      <th></th>\n",
       "      <th>distance_from_home</th>\n",
       "      <th>distance_from_last_transaction</th>\n",
       "      <th>ratio_to_median_purchase_price</th>\n",
       "      <th>repeat_retailer</th>\n",
       "      <th>used_chip</th>\n",
       "      <th>used_pin_number</th>\n",
       "      <th>online_order</th>\n",
       "      <th>fraud</th>\n",
       "    </tr>\n",
       "  </thead>\n",
       "  <tbody>\n",
       "    <tr>\n",
       "      <th>0</th>\n",
       "      <td>57.877857</td>\n",
       "      <td>0.311140</td>\n",
       "      <td>1.945940</td>\n",
       "      <td>1.0</td>\n",
       "      <td>1.0</td>\n",
       "      <td>0.0</td>\n",
       "      <td>0.0</td>\n",
       "      <td>0.0</td>\n",
       "    </tr>\n",
       "    <tr>\n",
       "      <th>1</th>\n",
       "      <td>10.829943</td>\n",
       "      <td>0.175592</td>\n",
       "      <td>1.294219</td>\n",
       "      <td>1.0</td>\n",
       "      <td>0.0</td>\n",
       "      <td>0.0</td>\n",
       "      <td>0.0</td>\n",
       "      <td>0.0</td>\n",
       "    </tr>\n",
       "    <tr>\n",
       "      <th>2</th>\n",
       "      <td>5.091079</td>\n",
       "      <td>0.805153</td>\n",
       "      <td>0.427715</td>\n",
       "      <td>1.0</td>\n",
       "      <td>0.0</td>\n",
       "      <td>0.0</td>\n",
       "      <td>1.0</td>\n",
       "      <td>0.0</td>\n",
       "    </tr>\n",
       "  </tbody>\n",
       "</table>\n",
       "</div>"
      ],
      "text/plain": [
       "   distance_from_home  distance_from_last_transaction  \\\n",
       "0           57.877857                        0.311140   \n",
       "1           10.829943                        0.175592   \n",
       "2            5.091079                        0.805153   \n",
       "\n",
       "   ratio_to_median_purchase_price  repeat_retailer  used_chip  \\\n",
       "0                        1.945940              1.0        1.0   \n",
       "1                        1.294219              1.0        0.0   \n",
       "2                        0.427715              1.0        0.0   \n",
       "\n",
       "   used_pin_number  online_order  fraud  \n",
       "0              0.0           0.0    0.0  \n",
       "1              0.0           0.0    0.0  \n",
       "2              0.0           1.0    0.0  "
      ]
     },
     "execution_count": 3,
     "metadata": {},
     "output_type": "execute_result"
    }
   ],
   "source": [
    "df.head(3)"
   ]
  },
  {
   "cell_type": "code",
   "execution_count": 4,
   "id": "2206025b",
   "metadata": {
    "execution": {
     "iopub.execute_input": "2023-08-02T16:47:56.356141Z",
     "iopub.status.busy": "2023-08-02T16:47:56.355501Z",
     "iopub.status.idle": "2023-08-02T16:47:56.381319Z",
     "shell.execute_reply": "2023-08-02T16:47:56.380183Z"
    },
    "papermill": {
     "duration": 0.042865,
     "end_time": "2023-08-02T16:47:56.387004",
     "exception": false,
     "start_time": "2023-08-02T16:47:56.344139",
     "status": "completed"
    },
    "tags": []
   },
   "outputs": [
    {
     "data": {
      "text/plain": [
       "distance_from_home                0\n",
       "distance_from_last_transaction    0\n",
       "ratio_to_median_purchase_price    0\n",
       "repeat_retailer                   0\n",
       "used_chip                         0\n",
       "used_pin_number                   0\n",
       "online_order                      0\n",
       "fraud                             0\n",
       "dtype: int64"
      ]
     },
     "execution_count": 4,
     "metadata": {},
     "output_type": "execute_result"
    }
   ],
   "source": [
    "df.isnull().sum()"
   ]
  },
  {
   "cell_type": "code",
   "execution_count": 5,
   "id": "bb261002",
   "metadata": {
    "execution": {
     "iopub.execute_input": "2023-08-02T16:47:56.410101Z",
     "iopub.status.busy": "2023-08-02T16:47:56.409706Z",
     "iopub.status.idle": "2023-08-02T16:47:56.441917Z",
     "shell.execute_reply": "2023-08-02T16:47:56.440738Z"
    },
    "papermill": {
     "duration": 0.047097,
     "end_time": "2023-08-02T16:47:56.444622",
     "exception": false,
     "start_time": "2023-08-02T16:47:56.397525",
     "status": "completed"
    },
    "tags": []
   },
   "outputs": [],
   "source": [
    "y=df[\"fraud\"]\n",
    "x=df.drop(\"fraud\",axis=1)"
   ]
  },
  {
   "cell_type": "code",
   "execution_count": 6,
   "id": "d7fba03a",
   "metadata": {
    "execution": {
     "iopub.execute_input": "2023-08-02T16:47:56.467882Z",
     "iopub.status.busy": "2023-08-02T16:47:56.467504Z",
     "iopub.status.idle": "2023-08-02T16:47:56.656079Z",
     "shell.execute_reply": "2023-08-02T16:47:56.654818Z"
    },
    "papermill": {
     "duration": 0.202938,
     "end_time": "2023-08-02T16:47:56.659084",
     "exception": false,
     "start_time": "2023-08-02T16:47:56.456146",
     "status": "completed"
    },
    "tags": []
   },
   "outputs": [],
   "source": [
    "x_train,x_test,y_train,y_test=train_test_split(x,y,random_state=55,train_size=0.85)"
   ]
  },
  {
   "cell_type": "code",
   "execution_count": 7,
   "id": "b9166677",
   "metadata": {
    "execution": {
     "iopub.execute_input": "2023-08-02T16:47:56.681243Z",
     "iopub.status.busy": "2023-08-02T16:47:56.680833Z",
     "iopub.status.idle": "2023-08-02T16:48:04.767936Z",
     "shell.execute_reply": "2023-08-02T16:48:04.766659Z"
    },
    "papermill": {
     "duration": 8.101619,
     "end_time": "2023-08-02T16:48:04.770914",
     "exception": false,
     "start_time": "2023-08-02T16:47:56.669295",
     "status": "completed"
    },
    "tags": []
   },
   "outputs": [],
   "source": [
    "log=LogisticRegression(solver=\"liblinear\")\n",
    "model=log.fit(x_train,y_train)"
   ]
  },
  {
   "cell_type": "code",
   "execution_count": 8,
   "id": "dc11921e",
   "metadata": {
    "execution": {
     "iopub.execute_input": "2023-08-02T16:48:04.792979Z",
     "iopub.status.busy": "2023-08-02T16:48:04.792571Z",
     "iopub.status.idle": "2023-08-02T16:48:04.849191Z",
     "shell.execute_reply": "2023-08-02T16:48:04.847716Z"
    },
    "papermill": {
     "duration": 0.076165,
     "end_time": "2023-08-02T16:48:04.857505",
     "exception": false,
     "start_time": "2023-08-02T16:48:04.781340",
     "status": "completed"
    },
    "tags": []
   },
   "outputs": [
    {
     "data": {
      "text/plain": [
       "0.9599066666666667"
      ]
     },
     "execution_count": 8,
     "metadata": {},
     "output_type": "execute_result"
    }
   ],
   "source": [
    "model.score(x_test,y_test)"
   ]
  },
  {
   "cell_type": "code",
   "execution_count": 9,
   "id": "25b00729",
   "metadata": {
    "execution": {
     "iopub.execute_input": "2023-08-02T16:48:04.905195Z",
     "iopub.status.busy": "2023-08-02T16:48:04.904502Z",
     "iopub.status.idle": "2023-08-02T16:48:04.911362Z",
     "shell.execute_reply": "2023-08-02T16:48:04.909909Z"
    },
    "papermill": {
     "duration": 0.035196,
     "end_time": "2023-08-02T16:48:04.915329",
     "exception": false,
     "start_time": "2023-08-02T16:48:04.880133",
     "status": "completed"
    },
    "tags": []
   },
   "outputs": [],
   "source": [
    "### DecisionTreeClassifier"
   ]
  },
  {
   "cell_type": "code",
   "execution_count": 10,
   "id": "b802b8c3",
   "metadata": {
    "execution": {
     "iopub.execute_input": "2023-08-02T16:48:04.941541Z",
     "iopub.status.busy": "2023-08-02T16:48:04.941159Z",
     "iopub.status.idle": "2023-08-02T16:48:07.556253Z",
     "shell.execute_reply": "2023-08-02T16:48:07.555063Z"
    },
    "papermill": {
     "duration": 2.629468,
     "end_time": "2023-08-02T16:48:07.559026",
     "exception": false,
     "start_time": "2023-08-02T16:48:04.929558",
     "status": "completed"
    },
    "tags": []
   },
   "outputs": [],
   "source": [
    "tree=DecisionTreeClassifier()\n",
    "model=tree.fit(x_train,y_train)"
   ]
  },
  {
   "cell_type": "code",
   "execution_count": 11,
   "id": "13240073",
   "metadata": {
    "execution": {
     "iopub.execute_input": "2023-08-02T16:48:07.581595Z",
     "iopub.status.busy": "2023-08-02T16:48:07.581208Z",
     "iopub.status.idle": "2023-08-02T16:48:07.613725Z",
     "shell.execute_reply": "2023-08-02T16:48:07.612528Z"
    },
    "papermill": {
     "duration": 0.047052,
     "end_time": "2023-08-02T16:48:07.616506",
     "exception": false,
     "start_time": "2023-08-02T16:48:07.569454",
     "status": "completed"
    },
    "tags": []
   },
   "outputs": [
    {
     "data": {
      "text/plain": [
       "0.9999733333333334"
      ]
     },
     "execution_count": 11,
     "metadata": {},
     "output_type": "execute_result"
    }
   ],
   "source": [
    "model.score(x_test,y_test)"
   ]
  },
  {
   "cell_type": "code",
   "execution_count": 12,
   "id": "79672d7c",
   "metadata": {
    "execution": {
     "iopub.execute_input": "2023-08-02T16:48:07.639410Z",
     "iopub.status.busy": "2023-08-02T16:48:07.639009Z",
     "iopub.status.idle": "2023-08-02T16:48:07.645622Z",
     "shell.execute_reply": "2023-08-02T16:48:07.644528Z"
    },
    "papermill": {
     "duration": 0.020971,
     "end_time": "2023-08-02T16:48:07.648199",
     "exception": false,
     "start_time": "2023-08-02T16:48:07.627228",
     "status": "completed"
    },
    "tags": []
   },
   "outputs": [
    {
     "data": {
      "text/plain": [
       "(850000, 7)"
      ]
     },
     "execution_count": 12,
     "metadata": {},
     "output_type": "execute_result"
    }
   ],
   "source": [
    "x_train.shape"
   ]
  },
  {
   "cell_type": "code",
   "execution_count": 13,
   "id": "58d2633b",
   "metadata": {
    "execution": {
     "iopub.execute_input": "2023-08-02T16:48:07.672021Z",
     "iopub.status.busy": "2023-08-02T16:48:07.671642Z",
     "iopub.status.idle": "2023-08-02T16:48:07.692666Z",
     "shell.execute_reply": "2023-08-02T16:48:07.691548Z"
    },
    "papermill": {
     "duration": 0.035625,
     "end_time": "2023-08-02T16:48:07.695070",
     "exception": false,
     "start_time": "2023-08-02T16:48:07.659445",
     "status": "completed"
    },
    "tags": []
   },
   "outputs": [
    {
     "data": {
      "text/plain": [
       "0.0    912597\n",
       "1.0     87403\n",
       "Name: fraud, dtype: int64"
      ]
     },
     "execution_count": 13,
     "metadata": {},
     "output_type": "execute_result"
    }
   ],
   "source": [
    "df[\"fraud\"].value_counts()"
   ]
  },
  {
   "cell_type": "code",
   "execution_count": 14,
   "id": "9d429673",
   "metadata": {
    "execution": {
     "iopub.execute_input": "2023-08-02T16:48:07.718744Z",
     "iopub.status.busy": "2023-08-02T16:48:07.718327Z",
     "iopub.status.idle": "2023-08-02T16:48:07.723136Z",
     "shell.execute_reply": "2023-08-02T16:48:07.721926Z"
    },
    "papermill": {
     "duration": 0.019552,
     "end_time": "2023-08-02T16:48:07.725708",
     "exception": false,
     "start_time": "2023-08-02T16:48:07.706156",
     "status": "completed"
    },
    "tags": []
   },
   "outputs": [],
   "source": [
    "### EDA ###"
   ]
  },
  {
   "cell_type": "code",
   "execution_count": 15,
   "id": "181c1259",
   "metadata": {
    "execution": {
     "iopub.execute_input": "2023-08-02T16:48:07.749410Z",
     "iopub.status.busy": "2023-08-02T16:48:07.748979Z",
     "iopub.status.idle": "2023-08-02T16:48:07.766199Z",
     "shell.execute_reply": "2023-08-02T16:48:07.765137Z"
    },
    "papermill": {
     "duration": 0.031808,
     "end_time": "2023-08-02T16:48:07.768525",
     "exception": false,
     "start_time": "2023-08-02T16:48:07.736717",
     "status": "completed"
    },
    "tags": []
   },
   "outputs": [
    {
     "data": {
      "text/html": [
       "<div>\n",
       "<style scoped>\n",
       "    .dataframe tbody tr th:only-of-type {\n",
       "        vertical-align: middle;\n",
       "    }\n",
       "\n",
       "    .dataframe tbody tr th {\n",
       "        vertical-align: top;\n",
       "    }\n",
       "\n",
       "    .dataframe thead th {\n",
       "        text-align: right;\n",
       "    }\n",
       "</style>\n",
       "<table border=\"1\" class=\"dataframe\">\n",
       "  <thead>\n",
       "    <tr style=\"text-align: right;\">\n",
       "      <th></th>\n",
       "      <th>distance_from_home</th>\n",
       "      <th>distance_from_last_transaction</th>\n",
       "      <th>ratio_to_median_purchase_price</th>\n",
       "      <th>repeat_retailer</th>\n",
       "      <th>used_chip</th>\n",
       "      <th>used_pin_number</th>\n",
       "      <th>online_order</th>\n",
       "      <th>fraud</th>\n",
       "    </tr>\n",
       "  </thead>\n",
       "  <tbody>\n",
       "    <tr>\n",
       "      <th>0</th>\n",
       "      <td>57.877857</td>\n",
       "      <td>0.311140</td>\n",
       "      <td>1.945940</td>\n",
       "      <td>1.0</td>\n",
       "      <td>1.0</td>\n",
       "      <td>0.0</td>\n",
       "      <td>0.0</td>\n",
       "      <td>0.0</td>\n",
       "    </tr>\n",
       "    <tr>\n",
       "      <th>1</th>\n",
       "      <td>10.829943</td>\n",
       "      <td>0.175592</td>\n",
       "      <td>1.294219</td>\n",
       "      <td>1.0</td>\n",
       "      <td>0.0</td>\n",
       "      <td>0.0</td>\n",
       "      <td>0.0</td>\n",
       "      <td>0.0</td>\n",
       "    </tr>\n",
       "    <tr>\n",
       "      <th>2</th>\n",
       "      <td>5.091079</td>\n",
       "      <td>0.805153</td>\n",
       "      <td>0.427715</td>\n",
       "      <td>1.0</td>\n",
       "      <td>0.0</td>\n",
       "      <td>0.0</td>\n",
       "      <td>1.0</td>\n",
       "      <td>0.0</td>\n",
       "    </tr>\n",
       "  </tbody>\n",
       "</table>\n",
       "</div>"
      ],
      "text/plain": [
       "   distance_from_home  distance_from_last_transaction  \\\n",
       "0           57.877857                        0.311140   \n",
       "1           10.829943                        0.175592   \n",
       "2            5.091079                        0.805153   \n",
       "\n",
       "   ratio_to_median_purchase_price  repeat_retailer  used_chip  \\\n",
       "0                        1.945940              1.0        1.0   \n",
       "1                        1.294219              1.0        0.0   \n",
       "2                        0.427715              1.0        0.0   \n",
       "\n",
       "   used_pin_number  online_order  fraud  \n",
       "0              0.0           0.0    0.0  \n",
       "1              0.0           0.0    0.0  \n",
       "2              0.0           1.0    0.0  "
      ]
     },
     "execution_count": 15,
     "metadata": {},
     "output_type": "execute_result"
    }
   ],
   "source": [
    "df.head(3)"
   ]
  },
  {
   "cell_type": "code",
   "execution_count": 16,
   "id": "ca603f96",
   "metadata": {
    "execution": {
     "iopub.execute_input": "2023-08-02T16:48:07.792516Z",
     "iopub.status.busy": "2023-08-02T16:48:07.792097Z",
     "iopub.status.idle": "2023-08-02T16:48:07.839708Z",
     "shell.execute_reply": "2023-08-02T16:48:07.838802Z"
    },
    "papermill": {
     "duration": 0.06284,
     "end_time": "2023-08-02T16:48:07.842467",
     "exception": false,
     "start_time": "2023-08-02T16:48:07.779627",
     "status": "completed"
    },
    "tags": []
   },
   "outputs": [],
   "source": [
    "dfgr=df.groupby(by=\"fraud\").mean()"
   ]
  },
  {
   "cell_type": "code",
   "execution_count": 17,
   "id": "a9fd68dd",
   "metadata": {
    "execution": {
     "iopub.execute_input": "2023-08-02T16:48:07.867885Z",
     "iopub.status.busy": "2023-08-02T16:48:07.866874Z",
     "iopub.status.idle": "2023-08-02T16:48:07.881896Z",
     "shell.execute_reply": "2023-08-02T16:48:07.880775Z"
    },
    "papermill": {
     "duration": 0.030385,
     "end_time": "2023-08-02T16:48:07.884108",
     "exception": false,
     "start_time": "2023-08-02T16:48:07.853723",
     "status": "completed"
    },
    "tags": []
   },
   "outputs": [
    {
     "data": {
      "text/html": [
       "<div>\n",
       "<style scoped>\n",
       "    .dataframe tbody tr th:only-of-type {\n",
       "        vertical-align: middle;\n",
       "    }\n",
       "\n",
       "    .dataframe tbody tr th {\n",
       "        vertical-align: top;\n",
       "    }\n",
       "\n",
       "    .dataframe thead th {\n",
       "        text-align: right;\n",
       "    }\n",
       "</style>\n",
       "<table border=\"1\" class=\"dataframe\">\n",
       "  <thead>\n",
       "    <tr style=\"text-align: right;\">\n",
       "      <th></th>\n",
       "      <th>distance_from_home</th>\n",
       "      <th>distance_from_last_transaction</th>\n",
       "      <th>ratio_to_median_purchase_price</th>\n",
       "      <th>repeat_retailer</th>\n",
       "      <th>used_chip</th>\n",
       "      <th>used_pin_number</th>\n",
       "      <th>online_order</th>\n",
       "    </tr>\n",
       "    <tr>\n",
       "      <th>fraud</th>\n",
       "      <th></th>\n",
       "      <th></th>\n",
       "      <th></th>\n",
       "      <th></th>\n",
       "      <th></th>\n",
       "      <th></th>\n",
       "      <th></th>\n",
       "    </tr>\n",
       "  </thead>\n",
       "  <tbody>\n",
       "    <tr>\n",
       "      <th>0.0</th>\n",
       "      <td>22.832976</td>\n",
       "      <td>4.301391</td>\n",
       "      <td>1.423642</td>\n",
       "      <td>0.881672</td>\n",
       "      <td>0.359402</td>\n",
       "      <td>0.109944</td>\n",
       "      <td>0.622225</td>\n",
       "    </tr>\n",
       "    <tr>\n",
       "      <th>1.0</th>\n",
       "      <td>66.261876</td>\n",
       "      <td>12.712185</td>\n",
       "      <td>6.006323</td>\n",
       "      <td>0.880119</td>\n",
       "      <td>0.256399</td>\n",
       "      <td>0.003123</td>\n",
       "      <td>0.946318</td>\n",
       "    </tr>\n",
       "  </tbody>\n",
       "</table>\n",
       "</div>"
      ],
      "text/plain": [
       "       distance_from_home  distance_from_last_transaction  \\\n",
       "fraud                                                       \n",
       "0.0             22.832976                        4.301391   \n",
       "1.0             66.261876                       12.712185   \n",
       "\n",
       "       ratio_to_median_purchase_price  repeat_retailer  used_chip  \\\n",
       "fraud                                                               \n",
       "0.0                          1.423642         0.881672   0.359402   \n",
       "1.0                          6.006323         0.880119   0.256399   \n",
       "\n",
       "       used_pin_number  online_order  \n",
       "fraud                                 \n",
       "0.0           0.109944      0.622225  \n",
       "1.0           0.003123      0.946318  "
      ]
     },
     "execution_count": 17,
     "metadata": {},
     "output_type": "execute_result"
    }
   ],
   "source": [
    "dfgr"
   ]
  },
  {
   "cell_type": "code",
   "execution_count": 18,
   "id": "1c65b2f5",
   "metadata": {
    "execution": {
     "iopub.execute_input": "2023-08-02T16:48:07.909554Z",
     "iopub.status.busy": "2023-08-02T16:48:07.908452Z",
     "iopub.status.idle": "2023-08-02T16:48:09.151951Z",
     "shell.execute_reply": "2023-08-02T16:48:09.150496Z"
    },
    "papermill": {
     "duration": 1.259936,
     "end_time": "2023-08-02T16:48:09.155489",
     "exception": false,
     "start_time": "2023-08-02T16:48:07.895553",
     "status": "completed"
    },
    "tags": []
   },
   "outputs": [
    {
     "data": {
      "image/png": "[encoded data removed]",
      "text/plain": [
       "<Figure size 640x480 with 1 Axes>"
      ]
     },
     "metadata": {},
     "output_type": "display_data"
    },
    {
     "data": {
      "image/png": "[encoded data removed]",
      "text/plain": [
       "<Figure size 640x480 with 1 Axes>"
      ]
     },
     "metadata": {},
     "output_type": "display_data"
    },
    {
     "data": {
      "image/png": "[encoded data removed]",
      "text/plain": [
       "<Figure size 640x480 with 1 Axes>"
      ]
     },
     "metadata": {},
     "output_type": "display_data"
    },
    {
     "data": {
      "image/png": "[encoded data removed]",
      "text/plain": [
       "<Figure size 640x480 with 1 Axes>"
      ]
     },
     "metadata": {},
     "output_type": "display_data"
    },
    {
     "data": {
      "image/png": "[encoded data removed]",
      "text/plain": [
       "<Figure size 640x480 with 1 Axes>"
      ]
     },
     "metadata": {},
     "output_type": "display_data"
    },
    {
     "data": {
      "image/png": "[encoded data removed]",
      "text/plain": [
       "<Figure size 640x480 with 1 Axes>"
      ]
     },
     "metadata": {},
     "output_type": "display_data"
    },
    {
     "data": {
      "image/png": "[encoded data removed]",
      "text/plain": [
       "<Figure size 640x480 with 1 Axes>"
      ]
     },
     "metadata": {},
     "output_type": "display_data"
    }
   ],
   "source": [
    "for i in dfgr.columns:\n",
    "    plt.bar([\"Normal\",\"Fraud\"],dfgr[i])\n",
    "    plt.xlabel(\"Type\")\n",
    "    plt.ylabel(i)\n",
    "    plt.show()"
   ]
  },
  {
   "cell_type": "code",
   "execution_count": 19,
   "id": "2aa21ca6",
   "metadata": {
    "execution": {
     "iopub.execute_input": "2023-08-02T16:48:09.187706Z",
     "iopub.status.busy": "2023-08-02T16:48:09.187265Z",
     "iopub.status.idle": "2023-08-02T16:48:09.206470Z",
     "shell.execute_reply": "2023-08-02T16:48:09.205381Z"
    },
    "papermill": {
     "duration": 0.037331,
     "end_time": "2023-08-02T16:48:09.209561",
     "exception": false,
     "start_time": "2023-08-02T16:48:09.172230",
     "status": "completed"
    },
    "tags": []
   },
   "outputs": [
    {
     "data": {
      "text/html": [
       "<div>\n",
       "<style scoped>\n",
       "    .dataframe tbody tr th:only-of-type {\n",
       "        vertical-align: middle;\n",
       "    }\n",
       "\n",
       "    .dataframe tbody tr th {\n",
       "        vertical-align: top;\n",
       "    }\n",
       "\n",
       "    .dataframe thead th {\n",
       "        text-align: right;\n",
       "    }\n",
       "</style>\n",
       "<table border=\"1\" class=\"dataframe\">\n",
       "  <thead>\n",
       "    <tr style=\"text-align: right;\">\n",
       "      <th></th>\n",
       "      <th>distance_from_home</th>\n",
       "      <th>distance_from_last_transaction</th>\n",
       "      <th>ratio_to_median_purchase_price</th>\n",
       "      <th>repeat_retailer</th>\n",
       "      <th>used_chip</th>\n",
       "      <th>used_pin_number</th>\n",
       "      <th>online_order</th>\n",
       "      <th>fraud</th>\n",
       "    </tr>\n",
       "  </thead>\n",
       "  <tbody>\n",
       "    <tr>\n",
       "      <th>0</th>\n",
       "      <td>57.877857</td>\n",
       "      <td>0.311140</td>\n",
       "      <td>1.945940</td>\n",
       "      <td>1.0</td>\n",
       "      <td>1.0</td>\n",
       "      <td>0.0</td>\n",
       "      <td>0.0</td>\n",
       "      <td>0.0</td>\n",
       "    </tr>\n",
       "    <tr>\n",
       "      <th>1</th>\n",
       "      <td>10.829943</td>\n",
       "      <td>0.175592</td>\n",
       "      <td>1.294219</td>\n",
       "      <td>1.0</td>\n",
       "      <td>0.0</td>\n",
       "      <td>0.0</td>\n",
       "      <td>0.0</td>\n",
       "      <td>0.0</td>\n",
       "    </tr>\n",
       "    <tr>\n",
       "      <th>2</th>\n",
       "      <td>5.091079</td>\n",
       "      <td>0.805153</td>\n",
       "      <td>0.427715</td>\n",
       "      <td>1.0</td>\n",
       "      <td>0.0</td>\n",
       "      <td>0.0</td>\n",
       "      <td>1.0</td>\n",
       "      <td>0.0</td>\n",
       "    </tr>\n",
       "    <tr>\n",
       "      <th>3</th>\n",
       "      <td>2.247564</td>\n",
       "      <td>5.600044</td>\n",
       "      <td>0.362663</td>\n",
       "      <td>1.0</td>\n",
       "      <td>1.0</td>\n",
       "      <td>0.0</td>\n",
       "      <td>1.0</td>\n",
       "      <td>0.0</td>\n",
       "    </tr>\n",
       "    <tr>\n",
       "      <th>4</th>\n",
       "      <td>44.190936</td>\n",
       "      <td>0.566486</td>\n",
       "      <td>2.222767</td>\n",
       "      <td>1.0</td>\n",
       "      <td>1.0</td>\n",
       "      <td>0.0</td>\n",
       "      <td>1.0</td>\n",
       "      <td>0.0</td>\n",
       "    </tr>\n",
       "  </tbody>\n",
       "</table>\n",
       "</div>"
      ],
      "text/plain": [
       "   distance_from_home  distance_from_last_transaction  \\\n",
       "0           57.877857                        0.311140   \n",
       "1           10.829943                        0.175592   \n",
       "2            5.091079                        0.805153   \n",
       "3            2.247564                        5.600044   \n",
       "4           44.190936                        0.566486   \n",
       "\n",
       "   ratio_to_median_purchase_price  repeat_retailer  used_chip  \\\n",
       "0                        1.945940              1.0        1.0   \n",
       "1                        1.294219              1.0        0.0   \n",
       "2                        0.427715              1.0        0.0   \n",
       "3                        0.362663              1.0        1.0   \n",
       "4                        2.222767              1.0        1.0   \n",
       "\n",
       "   used_pin_number  online_order  fraud  \n",
       "0              0.0           0.0    0.0  \n",
       "1              0.0           0.0    0.0  \n",
       "2              0.0           1.0    0.0  \n",
       "3              0.0           1.0    0.0  \n",
       "4              0.0           1.0    0.0  "
      ]
     },
     "execution_count": 19,
     "metadata": {},
     "output_type": "execute_result"
    }
   ],
   "source": [
    "df.head()"
   ]
  },
  {
   "cell_type": "code",
   "execution_count": 20,
   "id": "3d970bc5",
   "metadata": {
    "execution": {
     "iopub.execute_input": "2023-08-02T16:48:09.242996Z",
     "iopub.status.busy": "2023-08-02T16:48:09.242619Z",
     "iopub.status.idle": "2023-08-02T16:48:09.257000Z",
     "shell.execute_reply": "2023-08-02T16:48:09.255730Z"
    },
    "papermill": {
     "duration": 0.031902,
     "end_time": "2023-08-02T16:48:09.259373",
     "exception": false,
     "start_time": "2023-08-02T16:48:09.227471",
     "status": "completed"
    },
    "tags": []
   },
   "outputs": [],
   "source": [
    "fraudc=df[\"fraud\"].value_counts()"
   ]
  },
  {
   "cell_type": "code",
   "execution_count": 21,
   "id": "dd9c06ac",
   "metadata": {
    "execution": {
     "iopub.execute_input": "2023-08-02T16:48:09.289656Z",
     "iopub.status.busy": "2023-08-02T16:48:09.289231Z",
     "iopub.status.idle": "2023-08-02T16:48:09.447031Z",
     "shell.execute_reply": "2023-08-02T16:48:09.445541Z"
    },
    "papermill": {
     "duration": 0.17684,
     "end_time": "2023-08-02T16:48:09.450498",
     "exception": false,
     "start_time": "2023-08-02T16:48:09.273658",
     "status": "completed"
    },
    "tags": []
   },
   "outputs": [
    {
     "data": {
      "image/png": "[encoded data removed]",
      "text/plain": [
       "<Figure size 640x480 with 1 Axes>"
      ]
     },
     "metadata": {},
     "output_type": "display_data"
    }
   ],
   "source": [
    "plt.pie(fraudc.values,labels=[\"Normal\",\"Fraud\"],autopct=\"%1.1f%%\",colors=[\"deeppink\",\"lightblue\"])\n",
    "plt.title(\"Fraud\")\n",
    "plt.show()"
   ]
  },
  {
   "cell_type": "code",
   "execution_count": 22,
   "id": "c5556c7b",
   "metadata": {
    "execution": {
     "iopub.execute_input": "2023-08-02T16:48:09.511914Z",
     "iopub.status.busy": "2023-08-02T16:48:09.511254Z",
     "iopub.status.idle": "2023-08-02T16:48:09.528395Z",
     "shell.execute_reply": "2023-08-02T16:48:09.527382Z"
    },
    "papermill": {
     "duration": 0.04975,
     "end_time": "2023-08-02T16:48:09.530596",
     "exception": false,
     "start_time": "2023-08-02T16:48:09.480846",
     "status": "completed"
    },
    "tags": []
   },
   "outputs": [
    {
     "data": {
      "text/html": [
       "<div>\n",
       "<style scoped>\n",
       "    .dataframe tbody tr th:only-of-type {\n",
       "        vertical-align: middle;\n",
       "    }\n",
       "\n",
       "    .dataframe tbody tr th {\n",
       "        vertical-align: top;\n",
       "    }\n",
       "\n",
       "    .dataframe thead th {\n",
       "        text-align: right;\n",
       "    }\n",
       "</style>\n",
       "<table border=\"1\" class=\"dataframe\">\n",
       "  <thead>\n",
       "    <tr style=\"text-align: right;\">\n",
       "      <th></th>\n",
       "      <th>distance_from_home</th>\n",
       "      <th>distance_from_last_transaction</th>\n",
       "      <th>ratio_to_median_purchase_price</th>\n",
       "      <th>repeat_retailer</th>\n",
       "      <th>used_chip</th>\n",
       "      <th>used_pin_number</th>\n",
       "      <th>online_order</th>\n",
       "      <th>fraud</th>\n",
       "    </tr>\n",
       "  </thead>\n",
       "  <tbody>\n",
       "    <tr>\n",
       "      <th>0</th>\n",
       "      <td>57.877857</td>\n",
       "      <td>0.311140</td>\n",
       "      <td>1.945940</td>\n",
       "      <td>1.0</td>\n",
       "      <td>1.0</td>\n",
       "      <td>0.0</td>\n",
       "      <td>0.0</td>\n",
       "      <td>0.0</td>\n",
       "    </tr>\n",
       "    <tr>\n",
       "      <th>1</th>\n",
       "      <td>10.829943</td>\n",
       "      <td>0.175592</td>\n",
       "      <td>1.294219</td>\n",
       "      <td>1.0</td>\n",
       "      <td>0.0</td>\n",
       "      <td>0.0</td>\n",
       "      <td>0.0</td>\n",
       "      <td>0.0</td>\n",
       "    </tr>\n",
       "    <tr>\n",
       "      <th>2</th>\n",
       "      <td>5.091079</td>\n",
       "      <td>0.805153</td>\n",
       "      <td>0.427715</td>\n",
       "      <td>1.0</td>\n",
       "      <td>0.0</td>\n",
       "      <td>0.0</td>\n",
       "      <td>1.0</td>\n",
       "      <td>0.0</td>\n",
       "    </tr>\n",
       "  </tbody>\n",
       "</table>\n",
       "</div>"
      ],
      "text/plain": [
       "   distance_from_home  distance_from_last_transaction  \\\n",
       "0           57.877857                        0.311140   \n",
       "1           10.829943                        0.175592   \n",
       "2            5.091079                        0.805153   \n",
       "\n",
       "   ratio_to_median_purchase_price  repeat_retailer  used_chip  \\\n",
       "0                        1.945940              1.0        1.0   \n",
       "1                        1.294219              1.0        0.0   \n",
       "2                        0.427715              1.0        0.0   \n",
       "\n",
       "   used_pin_number  online_order  fraud  \n",
       "0              0.0           0.0    0.0  \n",
       "1              0.0           0.0    0.0  \n",
       "2              0.0           1.0    0.0  "
      ]
     },
     "execution_count": 22,
     "metadata": {},
     "output_type": "execute_result"
    }
   ],
   "source": [
    "df.head(3)"
   ]
  },
  {
   "cell_type": "code",
   "execution_count": 23,
   "id": "98b75685",
   "metadata": {
    "execution": {
     "iopub.execute_input": "2023-08-02T16:48:09.562449Z",
     "iopub.status.busy": "2023-08-02T16:48:09.561071Z",
     "iopub.status.idle": "2023-08-02T16:48:09.901571Z",
     "shell.execute_reply": "2023-08-02T16:48:09.900389Z"
    },
    "papermill": {
     "duration": 0.359217,
     "end_time": "2023-08-02T16:48:09.904493",
     "exception": false,
     "start_time": "2023-08-02T16:48:09.545276",
     "status": "completed"
    },
    "tags": []
   },
   "outputs": [
    {
     "data": {
      "text/html": [
       "<style type=\"text/css\">\n",
       "#T_82f81_row0_col0, #T_82f81_row1_col1, #T_82f81_row2_col2, #T_82f81_row3_col3, #T_82f81_row4_col4, #T_82f81_row5_col5, #T_82f81_row6_col6, #T_82f81_row7_col7 {\n",
       "  background-color: #023858;\n",
       "  color: #f1f1f1;\n",
       "}\n",
       "#T_82f81_row0_col1, #T_82f81_row0_col2, #T_82f81_row0_col6, #T_82f81_row1_col0, #T_82f81_row1_col2, #T_82f81_row1_col3, #T_82f81_row1_col6, #T_82f81_row2_col0, #T_82f81_row2_col1, #T_82f81_row2_col3, #T_82f81_row2_col6, #T_82f81_row3_col1, #T_82f81_row3_col2, #T_82f81_row3_col6, #T_82f81_row4_col0, #T_82f81_row4_col1, #T_82f81_row4_col2, #T_82f81_row4_col3, #T_82f81_row4_col6, #T_82f81_row5_col0, #T_82f81_row5_col1, #T_82f81_row5_col2, #T_82f81_row5_col3, #T_82f81_row5_col6, #T_82f81_row5_col7, #T_82f81_row6_col0, #T_82f81_row6_col1, #T_82f81_row6_col2, #T_82f81_row6_col3, #T_82f81_row7_col3, #T_82f81_row7_col4, #T_82f81_row7_col5 {\n",
       "  background-color: #fff7fb;\n",
       "  color: #000000;\n",
       "}\n",
       "#T_82f81_row0_col3, #T_82f81_row3_col0 {\n",
       "  background-color: #e8e4f0;\n",
       "  color: #000000;\n",
       "}\n",
       "#T_82f81_row0_col4, #T_82f81_row2_col4, #T_82f81_row3_col4, #T_82f81_row5_col4, #T_82f81_row6_col4 {\n",
       "  background-color: #f7f0f7;\n",
       "  color: #000000;\n",
       "}\n",
       "#T_82f81_row0_col5 {\n",
       "  background-color: #f2ecf5;\n",
       "  color: #000000;\n",
       "}\n",
       "#T_82f81_row0_col7 {\n",
       "  background-color: #cdd0e5;\n",
       "  color: #000000;\n",
       "}\n",
       "#T_82f81_row1_col4 {\n",
       "  background-color: #f6eff7;\n",
       "  color: #000000;\n",
       "}\n",
       "#T_82f81_row1_col5, #T_82f81_row2_col5, #T_82f81_row3_col5, #T_82f81_row3_col7, #T_82f81_row4_col5, #T_82f81_row6_col5, #T_82f81_row7_col1 {\n",
       "  background-color: #f1ebf5;\n",
       "  color: #000000;\n",
       "}\n",
       "#T_82f81_row1_col7 {\n",
       "  background-color: #e1dfed;\n",
       "  color: #000000;\n",
       "}\n",
       "#T_82f81_row2_col7 {\n",
       "  background-color: #6fa7ce;\n",
       "  color: #f1f1f1;\n",
       "}\n",
       "#T_82f81_row4_col7 {\n",
       "  background-color: #faf2f8;\n",
       "  color: #000000;\n",
       "}\n",
       "#T_82f81_row6_col7 {\n",
       "  background-color: #cccfe5;\n",
       "  color: #000000;\n",
       "}\n",
       "#T_82f81_row7_col0 {\n",
       "  background-color: #dedcec;\n",
       "  color: #000000;\n",
       "}\n",
       "#T_82f81_row7_col2 {\n",
       "  background-color: #83afd3;\n",
       "  color: #f1f1f1;\n",
       "}\n",
       "#T_82f81_row7_col6 {\n",
       "  background-color: #dddbec;\n",
       "  color: #000000;\n",
       "}\n",
       "</style>\n",
       "<table id=\"T_82f81\">\n",
       "  <thead>\n",
       "    <tr>\n",
       "      <th class=\"blank level0\" >&nbsp;</th>\n",
       "      <th id=\"T_82f81_level0_col0\" class=\"col_heading level0 col0\" >distance_from_home</th>\n",
       "      <th id=\"T_82f81_level0_col1\" class=\"col_heading level0 col1\" >distance_from_last_transaction</th>\n",
       "      <th id=\"T_82f81_level0_col2\" class=\"col_heading level0 col2\" >ratio_to_median_purchase_price</th>\n",
       "      <th id=\"T_82f81_level0_col3\" class=\"col_heading level0 col3\" >repeat_retailer</th>\n",
       "      <th id=\"T_82f81_level0_col4\" class=\"col_heading level0 col4\" >used_chip</th>\n",
       "      <th id=\"T_82f81_level0_col5\" class=\"col_heading level0 col5\" >used_pin_number</th>\n",
       "      <th id=\"T_82f81_level0_col6\" class=\"col_heading level0 col6\" >online_order</th>\n",
       "      <th id=\"T_82f81_level0_col7\" class=\"col_heading level0 col7\" >fraud</th>\n",
       "    </tr>\n",
       "  </thead>\n",
       "  <tbody>\n",
       "    <tr>\n",
       "      <th id=\"T_82f81_level0_row0\" class=\"row_heading level0 row0\" >distance_from_home</th>\n",
       "      <td id=\"T_82f81_row0_col0\" class=\"data row0 col0\" >1.000000</td>\n",
       "      <td id=\"T_82f81_row0_col1\" class=\"data row0 col1\" >0.000193</td>\n",
       "      <td id=\"T_82f81_row0_col2\" class=\"data row0 col2\" >-0.001374</td>\n",
       "      <td id=\"T_82f81_row0_col3\" class=\"data row0 col3\" >0.143124</td>\n",
       "      <td id=\"T_82f81_row0_col4\" class=\"data row0 col4\" >-0.000697</td>\n",
       "      <td id=\"T_82f81_row0_col5\" class=\"data row0 col5\" >-0.001622</td>\n",
       "      <td id=\"T_82f81_row0_col6\" class=\"data row0 col6\" >-0.001301</td>\n",
       "      <td id=\"T_82f81_row0_col7\" class=\"data row0 col7\" >0.187571</td>\n",
       "    </tr>\n",
       "    <tr>\n",
       "      <th id=\"T_82f81_level0_row1\" class=\"row_heading level0 row1\" >distance_from_last_transaction</th>\n",
       "      <td id=\"T_82f81_row1_col0\" class=\"data row1 col0\" >0.000193</td>\n",
       "      <td id=\"T_82f81_row1_col1\" class=\"data row1 col1\" >1.000000</td>\n",
       "      <td id=\"T_82f81_row1_col2\" class=\"data row1 col2\" >0.001013</td>\n",
       "      <td id=\"T_82f81_row1_col3\" class=\"data row1 col3\" >-0.000928</td>\n",
       "      <td id=\"T_82f81_row1_col4\" class=\"data row1 col4\" >0.002055</td>\n",
       "      <td id=\"T_82f81_row1_col5\" class=\"data row1 col5\" >-0.000899</td>\n",
       "      <td id=\"T_82f81_row1_col6\" class=\"data row1 col6\" >0.000141</td>\n",
       "      <td id=\"T_82f81_row1_col7\" class=\"data row1 col7\" >0.091917</td>\n",
       "    </tr>\n",
       "    <tr>\n",
       "      <th id=\"T_82f81_level0_row2\" class=\"row_heading level0 row2\" >ratio_to_median_purchase_price</th>\n",
       "      <td id=\"T_82f81_row2_col0\" class=\"data row2 col0\" >-0.001374</td>\n",
       "      <td id=\"T_82f81_row2_col1\" class=\"data row2 col1\" >0.001013</td>\n",
       "      <td id=\"T_82f81_row2_col2\" class=\"data row2 col2\" >1.000000</td>\n",
       "      <td id=\"T_82f81_row2_col3\" class=\"data row2 col3\" >0.001374</td>\n",
       "      <td id=\"T_82f81_row2_col4\" class=\"data row2 col4\" >0.000587</td>\n",
       "      <td id=\"T_82f81_row2_col5\" class=\"data row2 col5\" >0.000942</td>\n",
       "      <td id=\"T_82f81_row2_col6\" class=\"data row2 col6\" >-0.000330</td>\n",
       "      <td id=\"T_82f81_row2_col7\" class=\"data row2 col7\" >0.462305</td>\n",
       "    </tr>\n",
       "    <tr>\n",
       "      <th id=\"T_82f81_level0_row3\" class=\"row_heading level0 row3\" >repeat_retailer</th>\n",
       "      <td id=\"T_82f81_row3_col0\" class=\"data row3 col0\" >0.143124</td>\n",
       "      <td id=\"T_82f81_row3_col1\" class=\"data row3 col1\" >-0.000928</td>\n",
       "      <td id=\"T_82f81_row3_col2\" class=\"data row3 col2\" >0.001374</td>\n",
       "      <td id=\"T_82f81_row3_col3\" class=\"data row3 col3\" >1.000000</td>\n",
       "      <td id=\"T_82f81_row3_col4\" class=\"data row3 col4\" >-0.001345</td>\n",
       "      <td id=\"T_82f81_row3_col5\" class=\"data row3 col5\" >-0.000417</td>\n",
       "      <td id=\"T_82f81_row3_col6\" class=\"data row3 col6\" >-0.000532</td>\n",
       "      <td id=\"T_82f81_row3_col7\" class=\"data row3 col7\" >-0.001357</td>\n",
       "    </tr>\n",
       "    <tr>\n",
       "      <th id=\"T_82f81_level0_row4\" class=\"row_heading level0 row4\" >used_chip</th>\n",
       "      <td id=\"T_82f81_row4_col0\" class=\"data row4 col0\" >-0.000697</td>\n",
       "      <td id=\"T_82f81_row4_col1\" class=\"data row4 col1\" >0.002055</td>\n",
       "      <td id=\"T_82f81_row4_col2\" class=\"data row4 col2\" >0.000587</td>\n",
       "      <td id=\"T_82f81_row4_col3\" class=\"data row4 col3\" >-0.001345</td>\n",
       "      <td id=\"T_82f81_row4_col4\" class=\"data row4 col4\" >1.000000</td>\n",
       "      <td id=\"T_82f81_row4_col5\" class=\"data row4 col5\" >-0.001393</td>\n",
       "      <td id=\"T_82f81_row4_col6\" class=\"data row4 col6\" >-0.000219</td>\n",
       "      <td id=\"T_82f81_row4_col7\" class=\"data row4 col7\" >-0.060975</td>\n",
       "    </tr>\n",
       "    <tr>\n",
       "      <th id=\"T_82f81_level0_row5\" class=\"row_heading level0 row5\" >used_pin_number</th>\n",
       "      <td id=\"T_82f81_row5_col0\" class=\"data row5 col0\" >-0.001622</td>\n",
       "      <td id=\"T_82f81_row5_col1\" class=\"data row5 col1\" >-0.000899</td>\n",
       "      <td id=\"T_82f81_row5_col2\" class=\"data row5 col2\" >0.000942</td>\n",
       "      <td id=\"T_82f81_row5_col3\" class=\"data row5 col3\" >-0.000417</td>\n",
       "      <td id=\"T_82f81_row5_col4\" class=\"data row5 col4\" >-0.001393</td>\n",
       "      <td id=\"T_82f81_row5_col5\" class=\"data row5 col5\" >1.000000</td>\n",
       "      <td id=\"T_82f81_row5_col6\" class=\"data row5 col6\" >-0.000291</td>\n",
       "      <td id=\"T_82f81_row5_col7\" class=\"data row5 col7\" >-0.100293</td>\n",
       "    </tr>\n",
       "    <tr>\n",
       "      <th id=\"T_82f81_level0_row6\" class=\"row_heading level0 row6\" >online_order</th>\n",
       "      <td id=\"T_82f81_row6_col0\" class=\"data row6 col0\" >-0.001301</td>\n",
       "      <td id=\"T_82f81_row6_col1\" class=\"data row6 col1\" >0.000141</td>\n",
       "      <td id=\"T_82f81_row6_col2\" class=\"data row6 col2\" >-0.000330</td>\n",
       "      <td id=\"T_82f81_row6_col3\" class=\"data row6 col3\" >-0.000532</td>\n",
       "      <td id=\"T_82f81_row6_col4\" class=\"data row6 col4\" >-0.000219</td>\n",
       "      <td id=\"T_82f81_row6_col5\" class=\"data row6 col5\" >-0.000291</td>\n",
       "      <td id=\"T_82f81_row6_col6\" class=\"data row6 col6\" >1.000000</td>\n",
       "      <td id=\"T_82f81_row6_col7\" class=\"data row6 col7\" >0.191973</td>\n",
       "    </tr>\n",
       "    <tr>\n",
       "      <th id=\"T_82f81_level0_row7\" class=\"row_heading level0 row7\" >fraud</th>\n",
       "      <td id=\"T_82f81_row7_col0\" class=\"data row7 col0\" >0.187571</td>\n",
       "      <td id=\"T_82f81_row7_col1\" class=\"data row7 col1\" >0.091917</td>\n",
       "      <td id=\"T_82f81_row7_col2\" class=\"data row7 col2\" >0.462305</td>\n",
       "      <td id=\"T_82f81_row7_col3\" class=\"data row7 col3\" >-0.001357</td>\n",
       "      <td id=\"T_82f81_row7_col4\" class=\"data row7 col4\" >-0.060975</td>\n",
       "      <td id=\"T_82f81_row7_col5\" class=\"data row7 col5\" >-0.100293</td>\n",
       "      <td id=\"T_82f81_row7_col6\" class=\"data row7 col6\" >0.191973</td>\n",
       "      <td id=\"T_82f81_row7_col7\" class=\"data row7 col7\" >1.000000</td>\n",
       "    </tr>\n",
       "  </tbody>\n",
       "</table>\n"
      ],
      "text/plain": [
       "<pandas.io.formats.style.Styler at 0x7add1d387940>"
      ]
     },
     "execution_count": 23,
     "metadata": {},
     "output_type": "execute_result"
    }
   ],
   "source": [
    "df.corr().style.background_gradient()"
   ]
  },
  {
   "cell_type": "code",
   "execution_count": 24,
   "id": "aadc31ca",
   "metadata": {
    "execution": {
     "iopub.execute_input": "2023-08-02T16:48:09.938150Z",
     "iopub.status.busy": "2023-08-02T16:48:09.937779Z",
     "iopub.status.idle": "2023-08-02T16:48:09.942653Z",
     "shell.execute_reply": "2023-08-02T16:48:09.941383Z"
    },
    "papermill": {
     "duration": 0.0243,
     "end_time": "2023-08-02T16:48:09.945007",
     "exception": false,
     "start_time": "2023-08-02T16:48:09.920707",
     "status": "completed"
    },
    "tags": []
   },
   "outputs": [],
   "source": [
    "#İlk kullanımda dolandırıcık olanların tamamına göre karşılaştırılması \"çipli ve şifresiz ilk kullanım\""
   ]
  },
  {
   "cell_type": "code",
   "execution_count": 25,
   "id": "b255a8dd",
   "metadata": {
    "execution": {
     "iopub.execute_input": "2023-08-02T16:48:09.976694Z",
     "iopub.status.busy": "2023-08-02T16:48:09.976267Z",
     "iopub.status.idle": "2023-08-02T16:48:10.139003Z",
     "shell.execute_reply": "2023-08-02T16:48:10.137384Z"
    },
    "papermill": {
     "duration": 0.18338,
     "end_time": "2023-08-02T16:48:10.143438",
     "exception": false,
     "start_time": "2023-08-02T16:48:09.960058",
     "status": "completed"
    },
    "tags": []
   },
   "outputs": [
    {
     "data": {
      "text/plain": [
       "([<matplotlib.patches.Wedge at 0x7add1905c730>,\n",
       "  <matplotlib.patches.Wedge at 0x7add1905c7f0>],\n",
       " [Text(0.602925369116526, 0.920044020292345, 'İlk Kullanım'),\n",
       "  Text(-0.6029253691165259, -0.920044020292345, 'Diğer')],\n",
       " [Text(0.32886838315446876, 0.5018421928867336, '31.5%'),\n",
       "  Text(-0.3288683831544687, -0.5018421928867336, '68.5%')])"
      ]
     },
     "execution_count": 25,
     "metadata": {},
     "output_type": "execute_result"
    },
    {
     "data": {
      "image/png": "[encoded data removed]",
      "text/plain": [
       "<Figure size 640x480 with 1 Axes>"
      ]
     },
     "metadata": {},
     "output_type": "display_data"
    }
   ],
   "source": [
    "filtre1=df[\"used_chip\"]==1\n",
    "filtre2=df[\"used_pin_number\"]==0\n",
    "\n",
    "ilk=df[filtre1 & filtre2 ]\n",
    "\n",
    "plt.pie([len(ilk),len(df)-len(ilk)],labels=([\"İlk Kullanım\",\"Diğer\"]),autopct=\"%1.1f%%\")"
   ]
  },
  {
   "cell_type": "code",
   "execution_count": 26,
   "id": "681aed84",
   "metadata": {
    "execution": {
     "iopub.execute_input": "2023-08-02T16:48:10.209231Z",
     "iopub.status.busy": "2023-08-02T16:48:10.208493Z",
     "iopub.status.idle": "2023-08-02T16:48:10.224492Z",
     "shell.execute_reply": "2023-08-02T16:48:10.223579Z"
    },
    "papermill": {
     "duration": 0.050208,
     "end_time": "2023-08-02T16:48:10.226834",
     "exception": false,
     "start_time": "2023-08-02T16:48:10.176626",
     "status": "completed"
    },
    "tags": []
   },
   "outputs": [
    {
     "data": {
      "text/html": [
       "<div>\n",
       "<style scoped>\n",
       "    .dataframe tbody tr th:only-of-type {\n",
       "        vertical-align: middle;\n",
       "    }\n",
       "\n",
       "    .dataframe tbody tr th {\n",
       "        vertical-align: top;\n",
       "    }\n",
       "\n",
       "    .dataframe thead th {\n",
       "        text-align: right;\n",
       "    }\n",
       "</style>\n",
       "<table border=\"1\" class=\"dataframe\">\n",
       "  <thead>\n",
       "    <tr style=\"text-align: right;\">\n",
       "      <th></th>\n",
       "      <th>distance_from_home</th>\n",
       "      <th>distance_from_last_transaction</th>\n",
       "      <th>ratio_to_median_purchase_price</th>\n",
       "      <th>repeat_retailer</th>\n",
       "      <th>used_chip</th>\n",
       "      <th>used_pin_number</th>\n",
       "      <th>online_order</th>\n",
       "      <th>fraud</th>\n",
       "    </tr>\n",
       "  </thead>\n",
       "  <tbody>\n",
       "    <tr>\n",
       "      <th>0</th>\n",
       "      <td>57.877857</td>\n",
       "      <td>0.311140</td>\n",
       "      <td>1.945940</td>\n",
       "      <td>1.0</td>\n",
       "      <td>1.0</td>\n",
       "      <td>0.0</td>\n",
       "      <td>0.0</td>\n",
       "      <td>0.0</td>\n",
       "    </tr>\n",
       "    <tr>\n",
       "      <th>1</th>\n",
       "      <td>10.829943</td>\n",
       "      <td>0.175592</td>\n",
       "      <td>1.294219</td>\n",
       "      <td>1.0</td>\n",
       "      <td>0.0</td>\n",
       "      <td>0.0</td>\n",
       "      <td>0.0</td>\n",
       "      <td>0.0</td>\n",
       "    </tr>\n",
       "    <tr>\n",
       "      <th>2</th>\n",
       "      <td>5.091079</td>\n",
       "      <td>0.805153</td>\n",
       "      <td>0.427715</td>\n",
       "      <td>1.0</td>\n",
       "      <td>0.0</td>\n",
       "      <td>0.0</td>\n",
       "      <td>1.0</td>\n",
       "      <td>0.0</td>\n",
       "    </tr>\n",
       "  </tbody>\n",
       "</table>\n",
       "</div>"
      ],
      "text/plain": [
       "   distance_from_home  distance_from_last_transaction  \\\n",
       "0           57.877857                        0.311140   \n",
       "1           10.829943                        0.175592   \n",
       "2            5.091079                        0.805153   \n",
       "\n",
       "   ratio_to_median_purchase_price  repeat_retailer  used_chip  \\\n",
       "0                        1.945940              1.0        1.0   \n",
       "1                        1.294219              1.0        0.0   \n",
       "2                        0.427715              1.0        0.0   \n",
       "\n",
       "   used_pin_number  online_order  fraud  \n",
       "0              0.0           0.0    0.0  \n",
       "1              0.0           0.0    0.0  \n",
       "2              0.0           1.0    0.0  "
      ]
     },
     "execution_count": 26,
     "metadata": {},
     "output_type": "execute_result"
    }
   ],
   "source": [
    "df.head(3)"
   ]
  },
  {
   "cell_type": "code",
   "execution_count": 27,
   "id": "887177b4",
   "metadata": {
    "execution": {
     "iopub.execute_input": "2023-08-02T16:48:10.260162Z",
     "iopub.status.busy": "2023-08-02T16:48:10.259778Z",
     "iopub.status.idle": "2023-08-02T16:48:10.264279Z",
     "shell.execute_reply": "2023-08-02T16:48:10.263266Z"
    },
    "papermill": {
     "duration": 0.023731,
     "end_time": "2023-08-02T16:48:10.266481",
     "exception": false,
     "start_time": "2023-08-02T16:48:10.242750",
     "status": "completed"
    },
    "tags": []
   },
   "outputs": [],
   "source": [
    "#Online Olmayan İşlemlerde PIN Kullanma Oranı"
   ]
  },
  {
   "cell_type": "code",
   "execution_count": 28,
   "id": "f26ea103",
   "metadata": {
    "execution": {
     "iopub.execute_input": "2023-08-02T16:48:10.300047Z",
     "iopub.status.busy": "2023-08-02T16:48:10.299633Z",
     "iopub.status.idle": "2023-08-02T16:48:10.333988Z",
     "shell.execute_reply": "2023-08-02T16:48:10.332911Z"
    },
    "papermill": {
     "duration": 0.054338,
     "end_time": "2023-08-02T16:48:10.336870",
     "exception": false,
     "start_time": "2023-08-02T16:48:10.282532",
     "status": "completed"
    },
    "tags": []
   },
   "outputs": [],
   "source": [
    "online=df[df[\"online_order\"]==0]\n",
    "\n",
    "online_pin=online[\"used_pin_number\"].value_counts()"
   ]
  },
  {
   "cell_type": "code",
   "execution_count": 29,
   "id": "cdddf41a",
   "metadata": {
    "execution": {
     "iopub.execute_input": "2023-08-02T16:48:10.370211Z",
     "iopub.status.busy": "2023-08-02T16:48:10.369812Z",
     "iopub.status.idle": "2023-08-02T16:48:10.507837Z",
     "shell.execute_reply": "2023-08-02T16:48:10.506582Z"
    },
    "papermill": {
     "duration": 0.158742,
     "end_time": "2023-08-02T16:48:10.511491",
     "exception": false,
     "start_time": "2023-08-02T16:48:10.352749",
     "status": "completed"
    },
    "tags": []
   },
   "outputs": [
    {
     "data": {
      "image/png": "[encoded data removed]",
      "text/plain": [
       "<Figure size 640x480 with 1 Axes>"
      ]
     },
     "metadata": {},
     "output_type": "display_data"
    }
   ],
   "source": [
    "plt.pie(online_pin.values,labels=[\"Kullanıldı\",\"Kullanılmadı\"],autopct=\"%1.1f%%\")\n",
    "plt.show()"
   ]
  },
  {
   "cell_type": "code",
   "execution_count": null,
   "id": "1aa23373",
   "metadata": {
    "papermill": {
     "duration": 0.030921,
     "end_time": "2023-08-02T16:48:10.576665",
     "exception": false,
     "start_time": "2023-08-02T16:48:10.545744",
     "status": "completed"
    },
    "tags": []
   },
   "outputs": [],
   "source": []
  }
 ],
 "metadata": {
  "kernelspec": {
   "display_name": "Python 3",
   "language": "python",
   "name": "python3"
  },
  "language_info": {
   "codemirror_mode": {
    "name": "ipython",
    "version": 3
   },
   "file_extension": ".py",
   "mimetype": "text/x-python",
   "name": "python",
   "nbconvert_exporter": "python",
   "pygments_lexer": "ipython3",
   "version": "3.10.12"
  },
  "papermill": {
   "default_parameters": {},
   "duration": 30.412062,
   "end_time": "2023-08-02T16:48:11.616069",
   "environment_variables": {},
   "exception": null,
   "input_path": "__notebook__.ipynb",
   "output_path": "__notebook__.ipynb",
   "parameters": {},
   "start_time": "2023-08-02T16:47:41.204007",
   "version": "2.4.0"
  }
 },
 "nbformat": 4,
 "nbformat_minor": 5
}
