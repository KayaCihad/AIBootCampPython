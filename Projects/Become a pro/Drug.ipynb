{
 "cells": [
  {
   "cell_type": "code",
   "execution_count": 1,
   "id": "113ec031",
   "metadata": {},
   "outputs": [],
   "source": [
    "import pandas as pd\n",
    "import numpy as np\n",
    "import seaborn as sns\n",
    "import matplotlib.pyplot as plt\n",
    "import warnings\n",
    "warnings.simplefilter(\"ignore\")"
   ]
  },
  {
   "cell_type": "code",
   "execution_count": 2,
   "id": "1d091535",
   "metadata": {},
   "outputs": [],
   "source": [
    "df=pd.read_csv(\"drug200.csv\")"
   ]
  },
  {
   "cell_type": "code",
   "execution_count": 3,
   "id": "5c9d6fdf",
   "metadata": {},
   "outputs": [
    {
     "data": {
      "text/html": [
       "<div>\n",
       "<style scoped>\n",
       "    .dataframe tbody tr th:only-of-type {\n",
       "        vertical-align: middle;\n",
       "    }\n",
       "\n",
       "    .dataframe tbody tr th {\n",
       "        vertical-align: top;\n",
       "    }\n",
       "\n",
       "    .dataframe thead th {\n",
       "        text-align: right;\n",
       "    }\n",
       "</style>\n",
       "<table border=\"1\" class=\"dataframe\">\n",
       "  <thead>\n",
       "    <tr style=\"text-align: right;\">\n",
       "      <th></th>\n",
       "      <th>Age</th>\n",
       "      <th>Sex</th>\n",
       "      <th>BP</th>\n",
       "      <th>Cholesterol</th>\n",
       "      <th>Na_to_K</th>\n",
       "      <th>Drug</th>\n",
       "    </tr>\n",
       "  </thead>\n",
       "  <tbody>\n",
       "    <tr>\n",
       "      <th>0</th>\n",
       "      <td>23</td>\n",
       "      <td>F</td>\n",
       "      <td>HIGH</td>\n",
       "      <td>HIGH</td>\n",
       "      <td>25.355</td>\n",
       "      <td>DrugY</td>\n",
       "    </tr>\n",
       "    <tr>\n",
       "      <th>1</th>\n",
       "      <td>47</td>\n",
       "      <td>M</td>\n",
       "      <td>LOW</td>\n",
       "      <td>HIGH</td>\n",
       "      <td>13.093</td>\n",
       "      <td>drugC</td>\n",
       "    </tr>\n",
       "    <tr>\n",
       "      <th>2</th>\n",
       "      <td>47</td>\n",
       "      <td>M</td>\n",
       "      <td>LOW</td>\n",
       "      <td>HIGH</td>\n",
       "      <td>10.114</td>\n",
       "      <td>drugC</td>\n",
       "    </tr>\n",
       "    <tr>\n",
       "      <th>3</th>\n",
       "      <td>28</td>\n",
       "      <td>F</td>\n",
       "      <td>NORMAL</td>\n",
       "      <td>HIGH</td>\n",
       "      <td>7.798</td>\n",
       "      <td>drugX</td>\n",
       "    </tr>\n",
       "    <tr>\n",
       "      <th>4</th>\n",
       "      <td>61</td>\n",
       "      <td>F</td>\n",
       "      <td>LOW</td>\n",
       "      <td>HIGH</td>\n",
       "      <td>18.043</td>\n",
       "      <td>DrugY</td>\n",
       "    </tr>\n",
       "  </tbody>\n",
       "</table>\n",
       "</div>"
      ],
      "text/plain": [
       "   Age Sex      BP Cholesterol  Na_to_K   Drug\n",
       "0   23   F    HIGH        HIGH   25.355  DrugY\n",
       "1   47   M     LOW        HIGH   13.093  drugC\n",
       "2   47   M     LOW        HIGH   10.114  drugC\n",
       "3   28   F  NORMAL        HIGH    7.798  drugX\n",
       "4   61   F     LOW        HIGH   18.043  DrugY"
      ]
     },
     "execution_count": 3,
     "metadata": {},
     "output_type": "execute_result"
    }
   ],
   "source": [
    "df.head()"
   ]
  },
  {
   "cell_type": "code",
   "execution_count": 4,
   "id": "5577c540",
   "metadata": {},
   "outputs": [
    {
     "name": "stdout",
     "output_type": "stream",
     "text": [
      "<class 'pandas.core.frame.DataFrame'>\n",
      "RangeIndex: 200 entries, 0 to 199\n",
      "Data columns (total 6 columns):\n",
      " #   Column       Non-Null Count  Dtype  \n",
      "---  ------       --------------  -----  \n",
      " 0   Age          200 non-null    int64  \n",
      " 1   Sex          200 non-null    object \n",
      " 2   BP           200 non-null    object \n",
      " 3   Cholesterol  200 non-null    object \n",
      " 4   Na_to_K      200 non-null    float64\n",
      " 5   Drug         200 non-null    object \n",
      "dtypes: float64(1), int64(1), object(4)\n",
      "memory usage: 9.5+ KB\n"
     ]
    }
   ],
   "source": [
    "df.info()"
   ]
  },
  {
   "cell_type": "code",
   "execution_count": 5,
   "id": "eff54d1c",
   "metadata": {},
   "outputs": [
    {
     "data": {
      "text/plain": [
       "Age            0\n",
       "Sex            0\n",
       "BP             0\n",
       "Cholesterol    0\n",
       "Na_to_K        0\n",
       "Drug           0\n",
       "dtype: int64"
      ]
     },
     "execution_count": 5,
     "metadata": {},
     "output_type": "execute_result"
    }
   ],
   "source": [
    "df.isnull().sum()"
   ]
  },
  {
   "cell_type": "code",
   "execution_count": 6,
   "id": "5cf0a15d",
   "metadata": {},
   "outputs": [
    {
     "data": {
      "text/plain": [
       "47    8\n",
       "23    7\n",
       "28    7\n",
       "49    7\n",
       "39    6\n",
       "32    6\n",
       "50    5\n",
       "37    5\n",
       "58    5\n",
       "60    5\n",
       "22    5\n",
       "34    4\n",
       "72    4\n",
       "51    4\n",
       "42    4\n",
       "26    4\n",
       "24    4\n",
       "74    4\n",
       "67    4\n",
       "68    4\n",
       "61    4\n",
       "56    4\n",
       "20    4\n",
       "36    4\n",
       "45    4\n",
       "41    4\n",
       "31    4\n",
       "43    4\n",
       "65    4\n",
       "57    4\n",
       "53    3\n",
       "40    3\n",
       "70    3\n",
       "59    3\n",
       "16    3\n",
       "38    3\n",
       "15    3\n",
       "69    3\n",
       "35    3\n",
       "18    3\n",
       "64    3\n",
       "52    2\n",
       "55    2\n",
       "62    2\n",
       "19    2\n",
       "29    2\n",
       "66    2\n",
       "73    2\n",
       "46    2\n",
       "48    2\n",
       "54    1\n",
       "17    1\n",
       "33    1\n",
       "63    1\n",
       "30    1\n",
       "21    1\n",
       "25    1\n",
       "Name: Age, dtype: int64"
      ]
     },
     "execution_count": 6,
     "metadata": {},
     "output_type": "execute_result"
    }
   ],
   "source": [
    "df[\"Age\"].value_counts()"
   ]
  },
  {
   "cell_type": "code",
   "execution_count": 7,
   "id": "1bcc5b13",
   "metadata": {},
   "outputs": [
    {
     "data": {
      "text/plain": [
       "M    104\n",
       "F     96\n",
       "Name: Sex, dtype: int64"
      ]
     },
     "execution_count": 7,
     "metadata": {},
     "output_type": "execute_result"
    }
   ],
   "source": [
    "df[\"Sex\"].value_counts()"
   ]
  },
  {
   "cell_type": "code",
   "execution_count": 8,
   "id": "056d24cb",
   "metadata": {},
   "outputs": [
    {
     "data": {
      "text/plain": [
       "HIGH      77\n",
       "LOW       64\n",
       "NORMAL    59\n",
       "Name: BP, dtype: int64"
      ]
     },
     "execution_count": 8,
     "metadata": {},
     "output_type": "execute_result"
    }
   ],
   "source": [
    "df[\"BP\"].value_counts()"
   ]
  },
  {
   "cell_type": "code",
   "execution_count": 9,
   "id": "1c3f9e06",
   "metadata": {},
   "outputs": [
    {
     "data": {
      "text/plain": [
       "HIGH      103\n",
       "NORMAL     97\n",
       "Name: Cholesterol, dtype: int64"
      ]
     },
     "execution_count": 9,
     "metadata": {},
     "output_type": "execute_result"
    }
   ],
   "source": [
    "df[\"Cholesterol\"].value_counts()"
   ]
  },
  {
   "cell_type": "code",
   "execution_count": 10,
   "id": "a5257b50",
   "metadata": {},
   "outputs": [
    {
     "data": {
      "text/plain": [
       "12.006    2\n",
       "18.295    2\n",
       "25.355    1\n",
       "11.939    1\n",
       "16.347    1\n",
       "         ..\n",
       "24.658    1\n",
       "24.276    1\n",
       "13.967    1\n",
       "19.675    1\n",
       "11.349    1\n",
       "Name: Na_to_K, Length: 198, dtype: int64"
      ]
     },
     "execution_count": 10,
     "metadata": {},
     "output_type": "execute_result"
    }
   ],
   "source": [
    "df[\"Na_to_K\"].value_counts()"
   ]
  },
  {
   "cell_type": "code",
   "execution_count": 11,
   "id": "a9638c1d",
   "metadata": {},
   "outputs": [
    {
     "data": {
      "text/plain": [
       "DrugY    91\n",
       "drugX    54\n",
       "drugA    23\n",
       "drugC    16\n",
       "drugB    16\n",
       "Name: Drug, dtype: int64"
      ]
     },
     "execution_count": 11,
     "metadata": {},
     "output_type": "execute_result"
    }
   ],
   "source": [
    "df[\"Drug\"].value_counts()"
   ]
  },
  {
   "cell_type": "code",
   "execution_count": 12,
   "id": "026afbe2",
   "metadata": {},
   "outputs": [
    {
     "data": {
      "image/png": "[encoded data removed]",
      "text/plain": [
       "<Figure size 504x504 with 2 Axes>"
      ]
     },
     "metadata": {
      "needs_background": "light"
     },
     "output_type": "display_data"
    }
   ],
   "source": [
    "df.hist(bins = 10 , figsize= (7,7))\n",
    "plt.show();"
   ]
  },
  {
   "cell_type": "code",
   "execution_count": 13,
   "id": "c1ae31a9",
   "metadata": {},
   "outputs": [
    {
     "data": {
      "image/png": "[encoded data removed]",
      "text/plain": [
       "<Figure size 1800x1080 with 25 Axes>"
      ]
     },
     "metadata": {
      "needs_background": "light"
     },
     "output_type": "display_data"
    }
   ],
   "source": [
    "df.plot(kind = \"box\" , subplots = True , figsize = (25,15) , layout = (5,5));"
   ]
  },
  {
   "cell_type": "code",
   "execution_count": 14,
   "id": "7bbdc2b1",
   "metadata": {},
   "outputs": [],
   "source": [
    "df=df[df[\"Na_to_K\"]<35]"
   ]
  },
  {
   "cell_type": "code",
   "execution_count": null,
   "id": "1603f690",
   "metadata": {},
   "outputs": [],
   "source": []
  },
  {
   "cell_type": "code",
   "execution_count": 15,
   "id": "8bf819bc",
   "metadata": {},
   "outputs": [],
   "source": [
    "x=df.drop('Drug',axis=1)\n",
    "y=df['Drug']"
   ]
  },
  {
   "cell_type": "code",
   "execution_count": 16,
   "id": "84a12c45",
   "metadata": {},
   "outputs": [],
   "source": [
    "x=pd.get_dummies(x,drop_first=True)"
   ]
  },
  {
   "cell_type": "code",
   "execution_count": 29,
   "id": "7b63ff40",
   "metadata": {},
   "outputs": [
    {
     "data": {
      "text/html": [
       "<div>\n",
       "<style scoped>\n",
       "    .dataframe tbody tr th:only-of-type {\n",
       "        vertical-align: middle;\n",
       "    }\n",
       "\n",
       "    .dataframe tbody tr th {\n",
       "        vertical-align: top;\n",
       "    }\n",
       "\n",
       "    .dataframe thead th {\n",
       "        text-align: right;\n",
       "    }\n",
       "</style>\n",
       "<table border=\"1\" class=\"dataframe\">\n",
       "  <thead>\n",
       "    <tr style=\"text-align: right;\">\n",
       "      <th></th>\n",
       "      <th>Age</th>\n",
       "      <th>Na_to_K</th>\n",
       "      <th>Sex_M</th>\n",
       "      <th>BP_LOW</th>\n",
       "      <th>BP_NORMAL</th>\n",
       "      <th>Cholesterol_NORMAL</th>\n",
       "    </tr>\n",
       "  </thead>\n",
       "  <tbody>\n",
       "    <tr>\n",
       "      <th>0</th>\n",
       "      <td>23</td>\n",
       "      <td>25.355</td>\n",
       "      <td>0</td>\n",
       "      <td>0</td>\n",
       "      <td>0</td>\n",
       "      <td>0</td>\n",
       "    </tr>\n",
       "    <tr>\n",
       "      <th>1</th>\n",
       "      <td>47</td>\n",
       "      <td>13.093</td>\n",
       "      <td>1</td>\n",
       "      <td>1</td>\n",
       "      <td>0</td>\n",
       "      <td>0</td>\n",
       "    </tr>\n",
       "    <tr>\n",
       "      <th>2</th>\n",
       "      <td>47</td>\n",
       "      <td>10.114</td>\n",
       "      <td>1</td>\n",
       "      <td>1</td>\n",
       "      <td>0</td>\n",
       "      <td>0</td>\n",
       "    </tr>\n",
       "    <tr>\n",
       "      <th>3</th>\n",
       "      <td>28</td>\n",
       "      <td>7.798</td>\n",
       "      <td>0</td>\n",
       "      <td>0</td>\n",
       "      <td>1</td>\n",
       "      <td>0</td>\n",
       "    </tr>\n",
       "    <tr>\n",
       "      <th>4</th>\n",
       "      <td>61</td>\n",
       "      <td>18.043</td>\n",
       "      <td>0</td>\n",
       "      <td>1</td>\n",
       "      <td>0</td>\n",
       "      <td>0</td>\n",
       "    </tr>\n",
       "    <tr>\n",
       "      <th>...</th>\n",
       "      <td>...</td>\n",
       "      <td>...</td>\n",
       "      <td>...</td>\n",
       "      <td>...</td>\n",
       "      <td>...</td>\n",
       "      <td>...</td>\n",
       "    </tr>\n",
       "    <tr>\n",
       "      <th>195</th>\n",
       "      <td>56</td>\n",
       "      <td>11.567</td>\n",
       "      <td>0</td>\n",
       "      <td>1</td>\n",
       "      <td>0</td>\n",
       "      <td>0</td>\n",
       "    </tr>\n",
       "    <tr>\n",
       "      <th>196</th>\n",
       "      <td>16</td>\n",
       "      <td>12.006</td>\n",
       "      <td>1</td>\n",
       "      <td>1</td>\n",
       "      <td>0</td>\n",
       "      <td>0</td>\n",
       "    </tr>\n",
       "    <tr>\n",
       "      <th>197</th>\n",
       "      <td>52</td>\n",
       "      <td>9.894</td>\n",
       "      <td>1</td>\n",
       "      <td>0</td>\n",
       "      <td>1</td>\n",
       "      <td>0</td>\n",
       "    </tr>\n",
       "    <tr>\n",
       "      <th>198</th>\n",
       "      <td>23</td>\n",
       "      <td>14.020</td>\n",
       "      <td>1</td>\n",
       "      <td>0</td>\n",
       "      <td>1</td>\n",
       "      <td>1</td>\n",
       "    </tr>\n",
       "    <tr>\n",
       "      <th>199</th>\n",
       "      <td>40</td>\n",
       "      <td>11.349</td>\n",
       "      <td>0</td>\n",
       "      <td>1</td>\n",
       "      <td>0</td>\n",
       "      <td>1</td>\n",
       "    </tr>\n",
       "  </tbody>\n",
       "</table>\n",
       "<p>197 rows × 6 columns</p>\n",
       "</div>"
      ],
      "text/plain": [
       "     Age  Na_to_K  Sex_M  BP_LOW  BP_NORMAL  Cholesterol_NORMAL\n",
       "0     23   25.355      0       0          0                   0\n",
       "1     47   13.093      1       1          0                   0\n",
       "2     47   10.114      1       1          0                   0\n",
       "3     28    7.798      0       0          1                   0\n",
       "4     61   18.043      0       1          0                   0\n",
       "..   ...      ...    ...     ...        ...                 ...\n",
       "195   56   11.567      0       1          0                   0\n",
       "196   16   12.006      1       1          0                   0\n",
       "197   52    9.894      1       0          1                   0\n",
       "198   23   14.020      1       0          1                   1\n",
       "199   40   11.349      0       1          0                   1\n",
       "\n",
       "[197 rows x 6 columns]"
      ]
     },
     "execution_count": 29,
     "metadata": {},
     "output_type": "execute_result"
    }
   ],
   "source": [
    "x"
   ]
  },
  {
   "cell_type": "code",
   "execution_count": 17,
   "id": "21e23cc1",
   "metadata": {},
   "outputs": [],
   "source": [
    "from sklearn.naive_bayes import GaussianNB\n",
    "from sklearn.naive_bayes import BernoulliNB\n",
    "g=GaussianNB()\n",
    "b=BernoulliNB()"
   ]
  },
  {
   "cell_type": "code",
   "execution_count": 18,
   "id": "3d2026f4",
   "metadata": {},
   "outputs": [
    {
     "data": {
      "text/plain": [
       "BernoulliNB()"
      ]
     },
     "execution_count": 18,
     "metadata": {},
     "output_type": "execute_result"
    }
   ],
   "source": [
    "g.fit(x,y)\n",
    "b.fit(x,y)"
   ]
  },
  {
   "cell_type": "code",
   "execution_count": 19,
   "id": "fa999fca",
   "metadata": {},
   "outputs": [],
   "source": [
    "tahmin1=g.predict(x)\n",
    "tahmin2=b.predict(x)"
   ]
  },
  {
   "cell_type": "code",
   "execution_count": 20,
   "id": "49f5c3a1",
   "metadata": {},
   "outputs": [],
   "source": [
    "from sklearn.metrics import accuracy_score, confusion_matrix, classification_report"
   ]
  },
  {
   "cell_type": "code",
   "execution_count": 21,
   "id": "40492f54",
   "metadata": {},
   "outputs": [
    {
     "data": {
      "text/plain": [
       "0.8223350253807107"
      ]
     },
     "execution_count": 21,
     "metadata": {},
     "output_type": "execute_result"
    }
   ],
   "source": [
    "accuracy_score(tahmin1,y)"
   ]
  },
  {
   "cell_type": "code",
   "execution_count": 22,
   "id": "4b57aef3",
   "metadata": {},
   "outputs": [
    {
     "data": {
      "text/plain": [
       "array([[56,  0,  0,  0,  3],\n",
       "       [14, 23,  0,  0,  0],\n",
       "       [ 6,  0, 16,  0,  0],\n",
       "       [12,  0,  0, 16,  0],\n",
       "       [ 0,  0,  0,  0, 51]], dtype=int64)"
      ]
     },
     "execution_count": 22,
     "metadata": {},
     "output_type": "execute_result"
    }
   ],
   "source": [
    "confusion_matrix(tahmin1,y)"
   ]
  },
  {
   "cell_type": "code",
   "execution_count": 23,
   "id": "82228408",
   "metadata": {},
   "outputs": [
    {
     "data": {
      "text/plain": [
       "0.5177664974619289"
      ]
     },
     "execution_count": 23,
     "metadata": {},
     "output_type": "execute_result"
    }
   ],
   "source": [
    "accuracy_score(tahmin2,y)"
   ]
  },
  {
   "cell_type": "code",
   "execution_count": 24,
   "id": "3368ead0",
   "metadata": {},
   "outputs": [
    {
     "data": {
      "text/plain": [
       "array([[57, 23, 16,  7, 18],\n",
       "       [ 0,  0,  0,  0,  0],\n",
       "       [ 0,  0,  0,  0,  0],\n",
       "       [ 8,  0,  0,  9,  0],\n",
       "       [23,  0,  0,  0, 36]], dtype=int64)"
      ]
     },
     "execution_count": 24,
     "metadata": {},
     "output_type": "execute_result"
    }
   ],
   "source": [
    "confusion_matrix(tahmin2,y)"
   ]
  },
  {
   "cell_type": "code",
   "execution_count": 25,
   "id": "9746ed41",
   "metadata": {},
   "outputs": [],
   "source": [
    "from sklearn.neighbors import KNeighborsClassifier\n",
    "k=KNeighborsClassifier()"
   ]
  },
  {
   "cell_type": "code",
   "execution_count": 26,
   "id": "4017def8",
   "metadata": {},
   "outputs": [
    {
     "data": {
      "text/plain": [
       "KNeighborsClassifier()"
      ]
     },
     "execution_count": 26,
     "metadata": {},
     "output_type": "execute_result"
    }
   ],
   "source": [
    "k.fit(x,y)"
   ]
  },
  {
   "cell_type": "code",
   "execution_count": 27,
   "id": "5da3da4f",
   "metadata": {},
   "outputs": [],
   "source": [
    "tahmin3=k.predict(x)"
   ]
  },
  {
   "cell_type": "code",
   "execution_count": 28,
   "id": "c4f351bb",
   "metadata": {},
   "outputs": [
    {
     "data": {
      "text/plain": [
       "0.7766497461928934"
      ]
     },
     "execution_count": 28,
     "metadata": {},
     "output_type": "execute_result"
    }
   ],
   "source": [
    "accuracy_score(tahmin3,y)"
   ]
  },
  {
   "cell_type": "code",
   "execution_count": 30,
   "id": "85b115be",
   "metadata": {},
   "outputs": [
    {
     "data": {
      "text/plain": [
       "array([[86,  0,  1,  0,  3],\n",
       "       [ 0, 18,  0,  7,  7],\n",
       "       [ 2,  0, 12,  4,  9],\n",
       "       [ 0,  2,  0,  4,  2],\n",
       "       [ 0,  3,  3,  1, 33]], dtype=int64)"
      ]
     },
     "execution_count": 30,
     "metadata": {},
     "output_type": "execute_result"
    }
   ],
   "source": [
    "confusion_matrix(tahmin3,y)"
   ]
  },
  {
   "cell_type": "code",
   "execution_count": 31,
   "id": "77394a2a",
   "metadata": {},
   "outputs": [],
   "source": [
    "from sklearn.linear_model import LogisticRegression\n",
    "l=LogisticRegression()"
   ]
  },
  {
   "cell_type": "code",
   "execution_count": 32,
   "id": "06e80b59",
   "metadata": {},
   "outputs": [
    {
     "data": {
      "text/plain": [
       "LogisticRegression()"
      ]
     },
     "execution_count": 32,
     "metadata": {},
     "output_type": "execute_result"
    }
   ],
   "source": [
    "l.fit(x,y)"
   ]
  },
  {
   "cell_type": "code",
   "execution_count": 33,
   "id": "db8057c7",
   "metadata": {},
   "outputs": [],
   "source": [
    "tahmin4=l.predict(x)"
   ]
  },
  {
   "cell_type": "code",
   "execution_count": 34,
   "id": "079c1b69",
   "metadata": {},
   "outputs": [
    {
     "data": {
      "text/plain": [
       "array([[81,  6,  3,  2,  4],\n",
       "       [ 0, 14,  2,  0,  0],\n",
       "       [ 1,  3, 11,  0,  0],\n",
       "       [ 4,  0,  0, 14,  0],\n",
       "       [ 2,  0,  0,  0, 50]], dtype=int64)"
      ]
     },
     "execution_count": 34,
     "metadata": {},
     "output_type": "execute_result"
    }
   ],
   "source": [
    "confusion_matrix(tahmin4,y)"
   ]
  },
  {
   "cell_type": "code",
   "execution_count": 35,
   "id": "17cc9fca",
   "metadata": {},
   "outputs": [
    {
     "data": {
      "text/plain": [
       "0.8629441624365483"
      ]
     },
     "execution_count": 35,
     "metadata": {},
     "output_type": "execute_result"
    }
   ],
   "source": [
    "accuracy_score(tahmin4,y)"
   ]
  },
  {
   "cell_type": "code",
   "execution_count": null,
   "id": "adf5d2ec",
   "metadata": {},
   "outputs": [],
   "source": []
  }
 ],
 "metadata": {
  "kernelspec": {
   "display_name": "Python 3 (ipykernel)",
   "language": "python",
   "name": "python3"
  },
  "language_info": {
   "codemirror_mode": {
    "name": "ipython",
    "version": 3
   },
   "file_extension": ".py",
   "mimetype": "text/x-python",
   "name": "python",
   "nbconvert_exporter": "python",
   "pygments_lexer": "ipython3",
   "version": "3.9.12"
  }
 },
 "nbformat": 4,
 "nbformat_minor": 5
}
