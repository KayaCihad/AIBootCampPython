{
 "cells": [
  {
   "cell_type": "code",
   "execution_count": 1,
   "id": "2d130221",
   "metadata": {},
   "outputs": [],
   "source": [
    "import pandas as pd\n",
    "import numpy as np\n",
    "import seaborn as sns\n",
    "import matplotlib.pyplot as plt\n",
    "import warnings\n",
    "warnings.simplefilter(\"ignore\")\n",
    "import tensorflow as tf"
   ]
  },
  {
   "cell_type": "code",
   "execution_count": 2,
   "id": "7e358b0b",
   "metadata": {},
   "outputs": [
    {
     "data": {
      "text/html": [
       "<div>\n",
       "<style scoped>\n",
       "    .dataframe tbody tr th:only-of-type {\n",
       "        vertical-align: middle;\n",
       "    }\n",
       "\n",
       "    .dataframe tbody tr th {\n",
       "        vertical-align: top;\n",
       "    }\n",
       "\n",
       "    .dataframe thead th {\n",
       "        text-align: right;\n",
       "    }\n",
       "</style>\n",
       "<table border=\"1\" class=\"dataframe\">\n",
       "  <thead>\n",
       "    <tr style=\"text-align: right;\">\n",
       "      <th></th>\n",
       "      <th>Unnamed: 0</th>\n",
       "      <th>website_url</th>\n",
       "      <th>cleaned_website_text</th>\n",
       "      <th>Category</th>\n",
       "    </tr>\n",
       "  </thead>\n",
       "  <tbody>\n",
       "    <tr>\n",
       "      <th>536</th>\n",
       "      <td>536</td>\n",
       "      <td>https://warritatafo.com/</td>\n",
       "      <td>warritatafo news entertainment guru africa num...</td>\n",
       "      <td>News</td>\n",
       "    </tr>\n",
       "    <tr>\n",
       "      <th>782</th>\n",
       "      <td>782</td>\n",
       "      <td>http://www.boardgamegeek.com/game/5120</td>\n",
       "      <td>doubles wild board game boardgamegeek box roll...</td>\n",
       "      <td>Games</td>\n",
       "    </tr>\n",
       "    <tr>\n",
       "      <th>615</th>\n",
       "      <td>615</td>\n",
       "      <td>https://www.asis.gov.au</td>\n",
       "      <td>australian secret intelligence service home au...</td>\n",
       "      <td>Law and Government</td>\n",
       "    </tr>\n",
       "    <tr>\n",
       "      <th>135</th>\n",
       "      <td>135</td>\n",
       "      <td>https://www.iflix.com</td>\n",
       "      <td>watch download films live streaming tv indomov...</td>\n",
       "      <td>Streaming Services</td>\n",
       "    </tr>\n",
       "    <tr>\n",
       "      <th>304</th>\n",
       "      <td>304</td>\n",
       "      <td>https://www.transfermarkt.com/</td>\n",
       "      <td>football transfer rumour market value news tra...</td>\n",
       "      <td>Sports</td>\n",
       "    </tr>\n",
       "    <tr>\n",
       "      <th>1264</th>\n",
       "      <td>1264</td>\n",
       "      <td>http://site.icu-project.org/</td>\n",
       "      <td>icu international components unicode icu proje...</td>\n",
       "      <td>Computers and Technology</td>\n",
       "    </tr>\n",
       "    <tr>\n",
       "      <th>300</th>\n",
       "      <td>300</td>\n",
       "      <td>https://crickettimes.com/</td>\n",
       "      <td>latest cricket news updates latest cricket new...</td>\n",
       "      <td>Sports</td>\n",
       "    </tr>\n",
       "  </tbody>\n",
       "</table>\n",
       "</div>"
      ],
      "text/plain": [
       "      Unnamed: 0                             website_url  \\\n",
       "536          536                https://warritatafo.com/   \n",
       "782          782  http://www.boardgamegeek.com/game/5120   \n",
       "615          615                 https://www.asis.gov.au   \n",
       "135          135                   https://www.iflix.com   \n",
       "304          304          https://www.transfermarkt.com/   \n",
       "1264        1264            http://site.icu-project.org/   \n",
       "300          300               https://crickettimes.com/   \n",
       "\n",
       "                                   cleaned_website_text  \\\n",
       "536   warritatafo news entertainment guru africa num...   \n",
       "782   doubles wild board game boardgamegeek box roll...   \n",
       "615   australian secret intelligence service home au...   \n",
       "135   watch download films live streaming tv indomov...   \n",
       "304   football transfer rumour market value news tra...   \n",
       "1264  icu international components unicode icu proje...   \n",
       "300   latest cricket news updates latest cricket new...   \n",
       "\n",
       "                      Category  \n",
       "536                       News  \n",
       "782                      Games  \n",
       "615         Law and Government  \n",
       "135         Streaming Services  \n",
       "304                     Sports  \n",
       "1264  Computers and Technology  \n",
       "300                     Sports  "
      ]
     },
     "execution_count": 2,
     "metadata": {},
     "output_type": "execute_result"
    }
   ],
   "source": [
    "df=pd.read_csv(\"website_classification.csv\")\n",
    "df.sample(7)"
   ]
  },
  {
   "cell_type": "code",
   "execution_count": 3,
   "id": "550aa68c",
   "metadata": {},
   "outputs": [
    {
     "data": {
      "text/plain": [
       "Unnamed: 0              0\n",
       "website_url             0\n",
       "cleaned_website_text    0\n",
       "Category                0\n",
       "dtype: int64"
      ]
     },
     "execution_count": 3,
     "metadata": {},
     "output_type": "execute_result"
    }
   ],
   "source": [
    "df.isnull().sum()"
   ]
  },
  {
   "cell_type": "code",
   "execution_count": 4,
   "id": "a56e58f0",
   "metadata": {},
   "outputs": [],
   "source": [
    "df=df.drop(\"Unnamed: 0\",axis=1)"
   ]
  },
  {
   "cell_type": "code",
   "execution_count": 5,
   "id": "8b9ad854",
   "metadata": {},
   "outputs": [
    {
     "data": {
      "text/plain": [
       "Education                          114\n",
       "Business/Corporate                 109\n",
       "Travel                             107\n",
       "Streaming Services                 105\n",
       "Sports                             104\n",
       "E-Commerce                         102\n",
       "Games                               98\n",
       "News                                96\n",
       "Health and Fitness                  96\n",
       "Photography                         93\n",
       "Computers and Technology            93\n",
       "Food                                92\n",
       "Law and Government                  84\n",
       "Social Networking and Messaging     83\n",
       "Forums                              16\n",
       "Adult                               16\n",
       "Name: Category, dtype: int64"
      ]
     },
     "execution_count": 5,
     "metadata": {},
     "output_type": "execute_result"
    }
   ],
   "source": [
    "df['Category'].value_counts()"
   ]
  },
  {
   "cell_type": "code",
   "execution_count": 6,
   "id": "7a76c7ce",
   "metadata": {},
   "outputs": [
    {
     "data": {
      "image/png": "[encoded data removed]",
      "text/plain": [
       "<Figure size 1080x360 with 1 Axes>"
      ]
     },
     "metadata": {
      "needs_background": "light"
     },
     "output_type": "display_data"
    }
   ],
   "source": [
    "plt.figure(figsize=(15,5))\n",
    "sns.countplot(x='Category',data=df)\n",
    "plt.xticks(rotation=90);"
   ]
  },
  {
   "cell_type": "code",
   "execution_count": 8,
   "id": "4fe19a19",
   "metadata": {},
   "outputs": [],
   "source": [
    "x=df[\"cleaned_website_text\"]\n",
    "y=df[\"Category\"]"
   ]
  },
  {
   "cell_type": "code",
   "execution_count": 9,
   "id": "8b23e1f2",
   "metadata": {},
   "outputs": [],
   "source": [
    "from sklearn.model_selection import train_test_split"
   ]
  },
  {
   "cell_type": "code",
   "execution_count": 10,
   "id": "cf517958",
   "metadata": {},
   "outputs": [],
   "source": [
    "from sklearn.feature_extraction.text import CountVectorizer, TfidfVectorizer"
   ]
  },
  {
   "cell_type": "code",
   "execution_count": 11,
   "id": "2975c637",
   "metadata": {},
   "outputs": [],
   "source": [
    "vect=CountVectorizer(lowercase=True,stop_words='english')\n",
    "x_yeni=vect.fit_transform(x)"
   ]
  },
  {
   "cell_type": "code",
   "execution_count": 12,
   "id": "8a77d95a",
   "metadata": {},
   "outputs": [],
   "source": [
    "x_train,x_test,y_train,y_test=train_test_split(x_yeni,y,random_state=42)"
   ]
  },
  {
   "cell_type": "code",
   "execution_count": 13,
   "id": "980c1784",
   "metadata": {},
   "outputs": [
    {
     "name": "stdout",
     "output_type": "stream",
     "text": [
      "  (0, 37680)\t1\n",
      "  (0, 48797)\t4\n",
      "  (0, 21762)\t3\n",
      "  (0, 24436)\t8\n",
      "  (0, 1050)\t4\n",
      "  (0, 6308)\t1\n",
      "  (0, 46701)\t2\n",
      "  (0, 14350)\t9\n",
      "  (0, 58620)\t1\n",
      "  (0, 7842)\t2\n",
      "  (0, 44922)\t10\n",
      "  (0, 22378)\t1\n",
      "  (0, 41934)\t1\n",
      "  (0, 7957)\t2\n",
      "  (0, 30951)\t1\n",
      "  (0, 24441)\t4\n",
      "  (0, 49800)\t2\n",
      "  (0, 37668)\t3\n",
      "  (0, 38735)\t1\n",
      "  (0, 57843)\t1\n",
      "  (0, 7558)\t2\n",
      "  (0, 10547)\t2\n",
      "  (0, 13675)\t9\n",
      "  (0, 9868)\t1\n",
      "  (0, 15049)\t1\n",
      "  :\t:\n",
      "  (1407, 51819)\t1\n",
      "  (1407, 54302)\t1\n",
      "  (1407, 28775)\t1\n",
      "  (1407, 39856)\t1\n",
      "  (1407, 8007)\t1\n",
      "  (1407, 46791)\t1\n",
      "  (1407, 49479)\t1\n",
      "  (1407, 49984)\t2\n",
      "  (1407, 36789)\t1\n",
      "  (1407, 21364)\t1\n",
      "  (1407, 52157)\t1\n",
      "  (1407, 55717)\t1\n",
      "  (1407, 30145)\t1\n",
      "  (1407, 33216)\t1\n",
      "  (1407, 10939)\t1\n",
      "  (1407, 10771)\t1\n",
      "  (1407, 38497)\t1\n",
      "  (1407, 27357)\t1\n",
      "  (1407, 31195)\t1\n",
      "  (1407, 53684)\t1\n",
      "  (1407, 30386)\t1\n",
      "  (1407, 17642)\t1\n",
      "  (1407, 27616)\t1\n",
      "  (1407, 4618)\t1\n",
      "  (1407, 51471)\t1\n"
     ]
    }
   ],
   "source": [
    "print(x_yeni)"
   ]
  },
  {
   "cell_type": "code",
   "execution_count": 14,
   "id": "92864c0e",
   "metadata": {},
   "outputs": [],
   "source": [
    "from sklearn.naive_bayes import MultinomialNB"
   ]
  },
  {
   "cell_type": "code",
   "execution_count": 15,
   "id": "33a085a3",
   "metadata": {},
   "outputs": [],
   "source": [
    "mb=MultinomialNB()"
   ]
  },
  {
   "cell_type": "code",
   "execution_count": 16,
   "id": "05cc3ad3",
   "metadata": {},
   "outputs": [
    {
     "data": {
      "text/plain": [
       "MultinomialNB()"
      ]
     },
     "execution_count": 16,
     "metadata": {},
     "output_type": "execute_result"
    }
   ],
   "source": [
    "mb.fit(x_train,y_train)"
   ]
  },
  {
   "cell_type": "code",
   "execution_count": 17,
   "id": "ae4f344c",
   "metadata": {},
   "outputs": [],
   "source": [
    "from sklearn.metrics import accuracy_score"
   ]
  },
  {
   "cell_type": "code",
   "execution_count": 18,
   "id": "8a533fd3",
   "metadata": {},
   "outputs": [],
   "source": [
    "tahmin=mb.predict(x_test)"
   ]
  },
  {
   "cell_type": "code",
   "execution_count": 19,
   "id": "440bce6e",
   "metadata": {},
   "outputs": [
    {
     "data": {
      "text/plain": [
       "0.875"
      ]
     },
     "execution_count": 19,
     "metadata": {},
     "output_type": "execute_result"
    }
   ],
   "source": [
    "accuracy_score(y_test,tahmin)"
   ]
  },
  {
   "cell_type": "code",
   "execution_count": null,
   "id": "6e7572bb",
   "metadata": {},
   "outputs": [],
   "source": []
  }
 ],
 "metadata": {
  "kernelspec": {
   "display_name": "Python 3 (ipykernel)",
   "language": "python",
   "name": "python3"
  },
  "language_info": {
   "codemirror_mode": {
    "name": "ipython",
    "version": 3
   },
   "file_extension": ".py",
   "mimetype": "text/x-python",
   "name": "python",
   "nbconvert_exporter": "python",
   "pygments_lexer": "ipython3",
   "version": "3.9.12"
  }
 },
 "nbformat": 4,
 "nbformat_minor": 5
}
