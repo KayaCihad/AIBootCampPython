{
 "cells": [
  {
   "cell_type": "code",
   "execution_count": 1,
   "id": "a994f8bd",
   "metadata": {},
   "outputs": [],
   "source": [
    "import pandas as pd\n",
    "import numpy as np\n",
    "import seaborn as sns\n",
    "import matplotlib.pyplot as plt\n",
    "import warnings\n",
    "warnings.simplefilter(\"ignore\")\n",
    "import tensorflow as tf"
   ]
  },
  {
   "cell_type": "code",
   "execution_count": 2,
   "id": "b734c7c4",
   "metadata": {},
   "outputs": [
    {
     "data": {
      "text/html": [
       "<div>\n",
       "<style scoped>\n",
       "    .dataframe tbody tr th:only-of-type {\n",
       "        vertical-align: middle;\n",
       "    }\n",
       "\n",
       "    .dataframe tbody tr th {\n",
       "        vertical-align: top;\n",
       "    }\n",
       "\n",
       "    .dataframe thead th {\n",
       "        text-align: right;\n",
       "    }\n",
       "</style>\n",
       "<table border=\"1\" class=\"dataframe\">\n",
       "  <thead>\n",
       "    <tr style=\"text-align: right;\">\n",
       "      <th></th>\n",
       "      <th>Unnamed: 0</th>\n",
       "      <th>title</th>\n",
       "      <th>text</th>\n",
       "      <th>label</th>\n",
       "    </tr>\n",
       "  </thead>\n",
       "  <tbody>\n",
       "    <tr>\n",
       "      <th>3749</th>\n",
       "      <td>2428</td>\n",
       "      <td>ObamaCare fallout? Supreme Court ruling sets u...</td>\n",
       "      <td>The upcoming Supreme Court decision on the Aff...</td>\n",
       "      <td>REAL</td>\n",
       "    </tr>\n",
       "    <tr>\n",
       "      <th>2128</th>\n",
       "      <td>8097</td>\n",
       "      <td>Black Agenda Report for Week of Oct 31, 2016</td>\n",
       "      <td>News, information and analysis from the black ...</td>\n",
       "      <td>FAKE</td>\n",
       "    </tr>\n",
       "    <tr>\n",
       "      <th>5944</th>\n",
       "      <td>7168</td>\n",
       "      <td>North Dakota Pipeline: Cell Service Blacked Ou...</td>\n",
       "      <td>As violence against protestors at the construc...</td>\n",
       "      <td>FAKE</td>\n",
       "    </tr>\n",
       "    <tr>\n",
       "      <th>3767</th>\n",
       "      <td>8490</td>\n",
       "      <td>BREAKING: Police Raid Democratic Office – Hill...</td>\n",
       "      <td>0 comments \\nOn Tuesday, the Pennsylvania Stat...</td>\n",
       "      <td>FAKE</td>\n",
       "    </tr>\n",
       "    <tr>\n",
       "      <th>541</th>\n",
       "      <td>8059</td>\n",
       "      <td>BrotherJohnF Silver Update: Fake Election</td>\n",
       "      <td>October 27, 2016 at 4:21 PM \\nListen, it doesn...</td>\n",
       "      <td>FAKE</td>\n",
       "    </tr>\n",
       "    <tr>\n",
       "      <th>1521</th>\n",
       "      <td>9043</td>\n",
       "      <td>Johnson &amp; Johnson Loses Yet Another Multimilli...</td>\n",
       "      <td>By Brandon Turbeville In the latest developmen...</td>\n",
       "      <td>FAKE</td>\n",
       "    </tr>\n",
       "    <tr>\n",
       "      <th>2520</th>\n",
       "      <td>5138</td>\n",
       "      <td>Speakers List: Trump's convention has pols and...</td>\n",
       "      <td>There are war heroes, a casino mogul and even ...</td>\n",
       "      <td>REAL</td>\n",
       "    </tr>\n",
       "  </tbody>\n",
       "</table>\n",
       "</div>"
      ],
      "text/plain": [
       "      Unnamed: 0                                              title  \\\n",
       "3749        2428  ObamaCare fallout? Supreme Court ruling sets u...   \n",
       "2128        8097       Black Agenda Report for Week of Oct 31, 2016   \n",
       "5944        7168  North Dakota Pipeline: Cell Service Blacked Ou...   \n",
       "3767        8490  BREAKING: Police Raid Democratic Office – Hill...   \n",
       "541         8059          BrotherJohnF Silver Update: Fake Election   \n",
       "1521        9043  Johnson & Johnson Loses Yet Another Multimilli...   \n",
       "2520        5138  Speakers List: Trump's convention has pols and...   \n",
       "\n",
       "                                                   text label  \n",
       "3749  The upcoming Supreme Court decision on the Aff...  REAL  \n",
       "2128  News, information and analysis from the black ...  FAKE  \n",
       "5944  As violence against protestors at the construc...  FAKE  \n",
       "3767  0 comments \\nOn Tuesday, the Pennsylvania Stat...  FAKE  \n",
       "541   October 27, 2016 at 4:21 PM \\nListen, it doesn...  FAKE  \n",
       "1521  By Brandon Turbeville In the latest developmen...  FAKE  \n",
       "2520  There are war heroes, a casino mogul and even ...  REAL  "
      ]
     },
     "execution_count": 2,
     "metadata": {},
     "output_type": "execute_result"
    }
   ],
   "source": [
    "df=pd.read_csv(\"news.csv\")\n",
    "df.sample(7)"
   ]
  },
  {
   "cell_type": "code",
   "execution_count": 3,
   "id": "a3c90374",
   "metadata": {},
   "outputs": [],
   "source": [
    "df=df.drop(\"Unnamed: 0\",axis=1)"
   ]
  },
  {
   "cell_type": "code",
   "execution_count": 4,
   "id": "845c4a63",
   "metadata": {},
   "outputs": [],
   "source": [
    "df['label']=df['label'].replace('FAKE', 0)\n",
    "df['label']=df['label'].replace('REAL', 1)"
   ]
  },
  {
   "cell_type": "code",
   "execution_count": 5,
   "id": "7be34da4",
   "metadata": {},
   "outputs": [],
   "source": [
    "df[\"text\"]=df[\"text\"].str.lower()\n",
    "df[\"text\"]=df[\"text\"].str.replace('[^\\w\\s]','')\n",
    "df[\"text\"]=df[\"text\"].str.replace('\\d+','')\n",
    "df[\"text\"]=df[\"text\"].str.replace('\\n',' ').replace('\\r',' ')"
   ]
  },
  {
   "cell_type": "code",
   "execution_count": 6,
   "id": "0de928ab",
   "metadata": {},
   "outputs": [
    {
     "data": {
      "text/plain": [
       "title    0\n",
       "text     0\n",
       "label    0\n",
       "dtype: int64"
      ]
     },
     "execution_count": 6,
     "metadata": {},
     "output_type": "execute_result"
    }
   ],
   "source": [
    "df.isnull().sum()"
   ]
  },
  {
   "cell_type": "code",
   "execution_count": 7,
   "id": "b68e80c9",
   "metadata": {},
   "outputs": [],
   "source": [
    "x=df.text\n",
    "y=df.label"
   ]
  },
  {
   "cell_type": "code",
   "execution_count": 8,
   "id": "cf90ef17",
   "metadata": {},
   "outputs": [],
   "source": [
    "from sklearn.model_selection import train_test_split"
   ]
  },
  {
   "cell_type": "code",
   "execution_count": 9,
   "id": "affcd259",
   "metadata": {},
   "outputs": [],
   "source": [
    "from sklearn.feature_extraction.text import CountVectorizer, TfidfVectorizer"
   ]
  },
  {
   "cell_type": "code",
   "execution_count": 10,
   "id": "9faa9a06",
   "metadata": {},
   "outputs": [],
   "source": [
    "vect=CountVectorizer(lowercase=True,stop_words='english')\n",
    "x_yeni=vect.fit_transform(x)"
   ]
  },
  {
   "cell_type": "code",
   "execution_count": 11,
   "id": "598ef794",
   "metadata": {},
   "outputs": [],
   "source": [
    "x_train,x_test,y_train,y_test=train_test_split(x_yeni,y,random_state=42)"
   ]
  },
  {
   "cell_type": "code",
   "execution_count": 12,
   "id": "3a4084a9",
   "metadata": {},
   "outputs": [
    {
     "name": "stdout",
     "output_type": "stream",
     "text": [
      "  (0, 17148)\t1\n",
      "  (0, 30186)\t1\n",
      "  (0, 66489)\t1\n",
      "  (0, 38473)\t1\n",
      "  (0, 25692)\t1\n",
      "  (0, 27628)\t1\n",
      "  (0, 11482)\t1\n",
      "  (0, 49089)\t3\n",
      "  (0, 82158)\t2\n",
      "  (0, 81559)\t1\n",
      "  (0, 26873)\t1\n",
      "  (0, 59161)\t1\n",
      "  (0, 37314)\t1\n",
      "  (0, 26089)\t2\n",
      "  (0, 70460)\t2\n",
      "  (0, 22190)\t4\n",
      "  (0, 32766)\t14\n",
      "  (0, 62718)\t1\n",
      "  (0, 13022)\t16\n",
      "  (0, 29628)\t4\n",
      "  (0, 79510)\t5\n",
      "  (0, 25468)\t29\n",
      "  (0, 81267)\t1\n",
      "  (0, 77247)\t4\n",
      "  (0, 73771)\t1\n",
      "  :\t:\n",
      "  (6334, 76697)\t1\n",
      "  (6334, 75263)\t1\n",
      "  (6334, 71370)\t1\n",
      "  (6334, 42265)\t1\n",
      "  (6334, 58439)\t1\n",
      "  (6334, 38509)\t1\n",
      "  (6334, 24931)\t1\n",
      "  (6334, 18207)\t2\n",
      "  (6334, 74458)\t1\n",
      "  (6334, 61828)\t1\n",
      "  (6334, 42721)\t1\n",
      "  (6334, 49097)\t1\n",
      "  (6334, 9971)\t1\n",
      "  (6334, 18932)\t1\n",
      "  (6334, 50953)\t2\n",
      "  (6334, 70606)\t1\n",
      "  (6334, 79059)\t1\n",
      "  (6334, 71535)\t1\n",
      "  (6334, 37626)\t1\n",
      "  (6334, 78944)\t1\n",
      "  (6334, 16628)\t2\n",
      "  (6334, 69105)\t1\n",
      "  (6334, 79052)\t1\n",
      "  (6334, 4911)\t1\n",
      "  (6334, 25763)\t1\n"
     ]
    }
   ],
   "source": [
    "print(x_yeni)"
   ]
  },
  {
   "cell_type": "code",
   "execution_count": 13,
   "id": "149c5106",
   "metadata": {},
   "outputs": [],
   "source": [
    "from sklearn.naive_bayes import MultinomialNB"
   ]
  },
  {
   "cell_type": "code",
   "execution_count": 14,
   "id": "42aa1f0d",
   "metadata": {},
   "outputs": [],
   "source": [
    "mb=MultinomialNB()"
   ]
  },
  {
   "cell_type": "code",
   "execution_count": 15,
   "id": "57924a94",
   "metadata": {},
   "outputs": [
    {
     "data": {
      "text/plain": [
       "MultinomialNB()"
      ]
     },
     "execution_count": 15,
     "metadata": {},
     "output_type": "execute_result"
    }
   ],
   "source": [
    "mb.fit(x_train,y_train)"
   ]
  },
  {
   "cell_type": "code",
   "execution_count": 16,
   "id": "5c77c381",
   "metadata": {},
   "outputs": [],
   "source": [
    "from sklearn.metrics import accuracy_score"
   ]
  },
  {
   "cell_type": "code",
   "execution_count": 17,
   "id": "26dd12b9",
   "metadata": {},
   "outputs": [],
   "source": [
    "tahmin=mb.predict(x_test)"
   ]
  },
  {
   "cell_type": "code",
   "execution_count": 18,
   "id": "3c9c202d",
   "metadata": {},
   "outputs": [
    {
     "data": {
      "text/plain": [
       "0.8794191919191919"
      ]
     },
     "execution_count": 18,
     "metadata": {},
     "output_type": "execute_result"
    }
   ],
   "source": [
    "accuracy_score(y_test,tahmin)"
   ]
  },
  {
   "cell_type": "code",
   "execution_count": null,
   "id": "eade36d4",
   "metadata": {},
   "outputs": [],
   "source": []
  }
 ],
 "metadata": {
  "kernelspec": {
   "display_name": "Python 3 (ipykernel)",
   "language": "python",
   "name": "python3"
  },
  "language_info": {
   "codemirror_mode": {
    "name": "ipython",
    "version": 3
   },
   "file_extension": ".py",
   "mimetype": "text/x-python",
   "name": "python",
   "nbconvert_exporter": "python",
   "pygments_lexer": "ipython3",
   "version": "3.9.12"
  }
 },
 "nbformat": 4,
 "nbformat_minor": 5
}
